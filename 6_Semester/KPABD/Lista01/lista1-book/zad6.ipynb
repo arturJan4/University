{
    "metadata": {
        "kernelspec": {
            "name": "SQL",
            "display_name": "SQL",
            "language": "sql"
        },
        "language_info": {
            "name": "sql",
            "version": ""
        }
    },
    "nbformat_minor": 2,
    "nbformat": 4,
    "cells": [
        {
            "cell_type": "markdown",
            "source": [
                "# Zad 6\n",
                "\n",
                "Utworzyć tabelę OrdersToProcess(SalesOrderID INT, Delayed BIT), w której będą przechowywane zamówienia jeszcze nie dostarczone, a flaga Delayed określa czy DueDate nie został przekroczony. Przygotować zapytanie, które zaktualizuje tę tabelę w oparciu o tabelę SalesOrderHeader i należy skorzystać z konstrukcji MERGE. Aby przetestować działanie tej metody, warto dogenerować trochę danych (w bazie testowej jest ich niewiele)."
            ],
            "metadata": {
                "azdata_cell_guid": "70947c96-4f52-4b71-ae66-777ff396ec78"
            },
            "attachments": {}
        },
        {
            "cell_type": "markdown",
            "source": [
                "Check if db exists -\\> create if not"
            ],
            "metadata": {
                "azdata_cell_guid": "7203090c-37e9-4adf-9146-f3da3a5db3b2"
            },
            "attachments": {}
        },
        {
            "cell_type": "code",
            "source": [
                "IF NOT EXISTS (SELECT * from sysobjects where name='SalesLT.OrdersToProcess' and xtype='U')\r\n",
                "    CREATE TABLE SalesLT.OrdersToProcess (\r\n",
                "        SalesOrderID INT, \r\n",
                "        Delayed BIT\r\n",
                "    );\r\n",
                "go"
            ],
            "metadata": {
                "azdata_cell_guid": "e0223b61-73d7-44f1-8072-5210948ed863",
                "tags": []
            },
            "outputs": [
                {
                    "output_type": "error",
                    "evalue": "Msg 2714, Level 16, State 6, Line 2\r\nThere is already an object named 'OrdersToProcess' in the database.",
                    "ename": "",
                    "traceback": []
                },
                {
                    "output_type": "display_data",
                    "data": {
                        "text/html": "Total execution time: 00:00:00.110"
                    },
                    "metadata": {}
                }
            ],
            "execution_count": 1
        },
        {
            "cell_type": "markdown",
            "source": [
                "## Exploration"
            ],
            "metadata": {
                "azdata_cell_guid": "599d071d-58be-4781-94b9-1e275e6c5d2c"
            },
            "attachments": {}
        },
        {
            "cell_type": "code",
            "source": [
                "SELECT TOP 5 *\r\n",
                "FROM SalesLT.SalesOrderHeader"
            ],
            "metadata": {
                "azdata_cell_guid": "4619913e-d1f3-4308-a478-9dbc69695798"
            },
            "outputs": [
                {
                    "output_type": "display_data",
                    "data": {
                        "text/html": "(5 rows affected)"
                    },
                    "metadata": {}
                },
                {
                    "output_type": "display_data",
                    "data": {
                        "text/html": "Total execution time: 00:00:00.056"
                    },
                    "metadata": {}
                },
                {
                    "output_type": "execute_result",
                    "execution_count": 8,
                    "data": {
                        "application/vnd.dataresource+json": {
                            "schema": {
                                "fields": [
                                    {
                                        "name": "SalesOrderID"
                                    },
                                    {
                                        "name": "RevisionNumber"
                                    },
                                    {
                                        "name": "OrderDate"
                                    },
                                    {
                                        "name": "DueDate"
                                    },
                                    {
                                        "name": "ShipDate"
                                    },
                                    {
                                        "name": "Status"
                                    },
                                    {
                                        "name": "OnlineOrderFlag"
                                    },
                                    {
                                        "name": "SalesOrderNumber"
                                    },
                                    {
                                        "name": "PurchaseOrderNumber"
                                    },
                                    {
                                        "name": "AccountNumber"
                                    },
                                    {
                                        "name": "CustomerID"
                                    },
                                    {
                                        "name": "ShipToAddressID"
                                    },
                                    {
                                        "name": "BillToAddressID"
                                    },
                                    {
                                        "name": "ShipMethod"
                                    },
                                    {
                                        "name": "CreditCardApprovalCode"
                                    },
                                    {
                                        "name": "SubTotal"
                                    },
                                    {
                                        "name": "TaxAmt"
                                    },
                                    {
                                        "name": "Freight"
                                    },
                                    {
                                        "name": "TotalDue"
                                    },
                                    {
                                        "name": "Comment"
                                    },
                                    {
                                        "name": "rowguid"
                                    },
                                    {
                                        "name": "ModifiedDate"
                                    }
                                ]
                            },
                            "data": [
                                {
                                    "0": "71774",
                                    "1": "2",
                                    "2": "2008-06-01 00:00:00.000",
                                    "3": "2008-06-13 00:00:00.000",
                                    "4": "2008-06-08 00:00:00.000",
                                    "5": "5",
                                    "6": "0",
                                    "7": "SO71774",
                                    "8": "PO348186287",
                                    "9": "10-4020-000609",
                                    "10": "29847",
                                    "11": "1092",
                                    "12": "1092",
                                    "13": "CARGO TRANSPORT 5",
                                    "14": "NULL",
                                    "15": "880,3484",
                                    "16": "70,4279",
                                    "17": "22,0087",
                                    "18": "972,785",
                                    "19": "NULL",
                                    "20": "89e42cdc-8506-48a2-b89b-eb3e64e3554e",
                                    "21": "2008-06-08 00:00:00.000"
                                },
                                {
                                    "0": "71776",
                                    "1": "2",
                                    "2": "2008-06-01 00:00:00.000",
                                    "3": "2008-06-13 00:00:00.000",
                                    "4": "2008-06-08 00:00:00.000",
                                    "5": "5",
                                    "6": "0",
                                    "7": "SO71776",
                                    "8": "PO19952192051",
                                    "9": "10-4020-000106",
                                    "10": "30072",
                                    "11": "640",
                                    "12": "640",
                                    "13": "CARGO TRANSPORT 5",
                                    "14": "NULL",
                                    "15": "78,81",
                                    "16": "6,3048",
                                    "17": "1,9703",
                                    "18": "87,0851",
                                    "19": "NULL",
                                    "20": "8a3448c5-e677-4158-a29b-dd33069be0b0",
                                    "21": "2008-06-08 00:00:00.000"
                                },
                                {
                                    "0": "71780",
                                    "1": "2",
                                    "2": "2008-06-01 00:00:00.000",
                                    "3": "2008-06-13 00:00:00.000",
                                    "4": "2008-06-08 00:00:00.000",
                                    "5": "5",
                                    "6": "0",
                                    "7": "SO71780",
                                    "8": "PO19604173239",
                                    "9": "10-4020-000340",
                                    "10": "30113",
                                    "11": "653",
                                    "12": "653",
                                    "13": "CARGO TRANSPORT 5",
                                    "14": "NULL",
                                    "15": "38418,6895",
                                    "16": "3073,4952",
                                    "17": "960,4672",
                                    "18": "42452,6519",
                                    "19": "NULL",
                                    "20": "a47665d2-7ac9-4cf3-8a8b-2a3883554284",
                                    "21": "2008-06-08 00:00:00.000"
                                },
                                {
                                    "0": "71782",
                                    "1": "2",
                                    "2": "2008-06-01 00:00:00.000",
                                    "3": "2008-06-13 00:00:00.000",
                                    "4": "2008-06-08 00:00:00.000",
                                    "5": "5",
                                    "6": "0",
                                    "7": "SO71782",
                                    "8": "PO19372114749",
                                    "9": "10-4020-000582",
                                    "10": "29485",
                                    "11": "1086",
                                    "12": "1086",
                                    "13": "CARGO TRANSPORT 5",
                                    "14": "NULL",
                                    "15": "39785,3304",
                                    "16": "3182,8264",
                                    "17": "994,6333",
                                    "18": "43962,7901",
                                    "19": "NULL",
                                    "20": "f1be45a5-5c57-4a50-93c6-5f8be44cb7cb",
                                    "21": "2008-06-08 00:00:00.000"
                                },
                                {
                                    "0": "71783",
                                    "1": "2",
                                    "2": "2008-06-01 00:00:00.000",
                                    "3": "2008-06-13 00:00:00.000",
                                    "4": "2008-06-08 00:00:00.000",
                                    "5": "5",
                                    "6": "0",
                                    "7": "SO71783",
                                    "8": "PO19343113609",
                                    "9": "10-4020-000024",
                                    "10": "29957",
                                    "11": "992",
                                    "12": "992",
                                    "13": "CARGO TRANSPORT 5",
                                    "14": "NULL",
                                    "15": "83858,4261",
                                    "16": "6708,6741",
                                    "17": "2096,4607",
                                    "18": "92663,5609",
                                    "19": "NULL",
                                    "20": "7db2329e-6446-42a8-8915-9c8370b68ed8",
                                    "21": "2008-06-08 00:00:00.000"
                                }
                            ]
                        },
                        "text/html": "<table><tr><th>SalesOrderID</th><th>RevisionNumber</th><th>OrderDate</th><th>DueDate</th><th>ShipDate</th><th>Status</th><th>OnlineOrderFlag</th><th>SalesOrderNumber</th><th>PurchaseOrderNumber</th><th>AccountNumber</th><th>CustomerID</th><th>ShipToAddressID</th><th>BillToAddressID</th><th>ShipMethod</th><th>CreditCardApprovalCode</th><th>SubTotal</th><th>TaxAmt</th><th>Freight</th><th>TotalDue</th><th>Comment</th><th>rowguid</th><th>ModifiedDate</th></tr><tr><td>71774</td><td>2</td><td>2008-06-01 00:00:00.000</td><td>2008-06-13 00:00:00.000</td><td>2008-06-08 00:00:00.000</td><td>5</td><td>0</td><td>SO71774</td><td>PO348186287</td><td>10-4020-000609</td><td>29847</td><td>1092</td><td>1092</td><td>CARGO TRANSPORT 5</td><td>NULL</td><td>880,3484</td><td>70,4279</td><td>22,0087</td><td>972,785</td><td>NULL</td><td>89e42cdc-8506-48a2-b89b-eb3e64e3554e</td><td>2008-06-08 00:00:00.000</td></tr><tr><td>71776</td><td>2</td><td>2008-06-01 00:00:00.000</td><td>2008-06-13 00:00:00.000</td><td>2008-06-08 00:00:00.000</td><td>5</td><td>0</td><td>SO71776</td><td>PO19952192051</td><td>10-4020-000106</td><td>30072</td><td>640</td><td>640</td><td>CARGO TRANSPORT 5</td><td>NULL</td><td>78,81</td><td>6,3048</td><td>1,9703</td><td>87,0851</td><td>NULL</td><td>8a3448c5-e677-4158-a29b-dd33069be0b0</td><td>2008-06-08 00:00:00.000</td></tr><tr><td>71780</td><td>2</td><td>2008-06-01 00:00:00.000</td><td>2008-06-13 00:00:00.000</td><td>2008-06-08 00:00:00.000</td><td>5</td><td>0</td><td>SO71780</td><td>PO19604173239</td><td>10-4020-000340</td><td>30113</td><td>653</td><td>653</td><td>CARGO TRANSPORT 5</td><td>NULL</td><td>38418,6895</td><td>3073,4952</td><td>960,4672</td><td>42452,6519</td><td>NULL</td><td>a47665d2-7ac9-4cf3-8a8b-2a3883554284</td><td>2008-06-08 00:00:00.000</td></tr><tr><td>71782</td><td>2</td><td>2008-06-01 00:00:00.000</td><td>2008-06-13 00:00:00.000</td><td>2008-06-08 00:00:00.000</td><td>5</td><td>0</td><td>SO71782</td><td>PO19372114749</td><td>10-4020-000582</td><td>29485</td><td>1086</td><td>1086</td><td>CARGO TRANSPORT 5</td><td>NULL</td><td>39785,3304</td><td>3182,8264</td><td>994,6333</td><td>43962,7901</td><td>NULL</td><td>f1be45a5-5c57-4a50-93c6-5f8be44cb7cb</td><td>2008-06-08 00:00:00.000</td></tr><tr><td>71783</td><td>2</td><td>2008-06-01 00:00:00.000</td><td>2008-06-13 00:00:00.000</td><td>2008-06-08 00:00:00.000</td><td>5</td><td>0</td><td>SO71783</td><td>PO19343113609</td><td>10-4020-000024</td><td>29957</td><td>992</td><td>992</td><td>CARGO TRANSPORT 5</td><td>NULL</td><td>83858,4261</td><td>6708,6741</td><td>2096,4607</td><td>92663,5609</td><td>NULL</td><td>7db2329e-6446-42a8-8915-9c8370b68ed8</td><td>2008-06-08 00:00:00.000</td></tr></table>"
                    },
                    "metadata": {}
                }
            ],
            "execution_count": 8
        },
        {
            "cell_type": "code",
            "source": [
                "exec sp_help \"SalesLT.SalesOrderHeader\""
            ],
            "metadata": {
                "azdata_cell_guid": "04d0ce56-7b11-4c66-a63f-1ffce72cdc33"
            },
            "outputs": [
                {
                    "output_type": "display_data",
                    "data": {
                        "text/html": " "
                    },
                    "metadata": {}
                },
                {
                    "output_type": "display_data",
                    "data": {
                        "text/html": " "
                    },
                    "metadata": {}
                },
                {
                    "output_type": "display_data",
                    "data": {
                        "text/html": " "
                    },
                    "metadata": {}
                },
                {
                    "output_type": "display_data",
                    "data": {
                        "text/html": " "
                    },
                    "metadata": {}
                },
                {
                    "output_type": "display_data",
                    "data": {
                        "text/html": " "
                    },
                    "metadata": {}
                },
                {
                    "output_type": "display_data",
                    "data": {
                        "text/html": " "
                    },
                    "metadata": {}
                },
                {
                    "output_type": "display_data",
                    "data": {
                        "text/html": " "
                    },
                    "metadata": {}
                },
                {
                    "output_type": "display_data",
                    "data": {
                        "text/html": " "
                    },
                    "metadata": {}
                },
                {
                    "output_type": "display_data",
                    "data": {
                        "text/html": "No views with schema binding reference table 'SalesLT.SalesOrderHeader'."
                    },
                    "metadata": {}
                },
                {
                    "output_type": "display_data",
                    "data": {
                        "text/html": "Total execution time: 00:00:03.023"
                    },
                    "metadata": {}
                },
                {
                    "output_type": "execute_result",
                    "execution_count": 12,
                    "data": {
                        "application/vnd.dataresource+json": {
                            "schema": {
                                "fields": [
                                    {
                                        "name": "Name"
                                    },
                                    {
                                        "name": "Owner"
                                    },
                                    {
                                        "name": "Type"
                                    },
                                    {
                                        "name": "Created_datetime"
                                    }
                                ]
                            },
                            "data": [
                                {
                                    "0": "SalesOrderHeader",
                                    "1": "dbo",
                                    "2": "user table",
                                    "3": "2022-03-07 12:23:11.100"
                                }
                            ]
                        },
                        "text/html": "<table><tr><th>Name</th><th>Owner</th><th>Type</th><th>Created_datetime</th></tr><tr><td>SalesOrderHeader</td><td>dbo</td><td>user table</td><td>2022-03-07 12:23:11.100</td></tr></table>"
                    },
                    "metadata": {}
                },
                {
                    "output_type": "execute_result",
                    "execution_count": 12,
                    "data": {
                        "application/vnd.dataresource+json": {
                            "schema": {
                                "fields": [
                                    {
                                        "name": "Column_name"
                                    },
                                    {
                                        "name": "Type"
                                    },
                                    {
                                        "name": "Computed"
                                    },
                                    {
                                        "name": "Length"
                                    },
                                    {
                                        "name": "Prec"
                                    },
                                    {
                                        "name": "Scale"
                                    },
                                    {
                                        "name": "Nullable"
                                    },
                                    {
                                        "name": "TrimTrailingBlanks"
                                    },
                                    {
                                        "name": "FixedLenNullInSource"
                                    },
                                    {
                                        "name": "Collation"
                                    }
                                ]
                            },
                            "data": [
                                {
                                    "0": "SalesOrderID",
                                    "1": "int",
                                    "2": "no",
                                    "3": "4",
                                    "4": "10   ",
                                    "5": "0    ",
                                    "6": "no",
                                    "7": "(n/a)",
                                    "8": "(n/a)",
                                    "9": "NULL"
                                },
                                {
                                    "0": "RevisionNumber",
                                    "1": "tinyint",
                                    "2": "no",
                                    "3": "1",
                                    "4": "3    ",
                                    "5": "0    ",
                                    "6": "no",
                                    "7": "(n/a)",
                                    "8": "(n/a)",
                                    "9": "NULL"
                                },
                                {
                                    "0": "OrderDate",
                                    "1": "datetime",
                                    "2": "no",
                                    "3": "8",
                                    "4": "     ",
                                    "5": "     ",
                                    "6": "no",
                                    "7": "(n/a)",
                                    "8": "(n/a)",
                                    "9": "NULL"
                                },
                                {
                                    "0": "DueDate",
                                    "1": "datetime",
                                    "2": "no",
                                    "3": "8",
                                    "4": "     ",
                                    "5": "     ",
                                    "6": "no",
                                    "7": "(n/a)",
                                    "8": "(n/a)",
                                    "9": "NULL"
                                },
                                {
                                    "0": "ShipDate",
                                    "1": "datetime",
                                    "2": "no",
                                    "3": "8",
                                    "4": "     ",
                                    "5": "     ",
                                    "6": "yes",
                                    "7": "(n/a)",
                                    "8": "(n/a)",
                                    "9": "NULL"
                                },
                                {
                                    "0": "Status",
                                    "1": "tinyint",
                                    "2": "no",
                                    "3": "1",
                                    "4": "3    ",
                                    "5": "0    ",
                                    "6": "no",
                                    "7": "(n/a)",
                                    "8": "(n/a)",
                                    "9": "NULL"
                                },
                                {
                                    "0": "OnlineOrderFlag",
                                    "1": "Flag",
                                    "2": "no",
                                    "3": "1",
                                    "4": "     ",
                                    "5": "     ",
                                    "6": "no",
                                    "7": "(n/a)",
                                    "8": "(n/a)",
                                    "9": "NULL"
                                },
                                {
                                    "0": "SalesOrderNumber",
                                    "1": "nvarchar",
                                    "2": "yes",
                                    "3": "50",
                                    "4": "     ",
                                    "5": "     ",
                                    "6": "no",
                                    "7": "(n/a)",
                                    "8": "(n/a)",
                                    "9": "SQL_Latin1_General_CP1_CI_AS"
                                },
                                {
                                    "0": "PurchaseOrderNumber",
                                    "1": "OrderNumber",
                                    "2": "no",
                                    "3": "50",
                                    "4": "     ",
                                    "5": "     ",
                                    "6": "yes",
                                    "7": "(n/a)",
                                    "8": "(n/a)",
                                    "9": "SQL_Latin1_General_CP1_CI_AS"
                                },
                                {
                                    "0": "AccountNumber",
                                    "1": "AccountNumber",
                                    "2": "no",
                                    "3": "30",
                                    "4": "     ",
                                    "5": "     ",
                                    "6": "yes",
                                    "7": "(n/a)",
                                    "8": "(n/a)",
                                    "9": "SQL_Latin1_General_CP1_CI_AS"
                                },
                                {
                                    "0": "CustomerID",
                                    "1": "int",
                                    "2": "no",
                                    "3": "4",
                                    "4": "10   ",
                                    "5": "0    ",
                                    "6": "no",
                                    "7": "(n/a)",
                                    "8": "(n/a)",
                                    "9": "NULL"
                                },
                                {
                                    "0": "ShipToAddressID",
                                    "1": "int",
                                    "2": "no",
                                    "3": "4",
                                    "4": "10   ",
                                    "5": "0    ",
                                    "6": "yes",
                                    "7": "(n/a)",
                                    "8": "(n/a)",
                                    "9": "NULL"
                                },
                                {
                                    "0": "BillToAddressID",
                                    "1": "int",
                                    "2": "no",
                                    "3": "4",
                                    "4": "10   ",
                                    "5": "0    ",
                                    "6": "yes",
                                    "7": "(n/a)",
                                    "8": "(n/a)",
                                    "9": "NULL"
                                },
                                {
                                    "0": "ShipMethod",
                                    "1": "nvarchar",
                                    "2": "no",
                                    "3": "100",
                                    "4": "     ",
                                    "5": "     ",
                                    "6": "no",
                                    "7": "(n/a)",
                                    "8": "(n/a)",
                                    "9": "SQL_Latin1_General_CP1_CI_AS"
                                },
                                {
                                    "0": "CreditCardApprovalCode",
                                    "1": "varchar",
                                    "2": "no",
                                    "3": "15",
                                    "4": "     ",
                                    "5": "     ",
                                    "6": "yes",
                                    "7": "no",
                                    "8": "yes",
                                    "9": "SQL_Latin1_General_CP1_CI_AS"
                                },
                                {
                                    "0": "SubTotal",
                                    "1": "money",
                                    "2": "no",
                                    "3": "8",
                                    "4": "19   ",
                                    "5": "4    ",
                                    "6": "no",
                                    "7": "(n/a)",
                                    "8": "(n/a)",
                                    "9": "NULL"
                                },
                                {
                                    "0": "TaxAmt",
                                    "1": "money",
                                    "2": "no",
                                    "3": "8",
                                    "4": "19   ",
                                    "5": "4    ",
                                    "6": "no",
                                    "7": "(n/a)",
                                    "8": "(n/a)",
                                    "9": "NULL"
                                },
                                {
                                    "0": "Freight",
                                    "1": "money",
                                    "2": "no",
                                    "3": "8",
                                    "4": "19   ",
                                    "5": "4    ",
                                    "6": "no",
                                    "7": "(n/a)",
                                    "8": "(n/a)",
                                    "9": "NULL"
                                },
                                {
                                    "0": "TotalDue",
                                    "1": "money",
                                    "2": "yes",
                                    "3": "8",
                                    "4": "19   ",
                                    "5": "4    ",
                                    "6": "no",
                                    "7": "(n/a)",
                                    "8": "(n/a)",
                                    "9": "NULL"
                                },
                                {
                                    "0": "Comment",
                                    "1": "nvarchar",
                                    "2": "no",
                                    "3": "-1",
                                    "4": "     ",
                                    "5": "     ",
                                    "6": "yes",
                                    "7": "(n/a)",
                                    "8": "(n/a)",
                                    "9": "SQL_Latin1_General_CP1_CI_AS"
                                },
                                {
                                    "0": "rowguid",
                                    "1": "uniqueidentifier",
                                    "2": "no",
                                    "3": "16",
                                    "4": "     ",
                                    "5": "     ",
                                    "6": "no",
                                    "7": "(n/a)",
                                    "8": "(n/a)",
                                    "9": "NULL"
                                },
                                {
                                    "0": "ModifiedDate",
                                    "1": "datetime",
                                    "2": "no",
                                    "3": "8",
                                    "4": "     ",
                                    "5": "     ",
                                    "6": "no",
                                    "7": "(n/a)",
                                    "8": "(n/a)",
                                    "9": "NULL"
                                }
                            ]
                        },
                        "text/html": "<table><tr><th>Column_name</th><th>Type</th><th>Computed</th><th>Length</th><th>Prec</th><th>Scale</th><th>Nullable</th><th>TrimTrailingBlanks</th><th>FixedLenNullInSource</th><th>Collation</th></tr><tr><td>SalesOrderID</td><td>int</td><td>no</td><td>4</td><td>10   </td><td>0    </td><td>no</td><td>(n/a)</td><td>(n/a)</td><td>NULL</td></tr><tr><td>RevisionNumber</td><td>tinyint</td><td>no</td><td>1</td><td>3    </td><td>0    </td><td>no</td><td>(n/a)</td><td>(n/a)</td><td>NULL</td></tr><tr><td>OrderDate</td><td>datetime</td><td>no</td><td>8</td><td>     </td><td>     </td><td>no</td><td>(n/a)</td><td>(n/a)</td><td>NULL</td></tr><tr><td>DueDate</td><td>datetime</td><td>no</td><td>8</td><td>     </td><td>     </td><td>no</td><td>(n/a)</td><td>(n/a)</td><td>NULL</td></tr><tr><td>ShipDate</td><td>datetime</td><td>no</td><td>8</td><td>     </td><td>     </td><td>yes</td><td>(n/a)</td><td>(n/a)</td><td>NULL</td></tr><tr><td>Status</td><td>tinyint</td><td>no</td><td>1</td><td>3    </td><td>0    </td><td>no</td><td>(n/a)</td><td>(n/a)</td><td>NULL</td></tr><tr><td>OnlineOrderFlag</td><td>Flag</td><td>no</td><td>1</td><td>     </td><td>     </td><td>no</td><td>(n/a)</td><td>(n/a)</td><td>NULL</td></tr><tr><td>SalesOrderNumber</td><td>nvarchar</td><td>yes</td><td>50</td><td>     </td><td>     </td><td>no</td><td>(n/a)</td><td>(n/a)</td><td>SQL_Latin1_General_CP1_CI_AS</td></tr><tr><td>PurchaseOrderNumber</td><td>OrderNumber</td><td>no</td><td>50</td><td>     </td><td>     </td><td>yes</td><td>(n/a)</td><td>(n/a)</td><td>SQL_Latin1_General_CP1_CI_AS</td></tr><tr><td>AccountNumber</td><td>AccountNumber</td><td>no</td><td>30</td><td>     </td><td>     </td><td>yes</td><td>(n/a)</td><td>(n/a)</td><td>SQL_Latin1_General_CP1_CI_AS</td></tr><tr><td>CustomerID</td><td>int</td><td>no</td><td>4</td><td>10   </td><td>0    </td><td>no</td><td>(n/a)</td><td>(n/a)</td><td>NULL</td></tr><tr><td>ShipToAddressID</td><td>int</td><td>no</td><td>4</td><td>10   </td><td>0    </td><td>yes</td><td>(n/a)</td><td>(n/a)</td><td>NULL</td></tr><tr><td>BillToAddressID</td><td>int</td><td>no</td><td>4</td><td>10   </td><td>0    </td><td>yes</td><td>(n/a)</td><td>(n/a)</td><td>NULL</td></tr><tr><td>ShipMethod</td><td>nvarchar</td><td>no</td><td>100</td><td>     </td><td>     </td><td>no</td><td>(n/a)</td><td>(n/a)</td><td>SQL_Latin1_General_CP1_CI_AS</td></tr><tr><td>CreditCardApprovalCode</td><td>varchar</td><td>no</td><td>15</td><td>     </td><td>     </td><td>yes</td><td>no</td><td>yes</td><td>SQL_Latin1_General_CP1_CI_AS</td></tr><tr><td>SubTotal</td><td>money</td><td>no</td><td>8</td><td>19   </td><td>4    </td><td>no</td><td>(n/a)</td><td>(n/a)</td><td>NULL</td></tr><tr><td>TaxAmt</td><td>money</td><td>no</td><td>8</td><td>19   </td><td>4    </td><td>no</td><td>(n/a)</td><td>(n/a)</td><td>NULL</td></tr><tr><td>Freight</td><td>money</td><td>no</td><td>8</td><td>19   </td><td>4    </td><td>no</td><td>(n/a)</td><td>(n/a)</td><td>NULL</td></tr><tr><td>TotalDue</td><td>money</td><td>yes</td><td>8</td><td>19   </td><td>4    </td><td>no</td><td>(n/a)</td><td>(n/a)</td><td>NULL</td></tr><tr><td>Comment</td><td>nvarchar</td><td>no</td><td>-1</td><td>     </td><td>     </td><td>yes</td><td>(n/a)</td><td>(n/a)</td><td>SQL_Latin1_General_CP1_CI_AS</td></tr><tr><td>rowguid</td><td>uniqueidentifier</td><td>no</td><td>16</td><td>     </td><td>     </td><td>no</td><td>(n/a)</td><td>(n/a)</td><td>NULL</td></tr><tr><td>ModifiedDate</td><td>datetime</td><td>no</td><td>8</td><td>     </td><td>     </td><td>no</td><td>(n/a)</td><td>(n/a)</td><td>NULL</td></tr></table>"
                    },
                    "metadata": {}
                },
                {
                    "output_type": "execute_result",
                    "execution_count": 12,
                    "data": {
                        "application/vnd.dataresource+json": {
                            "schema": {
                                "fields": [
                                    {
                                        "name": "Identity"
                                    },
                                    {
                                        "name": "Seed"
                                    },
                                    {
                                        "name": "Increment"
                                    },
                                    {
                                        "name": "Not For Replication"
                                    }
                                ]
                            },
                            "data": [
                                {
                                    "0": "No identity column defined.",
                                    "1": "NULL",
                                    "2": "NULL",
                                    "3": "NULL"
                                }
                            ]
                        },
                        "text/html": "<table><tr><th>Identity</th><th>Seed</th><th>Increment</th><th>Not For Replication</th></tr><tr><td>No identity column defined.</td><td>NULL</td><td>NULL</td><td>NULL</td></tr></table>"
                    },
                    "metadata": {}
                },
                {
                    "output_type": "execute_result",
                    "execution_count": 12,
                    "data": {
                        "application/vnd.dataresource+json": {
                            "schema": {
                                "fields": [
                                    {
                                        "name": "RowGuidCol"
                                    }
                                ]
                            },
                            "data": [
                                {
                                    "0": "No rowguidcol column defined."
                                }
                            ]
                        },
                        "text/html": "<table><tr><th>RowGuidCol</th></tr><tr><td>No rowguidcol column defined.</td></tr></table>"
                    },
                    "metadata": {}
                },
                {
                    "output_type": "execute_result",
                    "execution_count": 12,
                    "data": {
                        "application/vnd.dataresource+json": {
                            "schema": {
                                "fields": [
                                    {
                                        "name": "Data_located_on_filegroup"
                                    }
                                ]
                            },
                            "data": [
                                {
                                    "0": "PRIMARY"
                                }
                            ]
                        },
                        "text/html": "<table><tr><th>Data_located_on_filegroup</th></tr><tr><td>PRIMARY</td></tr></table>"
                    },
                    "metadata": {}
                },
                {
                    "output_type": "execute_result",
                    "execution_count": 12,
                    "data": {
                        "application/vnd.dataresource+json": {
                            "schema": {
                                "fields": [
                                    {
                                        "name": "index_name"
                                    },
                                    {
                                        "name": "index_description"
                                    },
                                    {
                                        "name": "index_keys"
                                    }
                                ]
                            },
                            "data": [
                                {
                                    "0": "AK_SalesOrderHeader_rowguid",
                                    "1": "nonclustered, unique, unique key",
                                    "2": "rowguid"
                                },
                                {
                                    "0": "AK_SalesOrderHeader_SalesOrderNumber",
                                    "1": "nonclustered, unique, unique key",
                                    "2": "SalesOrderNumber"
                                },
                                {
                                    "0": "IX_SalesOrderHeader_CustomerID",
                                    "1": "nonclustered",
                                    "2": "CustomerID"
                                },
                                {
                                    "0": "PK_SalesOrderHeader_SalesOrderID",
                                    "1": "clustered, unique, primary key",
                                    "2": "SalesOrderID"
                                }
                            ]
                        },
                        "text/html": "<table><tr><th>index_name</th><th>index_description</th><th>index_keys</th></tr><tr><td>AK_SalesOrderHeader_rowguid</td><td>nonclustered, unique, unique key</td><td>rowguid</td></tr><tr><td>AK_SalesOrderHeader_SalesOrderNumber</td><td>nonclustered, unique, unique key</td><td>SalesOrderNumber</td></tr><tr><td>IX_SalesOrderHeader_CustomerID</td><td>nonclustered</td><td>CustomerID</td></tr><tr><td>PK_SalesOrderHeader_SalesOrderID</td><td>clustered, unique, primary key</td><td>SalesOrderID</td></tr></table>"
                    },
                    "metadata": {}
                },
                {
                    "output_type": "execute_result",
                    "execution_count": 12,
                    "data": {
                        "application/vnd.dataresource+json": {
                            "schema": {
                                "fields": [
                                    {
                                        "name": "constraint_type"
                                    },
                                    {
                                        "name": "constraint_name"
                                    },
                                    {
                                        "name": "delete_action"
                                    },
                                    {
                                        "name": "update_action"
                                    },
                                    {
                                        "name": "status_enabled"
                                    },
                                    {
                                        "name": "status_for_replication"
                                    },
                                    {
                                        "name": "constraint_keys"
                                    }
                                ]
                            },
                            "data": [
                                {
                                    "0": "UNIQUE (non-clustered)",
                                    "1": "AK_SalesOrderHeader_rowguid",
                                    "2": "(n/a)",
                                    "3": "(n/a)",
                                    "4": "(n/a)",
                                    "5": "(n/a)",
                                    "6": "rowguid"
                                },
                                {
                                    "0": "UNIQUE (non-clustered)",
                                    "1": "AK_SalesOrderHeader_SalesOrderNumber",
                                    "2": "(n/a)",
                                    "3": "(n/a)",
                                    "4": "(n/a)",
                                    "5": "(n/a)",
                                    "6": "SalesOrderNumber"
                                },
                                {
                                    "0": "CHECK Table Level ",
                                    "1": "CK_SalesOrderHeader_DueDate",
                                    "2": "(n/a)",
                                    "3": "(n/a)",
                                    "4": "Enabled",
                                    "5": "Is_For_Replication",
                                    "6": "([DueDate]>=[OrderDate])"
                                },
                                {
                                    "0": "CHECK on column Freight",
                                    "1": "CK_SalesOrderHeader_Freight",
                                    "2": "(n/a)",
                                    "3": "(n/a)",
                                    "4": "Enabled",
                                    "5": "Is_For_Replication",
                                    "6": "([Freight]>=(0.00))"
                                },
                                {
                                    "0": "CHECK Table Level ",
                                    "1": "CK_SalesOrderHeader_ShipDate",
                                    "2": "(n/a)",
                                    "3": "(n/a)",
                                    "4": "Enabled",
                                    "5": "Is_For_Replication",
                                    "6": "([ShipDate]>=[OrderDate] OR [ShipDate] IS NULL)"
                                },
                                {
                                    "0": "CHECK on column Status",
                                    "1": "CK_SalesOrderHeader_Status",
                                    "2": "(n/a)",
                                    "3": "(n/a)",
                                    "4": "Enabled",
                                    "5": "Is_For_Replication",
                                    "6": "([Status]>=(0) AND [Status]<=(8))"
                                },
                                {
                                    "0": "CHECK on column SubTotal",
                                    "1": "CK_SalesOrderHeader_SubTotal",
                                    "2": "(n/a)",
                                    "3": "(n/a)",
                                    "4": "Enabled",
                                    "5": "Is_For_Replication",
                                    "6": "([SubTotal]>=(0.00))"
                                },
                                {
                                    "0": "CHECK on column TaxAmt",
                                    "1": "CK_SalesOrderHeader_TaxAmt",
                                    "2": "(n/a)",
                                    "3": "(n/a)",
                                    "4": "Enabled",
                                    "5": "Is_For_Replication",
                                    "6": "([TaxAmt]>=(0.00))"
                                },
                                {
                                    "0": "DEFAULT on column Freight",
                                    "1": "DF_SalesOrderHeader_Freight",
                                    "2": "(n/a)",
                                    "3": "(n/a)",
                                    "4": "(n/a)",
                                    "5": "(n/a)",
                                    "6": "((0.00))"
                                },
                                {
                                    "0": "DEFAULT on column ModifiedDate",
                                    "1": "DF_SalesOrderHeader_ModifiedDate",
                                    "2": "(n/a)",
                                    "3": "(n/a)",
                                    "4": "(n/a)",
                                    "5": "(n/a)",
                                    "6": "(getdate())"
                                },
                                {
                                    "0": "DEFAULT on column OnlineOrderFlag",
                                    "1": "DF_SalesOrderHeader_OnlineOrderFlag",
                                    "2": "(n/a)",
                                    "3": "(n/a)",
                                    "4": "(n/a)",
                                    "5": "(n/a)",
                                    "6": "((1))"
                                },
                                {
                                    "0": "DEFAULT on column OrderDate",
                                    "1": "DF_SalesOrderHeader_OrderDate",
                                    "2": "(n/a)",
                                    "3": "(n/a)",
                                    "4": "(n/a)",
                                    "5": "(n/a)",
                                    "6": "(getdate())"
                                },
                                {
                                    "0": "DEFAULT on column SalesOrderID",
                                    "1": "DF_SalesOrderHeader_OrderID",
                                    "2": "(n/a)",
                                    "3": "(n/a)",
                                    "4": "(n/a)",
                                    "5": "(n/a)",
                                    "6": "(NEXT VALUE FOR [SalesLT].[SalesOrderNumber])"
                                },
                                {
                                    "0": "DEFAULT on column RevisionNumber",
                                    "1": "DF_SalesOrderHeader_RevisionNumber",
                                    "2": "(n/a)",
                                    "3": "(n/a)",
                                    "4": "(n/a)",
                                    "5": "(n/a)",
                                    "6": "((0))"
                                },
                                {
                                    "0": "DEFAULT on column rowguid",
                                    "1": "DF_SalesOrderHeader_rowguid",
                                    "2": "(n/a)",
                                    "3": "(n/a)",
                                    "4": "(n/a)",
                                    "5": "(n/a)",
                                    "6": "(newid())"
                                },
                                {
                                    "0": "DEFAULT on column Status",
                                    "1": "DF_SalesOrderHeader_Status",
                                    "2": "(n/a)",
                                    "3": "(n/a)",
                                    "4": "(n/a)",
                                    "5": "(n/a)",
                                    "6": "((1))"
                                },
                                {
                                    "0": "DEFAULT on column SubTotal",
                                    "1": "DF_SalesOrderHeader_SubTotal",
                                    "2": "(n/a)",
                                    "3": "(n/a)",
                                    "4": "(n/a)",
                                    "5": "(n/a)",
                                    "6": "((0.00))"
                                },
                                {
                                    "0": "DEFAULT on column TaxAmt",
                                    "1": "DF_SalesOrderHeader_TaxAmt",
                                    "2": "(n/a)",
                                    "3": "(n/a)",
                                    "4": "(n/a)",
                                    "5": "(n/a)",
                                    "6": "((0.00))"
                                },
                                {
                                    "0": "FOREIGN KEY",
                                    "1": "FK_SalesOrderHeader_Address_BillTo_AddressID",
                                    "2": "No Action",
                                    "3": "No Action",
                                    "4": "Enabled",
                                    "5": "Is_For_Replication",
                                    "6": "BillToAddressID"
                                },
                                {
                                    "0": " ",
                                    "1": " ",
                                    "2": " ",
                                    "3": " ",
                                    "4": " ",
                                    "5": " ",
                                    "6": "REFERENCES kpabd-test.SalesLT.Address (AddressID)"
                                },
                                {
                                    "0": "FOREIGN KEY",
                                    "1": "FK_SalesOrderHeader_Address_ShipTo_AddressID",
                                    "2": "No Action",
                                    "3": "No Action",
                                    "4": "Enabled",
                                    "5": "Is_For_Replication",
                                    "6": "ShipToAddressID"
                                },
                                {
                                    "0": " ",
                                    "1": " ",
                                    "2": " ",
                                    "3": " ",
                                    "4": " ",
                                    "5": " ",
                                    "6": "REFERENCES kpabd-test.SalesLT.Address (AddressID)"
                                },
                                {
                                    "0": "FOREIGN KEY",
                                    "1": "FK_SalesOrderHeader_Customer_CustomerID",
                                    "2": "No Action",
                                    "3": "No Action",
                                    "4": "Enabled",
                                    "5": "Is_For_Replication",
                                    "6": "CustomerID"
                                },
                                {
                                    "0": " ",
                                    "1": " ",
                                    "2": " ",
                                    "3": " ",
                                    "4": " ",
                                    "5": " ",
                                    "6": "REFERENCES kpabd-test.SalesLT.Customer (CustomerID)"
                                },
                                {
                                    "0": "PRIMARY KEY (clustered)",
                                    "1": "PK_SalesOrderHeader_SalesOrderID",
                                    "2": "(n/a)",
                                    "3": "(n/a)",
                                    "4": "(n/a)",
                                    "5": "(n/a)",
                                    "6": "SalesOrderID"
                                }
                            ]
                        },
                        "text/html": "<table><tr><th>constraint_type</th><th>constraint_name</th><th>delete_action</th><th>update_action</th><th>status_enabled</th><th>status_for_replication</th><th>constraint_keys</th></tr><tr><td>UNIQUE (non-clustered)</td><td>AK_SalesOrderHeader_rowguid</td><td>(n/a)</td><td>(n/a)</td><td>(n/a)</td><td>(n/a)</td><td>rowguid</td></tr><tr><td>UNIQUE (non-clustered)</td><td>AK_SalesOrderHeader_SalesOrderNumber</td><td>(n/a)</td><td>(n/a)</td><td>(n/a)</td><td>(n/a)</td><td>SalesOrderNumber</td></tr><tr><td>CHECK Table Level </td><td>CK_SalesOrderHeader_DueDate</td><td>(n/a)</td><td>(n/a)</td><td>Enabled</td><td>Is_For_Replication</td><td>([DueDate]&gt;=[OrderDate])</td></tr><tr><td>CHECK on column Freight</td><td>CK_SalesOrderHeader_Freight</td><td>(n/a)</td><td>(n/a)</td><td>Enabled</td><td>Is_For_Replication</td><td>([Freight]&gt;=(0.00))</td></tr><tr><td>CHECK Table Level </td><td>CK_SalesOrderHeader_ShipDate</td><td>(n/a)</td><td>(n/a)</td><td>Enabled</td><td>Is_For_Replication</td><td>([ShipDate]&gt;=[OrderDate] OR [ShipDate] IS NULL)</td></tr><tr><td>CHECK on column Status</td><td>CK_SalesOrderHeader_Status</td><td>(n/a)</td><td>(n/a)</td><td>Enabled</td><td>Is_For_Replication</td><td>([Status]&gt;=(0) AND [Status]&lt;=(8))</td></tr><tr><td>CHECK on column SubTotal</td><td>CK_SalesOrderHeader_SubTotal</td><td>(n/a)</td><td>(n/a)</td><td>Enabled</td><td>Is_For_Replication</td><td>([SubTotal]&gt;=(0.00))</td></tr><tr><td>CHECK on column TaxAmt</td><td>CK_SalesOrderHeader_TaxAmt</td><td>(n/a)</td><td>(n/a)</td><td>Enabled</td><td>Is_For_Replication</td><td>([TaxAmt]&gt;=(0.00))</td></tr><tr><td>DEFAULT on column Freight</td><td>DF_SalesOrderHeader_Freight</td><td>(n/a)</td><td>(n/a)</td><td>(n/a)</td><td>(n/a)</td><td>((0.00))</td></tr><tr><td>DEFAULT on column ModifiedDate</td><td>DF_SalesOrderHeader_ModifiedDate</td><td>(n/a)</td><td>(n/a)</td><td>(n/a)</td><td>(n/a)</td><td>(getdate())</td></tr><tr><td>DEFAULT on column OnlineOrderFlag</td><td>DF_SalesOrderHeader_OnlineOrderFlag</td><td>(n/a)</td><td>(n/a)</td><td>(n/a)</td><td>(n/a)</td><td>((1))</td></tr><tr><td>DEFAULT on column OrderDate</td><td>DF_SalesOrderHeader_OrderDate</td><td>(n/a)</td><td>(n/a)</td><td>(n/a)</td><td>(n/a)</td><td>(getdate())</td></tr><tr><td>DEFAULT on column SalesOrderID</td><td>DF_SalesOrderHeader_OrderID</td><td>(n/a)</td><td>(n/a)</td><td>(n/a)</td><td>(n/a)</td><td>(NEXT VALUE FOR [SalesLT].[SalesOrderNumber])</td></tr><tr><td>DEFAULT on column RevisionNumber</td><td>DF_SalesOrderHeader_RevisionNumber</td><td>(n/a)</td><td>(n/a)</td><td>(n/a)</td><td>(n/a)</td><td>((0))</td></tr><tr><td>DEFAULT on column rowguid</td><td>DF_SalesOrderHeader_rowguid</td><td>(n/a)</td><td>(n/a)</td><td>(n/a)</td><td>(n/a)</td><td>(newid())</td></tr><tr><td>DEFAULT on column Status</td><td>DF_SalesOrderHeader_Status</td><td>(n/a)</td><td>(n/a)</td><td>(n/a)</td><td>(n/a)</td><td>((1))</td></tr><tr><td>DEFAULT on column SubTotal</td><td>DF_SalesOrderHeader_SubTotal</td><td>(n/a)</td><td>(n/a)</td><td>(n/a)</td><td>(n/a)</td><td>((0.00))</td></tr><tr><td>DEFAULT on column TaxAmt</td><td>DF_SalesOrderHeader_TaxAmt</td><td>(n/a)</td><td>(n/a)</td><td>(n/a)</td><td>(n/a)</td><td>((0.00))</td></tr><tr><td>FOREIGN KEY</td><td>FK_SalesOrderHeader_Address_BillTo_AddressID</td><td>No Action</td><td>No Action</td><td>Enabled</td><td>Is_For_Replication</td><td>BillToAddressID</td></tr><tr><td> </td><td> </td><td> </td><td> </td><td> </td><td> </td><td>REFERENCES kpabd-test.SalesLT.Address (AddressID)</td></tr><tr><td>FOREIGN KEY</td><td>FK_SalesOrderHeader_Address_ShipTo_AddressID</td><td>No Action</td><td>No Action</td><td>Enabled</td><td>Is_For_Replication</td><td>ShipToAddressID</td></tr><tr><td> </td><td> </td><td> </td><td> </td><td> </td><td> </td><td>REFERENCES kpabd-test.SalesLT.Address (AddressID)</td></tr><tr><td>FOREIGN KEY</td><td>FK_SalesOrderHeader_Customer_CustomerID</td><td>No Action</td><td>No Action</td><td>Enabled</td><td>Is_For_Replication</td><td>CustomerID</td></tr><tr><td> </td><td> </td><td> </td><td> </td><td> </td><td> </td><td>REFERENCES kpabd-test.SalesLT.Customer (CustomerID)</td></tr><tr><td>PRIMARY KEY (clustered)</td><td>PK_SalesOrderHeader_SalesOrderID</td><td>(n/a)</td><td>(n/a)</td><td>(n/a)</td><td>(n/a)</td><td>SalesOrderID</td></tr></table>"
                    },
                    "metadata": {}
                },
                {
                    "output_type": "execute_result",
                    "execution_count": 12,
                    "data": {
                        "application/vnd.dataresource+json": {
                            "schema": {
                                "fields": [
                                    {
                                        "name": "Table is referenced by foreign key"
                                    }
                                ]
                            },
                            "data": [
                                {
                                    "0": "kpabd-test.SalesLT.SalesOrderDetail: FK_SalesOrderDetail_SalesOrderHeader_SalesOrderID"
                                }
                            ]
                        },
                        "text/html": "<table><tr><th>Table is referenced by foreign key</th></tr><tr><td>kpabd-test.SalesLT.SalesOrderDetail: FK_SalesOrderDetail_SalesOrderHeader_SalesOrderID</td></tr></table>"
                    },
                    "metadata": {}
                }
            ],
            "execution_count": 12
        },
        {
            "cell_type": "markdown",
            "source": [
                "## Merge update"
            ],
            "metadata": {
                "azdata_cell_guid": "f0b15614-01cd-4675-bef5-1f53bbff0b17"
            },
            "attachments": {}
        },
        {
            "cell_type": "code",
            "source": [
                "ALTER TABLE SalesLT.SalesOrderHeader\r\n",
                "NOCHECK CONSTRAINT CK_SalesOrderHeader_ShipDate;  \r\n",
                "GO  "
            ],
            "metadata": {
                "azdata_cell_guid": "b40ca292-66c2-466c-805f-1606bde8d8bc"
            },
            "outputs": [
                {
                    "output_type": "display_data",
                    "data": {
                        "text/html": "Commands completed successfully."
                    },
                    "metadata": {}
                },
                {
                    "output_type": "display_data",
                    "data": {
                        "text/html": "Total execution time: 00:00:00.076"
                    },
                    "metadata": {}
                }
            ],
            "execution_count": 21
        },
        {
            "cell_type": "code",
            "source": [
                "ALTER TABLE SalesLT.SalesOrderHeader\r\n",
                "NOCHECK CONSTRAINT ALL\r\n",
                "GO  "
            ],
            "metadata": {
                "azdata_cell_guid": "e904f28b-9497-4bfb-a293-7510685b7c14"
            },
            "outputs": [
                {
                    "output_type": "display_data",
                    "data": {
                        "text/html": "Commands completed successfully."
                    },
                    "metadata": {}
                },
                {
                    "output_type": "display_data",
                    "data": {
                        "text/html": "Total execution time: 00:00:00.109"
                    },
                    "metadata": {}
                }
            ],
            "execution_count": 23
        },
        {
            "cell_type": "code",
            "source": [
                "INSERT INTO SalesLT.SalesOrderHeader(DueDate, ShipDate, Comment, CustomerID, ShipMethod)\r\n",
                "VALUES\r\n",
                "    ('2008-06-13 00:00:00.000', NULL, 'testingval', 29847, 'CARGO METHOD 5'),\r\n",
                "    ('2008-06-11 00:00:00.000', NULL, 'testingval', 29847, 'CARGO METHOD 5'),\r\n",
                "    ('2014-06-12 00:00:00.000', NULL, 'testingval', 29847, 'CARGO METHOD 5'),\r\n",
                "    ('2022-06-12 00:00:00.000', NULL, 'testingval', 29847, 'CARGO METHOD 5'),\r\n",
                "    ('2023-06-12 00:00:00.000', NULL, 'testingval', 29847, 'CARGO METHOD 5'),\r\n",
                "    ('2022-03-13 00:00:00.000', NULL, 'testingval', 29847, 'CARGO METHOD 5')\r\n",
                ""
            ],
            "metadata": {
                "azdata_cell_guid": "a3afcde9-2704-43b9-8824-94cb9e2b2545"
            },
            "outputs": [
                {
                    "output_type": "display_data",
                    "data": {
                        "text/html": "(6 rows affected)"
                    },
                    "metadata": {}
                },
                {
                    "output_type": "display_data",
                    "data": {
                        "text/html": "Total execution time: 00:00:00.058"
                    },
                    "metadata": {}
                }
            ],
            "execution_count": 140
        },
        {
            "cell_type": "code",
            "source": [
                "SELECT TOP 10 *\r\n",
                "FROM SalesLT.SalesOrderHeader\r\n",
                "WHERE DATEDIFF(hour, DueDate, GETDATE()) > 0 AND SalesLT.SalesOrderHeader.Status BETWEEN 1 AND 4"
            ],
            "metadata": {
                "azdata_cell_guid": "fda4195d-651e-4847-a7b6-62223db0d64e"
            },
            "outputs": [
                {
                    "output_type": "display_data",
                    "data": {
                        "text/html": "(10 rows affected)"
                    },
                    "metadata": {}
                },
                {
                    "output_type": "display_data",
                    "data": {
                        "text/html": "Total execution time: 00:00:00.063"
                    },
                    "metadata": {}
                },
                {
                    "output_type": "execute_result",
                    "execution_count": 141,
                    "data": {
                        "application/vnd.dataresource+json": {
                            "schema": {
                                "fields": [
                                    {
                                        "name": "SalesOrderID"
                                    },
                                    {
                                        "name": "RevisionNumber"
                                    },
                                    {
                                        "name": "OrderDate"
                                    },
                                    {
                                        "name": "DueDate"
                                    },
                                    {
                                        "name": "ShipDate"
                                    },
                                    {
                                        "name": "Status"
                                    },
                                    {
                                        "name": "OnlineOrderFlag"
                                    },
                                    {
                                        "name": "SalesOrderNumber"
                                    },
                                    {
                                        "name": "PurchaseOrderNumber"
                                    },
                                    {
                                        "name": "AccountNumber"
                                    },
                                    {
                                        "name": "CustomerID"
                                    },
                                    {
                                        "name": "ShipToAddressID"
                                    },
                                    {
                                        "name": "BillToAddressID"
                                    },
                                    {
                                        "name": "ShipMethod"
                                    },
                                    {
                                        "name": "CreditCardApprovalCode"
                                    },
                                    {
                                        "name": "SubTotal"
                                    },
                                    {
                                        "name": "TaxAmt"
                                    },
                                    {
                                        "name": "Freight"
                                    },
                                    {
                                        "name": "TotalDue"
                                    },
                                    {
                                        "name": "Comment"
                                    },
                                    {
                                        "name": "rowguid"
                                    },
                                    {
                                        "name": "ModifiedDate"
                                    }
                                ]
                            },
                            "data": [
                                {
                                    "0": "12",
                                    "1": "0",
                                    "2": "2022-03-13 17:03:34.593",
                                    "3": "2008-06-13 00:00:00.000",
                                    "4": "NULL",
                                    "5": "1",
                                    "6": "1",
                                    "7": "SO12",
                                    "8": "NULL",
                                    "9": "NULL",
                                    "10": "29847",
                                    "11": "NULL",
                                    "12": "NULL",
                                    "13": "CARGO METHOD 5",
                                    "14": "NULL",
                                    "15": "0,00",
                                    "16": "0,00",
                                    "17": "0,00",
                                    "18": "0,00",
                                    "19": "testingval",
                                    "20": "975f5498-cf27-49a5-bf20-c6b29e7399b0",
                                    "21": "2022-03-13 17:03:34.593"
                                },
                                {
                                    "0": "13",
                                    "1": "0",
                                    "2": "2022-03-13 17:03:34.593",
                                    "3": "2008-06-11 00:00:00.000",
                                    "4": "NULL",
                                    "5": "1",
                                    "6": "1",
                                    "7": "SO13",
                                    "8": "NULL",
                                    "9": "NULL",
                                    "10": "29847",
                                    "11": "NULL",
                                    "12": "NULL",
                                    "13": "CARGO METHOD 5",
                                    "14": "NULL",
                                    "15": "0,00",
                                    "16": "0,00",
                                    "17": "0,00",
                                    "18": "0,00",
                                    "19": "testingval",
                                    "20": "a4b8356c-c97b-4a48-83d8-8bd2b597daab",
                                    "21": "2022-03-13 17:03:34.593"
                                },
                                {
                                    "0": "14",
                                    "1": "0",
                                    "2": "2022-03-13 17:03:34.593",
                                    "3": "2008-06-12 00:00:00.000",
                                    "4": "NULL",
                                    "5": "1",
                                    "6": "1",
                                    "7": "SO14",
                                    "8": "NULL",
                                    "9": "NULL",
                                    "10": "29847",
                                    "11": "NULL",
                                    "12": "NULL",
                                    "13": "CARGO METHOD 5",
                                    "14": "NULL",
                                    "15": "0,00",
                                    "16": "0,00",
                                    "17": "0,00",
                                    "18": "0,00",
                                    "19": "testingval",
                                    "20": "6cb40b3d-237d-4ca7-a817-2ce77e90135d",
                                    "21": "2022-03-13 17:03:34.593"
                                },
                                {
                                    "0": "15",
                                    "1": "0",
                                    "2": "2022-03-13 17:23:21.790",
                                    "3": "2008-06-13 00:00:00.000",
                                    "4": "NULL",
                                    "5": "1",
                                    "6": "1",
                                    "7": "SO15",
                                    "8": "NULL",
                                    "9": "NULL",
                                    "10": "29847",
                                    "11": "NULL",
                                    "12": "NULL",
                                    "13": "CARGO METHOD 5",
                                    "14": "NULL",
                                    "15": "0,00",
                                    "16": "0,00",
                                    "17": "0,00",
                                    "18": "0,00",
                                    "19": "testingval",
                                    "20": "e2c8bc1b-9443-45aa-b144-cfd51a9b71d7",
                                    "21": "2022-03-13 17:23:21.790"
                                },
                                {
                                    "0": "16",
                                    "1": "0",
                                    "2": "2022-03-13 17:23:21.790",
                                    "3": "2008-06-11 00:00:00.000",
                                    "4": "NULL",
                                    "5": "1",
                                    "6": "1",
                                    "7": "SO16",
                                    "8": "NULL",
                                    "9": "NULL",
                                    "10": "29847",
                                    "11": "NULL",
                                    "12": "NULL",
                                    "13": "CARGO METHOD 5",
                                    "14": "NULL",
                                    "15": "0,00",
                                    "16": "0,00",
                                    "17": "0,00",
                                    "18": "0,00",
                                    "19": "testingval",
                                    "20": "e899aaad-63ee-49fd-96d7-7ff36e585ca3",
                                    "21": "2022-03-13 17:23:21.790"
                                },
                                {
                                    "0": "17",
                                    "1": "0",
                                    "2": "2022-03-13 17:23:21.790",
                                    "3": "2014-06-12 00:00:00.000",
                                    "4": "NULL",
                                    "5": "1",
                                    "6": "1",
                                    "7": "SO17",
                                    "8": "NULL",
                                    "9": "NULL",
                                    "10": "29847",
                                    "11": "NULL",
                                    "12": "NULL",
                                    "13": "CARGO METHOD 5",
                                    "14": "NULL",
                                    "15": "0,00",
                                    "16": "0,00",
                                    "17": "0,00",
                                    "18": "0,00",
                                    "19": "testingval",
                                    "20": "894e41e7-4999-4236-a49e-a0985772b573",
                                    "21": "2022-03-13 17:23:21.790"
                                },
                                {
                                    "0": "20",
                                    "1": "0",
                                    "2": "2022-03-13 18:29:46.703",
                                    "3": "2008-06-13 00:00:00.000",
                                    "4": "NULL",
                                    "5": "1",
                                    "6": "1",
                                    "7": "SO20",
                                    "8": "NULL",
                                    "9": "NULL",
                                    "10": "29847",
                                    "11": "NULL",
                                    "12": "NULL",
                                    "13": "CARGO METHOD 5",
                                    "14": "NULL",
                                    "15": "0,00",
                                    "16": "0,00",
                                    "17": "0,00",
                                    "18": "0,00",
                                    "19": "testingval",
                                    "20": "5b8f9641-5c31-4a78-9d63-c6e118f57f2f",
                                    "21": "2022-03-13 18:29:46.703"
                                },
                                {
                                    "0": "21",
                                    "1": "0",
                                    "2": "2022-03-13 18:29:46.703",
                                    "3": "2008-06-11 00:00:00.000",
                                    "4": "NULL",
                                    "5": "1",
                                    "6": "1",
                                    "7": "SO21",
                                    "8": "NULL",
                                    "9": "NULL",
                                    "10": "29847",
                                    "11": "NULL",
                                    "12": "NULL",
                                    "13": "CARGO METHOD 5",
                                    "14": "NULL",
                                    "15": "0,00",
                                    "16": "0,00",
                                    "17": "0,00",
                                    "18": "0,00",
                                    "19": "testingval",
                                    "20": "33ea5b8b-8e09-454e-9568-bd83096f0e5d",
                                    "21": "2022-03-13 18:29:46.703"
                                },
                                {
                                    "0": "22",
                                    "1": "0",
                                    "2": "2022-03-13 18:29:46.703",
                                    "3": "2014-06-12 00:00:00.000",
                                    "4": "NULL",
                                    "5": "1",
                                    "6": "1",
                                    "7": "SO22",
                                    "8": "NULL",
                                    "9": "NULL",
                                    "10": "29847",
                                    "11": "NULL",
                                    "12": "NULL",
                                    "13": "CARGO METHOD 5",
                                    "14": "NULL",
                                    "15": "0,00",
                                    "16": "0,00",
                                    "17": "0,00",
                                    "18": "0,00",
                                    "19": "testingval",
                                    "20": "337aa653-aa9c-481f-af23-85fc66a229d8",
                                    "21": "2022-03-13 18:29:46.703"
                                },
                                {
                                    "0": "25",
                                    "1": "0",
                                    "2": "2022-03-13 18:31:45.017",
                                    "3": "2008-06-13 00:00:00.000",
                                    "4": "NULL",
                                    "5": "1",
                                    "6": "1",
                                    "7": "SO25",
                                    "8": "NULL",
                                    "9": "NULL",
                                    "10": "29847",
                                    "11": "NULL",
                                    "12": "NULL",
                                    "13": "CARGO METHOD 5",
                                    "14": "NULL",
                                    "15": "0,00",
                                    "16": "0,00",
                                    "17": "0,00",
                                    "18": "0,00",
                                    "19": "testingval",
                                    "20": "86001f11-fda9-4eb2-923c-2b7cd6b310ff",
                                    "21": "2022-03-13 18:31:45.017"
                                }
                            ]
                        },
                        "text/html": "<table><tr><th>SalesOrderID</th><th>RevisionNumber</th><th>OrderDate</th><th>DueDate</th><th>ShipDate</th><th>Status</th><th>OnlineOrderFlag</th><th>SalesOrderNumber</th><th>PurchaseOrderNumber</th><th>AccountNumber</th><th>CustomerID</th><th>ShipToAddressID</th><th>BillToAddressID</th><th>ShipMethod</th><th>CreditCardApprovalCode</th><th>SubTotal</th><th>TaxAmt</th><th>Freight</th><th>TotalDue</th><th>Comment</th><th>rowguid</th><th>ModifiedDate</th></tr><tr><td>12</td><td>0</td><td>2022-03-13 17:03:34.593</td><td>2008-06-13 00:00:00.000</td><td>NULL</td><td>1</td><td>1</td><td>SO12</td><td>NULL</td><td>NULL</td><td>29847</td><td>NULL</td><td>NULL</td><td>CARGO METHOD 5</td><td>NULL</td><td>0,00</td><td>0,00</td><td>0,00</td><td>0,00</td><td>testingval</td><td>975f5498-cf27-49a5-bf20-c6b29e7399b0</td><td>2022-03-13 17:03:34.593</td></tr><tr><td>13</td><td>0</td><td>2022-03-13 17:03:34.593</td><td>2008-06-11 00:00:00.000</td><td>NULL</td><td>1</td><td>1</td><td>SO13</td><td>NULL</td><td>NULL</td><td>29847</td><td>NULL</td><td>NULL</td><td>CARGO METHOD 5</td><td>NULL</td><td>0,00</td><td>0,00</td><td>0,00</td><td>0,00</td><td>testingval</td><td>a4b8356c-c97b-4a48-83d8-8bd2b597daab</td><td>2022-03-13 17:03:34.593</td></tr><tr><td>14</td><td>0</td><td>2022-03-13 17:03:34.593</td><td>2008-06-12 00:00:00.000</td><td>NULL</td><td>1</td><td>1</td><td>SO14</td><td>NULL</td><td>NULL</td><td>29847</td><td>NULL</td><td>NULL</td><td>CARGO METHOD 5</td><td>NULL</td><td>0,00</td><td>0,00</td><td>0,00</td><td>0,00</td><td>testingval</td><td>6cb40b3d-237d-4ca7-a817-2ce77e90135d</td><td>2022-03-13 17:03:34.593</td></tr><tr><td>15</td><td>0</td><td>2022-03-13 17:23:21.790</td><td>2008-06-13 00:00:00.000</td><td>NULL</td><td>1</td><td>1</td><td>SO15</td><td>NULL</td><td>NULL</td><td>29847</td><td>NULL</td><td>NULL</td><td>CARGO METHOD 5</td><td>NULL</td><td>0,00</td><td>0,00</td><td>0,00</td><td>0,00</td><td>testingval</td><td>e2c8bc1b-9443-45aa-b144-cfd51a9b71d7</td><td>2022-03-13 17:23:21.790</td></tr><tr><td>16</td><td>0</td><td>2022-03-13 17:23:21.790</td><td>2008-06-11 00:00:00.000</td><td>NULL</td><td>1</td><td>1</td><td>SO16</td><td>NULL</td><td>NULL</td><td>29847</td><td>NULL</td><td>NULL</td><td>CARGO METHOD 5</td><td>NULL</td><td>0,00</td><td>0,00</td><td>0,00</td><td>0,00</td><td>testingval</td><td>e899aaad-63ee-49fd-96d7-7ff36e585ca3</td><td>2022-03-13 17:23:21.790</td></tr><tr><td>17</td><td>0</td><td>2022-03-13 17:23:21.790</td><td>2014-06-12 00:00:00.000</td><td>NULL</td><td>1</td><td>1</td><td>SO17</td><td>NULL</td><td>NULL</td><td>29847</td><td>NULL</td><td>NULL</td><td>CARGO METHOD 5</td><td>NULL</td><td>0,00</td><td>0,00</td><td>0,00</td><td>0,00</td><td>testingval</td><td>894e41e7-4999-4236-a49e-a0985772b573</td><td>2022-03-13 17:23:21.790</td></tr><tr><td>20</td><td>0</td><td>2022-03-13 18:29:46.703</td><td>2008-06-13 00:00:00.000</td><td>NULL</td><td>1</td><td>1</td><td>SO20</td><td>NULL</td><td>NULL</td><td>29847</td><td>NULL</td><td>NULL</td><td>CARGO METHOD 5</td><td>NULL</td><td>0,00</td><td>0,00</td><td>0,00</td><td>0,00</td><td>testingval</td><td>5b8f9641-5c31-4a78-9d63-c6e118f57f2f</td><td>2022-03-13 18:29:46.703</td></tr><tr><td>21</td><td>0</td><td>2022-03-13 18:29:46.703</td><td>2008-06-11 00:00:00.000</td><td>NULL</td><td>1</td><td>1</td><td>SO21</td><td>NULL</td><td>NULL</td><td>29847</td><td>NULL</td><td>NULL</td><td>CARGO METHOD 5</td><td>NULL</td><td>0,00</td><td>0,00</td><td>0,00</td><td>0,00</td><td>testingval</td><td>33ea5b8b-8e09-454e-9568-bd83096f0e5d</td><td>2022-03-13 18:29:46.703</td></tr><tr><td>22</td><td>0</td><td>2022-03-13 18:29:46.703</td><td>2014-06-12 00:00:00.000</td><td>NULL</td><td>1</td><td>1</td><td>SO22</td><td>NULL</td><td>NULL</td><td>29847</td><td>NULL</td><td>NULL</td><td>CARGO METHOD 5</td><td>NULL</td><td>0,00</td><td>0,00</td><td>0,00</td><td>0,00</td><td>testingval</td><td>337aa653-aa9c-481f-af23-85fc66a229d8</td><td>2022-03-13 18:29:46.703</td></tr><tr><td>25</td><td>0</td><td>2022-03-13 18:31:45.017</td><td>2008-06-13 00:00:00.000</td><td>NULL</td><td>1</td><td>1</td><td>SO25</td><td>NULL</td><td>NULL</td><td>29847</td><td>NULL</td><td>NULL</td><td>CARGO METHOD 5</td><td>NULL</td><td>0,00</td><td>0,00</td><td>0,00</td><td>0,00</td><td>testingval</td><td>86001f11-fda9-4eb2-923c-2b7cd6b310ff</td><td>2022-03-13 18:31:45.017</td></tr></table>"
                    },
                    "metadata": {}
                }
            ],
            "execution_count": 141
        },
        {
            "cell_type": "markdown",
            "source": [
                "MERGE -\\> INSERT, UPDATE, DELETE in one\n",
                "\n",
                "https://www.sqlservertutorial.net/sql-server-basics/sql-server-merge/"
            ],
            "metadata": {
                "azdata_cell_guid": "ac32ca74-ea1c-4a54-b473-af00ac01605d"
            },
            "attachments": {}
        },
        {
            "cell_type": "code",
            "source": [
                "MERGE SalesLT.OrdersToProcess USING SalesLT.SalesOrderHeader\r\n",
                "ON (SalesLT.OrdersToProcess.SalesOrderID = SalesLT.SalesOrderHeader.SalesOrderID)\r\n",
                "WHEN MATCHED AND (SalesLT.SalesOrderHeader.Status BETWEEN 1 AND 4)\r\n",
                "    THEN UPDATE SET\r\n",
                "        SalesLT.OrdersToProcess.Delayed = IIF (DATEDIFF(hour, DueDate, GETDATE()) > 0, 1, 0)\r\n",
                "WHEN NOT MATCHED BY TARGET AND (SalesLT.SalesOrderHeader.Status BETWEEN 1 AND 4)\r\n",
                "    THEN INSERT (SalesOrderID, Delayed)\r\n",
                "        VALUES (SalesLT.SalesOrderHeader.SalesOrderID, IIF (DATEDIFF(hour, DueDate, GETDATE()) > 0, 1, 0))\r\n",
                "WHEN NOT MATCHED BY SOURCE\r\n",
                "    THEN DELETE;"
            ],
            "metadata": {
                "azdata_cell_guid": "cf537a8a-381d-4d07-8c63-f6b2408a26d2",
                "tags": []
            },
            "outputs": [
                {
                    "output_type": "display_data",
                    "data": {
                        "text/html": "(30 rows affected)"
                    },
                    "metadata": {}
                },
                {
                    "output_type": "display_data",
                    "data": {
                        "text/html": "Total execution time: 00:00:00.065"
                    },
                    "metadata": {}
                }
            ],
            "execution_count": 142
        },
        {
            "cell_type": "code",
            "source": [
                "SELECT * \r\n",
                "FROM SalesLT.OrdersToProcess\r\n",
                "JOIN SalesLT.SalesOrderHeader ON SalesLt.SalesOrderHeader.SalesOrderID = SalesLT.OrdersToProcess.SalesOrderID"
            ],
            "metadata": {
                "azdata_cell_guid": "ea849f40-1e33-48f3-8d38-30afebe0e452",
                "tags": []
            },
            "outputs": [
                {
                    "output_type": "display_data",
                    "data": {
                        "text/html": "(24 rows affected)"
                    },
                    "metadata": {}
                },
                {
                    "output_type": "display_data",
                    "data": {
                        "text/html": "Total execution time: 00:00:00.126"
                    },
                    "metadata": {}
                },
                {
                    "output_type": "execute_result",
                    "execution_count": 137,
                    "data": {
                        "application/vnd.dataresource+json": {
                            "schema": {
                                "fields": [
                                    {
                                        "name": "SalesOrderID"
                                    },
                                    {
                                        "name": "Delayed"
                                    },
                                    {
                                        "name": "SalesOrderID"
                                    },
                                    {
                                        "name": "RevisionNumber"
                                    },
                                    {
                                        "name": "OrderDate"
                                    },
                                    {
                                        "name": "DueDate"
                                    },
                                    {
                                        "name": "ShipDate"
                                    },
                                    {
                                        "name": "Status"
                                    },
                                    {
                                        "name": "OnlineOrderFlag"
                                    },
                                    {
                                        "name": "SalesOrderNumber"
                                    },
                                    {
                                        "name": "PurchaseOrderNumber"
                                    },
                                    {
                                        "name": "AccountNumber"
                                    },
                                    {
                                        "name": "CustomerID"
                                    },
                                    {
                                        "name": "ShipToAddressID"
                                    },
                                    {
                                        "name": "BillToAddressID"
                                    },
                                    {
                                        "name": "ShipMethod"
                                    },
                                    {
                                        "name": "CreditCardApprovalCode"
                                    },
                                    {
                                        "name": "SubTotal"
                                    },
                                    {
                                        "name": "TaxAmt"
                                    },
                                    {
                                        "name": "Freight"
                                    },
                                    {
                                        "name": "TotalDue"
                                    },
                                    {
                                        "name": "Comment"
                                    },
                                    {
                                        "name": "rowguid"
                                    },
                                    {
                                        "name": "ModifiedDate"
                                    }
                                ]
                            },
                            "data": [
                                {
                                    "0": "12",
                                    "1": "1",
                                    "2": "12",
                                    "3": "0",
                                    "4": "2022-03-13 17:03:34.593",
                                    "5": "2008-06-13 00:00:00.000",
                                    "6": "NULL",
                                    "7": "1",
                                    "8": "1",
                                    "9": "SO12",
                                    "10": "NULL",
                                    "11": "NULL",
                                    "12": "29847",
                                    "13": "NULL",
                                    "14": "NULL",
                                    "15": "CARGO METHOD 5",
                                    "16": "NULL",
                                    "17": "0,00",
                                    "18": "0,00",
                                    "19": "0,00",
                                    "20": "0,00",
                                    "21": "testingval",
                                    "22": "975f5498-cf27-49a5-bf20-c6b29e7399b0",
                                    "23": "2022-03-13 17:03:34.593"
                                },
                                {
                                    "0": "13",
                                    "1": "1",
                                    "2": "13",
                                    "3": "0",
                                    "4": "2022-03-13 17:03:34.593",
                                    "5": "2008-06-11 00:00:00.000",
                                    "6": "NULL",
                                    "7": "1",
                                    "8": "1",
                                    "9": "SO13",
                                    "10": "NULL",
                                    "11": "NULL",
                                    "12": "29847",
                                    "13": "NULL",
                                    "14": "NULL",
                                    "15": "CARGO METHOD 5",
                                    "16": "NULL",
                                    "17": "0,00",
                                    "18": "0,00",
                                    "19": "0,00",
                                    "20": "0,00",
                                    "21": "testingval",
                                    "22": "a4b8356c-c97b-4a48-83d8-8bd2b597daab",
                                    "23": "2022-03-13 17:03:34.593"
                                },
                                {
                                    "0": "14",
                                    "1": "1",
                                    "2": "14",
                                    "3": "0",
                                    "4": "2022-03-13 17:03:34.593",
                                    "5": "2008-06-12 00:00:00.000",
                                    "6": "NULL",
                                    "7": "1",
                                    "8": "1",
                                    "9": "SO14",
                                    "10": "NULL",
                                    "11": "NULL",
                                    "12": "29847",
                                    "13": "NULL",
                                    "14": "NULL",
                                    "15": "CARGO METHOD 5",
                                    "16": "NULL",
                                    "17": "0,00",
                                    "18": "0,00",
                                    "19": "0,00",
                                    "20": "0,00",
                                    "21": "testingval",
                                    "22": "6cb40b3d-237d-4ca7-a817-2ce77e90135d",
                                    "23": "2022-03-13 17:03:34.593"
                                },
                                {
                                    "0": "15",
                                    "1": "1",
                                    "2": "15",
                                    "3": "0",
                                    "4": "2022-03-13 17:23:21.790",
                                    "5": "2008-06-13 00:00:00.000",
                                    "6": "NULL",
                                    "7": "1",
                                    "8": "1",
                                    "9": "SO15",
                                    "10": "NULL",
                                    "11": "NULL",
                                    "12": "29847",
                                    "13": "NULL",
                                    "14": "NULL",
                                    "15": "CARGO METHOD 5",
                                    "16": "NULL",
                                    "17": "0,00",
                                    "18": "0,00",
                                    "19": "0,00",
                                    "20": "0,00",
                                    "21": "testingval",
                                    "22": "e2c8bc1b-9443-45aa-b144-cfd51a9b71d7",
                                    "23": "2022-03-13 17:23:21.790"
                                },
                                {
                                    "0": "16",
                                    "1": "1",
                                    "2": "16",
                                    "3": "0",
                                    "4": "2022-03-13 17:23:21.790",
                                    "5": "2008-06-11 00:00:00.000",
                                    "6": "NULL",
                                    "7": "1",
                                    "8": "1",
                                    "9": "SO16",
                                    "10": "NULL",
                                    "11": "NULL",
                                    "12": "29847",
                                    "13": "NULL",
                                    "14": "NULL",
                                    "15": "CARGO METHOD 5",
                                    "16": "NULL",
                                    "17": "0,00",
                                    "18": "0,00",
                                    "19": "0,00",
                                    "20": "0,00",
                                    "21": "testingval",
                                    "22": "e899aaad-63ee-49fd-96d7-7ff36e585ca3",
                                    "23": "2022-03-13 17:23:21.790"
                                },
                                {
                                    "0": "17",
                                    "1": "1",
                                    "2": "17",
                                    "3": "0",
                                    "4": "2022-03-13 17:23:21.790",
                                    "5": "2014-06-12 00:00:00.000",
                                    "6": "NULL",
                                    "7": "1",
                                    "8": "1",
                                    "9": "SO17",
                                    "10": "NULL",
                                    "11": "NULL",
                                    "12": "29847",
                                    "13": "NULL",
                                    "14": "NULL",
                                    "15": "CARGO METHOD 5",
                                    "16": "NULL",
                                    "17": "0,00",
                                    "18": "0,00",
                                    "19": "0,00",
                                    "20": "0,00",
                                    "21": "testingval",
                                    "22": "894e41e7-4999-4236-a49e-a0985772b573",
                                    "23": "2022-03-13 17:23:21.790"
                                },
                                {
                                    "0": "18",
                                    "1": "0",
                                    "2": "18",
                                    "3": "0",
                                    "4": "2022-03-13 17:23:21.790",
                                    "5": "2022-06-12 00:00:00.000",
                                    "6": "NULL",
                                    "7": "1",
                                    "8": "1",
                                    "9": "SO18",
                                    "10": "NULL",
                                    "11": "NULL",
                                    "12": "29847",
                                    "13": "NULL",
                                    "14": "NULL",
                                    "15": "CARGO METHOD 5",
                                    "16": "NULL",
                                    "17": "0,00",
                                    "18": "0,00",
                                    "19": "0,00",
                                    "20": "0,00",
                                    "21": "testingval",
                                    "22": "a4fda8f0-8f62-415e-93e0-f088b286c3bc",
                                    "23": "2022-03-13 17:23:21.790"
                                },
                                {
                                    "0": "19",
                                    "1": "0",
                                    "2": "19",
                                    "3": "0",
                                    "4": "2022-03-13 17:23:21.790",
                                    "5": "2023-06-12 00:00:00.000",
                                    "6": "NULL",
                                    "7": "1",
                                    "8": "1",
                                    "9": "SO19",
                                    "10": "NULL",
                                    "11": "NULL",
                                    "12": "29847",
                                    "13": "NULL",
                                    "14": "NULL",
                                    "15": "CARGO METHOD 5",
                                    "16": "NULL",
                                    "17": "0,00",
                                    "18": "0,00",
                                    "19": "0,00",
                                    "20": "0,00",
                                    "21": "testingval",
                                    "22": "97271a59-5845-43d9-9eb7-4e3b9314e712",
                                    "23": "2022-03-13 17:23:21.790"
                                },
                                {
                                    "0": "20",
                                    "1": "1",
                                    "2": "20",
                                    "3": "0",
                                    "4": "2022-03-13 18:29:46.703",
                                    "5": "2008-06-13 00:00:00.000",
                                    "6": "NULL",
                                    "7": "1",
                                    "8": "1",
                                    "9": "SO20",
                                    "10": "NULL",
                                    "11": "NULL",
                                    "12": "29847",
                                    "13": "NULL",
                                    "14": "NULL",
                                    "15": "CARGO METHOD 5",
                                    "16": "NULL",
                                    "17": "0,00",
                                    "18": "0,00",
                                    "19": "0,00",
                                    "20": "0,00",
                                    "21": "testingval",
                                    "22": "5b8f9641-5c31-4a78-9d63-c6e118f57f2f",
                                    "23": "2022-03-13 18:29:46.703"
                                },
                                {
                                    "0": "21",
                                    "1": "1",
                                    "2": "21",
                                    "3": "0",
                                    "4": "2022-03-13 18:29:46.703",
                                    "5": "2008-06-11 00:00:00.000",
                                    "6": "NULL",
                                    "7": "1",
                                    "8": "1",
                                    "9": "SO21",
                                    "10": "NULL",
                                    "11": "NULL",
                                    "12": "29847",
                                    "13": "NULL",
                                    "14": "NULL",
                                    "15": "CARGO METHOD 5",
                                    "16": "NULL",
                                    "17": "0,00",
                                    "18": "0,00",
                                    "19": "0,00",
                                    "20": "0,00",
                                    "21": "testingval",
                                    "22": "33ea5b8b-8e09-454e-9568-bd83096f0e5d",
                                    "23": "2022-03-13 18:29:46.703"
                                },
                                {
                                    "0": "22",
                                    "1": "1",
                                    "2": "22",
                                    "3": "0",
                                    "4": "2022-03-13 18:29:46.703",
                                    "5": "2014-06-12 00:00:00.000",
                                    "6": "NULL",
                                    "7": "1",
                                    "8": "1",
                                    "9": "SO22",
                                    "10": "NULL",
                                    "11": "NULL",
                                    "12": "29847",
                                    "13": "NULL",
                                    "14": "NULL",
                                    "15": "CARGO METHOD 5",
                                    "16": "NULL",
                                    "17": "0,00",
                                    "18": "0,00",
                                    "19": "0,00",
                                    "20": "0,00",
                                    "21": "testingval",
                                    "22": "337aa653-aa9c-481f-af23-85fc66a229d8",
                                    "23": "2022-03-13 18:29:46.703"
                                },
                                {
                                    "0": "23",
                                    "1": "0",
                                    "2": "23",
                                    "3": "0",
                                    "4": "2022-03-13 18:29:46.703",
                                    "5": "2022-06-12 00:00:00.000",
                                    "6": "NULL",
                                    "7": "1",
                                    "8": "1",
                                    "9": "SO23",
                                    "10": "NULL",
                                    "11": "NULL",
                                    "12": "29847",
                                    "13": "NULL",
                                    "14": "NULL",
                                    "15": "CARGO METHOD 5",
                                    "16": "NULL",
                                    "17": "0,00",
                                    "18": "0,00",
                                    "19": "0,00",
                                    "20": "0,00",
                                    "21": "testingval",
                                    "22": "67a80b0d-8e91-4ca7-b75e-4d72a8c083b0",
                                    "23": "2022-03-13 18:29:46.703"
                                },
                                {
                                    "0": "24",
                                    "1": "0",
                                    "2": "24",
                                    "3": "0",
                                    "4": "2022-03-13 18:29:46.703",
                                    "5": "2023-06-12 00:00:00.000",
                                    "6": "NULL",
                                    "7": "1",
                                    "8": "1",
                                    "9": "SO24",
                                    "10": "NULL",
                                    "11": "NULL",
                                    "12": "29847",
                                    "13": "NULL",
                                    "14": "NULL",
                                    "15": "CARGO METHOD 5",
                                    "16": "NULL",
                                    "17": "0,00",
                                    "18": "0,00",
                                    "19": "0,00",
                                    "20": "0,00",
                                    "21": "testingval",
                                    "22": "ec29418e-bad0-4dbf-9732-07d7959dbf0a",
                                    "23": "2022-03-13 18:29:46.703"
                                },
                                {
                                    "0": "25",
                                    "1": "1",
                                    "2": "25",
                                    "3": "0",
                                    "4": "2022-03-13 18:31:45.017",
                                    "5": "2008-06-13 00:00:00.000",
                                    "6": "NULL",
                                    "7": "1",
                                    "8": "1",
                                    "9": "SO25",
                                    "10": "NULL",
                                    "11": "NULL",
                                    "12": "29847",
                                    "13": "NULL",
                                    "14": "NULL",
                                    "15": "CARGO METHOD 5",
                                    "16": "NULL",
                                    "17": "0,00",
                                    "18": "0,00",
                                    "19": "0,00",
                                    "20": "0,00",
                                    "21": "testingval",
                                    "22": "86001f11-fda9-4eb2-923c-2b7cd6b310ff",
                                    "23": "2022-03-13 18:31:45.017"
                                },
                                {
                                    "0": "26",
                                    "1": "1",
                                    "2": "26",
                                    "3": "0",
                                    "4": "2022-03-13 18:31:45.017",
                                    "5": "2008-06-11 00:00:00.000",
                                    "6": "NULL",
                                    "7": "1",
                                    "8": "1",
                                    "9": "SO26",
                                    "10": "NULL",
                                    "11": "NULL",
                                    "12": "29847",
                                    "13": "NULL",
                                    "14": "NULL",
                                    "15": "CARGO METHOD 5",
                                    "16": "NULL",
                                    "17": "0,00",
                                    "18": "0,00",
                                    "19": "0,00",
                                    "20": "0,00",
                                    "21": "testingval",
                                    "22": "b136eeef-8a1f-41ec-a4eb-827e7640f255",
                                    "23": "2022-03-13 18:31:45.017"
                                },
                                {
                                    "0": "27",
                                    "1": "1",
                                    "2": "27",
                                    "3": "0",
                                    "4": "2022-03-13 18:31:45.017",
                                    "5": "2014-06-12 00:00:00.000",
                                    "6": "NULL",
                                    "7": "1",
                                    "8": "1",
                                    "9": "SO27",
                                    "10": "NULL",
                                    "11": "NULL",
                                    "12": "29847",
                                    "13": "NULL",
                                    "14": "NULL",
                                    "15": "CARGO METHOD 5",
                                    "16": "NULL",
                                    "17": "0,00",
                                    "18": "0,00",
                                    "19": "0,00",
                                    "20": "0,00",
                                    "21": "testingval",
                                    "22": "490e6b6b-6074-464e-9aea-7bf550b3fd9c",
                                    "23": "2022-03-13 18:31:45.017"
                                },
                                {
                                    "0": "28",
                                    "1": "0",
                                    "2": "28",
                                    "3": "0",
                                    "4": "2022-03-13 18:31:45.017",
                                    "5": "2022-06-12 00:00:00.000",
                                    "6": "NULL",
                                    "7": "1",
                                    "8": "1",
                                    "9": "SO28",
                                    "10": "NULL",
                                    "11": "NULL",
                                    "12": "29847",
                                    "13": "NULL",
                                    "14": "NULL",
                                    "15": "CARGO METHOD 5",
                                    "16": "NULL",
                                    "17": "0,00",
                                    "18": "0,00",
                                    "19": "0,00",
                                    "20": "0,00",
                                    "21": "testingval",
                                    "22": "6e4d306a-3474-4823-985c-c1d37b06183c",
                                    "23": "2022-03-13 18:31:45.017"
                                },
                                {
                                    "0": "29",
                                    "1": "0",
                                    "2": "29",
                                    "3": "0",
                                    "4": "2022-03-13 18:31:45.017",
                                    "5": "2023-06-12 00:00:00.000",
                                    "6": "NULL",
                                    "7": "1",
                                    "8": "1",
                                    "9": "SO29",
                                    "10": "NULL",
                                    "11": "NULL",
                                    "12": "29847",
                                    "13": "NULL",
                                    "14": "NULL",
                                    "15": "CARGO METHOD 5",
                                    "16": "NULL",
                                    "17": "0,00",
                                    "18": "0,00",
                                    "19": "0,00",
                                    "20": "0,00",
                                    "21": "testingval",
                                    "22": "6c624c65-1733-467e-865f-0c32b2a4a7d6",
                                    "23": "2022-03-13 18:31:45.017"
                                },
                                {
                                    "0": "30",
                                    "1": "1",
                                    "2": "30",
                                    "3": "0",
                                    "4": "2022-03-13 18:32:36.000",
                                    "5": "2008-06-13 00:00:00.000",
                                    "6": "NULL",
                                    "7": "1",
                                    "8": "1",
                                    "9": "SO30",
                                    "10": "NULL",
                                    "11": "NULL",
                                    "12": "29847",
                                    "13": "NULL",
                                    "14": "NULL",
                                    "15": "CARGO METHOD 5",
                                    "16": "NULL",
                                    "17": "0,00",
                                    "18": "0,00",
                                    "19": "0,00",
                                    "20": "0,00",
                                    "21": "testingval",
                                    "22": "80e1dac0-16e5-4dce-acca-a1fd3d865cd7",
                                    "23": "2022-03-13 18:32:36.000"
                                },
                                {
                                    "0": "31",
                                    "1": "1",
                                    "2": "31",
                                    "3": "0",
                                    "4": "2022-03-13 18:32:36.000",
                                    "5": "2008-06-11 00:00:00.000",
                                    "6": "NULL",
                                    "7": "1",
                                    "8": "1",
                                    "9": "SO31",
                                    "10": "NULL",
                                    "11": "NULL",
                                    "12": "29847",
                                    "13": "NULL",
                                    "14": "NULL",
                                    "15": "CARGO METHOD 5",
                                    "16": "NULL",
                                    "17": "0,00",
                                    "18": "0,00",
                                    "19": "0,00",
                                    "20": "0,00",
                                    "21": "testingval",
                                    "22": "829d4c70-89bc-4090-9704-1227d8240ca4",
                                    "23": "2022-03-13 18:32:36.000"
                                },
                                {
                                    "0": "32",
                                    "1": "1",
                                    "2": "32",
                                    "3": "0",
                                    "4": "2022-03-13 18:32:36.000",
                                    "5": "2014-06-12 00:00:00.000",
                                    "6": "NULL",
                                    "7": "1",
                                    "8": "1",
                                    "9": "SO32",
                                    "10": "NULL",
                                    "11": "NULL",
                                    "12": "29847",
                                    "13": "NULL",
                                    "14": "NULL",
                                    "15": "CARGO METHOD 5",
                                    "16": "NULL",
                                    "17": "0,00",
                                    "18": "0,00",
                                    "19": "0,00",
                                    "20": "0,00",
                                    "21": "testingval",
                                    "22": "2026cbbc-7077-41aa-89e3-1d227c1510a4",
                                    "23": "2022-03-13 18:32:36.000"
                                },
                                {
                                    "0": "33",
                                    "1": "0",
                                    "2": "33",
                                    "3": "0",
                                    "4": "2022-03-13 18:32:36.000",
                                    "5": "2022-06-12 00:00:00.000",
                                    "6": "NULL",
                                    "7": "1",
                                    "8": "1",
                                    "9": "SO33",
                                    "10": "NULL",
                                    "11": "NULL",
                                    "12": "29847",
                                    "13": "NULL",
                                    "14": "NULL",
                                    "15": "CARGO METHOD 5",
                                    "16": "NULL",
                                    "17": "0,00",
                                    "18": "0,00",
                                    "19": "0,00",
                                    "20": "0,00",
                                    "21": "testingval",
                                    "22": "3bd72cfb-ca66-46e2-8d4b-9e3e02a44a9a",
                                    "23": "2022-03-13 18:32:36.000"
                                },
                                {
                                    "0": "34",
                                    "1": "0",
                                    "2": "34",
                                    "3": "0",
                                    "4": "2022-03-13 18:32:36.000",
                                    "5": "2023-06-12 00:00:00.000",
                                    "6": "NULL",
                                    "7": "1",
                                    "8": "1",
                                    "9": "SO34",
                                    "10": "NULL",
                                    "11": "NULL",
                                    "12": "29847",
                                    "13": "NULL",
                                    "14": "NULL",
                                    "15": "CARGO METHOD 5",
                                    "16": "NULL",
                                    "17": "0,00",
                                    "18": "0,00",
                                    "19": "0,00",
                                    "20": "0,00",
                                    "21": "testingval",
                                    "22": "59a4aaf1-f693-4b8b-8121-cf934dd8db2b",
                                    "23": "2022-03-13 18:32:36.000"
                                },
                                {
                                    "0": "35",
                                    "1": "1",
                                    "2": "35",
                                    "3": "0",
                                    "4": "2022-03-13 18:32:36.000",
                                    "5": "2022-03-13 00:00:00.000",
                                    "6": "NULL",
                                    "7": "1",
                                    "8": "1",
                                    "9": "SO35",
                                    "10": "NULL",
                                    "11": "NULL",
                                    "12": "29847",
                                    "13": "NULL",
                                    "14": "NULL",
                                    "15": "CARGO METHOD 5",
                                    "16": "NULL",
                                    "17": "0,00",
                                    "18": "0,00",
                                    "19": "0,00",
                                    "20": "0,00",
                                    "21": "testingval",
                                    "22": "fc6c7701-1943-4e8f-b500-20146e07acd2",
                                    "23": "2022-03-13 18:32:36.000"
                                }
                            ]
                        },
                        "text/html": "<table><tr><th>SalesOrderID</th><th>Delayed</th><th>SalesOrderID</th><th>RevisionNumber</th><th>OrderDate</th><th>DueDate</th><th>ShipDate</th><th>Status</th><th>OnlineOrderFlag</th><th>SalesOrderNumber</th><th>PurchaseOrderNumber</th><th>AccountNumber</th><th>CustomerID</th><th>ShipToAddressID</th><th>BillToAddressID</th><th>ShipMethod</th><th>CreditCardApprovalCode</th><th>SubTotal</th><th>TaxAmt</th><th>Freight</th><th>TotalDue</th><th>Comment</th><th>rowguid</th><th>ModifiedDate</th></tr><tr><td>12</td><td>1</td><td>12</td><td>0</td><td>2022-03-13 17:03:34.593</td><td>2008-06-13 00:00:00.000</td><td>NULL</td><td>1</td><td>1</td><td>SO12</td><td>NULL</td><td>NULL</td><td>29847</td><td>NULL</td><td>NULL</td><td>CARGO METHOD 5</td><td>NULL</td><td>0,00</td><td>0,00</td><td>0,00</td><td>0,00</td><td>testingval</td><td>975f5498-cf27-49a5-bf20-c6b29e7399b0</td><td>2022-03-13 17:03:34.593</td></tr><tr><td>13</td><td>1</td><td>13</td><td>0</td><td>2022-03-13 17:03:34.593</td><td>2008-06-11 00:00:00.000</td><td>NULL</td><td>1</td><td>1</td><td>SO13</td><td>NULL</td><td>NULL</td><td>29847</td><td>NULL</td><td>NULL</td><td>CARGO METHOD 5</td><td>NULL</td><td>0,00</td><td>0,00</td><td>0,00</td><td>0,00</td><td>testingval</td><td>a4b8356c-c97b-4a48-83d8-8bd2b597daab</td><td>2022-03-13 17:03:34.593</td></tr><tr><td>14</td><td>1</td><td>14</td><td>0</td><td>2022-03-13 17:03:34.593</td><td>2008-06-12 00:00:00.000</td><td>NULL</td><td>1</td><td>1</td><td>SO14</td><td>NULL</td><td>NULL</td><td>29847</td><td>NULL</td><td>NULL</td><td>CARGO METHOD 5</td><td>NULL</td><td>0,00</td><td>0,00</td><td>0,00</td><td>0,00</td><td>testingval</td><td>6cb40b3d-237d-4ca7-a817-2ce77e90135d</td><td>2022-03-13 17:03:34.593</td></tr><tr><td>15</td><td>1</td><td>15</td><td>0</td><td>2022-03-13 17:23:21.790</td><td>2008-06-13 00:00:00.000</td><td>NULL</td><td>1</td><td>1</td><td>SO15</td><td>NULL</td><td>NULL</td><td>29847</td><td>NULL</td><td>NULL</td><td>CARGO METHOD 5</td><td>NULL</td><td>0,00</td><td>0,00</td><td>0,00</td><td>0,00</td><td>testingval</td><td>e2c8bc1b-9443-45aa-b144-cfd51a9b71d7</td><td>2022-03-13 17:23:21.790</td></tr><tr><td>16</td><td>1</td><td>16</td><td>0</td><td>2022-03-13 17:23:21.790</td><td>2008-06-11 00:00:00.000</td><td>NULL</td><td>1</td><td>1</td><td>SO16</td><td>NULL</td><td>NULL</td><td>29847</td><td>NULL</td><td>NULL</td><td>CARGO METHOD 5</td><td>NULL</td><td>0,00</td><td>0,00</td><td>0,00</td><td>0,00</td><td>testingval</td><td>e899aaad-63ee-49fd-96d7-7ff36e585ca3</td><td>2022-03-13 17:23:21.790</td></tr><tr><td>17</td><td>1</td><td>17</td><td>0</td><td>2022-03-13 17:23:21.790</td><td>2014-06-12 00:00:00.000</td><td>NULL</td><td>1</td><td>1</td><td>SO17</td><td>NULL</td><td>NULL</td><td>29847</td><td>NULL</td><td>NULL</td><td>CARGO METHOD 5</td><td>NULL</td><td>0,00</td><td>0,00</td><td>0,00</td><td>0,00</td><td>testingval</td><td>894e41e7-4999-4236-a49e-a0985772b573</td><td>2022-03-13 17:23:21.790</td></tr><tr><td>18</td><td>0</td><td>18</td><td>0</td><td>2022-03-13 17:23:21.790</td><td>2022-06-12 00:00:00.000</td><td>NULL</td><td>1</td><td>1</td><td>SO18</td><td>NULL</td><td>NULL</td><td>29847</td><td>NULL</td><td>NULL</td><td>CARGO METHOD 5</td><td>NULL</td><td>0,00</td><td>0,00</td><td>0,00</td><td>0,00</td><td>testingval</td><td>a4fda8f0-8f62-415e-93e0-f088b286c3bc</td><td>2022-03-13 17:23:21.790</td></tr><tr><td>19</td><td>0</td><td>19</td><td>0</td><td>2022-03-13 17:23:21.790</td><td>2023-06-12 00:00:00.000</td><td>NULL</td><td>1</td><td>1</td><td>SO19</td><td>NULL</td><td>NULL</td><td>29847</td><td>NULL</td><td>NULL</td><td>CARGO METHOD 5</td><td>NULL</td><td>0,00</td><td>0,00</td><td>0,00</td><td>0,00</td><td>testingval</td><td>97271a59-5845-43d9-9eb7-4e3b9314e712</td><td>2022-03-13 17:23:21.790</td></tr><tr><td>20</td><td>1</td><td>20</td><td>0</td><td>2022-03-13 18:29:46.703</td><td>2008-06-13 00:00:00.000</td><td>NULL</td><td>1</td><td>1</td><td>SO20</td><td>NULL</td><td>NULL</td><td>29847</td><td>NULL</td><td>NULL</td><td>CARGO METHOD 5</td><td>NULL</td><td>0,00</td><td>0,00</td><td>0,00</td><td>0,00</td><td>testingval</td><td>5b8f9641-5c31-4a78-9d63-c6e118f57f2f</td><td>2022-03-13 18:29:46.703</td></tr><tr><td>21</td><td>1</td><td>21</td><td>0</td><td>2022-03-13 18:29:46.703</td><td>2008-06-11 00:00:00.000</td><td>NULL</td><td>1</td><td>1</td><td>SO21</td><td>NULL</td><td>NULL</td><td>29847</td><td>NULL</td><td>NULL</td><td>CARGO METHOD 5</td><td>NULL</td><td>0,00</td><td>0,00</td><td>0,00</td><td>0,00</td><td>testingval</td><td>33ea5b8b-8e09-454e-9568-bd83096f0e5d</td><td>2022-03-13 18:29:46.703</td></tr><tr><td>22</td><td>1</td><td>22</td><td>0</td><td>2022-03-13 18:29:46.703</td><td>2014-06-12 00:00:00.000</td><td>NULL</td><td>1</td><td>1</td><td>SO22</td><td>NULL</td><td>NULL</td><td>29847</td><td>NULL</td><td>NULL</td><td>CARGO METHOD 5</td><td>NULL</td><td>0,00</td><td>0,00</td><td>0,00</td><td>0,00</td><td>testingval</td><td>337aa653-aa9c-481f-af23-85fc66a229d8</td><td>2022-03-13 18:29:46.703</td></tr><tr><td>23</td><td>0</td><td>23</td><td>0</td><td>2022-03-13 18:29:46.703</td><td>2022-06-12 00:00:00.000</td><td>NULL</td><td>1</td><td>1</td><td>SO23</td><td>NULL</td><td>NULL</td><td>29847</td><td>NULL</td><td>NULL</td><td>CARGO METHOD 5</td><td>NULL</td><td>0,00</td><td>0,00</td><td>0,00</td><td>0,00</td><td>testingval</td><td>67a80b0d-8e91-4ca7-b75e-4d72a8c083b0</td><td>2022-03-13 18:29:46.703</td></tr><tr><td>24</td><td>0</td><td>24</td><td>0</td><td>2022-03-13 18:29:46.703</td><td>2023-06-12 00:00:00.000</td><td>NULL</td><td>1</td><td>1</td><td>SO24</td><td>NULL</td><td>NULL</td><td>29847</td><td>NULL</td><td>NULL</td><td>CARGO METHOD 5</td><td>NULL</td><td>0,00</td><td>0,00</td><td>0,00</td><td>0,00</td><td>testingval</td><td>ec29418e-bad0-4dbf-9732-07d7959dbf0a</td><td>2022-03-13 18:29:46.703</td></tr><tr><td>25</td><td>1</td><td>25</td><td>0</td><td>2022-03-13 18:31:45.017</td><td>2008-06-13 00:00:00.000</td><td>NULL</td><td>1</td><td>1</td><td>SO25</td><td>NULL</td><td>NULL</td><td>29847</td><td>NULL</td><td>NULL</td><td>CARGO METHOD 5</td><td>NULL</td><td>0,00</td><td>0,00</td><td>0,00</td><td>0,00</td><td>testingval</td><td>86001f11-fda9-4eb2-923c-2b7cd6b310ff</td><td>2022-03-13 18:31:45.017</td></tr><tr><td>26</td><td>1</td><td>26</td><td>0</td><td>2022-03-13 18:31:45.017</td><td>2008-06-11 00:00:00.000</td><td>NULL</td><td>1</td><td>1</td><td>SO26</td><td>NULL</td><td>NULL</td><td>29847</td><td>NULL</td><td>NULL</td><td>CARGO METHOD 5</td><td>NULL</td><td>0,00</td><td>0,00</td><td>0,00</td><td>0,00</td><td>testingval</td><td>b136eeef-8a1f-41ec-a4eb-827e7640f255</td><td>2022-03-13 18:31:45.017</td></tr><tr><td>27</td><td>1</td><td>27</td><td>0</td><td>2022-03-13 18:31:45.017</td><td>2014-06-12 00:00:00.000</td><td>NULL</td><td>1</td><td>1</td><td>SO27</td><td>NULL</td><td>NULL</td><td>29847</td><td>NULL</td><td>NULL</td><td>CARGO METHOD 5</td><td>NULL</td><td>0,00</td><td>0,00</td><td>0,00</td><td>0,00</td><td>testingval</td><td>490e6b6b-6074-464e-9aea-7bf550b3fd9c</td><td>2022-03-13 18:31:45.017</td></tr><tr><td>28</td><td>0</td><td>28</td><td>0</td><td>2022-03-13 18:31:45.017</td><td>2022-06-12 00:00:00.000</td><td>NULL</td><td>1</td><td>1</td><td>SO28</td><td>NULL</td><td>NULL</td><td>29847</td><td>NULL</td><td>NULL</td><td>CARGO METHOD 5</td><td>NULL</td><td>0,00</td><td>0,00</td><td>0,00</td><td>0,00</td><td>testingval</td><td>6e4d306a-3474-4823-985c-c1d37b06183c</td><td>2022-03-13 18:31:45.017</td></tr><tr><td>29</td><td>0</td><td>29</td><td>0</td><td>2022-03-13 18:31:45.017</td><td>2023-06-12 00:00:00.000</td><td>NULL</td><td>1</td><td>1</td><td>SO29</td><td>NULL</td><td>NULL</td><td>29847</td><td>NULL</td><td>NULL</td><td>CARGO METHOD 5</td><td>NULL</td><td>0,00</td><td>0,00</td><td>0,00</td><td>0,00</td><td>testingval</td><td>6c624c65-1733-467e-865f-0c32b2a4a7d6</td><td>2022-03-13 18:31:45.017</td></tr><tr><td>30</td><td>1</td><td>30</td><td>0</td><td>2022-03-13 18:32:36.000</td><td>2008-06-13 00:00:00.000</td><td>NULL</td><td>1</td><td>1</td><td>SO30</td><td>NULL</td><td>NULL</td><td>29847</td><td>NULL</td><td>NULL</td><td>CARGO METHOD 5</td><td>NULL</td><td>0,00</td><td>0,00</td><td>0,00</td><td>0,00</td><td>testingval</td><td>80e1dac0-16e5-4dce-acca-a1fd3d865cd7</td><td>2022-03-13 18:32:36.000</td></tr><tr><td>31</td><td>1</td><td>31</td><td>0</td><td>2022-03-13 18:32:36.000</td><td>2008-06-11 00:00:00.000</td><td>NULL</td><td>1</td><td>1</td><td>SO31</td><td>NULL</td><td>NULL</td><td>29847</td><td>NULL</td><td>NULL</td><td>CARGO METHOD 5</td><td>NULL</td><td>0,00</td><td>0,00</td><td>0,00</td><td>0,00</td><td>testingval</td><td>829d4c70-89bc-4090-9704-1227d8240ca4</td><td>2022-03-13 18:32:36.000</td></tr><tr><td>32</td><td>1</td><td>32</td><td>0</td><td>2022-03-13 18:32:36.000</td><td>2014-06-12 00:00:00.000</td><td>NULL</td><td>1</td><td>1</td><td>SO32</td><td>NULL</td><td>NULL</td><td>29847</td><td>NULL</td><td>NULL</td><td>CARGO METHOD 5</td><td>NULL</td><td>0,00</td><td>0,00</td><td>0,00</td><td>0,00</td><td>testingval</td><td>2026cbbc-7077-41aa-89e3-1d227c1510a4</td><td>2022-03-13 18:32:36.000</td></tr><tr><td>33</td><td>0</td><td>33</td><td>0</td><td>2022-03-13 18:32:36.000</td><td>2022-06-12 00:00:00.000</td><td>NULL</td><td>1</td><td>1</td><td>SO33</td><td>NULL</td><td>NULL</td><td>29847</td><td>NULL</td><td>NULL</td><td>CARGO METHOD 5</td><td>NULL</td><td>0,00</td><td>0,00</td><td>0,00</td><td>0,00</td><td>testingval</td><td>3bd72cfb-ca66-46e2-8d4b-9e3e02a44a9a</td><td>2022-03-13 18:32:36.000</td></tr><tr><td>34</td><td>0</td><td>34</td><td>0</td><td>2022-03-13 18:32:36.000</td><td>2023-06-12 00:00:00.000</td><td>NULL</td><td>1</td><td>1</td><td>SO34</td><td>NULL</td><td>NULL</td><td>29847</td><td>NULL</td><td>NULL</td><td>CARGO METHOD 5</td><td>NULL</td><td>0,00</td><td>0,00</td><td>0,00</td><td>0,00</td><td>testingval</td><td>59a4aaf1-f693-4b8b-8121-cf934dd8db2b</td><td>2022-03-13 18:32:36.000</td></tr><tr><td>35</td><td>1</td><td>35</td><td>0</td><td>2022-03-13 18:32:36.000</td><td>2022-03-13 00:00:00.000</td><td>NULL</td><td>1</td><td>1</td><td>SO35</td><td>NULL</td><td>NULL</td><td>29847</td><td>NULL</td><td>NULL</td><td>CARGO METHOD 5</td><td>NULL</td><td>0,00</td><td>0,00</td><td>0,00</td><td>0,00</td><td>testingval</td><td>fc6c7701-1943-4e8f-b500-20146e07acd2</td><td>2022-03-13 18:32:36.000</td></tr></table>"
                    },
                    "metadata": {}
                }
            ],
            "execution_count": 137
        },
        {
            "cell_type": "markdown",
            "source": [
                "## Cleanup"
            ],
            "metadata": {
                "azdata_cell_guid": "48a260a2-f024-478a-8d6e-adc009251bff"
            },
            "attachments": {}
        },
        {
            "cell_type": "code",
            "source": [
                "DELETE SalesLT.SalesOrderHeader\r\n",
                "WHERE Comment = 'testingval'"
            ],
            "metadata": {
                "azdata_cell_guid": "7be82fb1-064f-432b-b1f9-08df887bbd9f"
            },
            "outputs": [
                {
                    "output_type": "display_data",
                    "data": {
                        "text/html": "(30 rows affected)"
                    },
                    "metadata": {}
                },
                {
                    "output_type": "display_data",
                    "data": {
                        "text/html": "Total execution time: 00:00:00.060"
                    },
                    "metadata": {}
                }
            ],
            "execution_count": 2
        },
        {
            "cell_type": "code",
            "source": [
                "ALTER TABLE SalesLT.SalesOrderHeader\r\n",
                "WITH CHECK CHECK CONSTRAINT ALL;\r\n",
                "GO  "
            ],
            "metadata": {
                "azdata_cell_guid": "c865a8f3-dfe4-43fd-9afa-0fe38d982446"
            },
            "outputs": [
                {
                    "output_type": "display_data",
                    "data": {
                        "text/html": "Commands completed successfully."
                    },
                    "metadata": {}
                },
                {
                    "output_type": "display_data",
                    "data": {
                        "text/html": "Total execution time: 00:00:00.072"
                    },
                    "metadata": {}
                }
            ],
            "execution_count": 3
        },
        {
            "cell_type": "code",
            "source": [
                "DROP TABLE SalesLT.OrdersToProcess"
            ],
            "metadata": {
                "azdata_cell_guid": "45c2c4fd-3711-4b2e-b3bd-7c715e8700c8"
            },
            "outputs": [
                {
                    "output_type": "display_data",
                    "data": {
                        "text/html": "Commands completed successfully."
                    },
                    "metadata": {}
                },
                {
                    "output_type": "display_data",
                    "data": {
                        "text/html": "Total execution time: 00:00:00.071"
                    },
                    "metadata": {}
                }
            ],
            "execution_count": 138
        }
    ]
}