{
    "metadata": {
        "kernelspec": {
            "name": "SQL",
            "display_name": "SQL",
            "language": "sql"
        },
        "language_info": {
            "name": "sql",
            "version": ""
        }
    },
    "nbformat_minor": 2,
    "nbformat": 4,
    "cells": [
        {
            "cell_type": "markdown",
            "source": [
                "**Zad 10**\n",
                "\n",
                "Utworzyć tabele M1(K INT, V VARCHAR(20)) oraz S1(K INT, MFK INT, V VARCHAR(20)), gdzie K jest kluczem głównym, a MFK jest kluczem obcym do tabeli M. Następnie utworzyć M2 oraz S2 z tą różnicą, że klucz główny M2 składa się z dwóch kolumn: K1 oraz K2, a S2 ma odpowiednio dopasowany klucz obcy. Dodać trochę danych i sprawdzić, że relacja klucza obcego istotnie działa. Ostatecznie, dodać klauzule ON UPDATE oraz ON DELETE i zademonstrować działanie relacji klucza obcego dla wartości NO ACTION, SET NULL oraz CASCADE."
            ],
            "metadata": {
                "azdata_cell_guid": "ee211389-090a-4c88-8cfe-86049fa4d76a"
            },
            "attachments": {}
        },
        {
            "cell_type": "markdown",
            "source": [
                "## Table creation"
            ],
            "metadata": {
                "azdata_cell_guid": "5d952e9b-7d20-4294-9eca-d99cf117d1a8"
            },
            "attachments": {}
        },
        {
            "cell_type": "code",
            "source": [
                "IF NOT EXISTS (SELECT * from sysobjects where name='M1' and xtype='U')\r\n",
                "    CREATE TABLE M1 (\r\n",
                "\t    K INT NOT NULL,\r\n",
                "\t    V VARCHAR(20),\r\n",
                "\t    PRIMARY KEY(K)\r\n",
                "    );\r\n",
                "GO\r\n",
                "\r\n",
                "IF NOT EXISTS (SELECT * from sysobjects where name='S1' and xtype='U')\r\n",
                "    CREATE TABLE S1 (\r\n",
                "\t    K INT NOT NULL,\r\n",
                "\t    MFK INT,\r\n",
                "\t    V VARCHAR(20),\r\n",
                "\t    PRIMARY KEY(K),\r\n",
                "\t    FOREIGN KEY (MFK) REFERENCES M1(K)\r\n",
                "    );\r\n",
                "GO"
            ],
            "metadata": {
                "azdata_cell_guid": "d2e14d94-a170-4efa-88d7-05befaf2a70e"
            },
            "outputs": [
                {
                    "output_type": "display_data",
                    "data": {
                        "text/html": "Commands completed successfully."
                    },
                    "metadata": {}
                },
                {
                    "output_type": "display_data",
                    "data": {
                        "text/html": "Commands completed successfully."
                    },
                    "metadata": {}
                },
                {
                    "output_type": "display_data",
                    "data": {
                        "text/html": "Total execution time: 00:00:00.157"
                    },
                    "metadata": {}
                }
            ],
            "execution_count": 32
        },
        {
            "cell_type": "code",
            "source": [
                "IF NOT EXISTS (SELECT * from sysobjects where name='M2' and xtype='U')\r\n",
                "    CREATE TABLE M2 (\r\n",
                "\t    K1 INT NOT NULL,\r\n",
                "\t    K2 INT NOT NULL,\r\n",
                "\t    V VARCHAR(20),\r\n",
                "\t    PRIMARY KEY(K1, K2)\r\n",
                "    );\r\n",
                "GO\r\n",
                "\r\n",
                "IF NOT EXISTS (SELECT * from sysobjects where name='S2' and xtype='U')\r\n",
                "    CREATE TABLE S2 (\r\n",
                "\t    K INT NOT NULL,\r\n",
                "\t    MFK1 INT,\r\n",
                "\t    MFK2 INT,\r\n",
                "\t    V VARCHAR(20),\r\n",
                "\t    PRIMARY KEY(K),\r\n",
                "\t    FOREIGN KEY (MFK1, MFK2) REFERENCES M2(K1, K2)\r\n",
                "    );\r\n",
                "GO"
            ],
            "metadata": {
                "azdata_cell_guid": "84235f86-040e-4dc5-9a00-8fc5c8627377"
            },
            "outputs": [
                {
                    "output_type": "display_data",
                    "data": {
                        "text/html": "Commands completed successfully."
                    },
                    "metadata": {}
                },
                {
                    "output_type": "display_data",
                    "data": {
                        "text/html": "Commands completed successfully."
                    },
                    "metadata": {}
                },
                {
                    "output_type": "display_data",
                    "data": {
                        "text/html": "Total execution time: 00:00:00.165"
                    },
                    "metadata": {}
                }
            ],
            "execution_count": 4
        },
        {
            "cell_type": "markdown",
            "source": [
                "### TESTS"
            ],
            "metadata": {
                "azdata_cell_guid": "a687c54f-90e4-48e3-81d0-8c5bd41bb3ca"
            },
            "attachments": {}
        },
        {
            "cell_type": "code",
            "source": [
                "INSERT INTO M1\r\n",
                "VALUES (2, 'abc'),\r\n",
                "       (3, 'def')\r\n",
                "\r\n",
                "SELECT * FROM M1"
            ],
            "metadata": {
                "azdata_cell_guid": "803f4f25-5ef4-421b-9ec9-ff4fc4e033e8"
            },
            "outputs": [
                {
                    "output_type": "display_data",
                    "data": {
                        "text/html": "(2 rows affected)"
                    },
                    "metadata": {}
                },
                {
                    "output_type": "display_data",
                    "data": {
                        "text/html": "(2 rows affected)"
                    },
                    "metadata": {}
                },
                {
                    "output_type": "display_data",
                    "data": {
                        "text/html": "Total execution time: 00:00:00.065"
                    },
                    "metadata": {}
                },
                {
                    "output_type": "execute_result",
                    "execution_count": 33,
                    "data": {
                        "application/vnd.dataresource+json": {
                            "schema": {
                                "fields": [
                                    {
                                        "name": "K"
                                    },
                                    {
                                        "name": "V"
                                    }
                                ]
                            },
                            "data": [
                                {
                                    "0": "2",
                                    "1": "abc"
                                },
                                {
                                    "0": "3",
                                    "1": "def"
                                }
                            ]
                        },
                        "text/html": "<table><tr><th>K</th><th>V</th></tr><tr><td>2</td><td>abc</td></tr><tr><td>3</td><td>def</td></tr></table>"
                    },
                    "metadata": {}
                }
            ],
            "execution_count": 33
        },
        {
            "cell_type": "code",
            "source": [
                "-- error -> no key 42 in M\r\n",
                "INSERT INTO S1\r\n",
                "VALUES (41, 42, 'a')"
            ],
            "metadata": {
                "azdata_cell_guid": "f9e7da5d-cffb-4413-829c-7657cb63562c",
                "tags": []
            },
            "outputs": [
                {
                    "output_type": "error",
                    "ename": "",
                    "evalue": "Msg 547, Level 16, State 0, Line 2\r\nThe INSERT statement conflicted with the FOREIGN KEY constraint \"FK__S1__MFK__5CA1C101\". The conflict occurred in database \"kpabd-test\", table \"dbo.M1\", column 'K'.",
                    "traceback": []
                },
                {
                    "output_type": "display_data",
                    "data": {
                        "text/html": "The statement has been terminated."
                    },
                    "metadata": {}
                },
                {
                    "output_type": "display_data",
                    "data": {
                        "text/html": "Total execution time: 00:00:00.058"
                    },
                    "metadata": {}
                }
            ],
            "execution_count": 34
        },
        {
            "cell_type": "code",
            "source": [
                "INSERT INTO S1\r\n",
                "VALUES (41, 3, 'a')\r\n",
                "\r\n",
                "SELECT * FROM S1"
            ],
            "metadata": {
                "azdata_cell_guid": "c3eb7cf3-1d90-4c9c-b26d-097fc83eadeb",
                "tags": []
            },
            "outputs": [
                {
                    "output_type": "display_data",
                    "data": {
                        "text/html": "(1 row affected)"
                    },
                    "metadata": {}
                },
                {
                    "output_type": "display_data",
                    "data": {
                        "text/html": "(1 row affected)"
                    },
                    "metadata": {}
                },
                {
                    "output_type": "display_data",
                    "data": {
                        "text/html": "Total execution time: 00:00:00.061"
                    },
                    "metadata": {}
                },
                {
                    "output_type": "execute_result",
                    "execution_count": 35,
                    "data": {
                        "application/vnd.dataresource+json": {
                            "schema": {
                                "fields": [
                                    {
                                        "name": "K"
                                    },
                                    {
                                        "name": "MFK"
                                    },
                                    {
                                        "name": "V"
                                    }
                                ]
                            },
                            "data": [
                                {
                                    "0": "41",
                                    "1": "3",
                                    "2": "a"
                                }
                            ]
                        },
                        "text/html": "<table><tr><th>K</th><th>MFK</th><th>V</th></tr><tr><td>41</td><td>3</td><td>a</td></tr></table>"
                    },
                    "metadata": {}
                }
            ],
            "execution_count": 35
        },
        {
            "cell_type": "code",
            "source": [
                "UPDATE M1\r\n",
                "SET K = 42\r\n",
                "WHERE K = 3"
            ],
            "metadata": {
                "azdata_cell_guid": "a425689f-4995-404e-95e0-81a76928d98b",
                "tags": []
            },
            "outputs": [
                {
                    "output_type": "error",
                    "ename": "",
                    "evalue": "Msg 547, Level 16, State 0, Line 1\r\nThe UPDATE statement conflicted with the REFERENCE constraint \"FK__S1__MFK__5224328E\". The conflict occurred in database \"kpabd-test\", table \"dbo.S1\", column 'MFK'.",
                    "traceback": []
                },
                {
                    "output_type": "display_data",
                    "data": {
                        "text/html": "The statement has been terminated."
                    },
                    "metadata": {}
                },
                {
                    "output_type": "display_data",
                    "data": {
                        "text/html": "Total execution time: 00:00:00.146"
                    },
                    "metadata": {}
                }
            ],
            "execution_count": 12
        },
        {
            "cell_type": "code",
            "source": [
                "INSERT INTO M2\r\n",
                "VALUES (2, 3, 'a'),\r\n",
                "       (4, 5, 'b'),\r\n",
                "       (4, 2, 'c')\r\n",
                "\r\n",
                "SELECT * FROM M2"
            ],
            "metadata": {
                "azdata_cell_guid": "0fb97ba2-99ad-4968-800e-d0b733da6d9d"
            },
            "outputs": [
                {
                    "output_type": "display_data",
                    "data": {
                        "text/html": "(3 rows affected)"
                    },
                    "metadata": {}
                },
                {
                    "output_type": "display_data",
                    "data": {
                        "text/html": "(3 rows affected)"
                    },
                    "metadata": {}
                },
                {
                    "output_type": "display_data",
                    "data": {
                        "text/html": "Total execution time: 00:00:00.077"
                    },
                    "metadata": {}
                },
                {
                    "output_type": "execute_result",
                    "execution_count": 14,
                    "data": {
                        "application/vnd.dataresource+json": {
                            "schema": {
                                "fields": [
                                    {
                                        "name": "K1"
                                    },
                                    {
                                        "name": "K2"
                                    },
                                    {
                                        "name": "V"
                                    }
                                ]
                            },
                            "data": [
                                {
                                    "0": "2",
                                    "1": "3",
                                    "2": "a"
                                },
                                {
                                    "0": "4",
                                    "1": "2",
                                    "2": "c"
                                },
                                {
                                    "0": "4",
                                    "1": "5",
                                    "2": "b"
                                }
                            ]
                        },
                        "text/html": "<table><tr><th>K1</th><th>K2</th><th>V</th></tr><tr><td>2</td><td>3</td><td>a</td></tr><tr><td>4</td><td>2</td><td>c</td></tr><tr><td>4</td><td>5</td><td>b</td></tr></table>"
                    },
                    "metadata": {}
                }
            ],
            "execution_count": 14
        },
        {
            "cell_type": "code",
            "source": [
                "INSERT INTO S2\r\n",
                "VALUES (42, 2, 3, 'd')\r\n",
                "\r\n",
                "SELECT * FROM S2"
            ],
            "metadata": {
                "azdata_cell_guid": "f1a88f7d-a586-48ac-9803-cb587b06a2ad",
                "tags": []
            },
            "outputs": [
                {
                    "output_type": "display_data",
                    "data": {
                        "text/html": "The statement has been terminated."
                    },
                    "metadata": {}
                },
                {
                    "output_type": "display_data",
                    "data": {
                        "text/html": "(1 row affected)"
                    },
                    "metadata": {}
                },
                {
                    "output_type": "display_data",
                    "data": {
                        "text/html": "Total execution time: 00:00:00.057"
                    },
                    "metadata": {}
                },
                {
                    "output_type": "execute_result",
                    "execution_count": 18,
                    "data": {
                        "application/vnd.dataresource+json": {
                            "schema": {
                                "fields": [
                                    {
                                        "name": "K"
                                    },
                                    {
                                        "name": "MFK1"
                                    },
                                    {
                                        "name": "MFK2"
                                    },
                                    {
                                        "name": "V"
                                    }
                                ]
                            },
                            "data": [
                                {
                                    "0": "42",
                                    "1": "2",
                                    "2": "3",
                                    "3": "d"
                                }
                            ]
                        },
                        "text/html": "<table><tr><th>K</th><th>MFK1</th><th>MFK2</th><th>V</th></tr><tr><td>42</td><td>2</td><td>3</td><td>d</td></tr></table>"
                    },
                    "metadata": {}
                },
                {
                    "output_type": "error",
                    "ename": "",
                    "evalue": "Msg 2627, Level 14, State 1, Line 1\r\nViolation of PRIMARY KEY constraint 'PK__S2__3BD019B08D91D1D3'. Cannot insert duplicate key in object 'dbo.S2'. The duplicate key value is (42).",
                    "traceback": []
                }
            ],
            "execution_count": 18
        },
        {
            "cell_type": "markdown",
            "source": [
                "### ON UPDATE\n",
                "\n",
                "default action -\\> RESTRICT (zmiana K w M1 jest niemożliwa jeśli odnosi się do jakiegoś wiersza w S1)\n",
                "\n",
                "NO ACTION -\\> DEFAULT\n",
                "\n",
                "SET NULL -\\> set child data to NULL when parent is UPDATED \n",
                "\n",
                "CASCADE -\\> update child data when parent is UPDATED \n",
                "\n",
                "SET DEFAULT -\\> set child data to default when parent is UPDATED"
            ],
            "metadata": {
                "azdata_cell_guid": "d31056e0-b8b5-4876-a17e-a4f10d438109"
            },
            "attachments": {}
        },
        {
            "cell_type": "code",
            "source": [
                "-- fails because of RESTRICT\r\n",
                "UPDATE M1\r\n",
                "SET K = 42\r\n",
                "WHERE K = 3"
            ],
            "metadata": {
                "azdata_cell_guid": "5d0dc005-237c-4cd2-a38e-34eb643062f6",
                "tags": []
            },
            "outputs": [
                {
                    "output_type": "display_data",
                    "data": {
                        "text/html": "(1 row affected)"
                    },
                    "metadata": {}
                },
                {
                    "output_type": "display_data",
                    "data": {
                        "text/html": "Total execution time: 00:00:00.064"
                    },
                    "metadata": {}
                }
            ],
            "execution_count": 58
        },
        {
            "cell_type": "code",
            "source": [
                "-- fails because of RESTRICT\r\n",
                "DELETE\r\n",
                "FROM M1\r\n",
                "WHERE K = 3\r\n",
                ""
            ],
            "metadata": {
                "azdata_cell_guid": "34d5a3ff-2f13-423c-a59c-bbeedeff5b08"
            },
            "outputs": [
                {
                    "output_type": "display_data",
                    "data": {
                        "text/html": "(1 row affected)"
                    },
                    "metadata": {}
                },
                {
                    "output_type": "display_data",
                    "data": {
                        "text/html": "Total execution time: 00:00:00.059"
                    },
                    "metadata": {}
                }
            ],
            "execution_count": 65
        },
        {
            "cell_type": "code",
            "source": [
                "ALTER TABLE S1 DROP CONSTRAINT MFK;\r\n",
                "ALTER TABLE S1 DROP CONSTRAINT MFK_2;"
            ],
            "metadata": {
                "azdata_cell_guid": "f9223d2f-7f26-4f97-8868-4c860272049e"
            },
            "outputs": [
                {
                    "output_type": "error",
                    "ename": "",
                    "evalue": "Msg 3728, Level 16, State 1, Line 2\r\n'MFK_2' is not a constraint.",
                    "traceback": []
                },
                {
                    "output_type": "error",
                    "ename": "",
                    "evalue": "Msg 3727, Level 16, State 0, Line 2\r\nCould not drop constraint. See previous errors.",
                    "traceback": []
                },
                {
                    "output_type": "display_data",
                    "data": {
                        "text/html": "Total execution time: 00:00:00.068"
                    },
                    "metadata": {}
                }
            ],
            "execution_count": 63
        },
        {
            "cell_type": "code",
            "source": [
                "ALTER TABLE S1\r\n",
                "ADD CONSTRAINT MFK FOREIGN KEY (MFK) REFERENCES M1(K)\r\n",
                "    ON UPDATE CASCADE"
            ],
            "metadata": {
                "azdata_cell_guid": "7dd16fb3-66c0-4ec3-924a-c32991de2099"
            },
            "outputs": [
                {
                    "output_type": "display_data",
                    "data": {
                        "text/html": "Commands completed successfully."
                    },
                    "metadata": {}
                },
                {
                    "output_type": "display_data",
                    "data": {
                        "text/html": "Total execution time: 00:00:00.064"
                    },
                    "metadata": {}
                }
            ],
            "execution_count": 57
        },
        {
            "cell_type": "code",
            "source": [
                "ALTER TABLE S1\r\n",
                "ADD CONSTRAINT MFK_2 FOREIGN KEY (MFK) REFERENCES M1(K)\r\n",
                "    ON DELETE CASCADE"
            ],
            "metadata": {
                "azdata_cell_guid": "1c9bc070-06bf-4ce3-8385-89621db5ca20"
            },
            "outputs": [
                {
                    "output_type": "display_data",
                    "data": {
                        "text/html": "Commands completed successfully."
                    },
                    "metadata": {}
                },
                {
                    "output_type": "display_data",
                    "data": {
                        "text/html": "Total execution time: 00:00:00.063"
                    },
                    "metadata": {}
                }
            ],
            "execution_count": 64
        },
        {
            "cell_type": "code",
            "source": [
                "SELECT * FROM M1"
            ],
            "metadata": {
                "azdata_cell_guid": "14a9c615-3940-4f35-9929-7ae033819239"
            },
            "outputs": [
                {
                    "output_type": "display_data",
                    "data": {
                        "text/html": "(1 row affected)"
                    },
                    "metadata": {}
                },
                {
                    "output_type": "display_data",
                    "data": {
                        "text/html": "Total execution time: 00:00:00.053"
                    },
                    "metadata": {}
                },
                {
                    "output_type": "execute_result",
                    "execution_count": 66,
                    "data": {
                        "application/vnd.dataresource+json": {
                            "schema": {
                                "fields": [
                                    {
                                        "name": "K"
                                    },
                                    {
                                        "name": "V"
                                    }
                                ]
                            },
                            "data": [
                                {
                                    "0": "2",
                                    "1": "abc"
                                }
                            ]
                        },
                        "text/html": "<table><tr><th>K</th><th>V</th></tr><tr><td>2</td><td>abc</td></tr></table>"
                    },
                    "metadata": {}
                }
            ],
            "execution_count": 66
        },
        {
            "cell_type": "code",
            "source": [
                "SELECT * FROM S1"
            ],
            "metadata": {
                "azdata_cell_guid": "1ad546e3-3227-4f8a-a415-eb7dd4001771"
            },
            "outputs": [
                {
                    "output_type": "display_data",
                    "data": {
                        "text/html": "(0 rows affected)"
                    },
                    "metadata": {}
                },
                {
                    "output_type": "display_data",
                    "data": {
                        "text/html": "Total execution time: 00:00:00.053"
                    },
                    "metadata": {}
                },
                {
                    "output_type": "execute_result",
                    "execution_count": 67,
                    "data": {
                        "application/vnd.dataresource+json": {
                            "schema": {
                                "fields": [
                                    {
                                        "name": "K"
                                    },
                                    {
                                        "name": "MFK"
                                    },
                                    {
                                        "name": "V"
                                    }
                                ]
                            },
                            "data": []
                        },
                        "text/html": "<table><tr><th>K</th><th>MFK</th><th>V</th></tr></table>"
                    },
                    "metadata": {}
                }
            ],
            "execution_count": 67
        },
        {
            "cell_type": "markdown",
            "source": [
                "## Cleanup"
            ],
            "metadata": {
                "azdata_cell_guid": "638e53b3-e9f0-42e2-aa7b-4507352ca36f"
            },
            "attachments": {}
        },
        {
            "cell_type": "code",
            "source": [
                "DROP TABLE IF EXISTS M1\r\n",
                "GO\r\n",
                "DROP TABLE IF EXISTS S1\r\n",
                "GO\r\n",
                "DROP TABLE IF EXISTS M2\r\n",
                "GO\r\n",
                "DROP TABLE IF EXISTS S2\r\n",
                "GO"
            ],
            "metadata": {
                "azdata_cell_guid": "977978b4-57f9-4c83-b772-8959b2dad1c0"
            },
            "outputs": [
                {
                    "output_type": "error",
                    "evalue": "Msg 3726, Level 16, State 1, Line 1\r\nCould not drop object 'M1' because it is referenced by a FOREIGN KEY constraint.",
                    "ename": "",
                    "traceback": []
                },
                {
                    "output_type": "display_data",
                    "data": {
                        "text/html": "Commands completed successfully."
                    },
                    "metadata": {}
                },
                {
                    "output_type": "display_data",
                    "data": {
                        "text/html": "Commands completed successfully."
                    },
                    "metadata": {}
                },
                {
                    "output_type": "display_data",
                    "data": {
                        "text/html": "Commands completed successfully."
                    },
                    "metadata": {}
                },
                {
                    "output_type": "display_data",
                    "data": {
                        "text/html": "Total execution time: 00:00:00.228"
                    },
                    "metadata": {}
                }
            ],
            "execution_count": 1
        }
    ]
}