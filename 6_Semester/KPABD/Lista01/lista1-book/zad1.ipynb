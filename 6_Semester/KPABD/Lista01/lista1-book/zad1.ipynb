{
    "metadata": {
        "kernelspec": {
            "name": "SQL",
            "display_name": "SQL",
            "language": "sql"
        },
        "language_info": {
            "name": "sql",
            "version": ""
        }
    },
    "nbformat_minor": 2,
    "nbformat": 4,
    "cells": [
        {
            "cell_type": "markdown",
            "source": [
                "**Zad 1**\n",
                "\n",
                "Utworzyć zapytanie, które na podstawie SalesOrderHeader.ShipToAddressID zwróci listę miast, do których towary zostały już dostarczone. Lista ma być posortowana i bez powtarzających się wartości. \n",
                "\n",
                "[https://dataedo.com/samples/html/AdventureWorks/doc/AdventureWorks\\_2/tables/Sales\\_SalesOrderHeader\\_185.html](https://dataedo.com/samples/html/AdventureWorks/doc/AdventureWorks_2/tables/Sales_SalesOrderHeader_185.html)\n",
                "\n",
                "status == 5 -\\> shipped"
            ],
            "metadata": {
                "azdata_cell_guid": "d87f047b-1351-4490-815b-37be48d63e2d"
            },
            "attachments": {}
        },
        {
            "cell_type": "code",
            "source": [
                "SELECT TOP 5 *\r\n",
                "FROM SalesLT.SalesOrderHeader"
            ],
            "metadata": {
                "azdata_cell_guid": "e9a0c595-dfd0-4267-89e6-b2e5ceb83f5e"
            },
            "outputs": [
                {
                    "output_type": "display_data",
                    "data": {
                        "text/html": "(5 rows affected)"
                    },
                    "metadata": {}
                },
                {
                    "output_type": "display_data",
                    "data": {
                        "text/html": "Total execution time: 00:00:00.107"
                    },
                    "metadata": {}
                },
                {
                    "output_type": "execute_result",
                    "metadata": {},
                    "execution_count": 2,
                    "data": {
                        "application/vnd.dataresource+json": {
                            "schema": {
                                "fields": [
                                    {
                                        "name": "SalesOrderID"
                                    },
                                    {
                                        "name": "RevisionNumber"
                                    },
                                    {
                                        "name": "OrderDate"
                                    },
                                    {
                                        "name": "DueDate"
                                    },
                                    {
                                        "name": "ShipDate"
                                    },
                                    {
                                        "name": "Status"
                                    },
                                    {
                                        "name": "OnlineOrderFlag"
                                    },
                                    {
                                        "name": "SalesOrderNumber"
                                    },
                                    {
                                        "name": "PurchaseOrderNumber"
                                    },
                                    {
                                        "name": "AccountNumber"
                                    },
                                    {
                                        "name": "CustomerID"
                                    },
                                    {
                                        "name": "ShipToAddressID"
                                    },
                                    {
                                        "name": "BillToAddressID"
                                    },
                                    {
                                        "name": "ShipMethod"
                                    },
                                    {
                                        "name": "CreditCardApprovalCode"
                                    },
                                    {
                                        "name": "SubTotal"
                                    },
                                    {
                                        "name": "TaxAmt"
                                    },
                                    {
                                        "name": "Freight"
                                    },
                                    {
                                        "name": "TotalDue"
                                    },
                                    {
                                        "name": "Comment"
                                    },
                                    {
                                        "name": "rowguid"
                                    },
                                    {
                                        "name": "ModifiedDate"
                                    }
                                ]
                            },
                            "data": [
                                {
                                    "0": "44",
                                    "1": "0",
                                    "2": "2022-03-13 19:07:36.680",
                                    "3": "2008-06-13 00:00:00.000",
                                    "4": "NULL",
                                    "5": "1",
                                    "6": "1",
                                    "7": "SO44",
                                    "8": "NULL",
                                    "9": "NULL",
                                    "10": "29847",
                                    "11": "NULL",
                                    "12": "NULL",
                                    "13": "CARGO METHOD 5",
                                    "14": "NULL",
                                    "15": "0,00",
                                    "16": "0,00",
                                    "17": "0,00",
                                    "18": "0,00",
                                    "19": "testingval",
                                    "20": "bfb9c8e6-cdd2-4f23-810e-68b2efdfee42",
                                    "21": "2022-03-13 19:07:36.680"
                                },
                                {
                                    "0": "71774",
                                    "1": "2",
                                    "2": "2008-06-01 00:00:00.000",
                                    "3": "2008-06-13 00:00:00.000",
                                    "4": "2008-06-08 00:00:00.000",
                                    "5": "5",
                                    "6": "0",
                                    "7": "SO71774",
                                    "8": "PO348186287",
                                    "9": "10-4020-000609",
                                    "10": "29847",
                                    "11": "1092",
                                    "12": "1092",
                                    "13": "CARGO TRANSPORT 5",
                                    "14": "NULL",
                                    "15": "880,3484",
                                    "16": "70,4279",
                                    "17": "22,0087",
                                    "18": "972,785",
                                    "19": "NULL",
                                    "20": "89e42cdc-8506-48a2-b89b-eb3e64e3554e",
                                    "21": "2008-06-08 00:00:00.000"
                                },
                                {
                                    "0": "71776",
                                    "1": "2",
                                    "2": "2008-06-01 00:00:00.000",
                                    "3": "2008-06-13 00:00:00.000",
                                    "4": "2008-06-08 00:00:00.000",
                                    "5": "5",
                                    "6": "0",
                                    "7": "SO71776",
                                    "8": "PO19952192051",
                                    "9": "10-4020-000106",
                                    "10": "30072",
                                    "11": "640",
                                    "12": "640",
                                    "13": "CARGO TRANSPORT 5",
                                    "14": "NULL",
                                    "15": "78,81",
                                    "16": "6,3048",
                                    "17": "1,9703",
                                    "18": "87,0851",
                                    "19": "NULL",
                                    "20": "8a3448c5-e677-4158-a29b-dd33069be0b0",
                                    "21": "2008-06-08 00:00:00.000"
                                },
                                {
                                    "0": "71780",
                                    "1": "2",
                                    "2": "2008-06-01 00:00:00.000",
                                    "3": "2008-06-13 00:00:00.000",
                                    "4": "2008-06-08 00:00:00.000",
                                    "5": "5",
                                    "6": "0",
                                    "7": "SO71780",
                                    "8": "PO19604173239",
                                    "9": "10-4020-000340",
                                    "10": "30113",
                                    "11": "653",
                                    "12": "653",
                                    "13": "CARGO TRANSPORT 5",
                                    "14": "NULL",
                                    "15": "38418,6895",
                                    "16": "3073,4952",
                                    "17": "960,4672",
                                    "18": "42452,6519",
                                    "19": "NULL",
                                    "20": "a47665d2-7ac9-4cf3-8a8b-2a3883554284",
                                    "21": "2008-06-08 00:00:00.000"
                                },
                                {
                                    "0": "71782",
                                    "1": "2",
                                    "2": "2008-06-01 00:00:00.000",
                                    "3": "2008-06-13 00:00:00.000",
                                    "4": "2008-06-08 00:00:00.000",
                                    "5": "5",
                                    "6": "0",
                                    "7": "SO71782",
                                    "8": "PO19372114749",
                                    "9": "10-4020-000582",
                                    "10": "29485",
                                    "11": "1086",
                                    "12": "1086",
                                    "13": "CARGO TRANSPORT 5",
                                    "14": "NULL",
                                    "15": "39785,3304",
                                    "16": "3182,8264",
                                    "17": "994,6333",
                                    "18": "43962,7901",
                                    "19": "NULL",
                                    "20": "f1be45a5-5c57-4a50-93c6-5f8be44cb7cb",
                                    "21": "2008-06-08 00:00:00.000"
                                }
                            ]
                        },
                        "text/html": [
                            "<table>",
                            "<tr><th>SalesOrderID</th><th>RevisionNumber</th><th>OrderDate</th><th>DueDate</th><th>ShipDate</th><th>Status</th><th>OnlineOrderFlag</th><th>SalesOrderNumber</th><th>PurchaseOrderNumber</th><th>AccountNumber</th><th>CustomerID</th><th>ShipToAddressID</th><th>BillToAddressID</th><th>ShipMethod</th><th>CreditCardApprovalCode</th><th>SubTotal</th><th>TaxAmt</th><th>Freight</th><th>TotalDue</th><th>Comment</th><th>rowguid</th><th>ModifiedDate</th></tr>",
                            "<tr><td>44</td><td>0</td><td>2022-03-13 19:07:36.680</td><td>2008-06-13 00:00:00.000</td><td>NULL</td><td>1</td><td>1</td><td>SO44</td><td>NULL</td><td>NULL</td><td>29847</td><td>NULL</td><td>NULL</td><td>CARGO METHOD 5</td><td>NULL</td><td>0,00</td><td>0,00</td><td>0,00</td><td>0,00</td><td>testingval</td><td>bfb9c8e6-cdd2-4f23-810e-68b2efdfee42</td><td>2022-03-13 19:07:36.680</td></tr>",
                            "<tr><td>71774</td><td>2</td><td>2008-06-01 00:00:00.000</td><td>2008-06-13 00:00:00.000</td><td>2008-06-08 00:00:00.000</td><td>5</td><td>0</td><td>SO71774</td><td>PO348186287</td><td>10-4020-000609</td><td>29847</td><td>1092</td><td>1092</td><td>CARGO TRANSPORT 5</td><td>NULL</td><td>880,3484</td><td>70,4279</td><td>22,0087</td><td>972,785</td><td>NULL</td><td>89e42cdc-8506-48a2-b89b-eb3e64e3554e</td><td>2008-06-08 00:00:00.000</td></tr>",
                            "<tr><td>71776</td><td>2</td><td>2008-06-01 00:00:00.000</td><td>2008-06-13 00:00:00.000</td><td>2008-06-08 00:00:00.000</td><td>5</td><td>0</td><td>SO71776</td><td>PO19952192051</td><td>10-4020-000106</td><td>30072</td><td>640</td><td>640</td><td>CARGO TRANSPORT 5</td><td>NULL</td><td>78,81</td><td>6,3048</td><td>1,9703</td><td>87,0851</td><td>NULL</td><td>8a3448c5-e677-4158-a29b-dd33069be0b0</td><td>2008-06-08 00:00:00.000</td></tr>",
                            "<tr><td>71780</td><td>2</td><td>2008-06-01 00:00:00.000</td><td>2008-06-13 00:00:00.000</td><td>2008-06-08 00:00:00.000</td><td>5</td><td>0</td><td>SO71780</td><td>PO19604173239</td><td>10-4020-000340</td><td>30113</td><td>653</td><td>653</td><td>CARGO TRANSPORT 5</td><td>NULL</td><td>38418,6895</td><td>3073,4952</td><td>960,4672</td><td>42452,6519</td><td>NULL</td><td>a47665d2-7ac9-4cf3-8a8b-2a3883554284</td><td>2008-06-08 00:00:00.000</td></tr>",
                            "<tr><td>71782</td><td>2</td><td>2008-06-01 00:00:00.000</td><td>2008-06-13 00:00:00.000</td><td>2008-06-08 00:00:00.000</td><td>5</td><td>0</td><td>SO71782</td><td>PO19372114749</td><td>10-4020-000582</td><td>29485</td><td>1086</td><td>1086</td><td>CARGO TRANSPORT 5</td><td>NULL</td><td>39785,3304</td><td>3182,8264</td><td>994,6333</td><td>43962,7901</td><td>NULL</td><td>f1be45a5-5c57-4a50-93c6-5f8be44cb7cb</td><td>2008-06-08 00:00:00.000</td></tr>",
                            "</table>"
                        ]
                    }
                }
            ],
            "execution_count": 2
        },
        {
            "cell_type": "markdown",
            "source": [
                "Check DB Schema -\\> ShipToAddressId == AddressID\n",
                "\n",
                "Distinct -\\> bez powtarzających, Order By -\\> sort"
            ],
            "metadata": {
                "azdata_cell_guid": "6f24eb13-3506-4deb-9671-294cce7caccb"
            },
            "attachments": {}
        },
        {
            "cell_type": "code",
            "source": [
                "SELECT DISTINCT SalesLT.Address.City\r\n",
                "FROM SalesLT.Address, SalesLT.SalesOrderHeader\r\n",
                "WHERE SalesLT.Address.AddressID = SalesLT.SalesOrderHeader.ShipToAddressID\r\n",
                "AND SalesLT.SalesOrderHeader.[Status] = 5\r\n",
                "ORDER BY SalesLT.Address.City DESC"
            ],
            "metadata": {
                "azdata_cell_guid": "b87b5c53-fc69-47e5-9648-6e15080b21e7"
            },
            "outputs": [
                {
                    "output_type": "display_data",
                    "data": {
                        "text/html": "(29 rows affected)"
                    },
                    "metadata": {}
                },
                {
                    "output_type": "display_data",
                    "data": {
                        "text/html": "Total execution time: 00:00:00.219"
                    },
                    "metadata": {}
                },
                {
                    "output_type": "execute_result",
                    "metadata": {},
                    "execution_count": 1,
                    "data": {
                        "application/vnd.dataresource+json": {
                            "schema": {
                                "fields": [
                                    {
                                        "name": "City"
                                    }
                                ]
                            },
                            "data": [
                                {
                                    "0": "Woolston"
                                },
                                {
                                    "0": "Wokingham"
                                },
                                {
                                    "0": "West Sussex"
                                },
                                {
                                    "0": "Van Nuys"
                                },
                                {
                                    "0": "Union City"
                                },
                                {
                                    "0": "Sherman Oaks"
                                },
                                {
                                    "0": "Santa Fe"
                                },
                                {
                                    "0": "Santa Ana"
                                },
                                {
                                    "0": "Sandy"
                                },
                                {
                                    "0": "Oxon"
                                },
                                {
                                    "0": "Oxnard"
                                },
                                {
                                    "0": "Milton Keynes"
                                },
                                {
                                    "0": "Maidenhead"
                                },
                                {
                                    "0": "London"
                                },
                                {
                                    "0": "Liverpool"
                                },
                                {
                                    "0": "Las Vegas"
                                },
                                {
                                    "0": "High Wycombe"
                                },
                                {
                                    "0": "Gloucestershire"
                                },
                                {
                                    "0": "Fullerton"
                                },
                                {
                                    "0": "Englewood"
                                },
                                {
                                    "0": "El Segundo"
                                },
                                {
                                    "0": "Daly City"
                                },
                                {
                                    "0": "Culver City"
                                },
                                {
                                    "0": "Cerritos"
                                },
                                {
                                    "0": "Cambridge"
                                },
                                {
                                    "0": "Camarillo"
                                },
                                {
                                    "0": "Auburn"
                                },
                                {
                                    "0": "Alhambra"
                                },
                                {
                                    "0": "Abingdon"
                                }
                            ]
                        },
                        "text/html": [
                            "<table>",
                            "<tr><th>City</th></tr>",
                            "<tr><td>Woolston</td></tr>",
                            "<tr><td>Wokingham</td></tr>",
                            "<tr><td>West Sussex</td></tr>",
                            "<tr><td>Van Nuys</td></tr>",
                            "<tr><td>Union City</td></tr>",
                            "<tr><td>Sherman Oaks</td></tr>",
                            "<tr><td>Santa Fe</td></tr>",
                            "<tr><td>Santa Ana</td></tr>",
                            "<tr><td>Sandy</td></tr>",
                            "<tr><td>Oxon</td></tr>",
                            "<tr><td>Oxnard</td></tr>",
                            "<tr><td>Milton Keynes</td></tr>",
                            "<tr><td>Maidenhead</td></tr>",
                            "<tr><td>London</td></tr>",
                            "<tr><td>Liverpool</td></tr>",
                            "<tr><td>Las Vegas</td></tr>",
                            "<tr><td>High Wycombe</td></tr>",
                            "<tr><td>Gloucestershire</td></tr>",
                            "<tr><td>Fullerton</td></tr>",
                            "<tr><td>Englewood</td></tr>",
                            "<tr><td>El Segundo</td></tr>",
                            "<tr><td>Daly City</td></tr>",
                            "<tr><td>Culver City</td></tr>",
                            "<tr><td>Cerritos</td></tr>",
                            "<tr><td>Cambridge</td></tr>",
                            "<tr><td>Camarillo</td></tr>",
                            "<tr><td>Auburn</td></tr>",
                            "<tr><td>Alhambra</td></tr>",
                            "<tr><td>Abingdon</td></tr>",
                            "</table>"
                        ]
                    }
                }
            ],
            "execution_count": 1
        }
    ]
}