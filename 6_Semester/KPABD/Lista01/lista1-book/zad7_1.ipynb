{
    "metadata": {
        "kernelspec": {
            "name": "SQL",
            "display_name": "SQL",
            "language": "sql"
        },
        "language_info": {
            "name": "sql",
            "version": ""
        }
    },
    "nbformat_minor": 2,
    "nbformat": 4,
    "cells": [
        {
            "cell_type": "markdown",
            "source": [
                "Uses separate connection"
            ],
            "metadata": {
                "azdata_cell_guid": "5ba5c95b-834c-4341-b45c-eb2c084aa45b"
            },
            "attachments": {}
        },
        {
            "cell_type": "code",
            "source": [
                "INSERT INTO TEST\r\n",
                "    VALUES ('a'), ('b'), ('c')"
            ],
            "metadata": {
                "azdata_cell_guid": "95a02817-64cd-4f40-9bd7-7f888afa0469"
            },
            "outputs": [
                {
                    "output_type": "display_data",
                    "data": {
                        "text/html": "(3 rows affected)"
                    },
                    "metadata": {}
                },
                {
                    "output_type": "display_data",
                    "data": {
                        "text/html": "Total execution time: 00:00:00.081"
                    },
                    "metadata": {}
                }
            ],
            "execution_count": 1
        }
    ]
}