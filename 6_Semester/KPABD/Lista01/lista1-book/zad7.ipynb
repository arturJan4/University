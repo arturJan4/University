{
    "metadata": {
        "kernelspec": {
            "name": "SQL",
            "display_name": "SQL",
            "language": "sql"
        },
        "language_info": {
            "name": "sql",
            "version": ""
        }
    },
    "nbformat_minor": 2,
    "nbformat": 4,
    "cells": [
        {
            "cell_type": "markdown",
            "source": [
                "**Zad 7**\n",
                "\n",
                "Utwórz tabelę Test z kolumną IDENTITY, gdzie identyfikatory mają się zaczynać od 1000 i przesuwać o 10. Zademonstruj różnicę pomiędzy @@IDENTITY i IDENT CURRENT."
            ],
            "metadata": {
                "azdata_cell_guid": "3671be64-08a4-4f07-a194-17363335421e"
            },
            "attachments": {}
        },
        {
            "cell_type": "markdown",
            "source": [
                "pole liczbowe z generatorem wartości\n",
                "\n",
                "@@IDENTITY -\\> ostatnio wygenerowany numer w ramach sesji\n",
                "\n",
                "SCOPE\\_IDENTITY -\\> obecny zakres w ramach sesji\n",
                "\n",
                "IDENT\\_CURRENT -\\> ostatnio wygenerowany numer w ramach WSZYSTKICH sesji i zasięgów (czyli np. robimy 2 połączenia i to zwróci z ostatniego)"
            ],
            "metadata": {
                "azdata_cell_guid": "fa29def6-eebe-46e0-8dbc-caf6c10ae780"
            },
            "attachments": {}
        },
        {
            "cell_type": "code",
            "source": [
                "IF NOT EXISTS (SELECT * from sysobjects where name='Test' and xtype='U')\r\n",
                "    CREATE TABLE Test\r\n",
                "    (\r\n",
                "        id_gen int IDENTITY(1000, 10),\r\n",
                "        name VARCHAR(30)\r\n",
                "    );\r\n",
                "GO"
            ],
            "metadata": {
                "azdata_cell_guid": "226ecefc-d35a-43cb-86db-4c040279cbca",
                "tags": []
            },
            "outputs": [
                {
                    "output_type": "display_data",
                    "data": {
                        "text/html": "Commands completed successfully."
                    },
                    "metadata": {}
                },
                {
                    "output_type": "display_data",
                    "data": {
                        "text/html": "Total execution time: 00:00:00.058"
                    },
                    "metadata": {}
                }
            ],
            "execution_count": 14
        },
        {
            "cell_type": "code",
            "source": [
                "INSERT INTO TEST\r\n",
                "    VALUES ('a'), ('b'), ('c')"
            ],
            "metadata": {
                "azdata_cell_guid": "706f43c1-fb12-44a6-b486-9acf205df25f"
            },
            "outputs": [
                {
                    "output_type": "display_data",
                    "data": {
                        "text/html": "(3 rows affected)"
                    },
                    "metadata": {}
                },
                {
                    "output_type": "display_data",
                    "data": {
                        "text/html": "Total execution time: 00:00:00.059"
                    },
                    "metadata": {}
                }
            ],
            "execution_count": 15
        },
        {
            "cell_type": "code",
            "source": [
                "SELECT * FROM Test"
            ],
            "metadata": {
                "azdata_cell_guid": "27df2456-243d-4bc6-965d-d1dba6f6428d"
            },
            "outputs": [
                {
                    "output_type": "display_data",
                    "data": {
                        "text/html": "(3 rows affected)"
                    },
                    "metadata": {}
                },
                {
                    "output_type": "display_data",
                    "data": {
                        "text/html": "Total execution time: 00:00:00.052"
                    },
                    "metadata": {}
                },
                {
                    "output_type": "execute_result",
                    "metadata": {},
                    "execution_count": 16,
                    "data": {
                        "application/vnd.dataresource+json": {
                            "schema": {
                                "fields": [
                                    {
                                        "name": "id_gen"
                                    },
                                    {
                                        "name": "name"
                                    }
                                ]
                            },
                            "data": [
                                {
                                    "0": "1000",
                                    "1": "a"
                                },
                                {
                                    "0": "1010",
                                    "1": "b"
                                },
                                {
                                    "0": "1020",
                                    "1": "c"
                                }
                            ]
                        },
                        "text/html": [
                            "<table>",
                            "<tr><th>id_gen</th><th>name</th></tr>",
                            "<tr><td>1000</td><td>a</td></tr>",
                            "<tr><td>1010</td><td>b</td></tr>",
                            "<tr><td>1020</td><td>c</td></tr>",
                            "</table>"
                        ]
                    }
                }
            ],
            "execution_count": 16
        },
        {
            "cell_type": "code",
            "source": [
                "SELECT @@IDENTITY"
            ],
            "metadata": {
                "azdata_cell_guid": "3f279eb1-be98-440f-b820-6bcd552e571c"
            },
            "outputs": [
                {
                    "output_type": "display_data",
                    "data": {
                        "text/html": "(1 row affected)"
                    },
                    "metadata": {}
                },
                {
                    "output_type": "display_data",
                    "data": {
                        "text/html": "Total execution time: 00:00:00.059"
                    },
                    "metadata": {}
                },
                {
                    "output_type": "execute_result",
                    "metadata": {},
                    "execution_count": 24,
                    "data": {
                        "application/vnd.dataresource+json": {
                            "schema": {
                                "fields": [
                                    {
                                        "name": "(No column name)"
                                    }
                                ]
                            },
                            "data": [
                                {
                                    "0": "1020"
                                }
                            ]
                        },
                        "text/html": [
                            "<table>",
                            "<tr><th>(No column name)</th></tr>",
                            "<tr><td>1020</td></tr>",
                            "</table>"
                        ]
                    }
                }
            ],
            "execution_count": 24
        },
        {
            "cell_type": "code",
            "source": [
                "SELECT IDENT_CURRENT('Test')"
            ],
            "metadata": {
                "azdata_cell_guid": "3903b98d-304a-4841-aeba-c275668431c9"
            },
            "outputs": [
                {
                    "output_type": "display_data",
                    "data": {
                        "text/html": "(1 row affected)"
                    },
                    "metadata": {}
                },
                {
                    "output_type": "display_data",
                    "data": {
                        "text/html": "Total execution time: 00:00:00.053"
                    },
                    "metadata": {}
                },
                {
                    "output_type": "execute_result",
                    "metadata": {},
                    "execution_count": 25,
                    "data": {
                        "application/vnd.dataresource+json": {
                            "schema": {
                                "fields": [
                                    {
                                        "name": "(No column name)"
                                    }
                                ]
                            },
                            "data": [
                                {
                                    "0": "1050"
                                }
                            ]
                        },
                        "text/html": [
                            "<table>",
                            "<tr><th>(No column name)</th></tr>",
                            "<tr><td>1050</td></tr>",
                            "</table>"
                        ]
                    }
                }
            ],
            "execution_count": 25
        },
        {
            "cell_type": "code",
            "source": [
                "DROP TABLE Test"
            ],
            "metadata": {
                "azdata_cell_guid": "7b298a69-b289-42fc-88ba-70abb8167846"
            },
            "outputs": [
                {
                    "output_type": "display_data",
                    "data": {
                        "text/html": "Commands completed successfully."
                    },
                    "metadata": {}
                },
                {
                    "output_type": "display_data",
                    "data": {
                        "text/html": "Total execution time: 00:00:00.062"
                    },
                    "metadata": {}
                }
            ],
            "execution_count": 12
        }
    ]
}