{
    "metadata": {
        "kernelspec": {
            "name": "SQL",
            "display_name": "SQL",
            "language": "sql"
        },
        "language_info": {
            "name": "sql",
            "version": ""
        }
    },
    "nbformat_minor": 2,
    "nbformat": 4,
    "cells": [
        {
            "cell_type": "markdown",
            "source": [
                "**Zad 8**  \n",
                "\n",
                "Zapoznać się z ograniczeniem (constraint) SalesOrderHeader.CK SalesOrderHeader ShipDate, zaprezentować instrukcję jego utworzenia. Spróbować dodać wiersz (lub zmodyfikować istniejący) naruszając to ograniczenie. Jaki będzie efekt? Następnie wyłączyć ogranicznie i spróbować ponownie. Na koniec włączyć ograniczenie i wylistować bieżące naruszenia."
            ],
            "metadata": {
                "azdata_cell_guid": "d8392d37-0005-45b2-8491-06cf9ec3bda2"
            },
            "attachments": {}
        },
        {
            "cell_type": "code",
            "source": [
                "exec sp_help \"SalesLT.SalesOrderHeader\""
            ],
            "metadata": {
                "azdata_cell_guid": "12985081-c08b-486f-8fa3-b00a5522bce5"
            },
            "outputs": [
                {
                    "output_type": "display_data",
                    "data": {
                        "text/html": " "
                    },
                    "metadata": {}
                },
                {
                    "output_type": "display_data",
                    "data": {
                        "text/html": " "
                    },
                    "metadata": {}
                },
                {
                    "output_type": "display_data",
                    "data": {
                        "text/html": " "
                    },
                    "metadata": {}
                },
                {
                    "output_type": "display_data",
                    "data": {
                        "text/html": " "
                    },
                    "metadata": {}
                },
                {
                    "output_type": "display_data",
                    "data": {
                        "text/html": " "
                    },
                    "metadata": {}
                },
                {
                    "output_type": "display_data",
                    "data": {
                        "text/html": " "
                    },
                    "metadata": {}
                },
                {
                    "output_type": "display_data",
                    "data": {
                        "text/html": " "
                    },
                    "metadata": {}
                },
                {
                    "output_type": "display_data",
                    "data": {
                        "text/html": " "
                    },
                    "metadata": {}
                },
                {
                    "output_type": "display_data",
                    "data": {
                        "text/html": "No views with schema binding reference table 'SalesLT.SalesOrderHeader'."
                    },
                    "metadata": {}
                },
                {
                    "output_type": "display_data",
                    "data": {
                        "text/html": "Total execution time: 00:00:00.106"
                    },
                    "metadata": {}
                },
                {
                    "output_type": "execute_result",
                    "metadata": {},
                    "execution_count": 12,
                    "data": {
                        "application/vnd.dataresource+json": {
                            "schema": {
                                "fields": [
                                    {
                                        "name": "Name"
                                    },
                                    {
                                        "name": "Owner"
                                    },
                                    {
                                        "name": "Type"
                                    },
                                    {
                                        "name": "Created_datetime"
                                    }
                                ]
                            },
                            "data": [
                                {
                                    "0": "SalesOrderHeader",
                                    "1": "dbo",
                                    "2": "user table",
                                    "3": "2022-03-07 12:23:11.100"
                                }
                            ]
                        },
                        "text/html": [
                            "<table>",
                            "<tr><th>Name</th><th>Owner</th><th>Type</th><th>Created_datetime</th></tr>",
                            "<tr><td>SalesOrderHeader</td><td>dbo</td><td>user table</td><td>2022-03-07 12:23:11.100</td></tr>",
                            "</table>"
                        ]
                    }
                },
                {
                    "output_type": "execute_result",
                    "metadata": {},
                    "execution_count": 12,
                    "data": {
                        "application/vnd.dataresource+json": {
                            "schema": {
                                "fields": [
                                    {
                                        "name": "Column_name"
                                    },
                                    {
                                        "name": "Type"
                                    },
                                    {
                                        "name": "Computed"
                                    },
                                    {
                                        "name": "Length"
                                    },
                                    {
                                        "name": "Prec"
                                    },
                                    {
                                        "name": "Scale"
                                    },
                                    {
                                        "name": "Nullable"
                                    },
                                    {
                                        "name": "TrimTrailingBlanks"
                                    },
                                    {
                                        "name": "FixedLenNullInSource"
                                    },
                                    {
                                        "name": "Collation"
                                    }
                                ]
                            },
                            "data": [
                                {
                                    "0": "SalesOrderID",
                                    "1": "int",
                                    "2": "no",
                                    "3": "4",
                                    "4": "10   ",
                                    "5": "0    ",
                                    "6": "no",
                                    "7": "(n/a)",
                                    "8": "(n/a)",
                                    "9": "NULL"
                                },
                                {
                                    "0": "RevisionNumber",
                                    "1": "tinyint",
                                    "2": "no",
                                    "3": "1",
                                    "4": "3    ",
                                    "5": "0    ",
                                    "6": "no",
                                    "7": "(n/a)",
                                    "8": "(n/a)",
                                    "9": "NULL"
                                },
                                {
                                    "0": "OrderDate",
                                    "1": "datetime",
                                    "2": "no",
                                    "3": "8",
                                    "4": "     ",
                                    "5": "     ",
                                    "6": "no",
                                    "7": "(n/a)",
                                    "8": "(n/a)",
                                    "9": "NULL"
                                },
                                {
                                    "0": "DueDate",
                                    "1": "datetime",
                                    "2": "no",
                                    "3": "8",
                                    "4": "     ",
                                    "5": "     ",
                                    "6": "no",
                                    "7": "(n/a)",
                                    "8": "(n/a)",
                                    "9": "NULL"
                                },
                                {
                                    "0": "ShipDate",
                                    "1": "datetime",
                                    "2": "no",
                                    "3": "8",
                                    "4": "     ",
                                    "5": "     ",
                                    "6": "yes",
                                    "7": "(n/a)",
                                    "8": "(n/a)",
                                    "9": "NULL"
                                },
                                {
                                    "0": "Status",
                                    "1": "tinyint",
                                    "2": "no",
                                    "3": "1",
                                    "4": "3    ",
                                    "5": "0    ",
                                    "6": "no",
                                    "7": "(n/a)",
                                    "8": "(n/a)",
                                    "9": "NULL"
                                },
                                {
                                    "0": "OnlineOrderFlag",
                                    "1": "Flag",
                                    "2": "no",
                                    "3": "1",
                                    "4": "     ",
                                    "5": "     ",
                                    "6": "no",
                                    "7": "(n/a)",
                                    "8": "(n/a)",
                                    "9": "NULL"
                                },
                                {
                                    "0": "SalesOrderNumber",
                                    "1": "nvarchar",
                                    "2": "yes",
                                    "3": "50",
                                    "4": "     ",
                                    "5": "     ",
                                    "6": "no",
                                    "7": "(n/a)",
                                    "8": "(n/a)",
                                    "9": "SQL_Latin1_General_CP1_CI_AS"
                                },
                                {
                                    "0": "PurchaseOrderNumber",
                                    "1": "OrderNumber",
                                    "2": "no",
                                    "3": "50",
                                    "4": "     ",
                                    "5": "     ",
                                    "6": "yes",
                                    "7": "(n/a)",
                                    "8": "(n/a)",
                                    "9": "SQL_Latin1_General_CP1_CI_AS"
                                },
                                {
                                    "0": "AccountNumber",
                                    "1": "AccountNumber",
                                    "2": "no",
                                    "3": "30",
                                    "4": "     ",
                                    "5": "     ",
                                    "6": "yes",
                                    "7": "(n/a)",
                                    "8": "(n/a)",
                                    "9": "SQL_Latin1_General_CP1_CI_AS"
                                },
                                {
                                    "0": "CustomerID",
                                    "1": "int",
                                    "2": "no",
                                    "3": "4",
                                    "4": "10   ",
                                    "5": "0    ",
                                    "6": "no",
                                    "7": "(n/a)",
                                    "8": "(n/a)",
                                    "9": "NULL"
                                },
                                {
                                    "0": "ShipToAddressID",
                                    "1": "int",
                                    "2": "no",
                                    "3": "4",
                                    "4": "10   ",
                                    "5": "0    ",
                                    "6": "yes",
                                    "7": "(n/a)",
                                    "8": "(n/a)",
                                    "9": "NULL"
                                },
                                {
                                    "0": "BillToAddressID",
                                    "1": "int",
                                    "2": "no",
                                    "3": "4",
                                    "4": "10   ",
                                    "5": "0    ",
                                    "6": "yes",
                                    "7": "(n/a)",
                                    "8": "(n/a)",
                                    "9": "NULL"
                                },
                                {
                                    "0": "ShipMethod",
                                    "1": "nvarchar",
                                    "2": "no",
                                    "3": "100",
                                    "4": "     ",
                                    "5": "     ",
                                    "6": "no",
                                    "7": "(n/a)",
                                    "8": "(n/a)",
                                    "9": "SQL_Latin1_General_CP1_CI_AS"
                                },
                                {
                                    "0": "CreditCardApprovalCode",
                                    "1": "varchar",
                                    "2": "no",
                                    "3": "15",
                                    "4": "     ",
                                    "5": "     ",
                                    "6": "yes",
                                    "7": "no",
                                    "8": "yes",
                                    "9": "SQL_Latin1_General_CP1_CI_AS"
                                },
                                {
                                    "0": "SubTotal",
                                    "1": "money",
                                    "2": "no",
                                    "3": "8",
                                    "4": "19   ",
                                    "5": "4    ",
                                    "6": "no",
                                    "7": "(n/a)",
                                    "8": "(n/a)",
                                    "9": "NULL"
                                },
                                {
                                    "0": "TaxAmt",
                                    "1": "money",
                                    "2": "no",
                                    "3": "8",
                                    "4": "19   ",
                                    "5": "4    ",
                                    "6": "no",
                                    "7": "(n/a)",
                                    "8": "(n/a)",
                                    "9": "NULL"
                                },
                                {
                                    "0": "Freight",
                                    "1": "money",
                                    "2": "no",
                                    "3": "8",
                                    "4": "19   ",
                                    "5": "4    ",
                                    "6": "no",
                                    "7": "(n/a)",
                                    "8": "(n/a)",
                                    "9": "NULL"
                                },
                                {
                                    "0": "TotalDue",
                                    "1": "money",
                                    "2": "yes",
                                    "3": "8",
                                    "4": "19   ",
                                    "5": "4    ",
                                    "6": "no",
                                    "7": "(n/a)",
                                    "8": "(n/a)",
                                    "9": "NULL"
                                },
                                {
                                    "0": "Comment",
                                    "1": "nvarchar",
                                    "2": "no",
                                    "3": "-1",
                                    "4": "     ",
                                    "5": "     ",
                                    "6": "yes",
                                    "7": "(n/a)",
                                    "8": "(n/a)",
                                    "9": "SQL_Latin1_General_CP1_CI_AS"
                                },
                                {
                                    "0": "rowguid",
                                    "1": "uniqueidentifier",
                                    "2": "no",
                                    "3": "16",
                                    "4": "     ",
                                    "5": "     ",
                                    "6": "no",
                                    "7": "(n/a)",
                                    "8": "(n/a)",
                                    "9": "NULL"
                                },
                                {
                                    "0": "ModifiedDate",
                                    "1": "datetime",
                                    "2": "no",
                                    "3": "8",
                                    "4": "     ",
                                    "5": "     ",
                                    "6": "no",
                                    "7": "(n/a)",
                                    "8": "(n/a)",
                                    "9": "NULL"
                                }
                            ]
                        },
                        "text/html": [
                            "<table>",
                            "<tr><th>Column_name</th><th>Type</th><th>Computed</th><th>Length</th><th>Prec</th><th>Scale</th><th>Nullable</th><th>TrimTrailingBlanks</th><th>FixedLenNullInSource</th><th>Collation</th></tr>",
                            "<tr><td>SalesOrderID</td><td>int</td><td>no</td><td>4</td><td>10   </td><td>0    </td><td>no</td><td>(n/a)</td><td>(n/a)</td><td>NULL</td></tr>",
                            "<tr><td>RevisionNumber</td><td>tinyint</td><td>no</td><td>1</td><td>3    </td><td>0    </td><td>no</td><td>(n/a)</td><td>(n/a)</td><td>NULL</td></tr>",
                            "<tr><td>OrderDate</td><td>datetime</td><td>no</td><td>8</td><td>     </td><td>     </td><td>no</td><td>(n/a)</td><td>(n/a)</td><td>NULL</td></tr>",
                            "<tr><td>DueDate</td><td>datetime</td><td>no</td><td>8</td><td>     </td><td>     </td><td>no</td><td>(n/a)</td><td>(n/a)</td><td>NULL</td></tr>",
                            "<tr><td>ShipDate</td><td>datetime</td><td>no</td><td>8</td><td>     </td><td>     </td><td>yes</td><td>(n/a)</td><td>(n/a)</td><td>NULL</td></tr>",
                            "<tr><td>Status</td><td>tinyint</td><td>no</td><td>1</td><td>3    </td><td>0    </td><td>no</td><td>(n/a)</td><td>(n/a)</td><td>NULL</td></tr>",
                            "<tr><td>OnlineOrderFlag</td><td>Flag</td><td>no</td><td>1</td><td>     </td><td>     </td><td>no</td><td>(n/a)</td><td>(n/a)</td><td>NULL</td></tr>",
                            "<tr><td>SalesOrderNumber</td><td>nvarchar</td><td>yes</td><td>50</td><td>     </td><td>     </td><td>no</td><td>(n/a)</td><td>(n/a)</td><td>SQL_Latin1_General_CP1_CI_AS</td></tr>",
                            "<tr><td>PurchaseOrderNumber</td><td>OrderNumber</td><td>no</td><td>50</td><td>     </td><td>     </td><td>yes</td><td>(n/a)</td><td>(n/a)</td><td>SQL_Latin1_General_CP1_CI_AS</td></tr>",
                            "<tr><td>AccountNumber</td><td>AccountNumber</td><td>no</td><td>30</td><td>     </td><td>     </td><td>yes</td><td>(n/a)</td><td>(n/a)</td><td>SQL_Latin1_General_CP1_CI_AS</td></tr>",
                            "<tr><td>CustomerID</td><td>int</td><td>no</td><td>4</td><td>10   </td><td>0    </td><td>no</td><td>(n/a)</td><td>(n/a)</td><td>NULL</td></tr>",
                            "<tr><td>ShipToAddressID</td><td>int</td><td>no</td><td>4</td><td>10   </td><td>0    </td><td>yes</td><td>(n/a)</td><td>(n/a)</td><td>NULL</td></tr>",
                            "<tr><td>BillToAddressID</td><td>int</td><td>no</td><td>4</td><td>10   </td><td>0    </td><td>yes</td><td>(n/a)</td><td>(n/a)</td><td>NULL</td></tr>",
                            "<tr><td>ShipMethod</td><td>nvarchar</td><td>no</td><td>100</td><td>     </td><td>     </td><td>no</td><td>(n/a)</td><td>(n/a)</td><td>SQL_Latin1_General_CP1_CI_AS</td></tr>",
                            "<tr><td>CreditCardApprovalCode</td><td>varchar</td><td>no</td><td>15</td><td>     </td><td>     </td><td>yes</td><td>no</td><td>yes</td><td>SQL_Latin1_General_CP1_CI_AS</td></tr>",
                            "<tr><td>SubTotal</td><td>money</td><td>no</td><td>8</td><td>19   </td><td>4    </td><td>no</td><td>(n/a)</td><td>(n/a)</td><td>NULL</td></tr>",
                            "<tr><td>TaxAmt</td><td>money</td><td>no</td><td>8</td><td>19   </td><td>4    </td><td>no</td><td>(n/a)</td><td>(n/a)</td><td>NULL</td></tr>",
                            "<tr><td>Freight</td><td>money</td><td>no</td><td>8</td><td>19   </td><td>4    </td><td>no</td><td>(n/a)</td><td>(n/a)</td><td>NULL</td></tr>",
                            "<tr><td>TotalDue</td><td>money</td><td>yes</td><td>8</td><td>19   </td><td>4    </td><td>no</td><td>(n/a)</td><td>(n/a)</td><td>NULL</td></tr>",
                            "<tr><td>Comment</td><td>nvarchar</td><td>no</td><td>-1</td><td>     </td><td>     </td><td>yes</td><td>(n/a)</td><td>(n/a)</td><td>SQL_Latin1_General_CP1_CI_AS</td></tr>",
                            "<tr><td>rowguid</td><td>uniqueidentifier</td><td>no</td><td>16</td><td>     </td><td>     </td><td>no</td><td>(n/a)</td><td>(n/a)</td><td>NULL</td></tr>",
                            "<tr><td>ModifiedDate</td><td>datetime</td><td>no</td><td>8</td><td>     </td><td>     </td><td>no</td><td>(n/a)</td><td>(n/a)</td><td>NULL</td></tr>",
                            "</table>"
                        ]
                    }
                },
                {
                    "output_type": "execute_result",
                    "metadata": {},
                    "execution_count": 12,
                    "data": {
                        "application/vnd.dataresource+json": {
                            "schema": {
                                "fields": [
                                    {
                                        "name": "Identity"
                                    },
                                    {
                                        "name": "Seed"
                                    },
                                    {
                                        "name": "Increment"
                                    },
                                    {
                                        "name": "Not For Replication"
                                    }
                                ]
                            },
                            "data": [
                                {
                                    "0": "No identity column defined.",
                                    "1": "NULL",
                                    "2": "NULL",
                                    "3": "NULL"
                                }
                            ]
                        },
                        "text/html": [
                            "<table>",
                            "<tr><th>Identity</th><th>Seed</th><th>Increment</th><th>Not For Replication</th></tr>",
                            "<tr><td>No identity column defined.</td><td>NULL</td><td>NULL</td><td>NULL</td></tr>",
                            "</table>"
                        ]
                    }
                },
                {
                    "output_type": "execute_result",
                    "metadata": {},
                    "execution_count": 12,
                    "data": {
                        "application/vnd.dataresource+json": {
                            "schema": {
                                "fields": [
                                    {
                                        "name": "RowGuidCol"
                                    }
                                ]
                            },
                            "data": [
                                {
                                    "0": "No rowguidcol column defined."
                                }
                            ]
                        },
                        "text/html": [
                            "<table>",
                            "<tr><th>RowGuidCol</th></tr>",
                            "<tr><td>No rowguidcol column defined.</td></tr>",
                            "</table>"
                        ]
                    }
                },
                {
                    "output_type": "execute_result",
                    "metadata": {},
                    "execution_count": 12,
                    "data": {
                        "application/vnd.dataresource+json": {
                            "schema": {
                                "fields": [
                                    {
                                        "name": "Data_located_on_filegroup"
                                    }
                                ]
                            },
                            "data": [
                                {
                                    "0": "PRIMARY"
                                }
                            ]
                        },
                        "text/html": [
                            "<table>",
                            "<tr><th>Data_located_on_filegroup</th></tr>",
                            "<tr><td>PRIMARY</td></tr>",
                            "</table>"
                        ]
                    }
                },
                {
                    "output_type": "execute_result",
                    "metadata": {},
                    "execution_count": 12,
                    "data": {
                        "application/vnd.dataresource+json": {
                            "schema": {
                                "fields": [
                                    {
                                        "name": "index_name"
                                    },
                                    {
                                        "name": "index_description"
                                    },
                                    {
                                        "name": "index_keys"
                                    }
                                ]
                            },
                            "data": [
                                {
                                    "0": "AK_SalesOrderHeader_rowguid",
                                    "1": "nonclustered, unique, unique key",
                                    "2": "rowguid"
                                },
                                {
                                    "0": "AK_SalesOrderHeader_SalesOrderNumber",
                                    "1": "nonclustered, unique, unique key",
                                    "2": "SalesOrderNumber"
                                },
                                {
                                    "0": "IX_SalesOrderHeader_CustomerID",
                                    "1": "nonclustered",
                                    "2": "CustomerID"
                                },
                                {
                                    "0": "PK_SalesOrderHeader_SalesOrderID",
                                    "1": "clustered, unique, primary key",
                                    "2": "SalesOrderID"
                                }
                            ]
                        },
                        "text/html": [
                            "<table>",
                            "<tr><th>index_name</th><th>index_description</th><th>index_keys</th></tr>",
                            "<tr><td>AK_SalesOrderHeader_rowguid</td><td>nonclustered, unique, unique key</td><td>rowguid</td></tr>",
                            "<tr><td>AK_SalesOrderHeader_SalesOrderNumber</td><td>nonclustered, unique, unique key</td><td>SalesOrderNumber</td></tr>",
                            "<tr><td>IX_SalesOrderHeader_CustomerID</td><td>nonclustered</td><td>CustomerID</td></tr>",
                            "<tr><td>PK_SalesOrderHeader_SalesOrderID</td><td>clustered, unique, primary key</td><td>SalesOrderID</td></tr>",
                            "</table>"
                        ]
                    }
                },
                {
                    "output_type": "execute_result",
                    "metadata": {},
                    "execution_count": 12,
                    "data": {
                        "application/vnd.dataresource+json": {
                            "schema": {
                                "fields": [
                                    {
                                        "name": "constraint_type"
                                    },
                                    {
                                        "name": "constraint_name"
                                    },
                                    {
                                        "name": "delete_action"
                                    },
                                    {
                                        "name": "update_action"
                                    },
                                    {
                                        "name": "status_enabled"
                                    },
                                    {
                                        "name": "status_for_replication"
                                    },
                                    {
                                        "name": "constraint_keys"
                                    }
                                ]
                            },
                            "data": [
                                {
                                    "0": "UNIQUE (non-clustered)",
                                    "1": "AK_SalesOrderHeader_rowguid",
                                    "2": "(n/a)",
                                    "3": "(n/a)",
                                    "4": "(n/a)",
                                    "5": "(n/a)",
                                    "6": "rowguid"
                                },
                                {
                                    "0": "UNIQUE (non-clustered)",
                                    "1": "AK_SalesOrderHeader_SalesOrderNumber",
                                    "2": "(n/a)",
                                    "3": "(n/a)",
                                    "4": "(n/a)",
                                    "5": "(n/a)",
                                    "6": "SalesOrderNumber"
                                },
                                {
                                    "0": "CHECK Table Level ",
                                    "1": "CK_SalesOrderHeader_DueDate",
                                    "2": "(n/a)",
                                    "3": "(n/a)",
                                    "4": "Enabled",
                                    "5": "Is_For_Replication",
                                    "6": "([DueDate]>=[OrderDate])"
                                },
                                {
                                    "0": "CHECK on column Freight",
                                    "1": "CK_SalesOrderHeader_Freight",
                                    "2": "(n/a)",
                                    "3": "(n/a)",
                                    "4": "Enabled",
                                    "5": "Is_For_Replication",
                                    "6": "([Freight]>=(0.00))"
                                },
                                {
                                    "0": "CHECK Table Level ",
                                    "1": "CK_SalesOrderHeader_ShipDate",
                                    "2": "(n/a)",
                                    "3": "(n/a)",
                                    "4": "Enabled",
                                    "5": "Is_For_Replication",
                                    "6": "([ShipDate]>=[OrderDate] OR [ShipDate] IS NULL)"
                                },
                                {
                                    "0": "CHECK on column Status",
                                    "1": "CK_SalesOrderHeader_Status",
                                    "2": "(n/a)",
                                    "3": "(n/a)",
                                    "4": "Enabled",
                                    "5": "Is_For_Replication",
                                    "6": "([Status]>=(0) AND [Status]<=(8))"
                                },
                                {
                                    "0": "CHECK on column SubTotal",
                                    "1": "CK_SalesOrderHeader_SubTotal",
                                    "2": "(n/a)",
                                    "3": "(n/a)",
                                    "4": "Enabled",
                                    "5": "Is_For_Replication",
                                    "6": "([SubTotal]>=(0.00))"
                                },
                                {
                                    "0": "CHECK on column TaxAmt",
                                    "1": "CK_SalesOrderHeader_TaxAmt",
                                    "2": "(n/a)",
                                    "3": "(n/a)",
                                    "4": "Enabled",
                                    "5": "Is_For_Replication",
                                    "6": "([TaxAmt]>=(0.00))"
                                },
                                {
                                    "0": "DEFAULT on column Freight",
                                    "1": "DF_SalesOrderHeader_Freight",
                                    "2": "(n/a)",
                                    "3": "(n/a)",
                                    "4": "(n/a)",
                                    "5": "(n/a)",
                                    "6": "((0.00))"
                                },
                                {
                                    "0": "DEFAULT on column ModifiedDate",
                                    "1": "DF_SalesOrderHeader_ModifiedDate",
                                    "2": "(n/a)",
                                    "3": "(n/a)",
                                    "4": "(n/a)",
                                    "5": "(n/a)",
                                    "6": "(getdate())"
                                },
                                {
                                    "0": "DEFAULT on column OnlineOrderFlag",
                                    "1": "DF_SalesOrderHeader_OnlineOrderFlag",
                                    "2": "(n/a)",
                                    "3": "(n/a)",
                                    "4": "(n/a)",
                                    "5": "(n/a)",
                                    "6": "((1))"
                                },
                                {
                                    "0": "DEFAULT on column OrderDate",
                                    "1": "DF_SalesOrderHeader_OrderDate",
                                    "2": "(n/a)",
                                    "3": "(n/a)",
                                    "4": "(n/a)",
                                    "5": "(n/a)",
                                    "6": "(getdate())"
                                },
                                {
                                    "0": "DEFAULT on column SalesOrderID",
                                    "1": "DF_SalesOrderHeader_OrderID",
                                    "2": "(n/a)",
                                    "3": "(n/a)",
                                    "4": "(n/a)",
                                    "5": "(n/a)",
                                    "6": "(NEXT VALUE FOR [SalesLT].[SalesOrderNumber])"
                                },
                                {
                                    "0": "DEFAULT on column RevisionNumber",
                                    "1": "DF_SalesOrderHeader_RevisionNumber",
                                    "2": "(n/a)",
                                    "3": "(n/a)",
                                    "4": "(n/a)",
                                    "5": "(n/a)",
                                    "6": "((0))"
                                },
                                {
                                    "0": "DEFAULT on column rowguid",
                                    "1": "DF_SalesOrderHeader_rowguid",
                                    "2": "(n/a)",
                                    "3": "(n/a)",
                                    "4": "(n/a)",
                                    "5": "(n/a)",
                                    "6": "(newid())"
                                },
                                {
                                    "0": "DEFAULT on column Status",
                                    "1": "DF_SalesOrderHeader_Status",
                                    "2": "(n/a)",
                                    "3": "(n/a)",
                                    "4": "(n/a)",
                                    "5": "(n/a)",
                                    "6": "((1))"
                                },
                                {
                                    "0": "DEFAULT on column SubTotal",
                                    "1": "DF_SalesOrderHeader_SubTotal",
                                    "2": "(n/a)",
                                    "3": "(n/a)",
                                    "4": "(n/a)",
                                    "5": "(n/a)",
                                    "6": "((0.00))"
                                },
                                {
                                    "0": "DEFAULT on column TaxAmt",
                                    "1": "DF_SalesOrderHeader_TaxAmt",
                                    "2": "(n/a)",
                                    "3": "(n/a)",
                                    "4": "(n/a)",
                                    "5": "(n/a)",
                                    "6": "((0.00))"
                                },
                                {
                                    "0": "FOREIGN KEY",
                                    "1": "FK_SalesOrderHeader_Address_BillTo_AddressID",
                                    "2": "No Action",
                                    "3": "No Action",
                                    "4": "Enabled",
                                    "5": "Is_For_Replication",
                                    "6": "BillToAddressID"
                                },
                                {
                                    "0": " ",
                                    "1": " ",
                                    "2": " ",
                                    "3": " ",
                                    "4": " ",
                                    "5": " ",
                                    "6": "REFERENCES kpabd-test.SalesLT.Address (AddressID)"
                                },
                                {
                                    "0": "FOREIGN KEY",
                                    "1": "FK_SalesOrderHeader_Address_ShipTo_AddressID",
                                    "2": "No Action",
                                    "3": "No Action",
                                    "4": "Enabled",
                                    "5": "Is_For_Replication",
                                    "6": "ShipToAddressID"
                                },
                                {
                                    "0": " ",
                                    "1": " ",
                                    "2": " ",
                                    "3": " ",
                                    "4": " ",
                                    "5": " ",
                                    "6": "REFERENCES kpabd-test.SalesLT.Address (AddressID)"
                                },
                                {
                                    "0": "FOREIGN KEY",
                                    "1": "FK_SalesOrderHeader_Customer_CustomerID",
                                    "2": "No Action",
                                    "3": "No Action",
                                    "4": "Enabled",
                                    "5": "Is_For_Replication",
                                    "6": "CustomerID"
                                },
                                {
                                    "0": " ",
                                    "1": " ",
                                    "2": " ",
                                    "3": " ",
                                    "4": " ",
                                    "5": " ",
                                    "6": "REFERENCES kpabd-test.SalesLT.Customer (CustomerID)"
                                },
                                {
                                    "0": "PRIMARY KEY (clustered)",
                                    "1": "PK_SalesOrderHeader_SalesOrderID",
                                    "2": "(n/a)",
                                    "3": "(n/a)",
                                    "4": "(n/a)",
                                    "5": "(n/a)",
                                    "6": "SalesOrderID"
                                }
                            ]
                        },
                        "text/html": [
                            "<table>",
                            "<tr><th>constraint_type</th><th>constraint_name</th><th>delete_action</th><th>update_action</th><th>status_enabled</th><th>status_for_replication</th><th>constraint_keys</th></tr>",
                            "<tr><td>UNIQUE (non-clustered)</td><td>AK_SalesOrderHeader_rowguid</td><td>(n/a)</td><td>(n/a)</td><td>(n/a)</td><td>(n/a)</td><td>rowguid</td></tr>",
                            "<tr><td>UNIQUE (non-clustered)</td><td>AK_SalesOrderHeader_SalesOrderNumber</td><td>(n/a)</td><td>(n/a)</td><td>(n/a)</td><td>(n/a)</td><td>SalesOrderNumber</td></tr>",
                            "<tr><td>CHECK Table Level </td><td>CK_SalesOrderHeader_DueDate</td><td>(n/a)</td><td>(n/a)</td><td>Enabled</td><td>Is_For_Replication</td><td>([DueDate]&gt;=[OrderDate])</td></tr>",
                            "<tr><td>CHECK on column Freight</td><td>CK_SalesOrderHeader_Freight</td><td>(n/a)</td><td>(n/a)</td><td>Enabled</td><td>Is_For_Replication</td><td>([Freight]&gt;=(0.00))</td></tr>",
                            "<tr><td>CHECK Table Level </td><td>CK_SalesOrderHeader_ShipDate</td><td>(n/a)</td><td>(n/a)</td><td>Enabled</td><td>Is_For_Replication</td><td>([ShipDate]&gt;=[OrderDate] OR [ShipDate] IS NULL)</td></tr>",
                            "<tr><td>CHECK on column Status</td><td>CK_SalesOrderHeader_Status</td><td>(n/a)</td><td>(n/a)</td><td>Enabled</td><td>Is_For_Replication</td><td>([Status]&gt;=(0) AND [Status]&lt;=(8))</td></tr>",
                            "<tr><td>CHECK on column SubTotal</td><td>CK_SalesOrderHeader_SubTotal</td><td>(n/a)</td><td>(n/a)</td><td>Enabled</td><td>Is_For_Replication</td><td>([SubTotal]&gt;=(0.00))</td></tr>",
                            "<tr><td>CHECK on column TaxAmt</td><td>CK_SalesOrderHeader_TaxAmt</td><td>(n/a)</td><td>(n/a)</td><td>Enabled</td><td>Is_For_Replication</td><td>([TaxAmt]&gt;=(0.00))</td></tr>",
                            "<tr><td>DEFAULT on column Freight</td><td>DF_SalesOrderHeader_Freight</td><td>(n/a)</td><td>(n/a)</td><td>(n/a)</td><td>(n/a)</td><td>((0.00))</td></tr>",
                            "<tr><td>DEFAULT on column ModifiedDate</td><td>DF_SalesOrderHeader_ModifiedDate</td><td>(n/a)</td><td>(n/a)</td><td>(n/a)</td><td>(n/a)</td><td>(getdate())</td></tr>",
                            "<tr><td>DEFAULT on column OnlineOrderFlag</td><td>DF_SalesOrderHeader_OnlineOrderFlag</td><td>(n/a)</td><td>(n/a)</td><td>(n/a)</td><td>(n/a)</td><td>((1))</td></tr>",
                            "<tr><td>DEFAULT on column OrderDate</td><td>DF_SalesOrderHeader_OrderDate</td><td>(n/a)</td><td>(n/a)</td><td>(n/a)</td><td>(n/a)</td><td>(getdate())</td></tr>",
                            "<tr><td>DEFAULT on column SalesOrderID</td><td>DF_SalesOrderHeader_OrderID</td><td>(n/a)</td><td>(n/a)</td><td>(n/a)</td><td>(n/a)</td><td>(NEXT VALUE FOR [SalesLT].[SalesOrderNumber])</td></tr>",
                            "<tr><td>DEFAULT on column RevisionNumber</td><td>DF_SalesOrderHeader_RevisionNumber</td><td>(n/a)</td><td>(n/a)</td><td>(n/a)</td><td>(n/a)</td><td>((0))</td></tr>",
                            "<tr><td>DEFAULT on column rowguid</td><td>DF_SalesOrderHeader_rowguid</td><td>(n/a)</td><td>(n/a)</td><td>(n/a)</td><td>(n/a)</td><td>(newid())</td></tr>",
                            "<tr><td>DEFAULT on column Status</td><td>DF_SalesOrderHeader_Status</td><td>(n/a)</td><td>(n/a)</td><td>(n/a)</td><td>(n/a)</td><td>((1))</td></tr>",
                            "<tr><td>DEFAULT on column SubTotal</td><td>DF_SalesOrderHeader_SubTotal</td><td>(n/a)</td><td>(n/a)</td><td>(n/a)</td><td>(n/a)</td><td>((0.00))</td></tr>",
                            "<tr><td>DEFAULT on column TaxAmt</td><td>DF_SalesOrderHeader_TaxAmt</td><td>(n/a)</td><td>(n/a)</td><td>(n/a)</td><td>(n/a)</td><td>((0.00))</td></tr>",
                            "<tr><td>FOREIGN KEY</td><td>FK_SalesOrderHeader_Address_BillTo_AddressID</td><td>No Action</td><td>No Action</td><td>Enabled</td><td>Is_For_Replication</td><td>BillToAddressID</td></tr>",
                            "<tr><td> </td><td> </td><td> </td><td> </td><td> </td><td> </td><td>REFERENCES kpabd-test.SalesLT.Address (AddressID)</td></tr>",
                            "<tr><td>FOREIGN KEY</td><td>FK_SalesOrderHeader_Address_ShipTo_AddressID</td><td>No Action</td><td>No Action</td><td>Enabled</td><td>Is_For_Replication</td><td>ShipToAddressID</td></tr>",
                            "<tr><td> </td><td> </td><td> </td><td> </td><td> </td><td> </td><td>REFERENCES kpabd-test.SalesLT.Address (AddressID)</td></tr>",
                            "<tr><td>FOREIGN KEY</td><td>FK_SalesOrderHeader_Customer_CustomerID</td><td>No Action</td><td>No Action</td><td>Enabled</td><td>Is_For_Replication</td><td>CustomerID</td></tr>",
                            "<tr><td> </td><td> </td><td> </td><td> </td><td> </td><td> </td><td>REFERENCES kpabd-test.SalesLT.Customer (CustomerID)</td></tr>",
                            "<tr><td>PRIMARY KEY (clustered)</td><td>PK_SalesOrderHeader_SalesOrderID</td><td>(n/a)</td><td>(n/a)</td><td>(n/a)</td><td>(n/a)</td><td>SalesOrderID</td></tr>",
                            "</table>"
                        ]
                    }
                },
                {
                    "output_type": "execute_result",
                    "metadata": {},
                    "execution_count": 12,
                    "data": {
                        "application/vnd.dataresource+json": {
                            "schema": {
                                "fields": [
                                    {
                                        "name": "Table is referenced by foreign key"
                                    }
                                ]
                            },
                            "data": [
                                {
                                    "0": "kpabd-test.SalesLT.SalesOrderDetail: FK_SalesOrderDetail_SalesOrderHeader_SalesOrderID"
                                }
                            ]
                        },
                        "text/html": [
                            "<table>",
                            "<tr><th>Table is referenced by foreign key</th></tr>",
                            "<tr><td>kpabd-test.SalesLT.SalesOrderDetail: FK_SalesOrderDetail_SalesOrderHeader_SalesOrderID</td></tr>",
                            "</table>"
                        ]
                    }
                }
            ],
            "execution_count": 12
        },
        {
            "cell_type": "code",
            "source": [
                "SELECT * FROM INFORMATION_SCHEMA.TABLE_CONSTRAINTS \r\n",
                "    WHERE CONSTRAINT_NAME = 'CK_SalesOrderHeader_ShipDate'"
            ],
            "metadata": {
                "azdata_cell_guid": "ce09245b-5bff-40d2-8c3e-d5f2ff7807bc"
            },
            "outputs": [
                {
                    "output_type": "display_data",
                    "data": {
                        "text/html": "(1 row affected)"
                    },
                    "metadata": {}
                },
                {
                    "output_type": "display_data",
                    "data": {
                        "text/html": "Total execution time: 00:00:00.072"
                    },
                    "metadata": {}
                },
                {
                    "output_type": "execute_result",
                    "metadata": {},
                    "execution_count": 8,
                    "data": {
                        "application/vnd.dataresource+json": {
                            "schema": {
                                "fields": [
                                    {
                                        "name": "CONSTRAINT_CATALOG"
                                    },
                                    {
                                        "name": "CONSTRAINT_SCHEMA"
                                    },
                                    {
                                        "name": "CONSTRAINT_NAME"
                                    },
                                    {
                                        "name": "TABLE_CATALOG"
                                    },
                                    {
                                        "name": "TABLE_SCHEMA"
                                    },
                                    {
                                        "name": "TABLE_NAME"
                                    },
                                    {
                                        "name": "CONSTRAINT_TYPE"
                                    },
                                    {
                                        "name": "IS_DEFERRABLE"
                                    },
                                    {
                                        "name": "INITIALLY_DEFERRED"
                                    }
                                ]
                            },
                            "data": [
                                {
                                    "0": "kpabd-test",
                                    "1": "SalesLT",
                                    "2": "CK_SalesOrderHeader_ShipDate",
                                    "3": "kpabd-test",
                                    "4": "SalesLT",
                                    "5": "SalesOrderHeader",
                                    "6": "CHECK",
                                    "7": "NO",
                                    "8": "NO"
                                }
                            ]
                        },
                        "text/html": [
                            "<table>",
                            "<tr><th>CONSTRAINT_CATALOG</th><th>CONSTRAINT_SCHEMA</th><th>CONSTRAINT_NAME</th><th>TABLE_CATALOG</th><th>TABLE_SCHEMA</th><th>TABLE_NAME</th><th>CONSTRAINT_TYPE</th><th>IS_DEFERRABLE</th><th>INITIALLY_DEFERRED</th></tr>",
                            "<tr><td>kpabd-test</td><td>SalesLT</td><td>CK_SalesOrderHeader_ShipDate</td><td>kpabd-test</td><td>SalesLT</td><td>SalesOrderHeader</td><td>CHECK</td><td>NO</td><td>NO</td></tr>",
                            "</table>"
                        ]
                    }
                }
            ],
            "execution_count": 8
        },
        {
            "cell_type": "markdown",
            "source": [
                "<span class=\"sqlkeywordcolor\" style=\"box-sizing: inherit; color: mediumblue; font-family: Consolas, Menlo, &quot;courier new&quot;, monospace; font-size: 15px; background-color: rgb(255, 255, 255);\">CONSTRAINT&nbsp;</span> <span style=\"color: rgb(0, 0, 0); font-family: Consolas, Menlo, &quot;courier new&quot;, monospace; font-size: 15px; background-color: rgb(255, 255, 255);\">CK_SalesOrderHeader_ShipDate&nbsp;</span> <span class=\"sqlkeywordcolor\" style=\"box-sizing: inherit; color: mediumblue; font-family: Consolas, Menlo, &quot;courier new&quot;, monospace; font-size: 15px; background-color: rgb(255, 255, 255);\">CHECK</span> <span style=\"color: rgb(0, 0, 0); font-family: Consolas, Menlo, &quot;courier new&quot;, monospace; font-size: 15px; background-color: rgb(255, 255, 255);\">&nbsp;([ShipDate] &gt;= [OrderDate]</span> <span style=\"font-size: 15px; background-color: rgb(255, 255, 255);\">OR</span>  <span style=\"color: rgb(0, 0, 0); font-family: Consolas, Menlo, &quot;courier new&quot;, monospace; font-size: 15px; background-color: rgb(255, 255, 255);\">&nbsp;[ShipDate]</span> <span class=\"sqlstringcolor\" style=\"box-sizing: inherit; font-family: Consolas, Menlo, &quot;courier new&quot;, monospace; font-size: 15px; background-color: rgb(255, 255, 255);\"><font color=\"#0000cd\">IS NULL</font></span><span style=\"background-color: rgb(255, 255, 255); color: rgb(0, 0, 0); font-family: Consolas, Menlo, &quot;courier new&quot;, monospace; font-size: 15px;\">)</span>"
            ],
            "metadata": {
                "azdata_cell_guid": "d193ac96-4d64-4036-9db2-b89ee9b6d4ac"
            },
            "attachments": {}
        },
        {
            "cell_type": "code",
            "source": [
                "DELETE FROM SalesLT.SalesOrderHeader\r\n",
                "WHERE Comment = 'testingval'"
            ],
            "metadata": {
                "azdata_cell_guid": "90ae4e75-26be-4060-8537-a2b6b4c61f38"
            },
            "outputs": [
                {
                    "output_type": "display_data",
                    "data": {
                        "text/html": "(1 row affected)"
                    },
                    "metadata": {}
                },
                {
                    "output_type": "display_data",
                    "data": {
                        "text/html": "Total execution time: 00:00:00.064"
                    },
                    "metadata": {}
                }
            ],
            "execution_count": 5
        },
        {
            "cell_type": "code",
            "source": [
                "INSERT INTO SalesLT.SalesOrderHeader(DueDate, ShipDate, Comment, CustomerID, ShipMethod)\r\n",
                "VALUES\r\n",
                "    ('2008-06-13 00:00:00.000', NULL, 'testingval', 29847, 'CARGO METHOD 5')"
            ],
            "metadata": {
                "azdata_cell_guid": "70378c91-dc81-4b56-a8cc-3f2fa2e89573"
            },
            "outputs": [
                {
                    "output_type": "error",
                    "evalue": "Msg 547, Level 16, State 0, Line 1\r\nThe INSERT statement conflicted with the CHECK constraint \"CK_SalesOrderHeader_DueDate\". The conflict occurred in database \"kpabd-test\", table \"SalesLT.SalesOrderHeader\".",
                    "ename": "",
                    "traceback": []
                },
                {
                    "output_type": "display_data",
                    "data": {
                        "text/html": "The statement has been terminated."
                    },
                    "metadata": {}
                },
                {
                    "output_type": "display_data",
                    "data": {
                        "text/html": "Total execution time: 00:00:00.076"
                    },
                    "metadata": {}
                }
            ],
            "execution_count": 9
        },
        {
            "cell_type": "code",
            "source": [
                " -- specific constraint\r\n",
                "ALTER TABLE SalesLT.SalesOrderHeader NOCHECK CONSTRAINT CK_SalesOrderHeader_ShipDate"
            ],
            "metadata": {
                "azdata_cell_guid": "f0d8f519-1b21-48c4-998b-30cdf06cb677"
            },
            "outputs": [
                {
                    "output_type": "display_data",
                    "data": {
                        "text/html": "Commands completed successfully."
                    },
                    "metadata": {}
                },
                {
                    "output_type": "display_data",
                    "data": {
                        "text/html": "Total execution time: 00:00:00.054"
                    },
                    "metadata": {}
                }
            ],
            "execution_count": 10
        },
        {
            "cell_type": "code",
            "source": [
                " -- all constraints\r\n",
                "ALTER TABLE SalesLT.SalesOrderHeader NOCHECK CONSTRAINT ALL"
            ],
            "metadata": {
                "azdata_cell_guid": "2119597a-2ee6-4a80-99e0-c7a6cdb42baf"
            },
            "outputs": [
                {
                    "output_type": "display_data",
                    "data": {
                        "text/html": "Commands completed successfully."
                    },
                    "metadata": {}
                },
                {
                    "output_type": "display_data",
                    "data": {
                        "text/html": "Total execution time: 00:00:00.076"
                    },
                    "metadata": {}
                }
            ],
            "execution_count": 3
        },
        {
            "cell_type": "code",
            "source": [
                " -- specific constraint\r\n",
                "ALTER TABLE SalesLT.SalesOrderHeader WITH CHECK CHECK CONSTRAINT CK_SalesOrderHeader_ShipDate"
            ],
            "metadata": {
                "azdata_cell_guid": "469d3c3d-aa1f-43ec-a1f4-128846a0f144"
            },
            "outputs": [
                {
                    "output_type": "display_data",
                    "data": {
                        "text/html": "Commands completed successfully."
                    },
                    "metadata": {}
                },
                {
                    "output_type": "display_data",
                    "data": {
                        "text/html": "Total execution time: 00:00:00.061"
                    },
                    "metadata": {}
                }
            ],
            "execution_count": 11
        },
        {
            "cell_type": "code",
            "source": [
                " -- all constraints\r\n",
                "ALTER TABLE SalesLT.SalesOrderHeader WITH CHECK CHECK CONSTRAINT ALL"
            ],
            "metadata": {
                "azdata_cell_guid": "d4ec8004-27fc-4e6d-affd-e47481718eda"
            },
            "outputs": [
                {
                    "output_type": "display_data",
                    "data": {
                        "text/html": "Commands completed successfully."
                    },
                    "metadata": {}
                },
                {
                    "output_type": "display_data",
                    "data": {
                        "text/html": "Total execution time: 00:00:00.072"
                    },
                    "metadata": {}
                }
            ],
            "execution_count": 6
        },
        {
            "cell_type": "code",
            "source": [
                "-- lista all violated constraints in the database\r\n",
                "DBCC CHECKCONSTRAINTS WITH ALL_CONSTRAINTS"
            ],
            "metadata": {
                "azdata_cell_guid": "7f760bb0-edad-492f-95a9-769da4e8d666"
            },
            "outputs": [
                {
                    "output_type": "display_data",
                    "data": {
                        "text/html": "DBCC execution completed. If DBCC printed error messages, contact your system administrator."
                    },
                    "metadata": {}
                },
                {
                    "output_type": "display_data",
                    "data": {
                        "text/html": "Total execution time: 00:00:00.515"
                    },
                    "metadata": {}
                },
                {
                    "output_type": "execute_result",
                    "metadata": {},
                    "execution_count": 1,
                    "data": {
                        "application/vnd.dataresource+json": {
                            "schema": {
                                "fields": [
                                    {
                                        "name": "Table"
                                    },
                                    {
                                        "name": "Constraint"
                                    },
                                    {
                                        "name": "Where"
                                    }
                                ]
                            },
                            "data": [
                                {
                                    "0": "[SalesLT].[SalesOrderHeader]",
                                    "1": "[CK_SalesOrderHeader_DueDate]",
                                    "2": "[OrderDate] = '2022-03-13 19:07:36.680' AND [DueDate] = '2008-06-13 00:00:00.000'"
                                }
                            ]
                        },
                        "text/html": [
                            "<table>",
                            "<tr><th>Table</th><th>Constraint</th><th>Where</th></tr>",
                            "<tr><td>[SalesLT].[SalesOrderHeader]</td><td>[CK_SalesOrderHeader_DueDate]</td><td>[OrderDate] = '2022-03-13 19:07:36.680' AND [DueDate] = '2008-06-13 00:00:00.000'</td></tr>",
                            "</table>"
                        ]
                    }
                }
            ],
            "execution_count": 1
        }
    ]
}