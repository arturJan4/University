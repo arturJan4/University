{
    "metadata": {
        "kernelspec": {
            "name": "SQL",
            "display_name": "SQL",
            "language": "sql"
        },
        "language_info": {
            "name": "sql",
            "version": ""
        }
    },
    "nbformat_minor": 2,
    "nbformat": 4,
    "cells": [
        {
            "cell_type": "markdown",
            "source": [
                "**Zad 5**\n",
                "\n",
                "Utworzyć zapytanie, który w wyniku zwróci trzy kolumny: nazwisko i imię klienta (Customer) oraz kwotę, którą ten klient zaoszczędził dzięki udzielonym rabatom (SalesOrderDetail.UnitPriceDiscount)."
            ],
            "metadata": {
                "azdata_cell_guid": "04ef7427-b325-4f35-873e-4cbb91650fd3"
            },
            "attachments": {}
        },
        {
            "cell_type": "code",
            "source": [
                "SELECT TOP 5 *\r\n",
                "FROM SalesLT.SalesOrderDetail"
            ],
            "metadata": {
                "azdata_cell_guid": "87c14be5-456a-45cb-9b2f-d5cd5192f776"
            },
            "outputs": [
                {
                    "output_type": "display_data",
                    "data": {
                        "text/html": "(5 rows affected)"
                    },
                    "metadata": {}
                },
                {
                    "output_type": "display_data",
                    "data": {
                        "text/html": "Total execution time: 00:00:00.056"
                    },
                    "metadata": {}
                },
                {
                    "output_type": "execute_result",
                    "execution_count": 2,
                    "data": {
                        "application/vnd.dataresource+json": {
                            "schema": {
                                "fields": [
                                    {
                                        "name": "SalesOrderID"
                                    },
                                    {
                                        "name": "SalesOrderDetailID"
                                    },
                                    {
                                        "name": "OrderQty"
                                    },
                                    {
                                        "name": "ProductID"
                                    },
                                    {
                                        "name": "UnitPrice"
                                    },
                                    {
                                        "name": "UnitPriceDiscount"
                                    },
                                    {
                                        "name": "LineTotal"
                                    },
                                    {
                                        "name": "rowguid"
                                    },
                                    {
                                        "name": "ModifiedDate"
                                    }
                                ]
                            },
                            "data": [
                                {
                                    "0": "71774",
                                    "1": "110562",
                                    "2": "1",
                                    "3": "836",
                                    "4": "356,898",
                                    "5": "0,00",
                                    "6": "356.898000",
                                    "7": "e3a1994c-7a68-4ce8-96a3-77fdd3bbd730",
                                    "8": "2008-06-01 00:00:00.000"
                                },
                                {
                                    "0": "71774",
                                    "1": "110563",
                                    "2": "1",
                                    "3": "822",
                                    "4": "356,898",
                                    "5": "0,00",
                                    "6": "356.898000",
                                    "7": "5c77f557-fdb6-43ba-90b9-9a7aec55ca32",
                                    "8": "2008-06-01 00:00:00.000"
                                },
                                {
                                    "0": "71776",
                                    "1": "110567",
                                    "2": "1",
                                    "3": "907",
                                    "4": "63,90",
                                    "5": "0,00",
                                    "6": "63.900000",
                                    "7": "6dbfe398-d15d-425e-aa58-88178fe360e5",
                                    "8": "2008-06-01 00:00:00.000"
                                },
                                {
                                    "0": "71780",
                                    "1": "110616",
                                    "2": "4",
                                    "3": "905",
                                    "4": "218,454",
                                    "5": "0,00",
                                    "6": "873.816000",
                                    "7": "377246c9-4483-48ed-a5b9-e56f005364e0",
                                    "8": "2008-06-01 00:00:00.000"
                                },
                                {
                                    "0": "71780",
                                    "1": "110617",
                                    "2": "2",
                                    "3": "983",
                                    "4": "461,694",
                                    "5": "0,00",
                                    "6": "923.388000",
                                    "7": "43a54bcd-536d-4a1b-8e69-24d083507a14",
                                    "8": "2008-06-01 00:00:00.000"
                                }
                            ]
                        },
                        "text/html": "<table><tr><th>SalesOrderID</th><th>SalesOrderDetailID</th><th>OrderQty</th><th>ProductID</th><th>UnitPrice</th><th>UnitPriceDiscount</th><th>LineTotal</th><th>rowguid</th><th>ModifiedDate</th></tr><tr><td>71774</td><td>110562</td><td>1</td><td>836</td><td>356,898</td><td>0,00</td><td>356.898000</td><td>e3a1994c-7a68-4ce8-96a3-77fdd3bbd730</td><td>2008-06-01 00:00:00.000</td></tr><tr><td>71774</td><td>110563</td><td>1</td><td>822</td><td>356,898</td><td>0,00</td><td>356.898000</td><td>5c77f557-fdb6-43ba-90b9-9a7aec55ca32</td><td>2008-06-01 00:00:00.000</td></tr><tr><td>71776</td><td>110567</td><td>1</td><td>907</td><td>63,90</td><td>0,00</td><td>63.900000</td><td>6dbfe398-d15d-425e-aa58-88178fe360e5</td><td>2008-06-01 00:00:00.000</td></tr><tr><td>71780</td><td>110616</td><td>4</td><td>905</td><td>218,454</td><td>0,00</td><td>873.816000</td><td>377246c9-4483-48ed-a5b9-e56f005364e0</td><td>2008-06-01 00:00:00.000</td></tr><tr><td>71780</td><td>110617</td><td>2</td><td>983</td><td>461,694</td><td>0,00</td><td>923.388000</td><td>43a54bcd-536d-4a1b-8e69-24d083507a14</td><td>2008-06-01 00:00:00.000</td></tr></table>"
                    },
                    "metadata": {}
                }
            ],
            "execution_count": 2
        },
        {
            "cell_type": "code",
            "source": [
                "SELECT TOP 5 *\r\n",
                "FROM SalesLT.SalesOrderHeader"
            ],
            "metadata": {
                "azdata_cell_guid": "e06edbcf-928b-4124-aa02-79816ca25b4f",
                "tags": []
            },
            "outputs": [
                {
                    "output_type": "display_data",
                    "data": {
                        "text/html": "(5 rows affected)"
                    },
                    "metadata": {}
                },
                {
                    "output_type": "display_data",
                    "data": {
                        "text/html": "Total execution time: 00:00:00.056"
                    },
                    "metadata": {}
                },
                {
                    "output_type": "execute_result",
                    "execution_count": 3,
                    "data": {
                        "application/vnd.dataresource+json": {
                            "schema": {
                                "fields": [
                                    {
                                        "name": "SalesOrderID"
                                    },
                                    {
                                        "name": "RevisionNumber"
                                    },
                                    {
                                        "name": "OrderDate"
                                    },
                                    {
                                        "name": "DueDate"
                                    },
                                    {
                                        "name": "ShipDate"
                                    },
                                    {
                                        "name": "Status"
                                    },
                                    {
                                        "name": "OnlineOrderFlag"
                                    },
                                    {
                                        "name": "SalesOrderNumber"
                                    },
                                    {
                                        "name": "PurchaseOrderNumber"
                                    },
                                    {
                                        "name": "AccountNumber"
                                    },
                                    {
                                        "name": "CustomerID"
                                    },
                                    {
                                        "name": "ShipToAddressID"
                                    },
                                    {
                                        "name": "BillToAddressID"
                                    },
                                    {
                                        "name": "ShipMethod"
                                    },
                                    {
                                        "name": "CreditCardApprovalCode"
                                    },
                                    {
                                        "name": "SubTotal"
                                    },
                                    {
                                        "name": "TaxAmt"
                                    },
                                    {
                                        "name": "Freight"
                                    },
                                    {
                                        "name": "TotalDue"
                                    },
                                    {
                                        "name": "Comment"
                                    },
                                    {
                                        "name": "rowguid"
                                    },
                                    {
                                        "name": "ModifiedDate"
                                    }
                                ]
                            },
                            "data": [
                                {
                                    "0": "71774",
                                    "1": "2",
                                    "2": "2008-06-01 00:00:00.000",
                                    "3": "2008-06-13 00:00:00.000",
                                    "4": "2008-06-08 00:00:00.000",
                                    "5": "5",
                                    "6": "0",
                                    "7": "SO71774",
                                    "8": "PO348186287",
                                    "9": "10-4020-000609",
                                    "10": "29847",
                                    "11": "1092",
                                    "12": "1092",
                                    "13": "CARGO TRANSPORT 5",
                                    "14": "NULL",
                                    "15": "880,3484",
                                    "16": "70,4279",
                                    "17": "22,0087",
                                    "18": "972,785",
                                    "19": "NULL",
                                    "20": "89e42cdc-8506-48a2-b89b-eb3e64e3554e",
                                    "21": "2008-06-08 00:00:00.000"
                                },
                                {
                                    "0": "71776",
                                    "1": "2",
                                    "2": "2008-06-01 00:00:00.000",
                                    "3": "2008-06-13 00:00:00.000",
                                    "4": "2008-06-08 00:00:00.000",
                                    "5": "5",
                                    "6": "0",
                                    "7": "SO71776",
                                    "8": "PO19952192051",
                                    "9": "10-4020-000106",
                                    "10": "30072",
                                    "11": "640",
                                    "12": "640",
                                    "13": "CARGO TRANSPORT 5",
                                    "14": "NULL",
                                    "15": "78,81",
                                    "16": "6,3048",
                                    "17": "1,9703",
                                    "18": "87,0851",
                                    "19": "NULL",
                                    "20": "8a3448c5-e677-4158-a29b-dd33069be0b0",
                                    "21": "2008-06-08 00:00:00.000"
                                },
                                {
                                    "0": "71780",
                                    "1": "2",
                                    "2": "2008-06-01 00:00:00.000",
                                    "3": "2008-06-13 00:00:00.000",
                                    "4": "2008-06-08 00:00:00.000",
                                    "5": "5",
                                    "6": "0",
                                    "7": "SO71780",
                                    "8": "PO19604173239",
                                    "9": "10-4020-000340",
                                    "10": "30113",
                                    "11": "653",
                                    "12": "653",
                                    "13": "CARGO TRANSPORT 5",
                                    "14": "NULL",
                                    "15": "38418,6895",
                                    "16": "3073,4952",
                                    "17": "960,4672",
                                    "18": "42452,6519",
                                    "19": "NULL",
                                    "20": "a47665d2-7ac9-4cf3-8a8b-2a3883554284",
                                    "21": "2008-06-08 00:00:00.000"
                                },
                                {
                                    "0": "71782",
                                    "1": "2",
                                    "2": "2008-06-01 00:00:00.000",
                                    "3": "2008-06-13 00:00:00.000",
                                    "4": "2008-06-08 00:00:00.000",
                                    "5": "5",
                                    "6": "0",
                                    "7": "SO71782",
                                    "8": "PO19372114749",
                                    "9": "10-4020-000582",
                                    "10": "29485",
                                    "11": "1086",
                                    "12": "1086",
                                    "13": "CARGO TRANSPORT 5",
                                    "14": "NULL",
                                    "15": "39785,3304",
                                    "16": "3182,8264",
                                    "17": "994,6333",
                                    "18": "43962,7901",
                                    "19": "NULL",
                                    "20": "f1be45a5-5c57-4a50-93c6-5f8be44cb7cb",
                                    "21": "2008-06-08 00:00:00.000"
                                },
                                {
                                    "0": "71783",
                                    "1": "2",
                                    "2": "2008-06-01 00:00:00.000",
                                    "3": "2008-06-13 00:00:00.000",
                                    "4": "2008-06-08 00:00:00.000",
                                    "5": "5",
                                    "6": "0",
                                    "7": "SO71783",
                                    "8": "PO19343113609",
                                    "9": "10-4020-000024",
                                    "10": "29957",
                                    "11": "992",
                                    "12": "992",
                                    "13": "CARGO TRANSPORT 5",
                                    "14": "NULL",
                                    "15": "83858,4261",
                                    "16": "6708,6741",
                                    "17": "2096,4607",
                                    "18": "92663,5609",
                                    "19": "NULL",
                                    "20": "7db2329e-6446-42a8-8915-9c8370b68ed8",
                                    "21": "2008-06-08 00:00:00.000"
                                }
                            ]
                        },
                        "text/html": "<table><tr><th>SalesOrderID</th><th>RevisionNumber</th><th>OrderDate</th><th>DueDate</th><th>ShipDate</th><th>Status</th><th>OnlineOrderFlag</th><th>SalesOrderNumber</th><th>PurchaseOrderNumber</th><th>AccountNumber</th><th>CustomerID</th><th>ShipToAddressID</th><th>BillToAddressID</th><th>ShipMethod</th><th>CreditCardApprovalCode</th><th>SubTotal</th><th>TaxAmt</th><th>Freight</th><th>TotalDue</th><th>Comment</th><th>rowguid</th><th>ModifiedDate</th></tr><tr><td>71774</td><td>2</td><td>2008-06-01 00:00:00.000</td><td>2008-06-13 00:00:00.000</td><td>2008-06-08 00:00:00.000</td><td>5</td><td>0</td><td>SO71774</td><td>PO348186287</td><td>10-4020-000609</td><td>29847</td><td>1092</td><td>1092</td><td>CARGO TRANSPORT 5</td><td>NULL</td><td>880,3484</td><td>70,4279</td><td>22,0087</td><td>972,785</td><td>NULL</td><td>89e42cdc-8506-48a2-b89b-eb3e64e3554e</td><td>2008-06-08 00:00:00.000</td></tr><tr><td>71776</td><td>2</td><td>2008-06-01 00:00:00.000</td><td>2008-06-13 00:00:00.000</td><td>2008-06-08 00:00:00.000</td><td>5</td><td>0</td><td>SO71776</td><td>PO19952192051</td><td>10-4020-000106</td><td>30072</td><td>640</td><td>640</td><td>CARGO TRANSPORT 5</td><td>NULL</td><td>78,81</td><td>6,3048</td><td>1,9703</td><td>87,0851</td><td>NULL</td><td>8a3448c5-e677-4158-a29b-dd33069be0b0</td><td>2008-06-08 00:00:00.000</td></tr><tr><td>71780</td><td>2</td><td>2008-06-01 00:00:00.000</td><td>2008-06-13 00:00:00.000</td><td>2008-06-08 00:00:00.000</td><td>5</td><td>0</td><td>SO71780</td><td>PO19604173239</td><td>10-4020-000340</td><td>30113</td><td>653</td><td>653</td><td>CARGO TRANSPORT 5</td><td>NULL</td><td>38418,6895</td><td>3073,4952</td><td>960,4672</td><td>42452,6519</td><td>NULL</td><td>a47665d2-7ac9-4cf3-8a8b-2a3883554284</td><td>2008-06-08 00:00:00.000</td></tr><tr><td>71782</td><td>2</td><td>2008-06-01 00:00:00.000</td><td>2008-06-13 00:00:00.000</td><td>2008-06-08 00:00:00.000</td><td>5</td><td>0</td><td>SO71782</td><td>PO19372114749</td><td>10-4020-000582</td><td>29485</td><td>1086</td><td>1086</td><td>CARGO TRANSPORT 5</td><td>NULL</td><td>39785,3304</td><td>3182,8264</td><td>994,6333</td><td>43962,7901</td><td>NULL</td><td>f1be45a5-5c57-4a50-93c6-5f8be44cb7cb</td><td>2008-06-08 00:00:00.000</td></tr><tr><td>71783</td><td>2</td><td>2008-06-01 00:00:00.000</td><td>2008-06-13 00:00:00.000</td><td>2008-06-08 00:00:00.000</td><td>5</td><td>0</td><td>SO71783</td><td>PO19343113609</td><td>10-4020-000024</td><td>29957</td><td>992</td><td>992</td><td>CARGO TRANSPORT 5</td><td>NULL</td><td>83858,4261</td><td>6708,6741</td><td>2096,4607</td><td>92663,5609</td><td>NULL</td><td>7db2329e-6446-42a8-8915-9c8370b68ed8</td><td>2008-06-08 00:00:00.000</td></tr></table>"
                    },
                    "metadata": {}
                }
            ],
            "execution_count": 3
        },
        {
            "cell_type": "code",
            "source": [
                "SELECT TOP 5 *\r\n",
                "FROM SalesLT.Customer"
            ],
            "metadata": {
                "azdata_cell_guid": "bbcde18e-3b55-40d8-a78b-38ea374545d3"
            },
            "outputs": [
                {
                    "output_type": "display_data",
                    "data": {
                        "text/html": "(5 rows affected)"
                    },
                    "metadata": {}
                },
                {
                    "output_type": "display_data",
                    "data": {
                        "text/html": "Total execution time: 00:00:00.067"
                    },
                    "metadata": {}
                },
                {
                    "output_type": "execute_result",
                    "execution_count": 4,
                    "data": {
                        "application/vnd.dataresource+json": {
                            "schema": {
                                "fields": [
                                    {
                                        "name": "CustomerID"
                                    },
                                    {
                                        "name": "NameStyle"
                                    },
                                    {
                                        "name": "Title"
                                    },
                                    {
                                        "name": "FirstName"
                                    },
                                    {
                                        "name": "MiddleName"
                                    },
                                    {
                                        "name": "LastName"
                                    },
                                    {
                                        "name": "Suffix"
                                    },
                                    {
                                        "name": "CompanyName"
                                    },
                                    {
                                        "name": "SalesPerson"
                                    },
                                    {
                                        "name": "EmailAddress"
                                    },
                                    {
                                        "name": "Phone"
                                    },
                                    {
                                        "name": "PasswordHash"
                                    },
                                    {
                                        "name": "PasswordSalt"
                                    },
                                    {
                                        "name": "rowguid"
                                    },
                                    {
                                        "name": "ModifiedDate"
                                    }
                                ]
                            },
                            "data": [
                                {
                                    "0": "1",
                                    "1": "0",
                                    "2": "Mr.",
                                    "3": "Orlando",
                                    "4": "N.",
                                    "5": "Gee",
                                    "6": "NULL",
                                    "7": "A Bike Store",
                                    "8": "adventure-works\\pamela0",
                                    "9": "orlando0@adventure-works.com",
                                    "10": "245-555-0173",
                                    "11": "L/Rlwxzp4w7RWmEgXX+/A7cXaePEPcp+KwQhl2fJL7w=",
                                    "12": "1KjXYs4=",
                                    "13": "3f5ae95e-b87d-4aed-95b4-c3797afcb74f",
                                    "14": "2005-08-01 00:00:00.000"
                                },
                                {
                                    "0": "2",
                                    "1": "0",
                                    "2": "Mr.",
                                    "3": "Keith",
                                    "4": "NULL",
                                    "5": "Harris",
                                    "6": "NULL",
                                    "7": "Progressive Sports",
                                    "8": "adventure-works\\david8",
                                    "9": "keith0@adventure-works.com",
                                    "10": "170-555-0127",
                                    "11": "YPdtRdvqeAhj6wyxEsFdshBDNXxkCXn+CRgbvJItknw=",
                                    "12": "fs1ZGhY=",
                                    "13": "e552f657-a9af-4a7d-a645-c429d6e02491",
                                    "14": "2006-08-01 00:00:00.000"
                                },
                                {
                                    "0": "3",
                                    "1": "0",
                                    "2": "Ms.",
                                    "3": "Donna",
                                    "4": "F.",
                                    "5": "Carreras",
                                    "6": "NULL",
                                    "7": "Advanced Bike Components",
                                    "8": "adventure-works\\jillian0",
                                    "9": "donna0@adventure-works.com",
                                    "10": "279-555-0130",
                                    "11": "LNoK27abGQo48gGue3EBV/UrlYSToV0/s87dCRV7uJk=",
                                    "12": "YTNH5Rw=",
                                    "13": "130774b1-db21-4ef3-98c8-c104bcd6ed6d",
                                    "14": "2005-09-01 00:00:00.000"
                                },
                                {
                                    "0": "4",
                                    "1": "0",
                                    "2": "Ms.",
                                    "3": "Janet",
                                    "4": "M.",
                                    "5": "Gates",
                                    "6": "NULL",
                                    "7": "Modular Cycle Systems",
                                    "8": "adventure-works\\jillian0",
                                    "9": "janet1@adventure-works.com",
                                    "10": "710-555-0173",
                                    "11": "ElzTpSNbUW1Ut+L5cWlfR7MF6nBZia8WpmGaQPjLOJA=",
                                    "12": "nm7D5e4=",
                                    "13": "ff862851-1daa-4044-be7c-3e85583c054d",
                                    "14": "2006-07-01 00:00:00.000"
                                },
                                {
                                    "0": "5",
                                    "1": "0",
                                    "2": "Mr.",
                                    "3": "Lucy",
                                    "4": "NULL",
                                    "5": "Harrington",
                                    "6": "NULL",
                                    "7": "Metropolitan Sports Supply",
                                    "8": "adventure-works\\shu0",
                                    "9": "lucy0@adventure-works.com",
                                    "10": "828-555-0186",
                                    "11": "KJqV15wsX3PG8TS5GSddp6LFFVdd3CoRftZM/tP0+R4=",
                                    "12": "cNFKU4w=",
                                    "13": "83905bdc-6f5e-4f71-b162-c98da069f38a",
                                    "14": "2006-09-01 00:00:00.000"
                                }
                            ]
                        },
                        "text/html": "<table><tr><th>CustomerID</th><th>NameStyle</th><th>Title</th><th>FirstName</th><th>MiddleName</th><th>LastName</th><th>Suffix</th><th>CompanyName</th><th>SalesPerson</th><th>EmailAddress</th><th>Phone</th><th>PasswordHash</th><th>PasswordSalt</th><th>rowguid</th><th>ModifiedDate</th></tr><tr><td>1</td><td>0</td><td>Mr.</td><td>Orlando</td><td>N.</td><td>Gee</td><td>NULL</td><td>A Bike Store</td><td>adventure-works\\pamela0</td><td>orlando0@adventure-works.com</td><td>245-555-0173</td><td>L/Rlwxzp4w7RWmEgXX+/A7cXaePEPcp+KwQhl2fJL7w=</td><td>1KjXYs4=</td><td>3f5ae95e-b87d-4aed-95b4-c3797afcb74f</td><td>2005-08-01 00:00:00.000</td></tr><tr><td>2</td><td>0</td><td>Mr.</td><td>Keith</td><td>NULL</td><td>Harris</td><td>NULL</td><td>Progressive Sports</td><td>adventure-works\\david8</td><td>keith0@adventure-works.com</td><td>170-555-0127</td><td>YPdtRdvqeAhj6wyxEsFdshBDNXxkCXn+CRgbvJItknw=</td><td>fs1ZGhY=</td><td>e552f657-a9af-4a7d-a645-c429d6e02491</td><td>2006-08-01 00:00:00.000</td></tr><tr><td>3</td><td>0</td><td>Ms.</td><td>Donna</td><td>F.</td><td>Carreras</td><td>NULL</td><td>Advanced Bike Components</td><td>adventure-works\\jillian0</td><td>donna0@adventure-works.com</td><td>279-555-0130</td><td>LNoK27abGQo48gGue3EBV/UrlYSToV0/s87dCRV7uJk=</td><td>YTNH5Rw=</td><td>130774b1-db21-4ef3-98c8-c104bcd6ed6d</td><td>2005-09-01 00:00:00.000</td></tr><tr><td>4</td><td>0</td><td>Ms.</td><td>Janet</td><td>M.</td><td>Gates</td><td>NULL</td><td>Modular Cycle Systems</td><td>adventure-works\\jillian0</td><td>janet1@adventure-works.com</td><td>710-555-0173</td><td>ElzTpSNbUW1Ut+L5cWlfR7MF6nBZia8WpmGaQPjLOJA=</td><td>nm7D5e4=</td><td>ff862851-1daa-4044-be7c-3e85583c054d</td><td>2006-07-01 00:00:00.000</td></tr><tr><td>5</td><td>0</td><td>Mr.</td><td>Lucy</td><td>NULL</td><td>Harrington</td><td>NULL</td><td>Metropolitan Sports Supply</td><td>adventure-works\\shu0</td><td>lucy0@adventure-works.com</td><td>828-555-0186</td><td>KJqV15wsX3PG8TS5GSddp6LFFVdd3CoRftZM/tP0+R4=</td><td>cNFKU4w=</td><td>83905bdc-6f5e-4f71-b162-c98da069f38a</td><td>2006-09-01 00:00:00.000</td></tr></table>"
                    },
                    "metadata": {}
                }
            ],
            "execution_count": 4
        },
        {
            "cell_type": "markdown",
            "source": [
                "double-join to match customer-orderHeader-orderDertail"
            ],
            "metadata": {
                "azdata_cell_guid": "5bd9d836-faa2-4937-bafd-50590cfbd4cb"
            },
            "attachments": {}
        },
        {
            "cell_type": "code",
            "source": [
                "SELECT TOP 10 *\r\n",
                "FROM SalesLT.Customer\r\n",
                "JOIN SalesLT.SalesOrderHeader ON SalesLT.SalesOrderHeader.CustomerID = SalesLT.Customer.CustomerID\r\n",
                "JOIN SalesLT.SalesOrderDetail ON SalesLT.SalesOrderDetail.SalesOrderID = SalesLT.SalesOrderHeader.SalesOrderID"
            ],
            "metadata": {
                "azdata_cell_guid": "2248fd5a-3aed-40d7-aeb3-7a8562a922c0",
                "tags": []
            },
            "outputs": [
                {
                    "output_type": "display_data",
                    "data": {
                        "text/html": "(10 rows affected)"
                    },
                    "metadata": {}
                },
                {
                    "output_type": "display_data",
                    "data": {
                        "text/html": "Total execution time: 00:00:00.071"
                    },
                    "metadata": {}
                },
                {
                    "output_type": "execute_result",
                    "execution_count": 13,
                    "data": {
                        "application/vnd.dataresource+json": {
                            "schema": {
                                "fields": [
                                    {
                                        "name": "CustomerID"
                                    },
                                    {
                                        "name": "NameStyle"
                                    },
                                    {
                                        "name": "Title"
                                    },
                                    {
                                        "name": "FirstName"
                                    },
                                    {
                                        "name": "MiddleName"
                                    },
                                    {
                                        "name": "LastName"
                                    },
                                    {
                                        "name": "Suffix"
                                    },
                                    {
                                        "name": "CompanyName"
                                    },
                                    {
                                        "name": "SalesPerson"
                                    },
                                    {
                                        "name": "EmailAddress"
                                    },
                                    {
                                        "name": "Phone"
                                    },
                                    {
                                        "name": "PasswordHash"
                                    },
                                    {
                                        "name": "PasswordSalt"
                                    },
                                    {
                                        "name": "rowguid"
                                    },
                                    {
                                        "name": "ModifiedDate"
                                    },
                                    {
                                        "name": "SalesOrderID"
                                    },
                                    {
                                        "name": "RevisionNumber"
                                    },
                                    {
                                        "name": "OrderDate"
                                    },
                                    {
                                        "name": "DueDate"
                                    },
                                    {
                                        "name": "ShipDate"
                                    },
                                    {
                                        "name": "Status"
                                    },
                                    {
                                        "name": "OnlineOrderFlag"
                                    },
                                    {
                                        "name": "SalesOrderNumber"
                                    },
                                    {
                                        "name": "PurchaseOrderNumber"
                                    },
                                    {
                                        "name": "AccountNumber"
                                    },
                                    {
                                        "name": "CustomerID"
                                    },
                                    {
                                        "name": "ShipToAddressID"
                                    },
                                    {
                                        "name": "BillToAddressID"
                                    },
                                    {
                                        "name": "ShipMethod"
                                    },
                                    {
                                        "name": "CreditCardApprovalCode"
                                    },
                                    {
                                        "name": "SubTotal"
                                    },
                                    {
                                        "name": "TaxAmt"
                                    },
                                    {
                                        "name": "Freight"
                                    },
                                    {
                                        "name": "TotalDue"
                                    },
                                    {
                                        "name": "Comment"
                                    },
                                    {
                                        "name": "rowguid"
                                    },
                                    {
                                        "name": "ModifiedDate"
                                    },
                                    {
                                        "name": "SalesOrderID"
                                    },
                                    {
                                        "name": "SalesOrderDetailID"
                                    },
                                    {
                                        "name": "OrderQty"
                                    },
                                    {
                                        "name": "ProductID"
                                    },
                                    {
                                        "name": "UnitPrice"
                                    },
                                    {
                                        "name": "UnitPriceDiscount"
                                    },
                                    {
                                        "name": "LineTotal"
                                    },
                                    {
                                        "name": "rowguid"
                                    },
                                    {
                                        "name": "ModifiedDate"
                                    }
                                ]
                            },
                            "data": [
                                {
                                    "0": "29847",
                                    "1": "0",
                                    "2": "Mr.",
                                    "3": "David",
                                    "4": "NULL",
                                    "5": "Hodgson",
                                    "6": "NULL",
                                    "7": "Good Toys",
                                    "8": "adventure-works\\linda3",
                                    "9": "david16@adventure-works.com",
                                    "10": "969-555-0117",
                                    "11": "+gtwbVycsIIj2loVtrHNRN6IBLl20lQpRK8+JhzxyEo=",
                                    "12": "AwqZdYk=",
                                    "13": "fdd7d9cb-9a81-40fc-baf6-facde8da4923",
                                    "14": "2006-09-01 00:00:00.000",
                                    "15": "71774",
                                    "16": "2",
                                    "17": "2008-06-01 00:00:00.000",
                                    "18": "2008-06-13 00:00:00.000",
                                    "19": "2008-06-08 00:00:00.000",
                                    "20": "5",
                                    "21": "0",
                                    "22": "SO71774",
                                    "23": "PO348186287",
                                    "24": "10-4020-000609",
                                    "25": "29847",
                                    "26": "1092",
                                    "27": "1092",
                                    "28": "CARGO TRANSPORT 5",
                                    "29": "NULL",
                                    "30": "880,3484",
                                    "31": "70,4279",
                                    "32": "22,0087",
                                    "33": "972,785",
                                    "34": "NULL",
                                    "35": "89e42cdc-8506-48a2-b89b-eb3e64e3554e",
                                    "36": "2008-06-08 00:00:00.000",
                                    "37": "71774",
                                    "38": "110562",
                                    "39": "1",
                                    "40": "836",
                                    "41": "356,898",
                                    "42": "0,00",
                                    "43": "356.898000",
                                    "44": "e3a1994c-7a68-4ce8-96a3-77fdd3bbd730",
                                    "45": "2008-06-01 00:00:00.000"
                                },
                                {
                                    "0": "29847",
                                    "1": "0",
                                    "2": "Mr.",
                                    "3": "David",
                                    "4": "NULL",
                                    "5": "Hodgson",
                                    "6": "NULL",
                                    "7": "Good Toys",
                                    "8": "adventure-works\\linda3",
                                    "9": "david16@adventure-works.com",
                                    "10": "969-555-0117",
                                    "11": "+gtwbVycsIIj2loVtrHNRN6IBLl20lQpRK8+JhzxyEo=",
                                    "12": "AwqZdYk=",
                                    "13": "fdd7d9cb-9a81-40fc-baf6-facde8da4923",
                                    "14": "2006-09-01 00:00:00.000",
                                    "15": "71774",
                                    "16": "2",
                                    "17": "2008-06-01 00:00:00.000",
                                    "18": "2008-06-13 00:00:00.000",
                                    "19": "2008-06-08 00:00:00.000",
                                    "20": "5",
                                    "21": "0",
                                    "22": "SO71774",
                                    "23": "PO348186287",
                                    "24": "10-4020-000609",
                                    "25": "29847",
                                    "26": "1092",
                                    "27": "1092",
                                    "28": "CARGO TRANSPORT 5",
                                    "29": "NULL",
                                    "30": "880,3484",
                                    "31": "70,4279",
                                    "32": "22,0087",
                                    "33": "972,785",
                                    "34": "NULL",
                                    "35": "89e42cdc-8506-48a2-b89b-eb3e64e3554e",
                                    "36": "2008-06-08 00:00:00.000",
                                    "37": "71774",
                                    "38": "110563",
                                    "39": "1",
                                    "40": "822",
                                    "41": "356,898",
                                    "42": "0,00",
                                    "43": "356.898000",
                                    "44": "5c77f557-fdb6-43ba-90b9-9a7aec55ca32",
                                    "45": "2008-06-01 00:00:00.000"
                                },
                                {
                                    "0": "30072",
                                    "1": "0",
                                    "2": "Ms.",
                                    "3": "Andrea",
                                    "4": "A.",
                                    "5": "Thomsen",
                                    "6": "NULL",
                                    "7": "West Side Mart",
                                    "8": "adventure-works\\jae0",
                                    "9": "andrea1@adventure-works.com",
                                    "10": "1 (11) 500 555-0120",
                                    "11": "LDoJwsGCFLtxVdbdQBbN/to7zFF1skP+hWLrIrCxvAw=",
                                    "12": "NuexV8w=",
                                    "13": "9bbbddc1-8e1a-4edf-aa2f-a8abea78c940",
                                    "14": "2007-09-01 00:00:00.000",
                                    "15": "71776",
                                    "16": "2",
                                    "17": "2008-06-01 00:00:00.000",
                                    "18": "2008-06-13 00:00:00.000",
                                    "19": "2008-06-08 00:00:00.000",
                                    "20": "5",
                                    "21": "0",
                                    "22": "SO71776",
                                    "23": "PO19952192051",
                                    "24": "10-4020-000106",
                                    "25": "30072",
                                    "26": "640",
                                    "27": "640",
                                    "28": "CARGO TRANSPORT 5",
                                    "29": "NULL",
                                    "30": "78,81",
                                    "31": "6,3048",
                                    "32": "1,9703",
                                    "33": "87,0851",
                                    "34": "NULL",
                                    "35": "8a3448c5-e677-4158-a29b-dd33069be0b0",
                                    "36": "2008-06-08 00:00:00.000",
                                    "37": "71776",
                                    "38": "110567",
                                    "39": "1",
                                    "40": "907",
                                    "41": "63,90",
                                    "42": "0,00",
                                    "43": "63.900000",
                                    "44": "6dbfe398-d15d-425e-aa58-88178fe360e5",
                                    "45": "2008-06-01 00:00:00.000"
                                },
                                {
                                    "0": "30113",
                                    "1": "0",
                                    "2": "Mr.",
                                    "3": "Raja",
                                    "4": "D.",
                                    "5": "Venugopal",
                                    "6": "NULL",
                                    "7": "Nearby Cycle Shop",
                                    "8": "adventure-works\\jae0",
                                    "9": "raja0@adventure-works.com",
                                    "10": "1 (11) 500 555-0195",
                                    "11": "lx5a4+AFGzH6mzjz6hpiR9scxbYGX8OcqFpv/cI6yFs=",
                                    "12": "hSwmBWk=",
                                    "13": "84975c44-dc82-49d3-bfc4-8f31b4c8e994",
                                    "14": "2006-09-01 00:00:00.000",
                                    "15": "71780",
                                    "16": "2",
                                    "17": "2008-06-01 00:00:00.000",
                                    "18": "2008-06-13 00:00:00.000",
                                    "19": "2008-06-08 00:00:00.000",
                                    "20": "5",
                                    "21": "0",
                                    "22": "SO71780",
                                    "23": "PO19604173239",
                                    "24": "10-4020-000340",
                                    "25": "30113",
                                    "26": "653",
                                    "27": "653",
                                    "28": "CARGO TRANSPORT 5",
                                    "29": "NULL",
                                    "30": "38418,6895",
                                    "31": "3073,4952",
                                    "32": "960,4672",
                                    "33": "42452,6519",
                                    "34": "NULL",
                                    "35": "a47665d2-7ac9-4cf3-8a8b-2a3883554284",
                                    "36": "2008-06-08 00:00:00.000",
                                    "37": "71780",
                                    "38": "110616",
                                    "39": "4",
                                    "40": "905",
                                    "41": "218,454",
                                    "42": "0,00",
                                    "43": "873.816000",
                                    "44": "377246c9-4483-48ed-a5b9-e56f005364e0",
                                    "45": "2008-06-01 00:00:00.000"
                                },
                                {
                                    "0": "30113",
                                    "1": "0",
                                    "2": "Mr.",
                                    "3": "Raja",
                                    "4": "D.",
                                    "5": "Venugopal",
                                    "6": "NULL",
                                    "7": "Nearby Cycle Shop",
                                    "8": "adventure-works\\jae0",
                                    "9": "raja0@adventure-works.com",
                                    "10": "1 (11) 500 555-0195",
                                    "11": "lx5a4+AFGzH6mzjz6hpiR9scxbYGX8OcqFpv/cI6yFs=",
                                    "12": "hSwmBWk=",
                                    "13": "84975c44-dc82-49d3-bfc4-8f31b4c8e994",
                                    "14": "2006-09-01 00:00:00.000",
                                    "15": "71780",
                                    "16": "2",
                                    "17": "2008-06-01 00:00:00.000",
                                    "18": "2008-06-13 00:00:00.000",
                                    "19": "2008-06-08 00:00:00.000",
                                    "20": "5",
                                    "21": "0",
                                    "22": "SO71780",
                                    "23": "PO19604173239",
                                    "24": "10-4020-000340",
                                    "25": "30113",
                                    "26": "653",
                                    "27": "653",
                                    "28": "CARGO TRANSPORT 5",
                                    "29": "NULL",
                                    "30": "38418,6895",
                                    "31": "3073,4952",
                                    "32": "960,4672",
                                    "33": "42452,6519",
                                    "34": "NULL",
                                    "35": "a47665d2-7ac9-4cf3-8a8b-2a3883554284",
                                    "36": "2008-06-08 00:00:00.000",
                                    "37": "71780",
                                    "38": "110617",
                                    "39": "2",
                                    "40": "983",
                                    "41": "461,694",
                                    "42": "0,00",
                                    "43": "923.388000",
                                    "44": "43a54bcd-536d-4a1b-8e69-24d083507a14",
                                    "45": "2008-06-01 00:00:00.000"
                                },
                                {
                                    "0": "30113",
                                    "1": "0",
                                    "2": "Mr.",
                                    "3": "Raja",
                                    "4": "D.",
                                    "5": "Venugopal",
                                    "6": "NULL",
                                    "7": "Nearby Cycle Shop",
                                    "8": "adventure-works\\jae0",
                                    "9": "raja0@adventure-works.com",
                                    "10": "1 (11) 500 555-0195",
                                    "11": "lx5a4+AFGzH6mzjz6hpiR9scxbYGX8OcqFpv/cI6yFs=",
                                    "12": "hSwmBWk=",
                                    "13": "84975c44-dc82-49d3-bfc4-8f31b4c8e994",
                                    "14": "2006-09-01 00:00:00.000",
                                    "15": "71780",
                                    "16": "2",
                                    "17": "2008-06-01 00:00:00.000",
                                    "18": "2008-06-13 00:00:00.000",
                                    "19": "2008-06-08 00:00:00.000",
                                    "20": "5",
                                    "21": "0",
                                    "22": "SO71780",
                                    "23": "PO19604173239",
                                    "24": "10-4020-000340",
                                    "25": "30113",
                                    "26": "653",
                                    "27": "653",
                                    "28": "CARGO TRANSPORT 5",
                                    "29": "NULL",
                                    "30": "38418,6895",
                                    "31": "3073,4952",
                                    "32": "960,4672",
                                    "33": "42452,6519",
                                    "34": "NULL",
                                    "35": "a47665d2-7ac9-4cf3-8a8b-2a3883554284",
                                    "36": "2008-06-08 00:00:00.000",
                                    "37": "71780",
                                    "38": "110618",
                                    "39": "6",
                                    "40": "988",
                                    "41": "112,998",
                                    "42": "0,40",
                                    "43": "406.792800",
                                    "44": "12706fab-f3a2-48c6-b7c7-1ccde4081f18",
                                    "45": "2008-06-01 00:00:00.000"
                                },
                                {
                                    "0": "30113",
                                    "1": "0",
                                    "2": "Mr.",
                                    "3": "Raja",
                                    "4": "D.",
                                    "5": "Venugopal",
                                    "6": "NULL",
                                    "7": "Nearby Cycle Shop",
                                    "8": "adventure-works\\jae0",
                                    "9": "raja0@adventure-works.com",
                                    "10": "1 (11) 500 555-0195",
                                    "11": "lx5a4+AFGzH6mzjz6hpiR9scxbYGX8OcqFpv/cI6yFs=",
                                    "12": "hSwmBWk=",
                                    "13": "84975c44-dc82-49d3-bfc4-8f31b4c8e994",
                                    "14": "2006-09-01 00:00:00.000",
                                    "15": "71780",
                                    "16": "2",
                                    "17": "2008-06-01 00:00:00.000",
                                    "18": "2008-06-13 00:00:00.000",
                                    "19": "2008-06-08 00:00:00.000",
                                    "20": "5",
                                    "21": "0",
                                    "22": "SO71780",
                                    "23": "PO19604173239",
                                    "24": "10-4020-000340",
                                    "25": "30113",
                                    "26": "653",
                                    "27": "653",
                                    "28": "CARGO TRANSPORT 5",
                                    "29": "NULL",
                                    "30": "38418,6895",
                                    "31": "3073,4952",
                                    "32": "960,4672",
                                    "33": "42452,6519",
                                    "34": "NULL",
                                    "35": "a47665d2-7ac9-4cf3-8a8b-2a3883554284",
                                    "36": "2008-06-08 00:00:00.000",
                                    "37": "71780",
                                    "38": "110619",
                                    "39": "2",
                                    "40": "748",
                                    "41": "818,70",
                                    "42": "0,00",
                                    "43": "1637.400000",
                                    "44": "b12f0d3b-5b4e-4f1f-b2f0-f7cde99dd826",
                                    "45": "2008-06-01 00:00:00.000"
                                },
                                {
                                    "0": "30113",
                                    "1": "0",
                                    "2": "Mr.",
                                    "3": "Raja",
                                    "4": "D.",
                                    "5": "Venugopal",
                                    "6": "NULL",
                                    "7": "Nearby Cycle Shop",
                                    "8": "adventure-works\\jae0",
                                    "9": "raja0@adventure-works.com",
                                    "10": "1 (11) 500 555-0195",
                                    "11": "lx5a4+AFGzH6mzjz6hpiR9scxbYGX8OcqFpv/cI6yFs=",
                                    "12": "hSwmBWk=",
                                    "13": "84975c44-dc82-49d3-bfc4-8f31b4c8e994",
                                    "14": "2006-09-01 00:00:00.000",
                                    "15": "71780",
                                    "16": "2",
                                    "17": "2008-06-01 00:00:00.000",
                                    "18": "2008-06-13 00:00:00.000",
                                    "19": "2008-06-08 00:00:00.000",
                                    "20": "5",
                                    "21": "0",
                                    "22": "SO71780",
                                    "23": "PO19604173239",
                                    "24": "10-4020-000340",
                                    "25": "30113",
                                    "26": "653",
                                    "27": "653",
                                    "28": "CARGO TRANSPORT 5",
                                    "29": "NULL",
                                    "30": "38418,6895",
                                    "31": "3073,4952",
                                    "32": "960,4672",
                                    "33": "42452,6519",
                                    "34": "NULL",
                                    "35": "a47665d2-7ac9-4cf3-8a8b-2a3883554284",
                                    "36": "2008-06-08 00:00:00.000",
                                    "37": "71780",
                                    "38": "110620",
                                    "39": "1",
                                    "40": "990",
                                    "41": "323,994",
                                    "42": "0,00",
                                    "43": "323.994000",
                                    "44": "f117a449-039d-44b8-a4b2-b12001dacc01",
                                    "45": "2008-06-01 00:00:00.000"
                                },
                                {
                                    "0": "30113",
                                    "1": "0",
                                    "2": "Mr.",
                                    "3": "Raja",
                                    "4": "D.",
                                    "5": "Venugopal",
                                    "6": "NULL",
                                    "7": "Nearby Cycle Shop",
                                    "8": "adventure-works\\jae0",
                                    "9": "raja0@adventure-works.com",
                                    "10": "1 (11) 500 555-0195",
                                    "11": "lx5a4+AFGzH6mzjz6hpiR9scxbYGX8OcqFpv/cI6yFs=",
                                    "12": "hSwmBWk=",
                                    "13": "84975c44-dc82-49d3-bfc4-8f31b4c8e994",
                                    "14": "2006-09-01 00:00:00.000",
                                    "15": "71780",
                                    "16": "2",
                                    "17": "2008-06-01 00:00:00.000",
                                    "18": "2008-06-13 00:00:00.000",
                                    "19": "2008-06-08 00:00:00.000",
                                    "20": "5",
                                    "21": "0",
                                    "22": "SO71780",
                                    "23": "PO19604173239",
                                    "24": "10-4020-000340",
                                    "25": "30113",
                                    "26": "653",
                                    "27": "653",
                                    "28": "CARGO TRANSPORT 5",
                                    "29": "NULL",
                                    "30": "38418,6895",
                                    "31": "3073,4952",
                                    "32": "960,4672",
                                    "33": "42452,6519",
                                    "34": "NULL",
                                    "35": "a47665d2-7ac9-4cf3-8a8b-2a3883554284",
                                    "36": "2008-06-08 00:00:00.000",
                                    "37": "71780",
                                    "38": "110621",
                                    "39": "1",
                                    "40": "926",
                                    "41": "149,874",
                                    "42": "0,00",
                                    "43": "149.874000",
                                    "44": "92e5052b-72d0-4c91-9a8c-42591803667e",
                                    "45": "2008-06-01 00:00:00.000"
                                },
                                {
                                    "0": "30113",
                                    "1": "0",
                                    "2": "Mr.",
                                    "3": "Raja",
                                    "4": "D.",
                                    "5": "Venugopal",
                                    "6": "NULL",
                                    "7": "Nearby Cycle Shop",
                                    "8": "adventure-works\\jae0",
                                    "9": "raja0@adventure-works.com",
                                    "10": "1 (11) 500 555-0195",
                                    "11": "lx5a4+AFGzH6mzjz6hpiR9scxbYGX8OcqFpv/cI6yFs=",
                                    "12": "hSwmBWk=",
                                    "13": "84975c44-dc82-49d3-bfc4-8f31b4c8e994",
                                    "14": "2006-09-01 00:00:00.000",
                                    "15": "71780",
                                    "16": "2",
                                    "17": "2008-06-01 00:00:00.000",
                                    "18": "2008-06-13 00:00:00.000",
                                    "19": "2008-06-08 00:00:00.000",
                                    "20": "5",
                                    "21": "0",
                                    "22": "SO71780",
                                    "23": "PO19604173239",
                                    "24": "10-4020-000340",
                                    "25": "30113",
                                    "26": "653",
                                    "27": "653",
                                    "28": "CARGO TRANSPORT 5",
                                    "29": "NULL",
                                    "30": "38418,6895",
                                    "31": "3073,4952",
                                    "32": "960,4672",
                                    "33": "42452,6519",
                                    "34": "NULL",
                                    "35": "a47665d2-7ac9-4cf3-8a8b-2a3883554284",
                                    "36": "2008-06-08 00:00:00.000",
                                    "37": "71780",
                                    "38": "110622",
                                    "39": "1",
                                    "40": "743",
                                    "41": "809,76",
                                    "42": "0,00",
                                    "43": "809.760000",
                                    "44": "8bd33bed-c4f6-4d44-84fb-a7d04afcd794",
                                    "45": "2008-06-01 00:00:00.000"
                                }
                            ]
                        },
                        "text/html": "<table><tr><th>CustomerID</th><th>NameStyle</th><th>Title</th><th>FirstName</th><th>MiddleName</th><th>LastName</th><th>Suffix</th><th>CompanyName</th><th>SalesPerson</th><th>EmailAddress</th><th>Phone</th><th>PasswordHash</th><th>PasswordSalt</th><th>rowguid</th><th>ModifiedDate</th><th>SalesOrderID</th><th>RevisionNumber</th><th>OrderDate</th><th>DueDate</th><th>ShipDate</th><th>Status</th><th>OnlineOrderFlag</th><th>SalesOrderNumber</th><th>PurchaseOrderNumber</th><th>AccountNumber</th><th>CustomerID</th><th>ShipToAddressID</th><th>BillToAddressID</th><th>ShipMethod</th><th>CreditCardApprovalCode</th><th>SubTotal</th><th>TaxAmt</th><th>Freight</th><th>TotalDue</th><th>Comment</th><th>rowguid</th><th>ModifiedDate</th><th>SalesOrderID</th><th>SalesOrderDetailID</th><th>OrderQty</th><th>ProductID</th><th>UnitPrice</th><th>UnitPriceDiscount</th><th>LineTotal</th><th>rowguid</th><th>ModifiedDate</th></tr><tr><td>29847</td><td>0</td><td>Mr.</td><td>David</td><td>NULL</td><td>Hodgson</td><td>NULL</td><td>Good Toys</td><td>adventure-works\\linda3</td><td>david16@adventure-works.com</td><td>969-555-0117</td><td>+gtwbVycsIIj2loVtrHNRN6IBLl20lQpRK8+JhzxyEo=</td><td>AwqZdYk=</td><td>fdd7d9cb-9a81-40fc-baf6-facde8da4923</td><td>2006-09-01 00:00:00.000</td><td>71774</td><td>2</td><td>2008-06-01 00:00:00.000</td><td>2008-06-13 00:00:00.000</td><td>2008-06-08 00:00:00.000</td><td>5</td><td>0</td><td>SO71774</td><td>PO348186287</td><td>10-4020-000609</td><td>29847</td><td>1092</td><td>1092</td><td>CARGO TRANSPORT 5</td><td>NULL</td><td>880,3484</td><td>70,4279</td><td>22,0087</td><td>972,785</td><td>NULL</td><td>89e42cdc-8506-48a2-b89b-eb3e64e3554e</td><td>2008-06-08 00:00:00.000</td><td>71774</td><td>110562</td><td>1</td><td>836</td><td>356,898</td><td>0,00</td><td>356.898000</td><td>e3a1994c-7a68-4ce8-96a3-77fdd3bbd730</td><td>2008-06-01 00:00:00.000</td></tr><tr><td>29847</td><td>0</td><td>Mr.</td><td>David</td><td>NULL</td><td>Hodgson</td><td>NULL</td><td>Good Toys</td><td>adventure-works\\linda3</td><td>david16@adventure-works.com</td><td>969-555-0117</td><td>+gtwbVycsIIj2loVtrHNRN6IBLl20lQpRK8+JhzxyEo=</td><td>AwqZdYk=</td><td>fdd7d9cb-9a81-40fc-baf6-facde8da4923</td><td>2006-09-01 00:00:00.000</td><td>71774</td><td>2</td><td>2008-06-01 00:00:00.000</td><td>2008-06-13 00:00:00.000</td><td>2008-06-08 00:00:00.000</td><td>5</td><td>0</td><td>SO71774</td><td>PO348186287</td><td>10-4020-000609</td><td>29847</td><td>1092</td><td>1092</td><td>CARGO TRANSPORT 5</td><td>NULL</td><td>880,3484</td><td>70,4279</td><td>22,0087</td><td>972,785</td><td>NULL</td><td>89e42cdc-8506-48a2-b89b-eb3e64e3554e</td><td>2008-06-08 00:00:00.000</td><td>71774</td><td>110563</td><td>1</td><td>822</td><td>356,898</td><td>0,00</td><td>356.898000</td><td>5c77f557-fdb6-43ba-90b9-9a7aec55ca32</td><td>2008-06-01 00:00:00.000</td></tr><tr><td>30072</td><td>0</td><td>Ms.</td><td>Andrea</td><td>A.</td><td>Thomsen</td><td>NULL</td><td>West Side Mart</td><td>adventure-works\\jae0</td><td>andrea1@adventure-works.com</td><td>1 (11) 500 555-0120</td><td>LDoJwsGCFLtxVdbdQBbN/to7zFF1skP+hWLrIrCxvAw=</td><td>NuexV8w=</td><td>9bbbddc1-8e1a-4edf-aa2f-a8abea78c940</td><td>2007-09-01 00:00:00.000</td><td>71776</td><td>2</td><td>2008-06-01 00:00:00.000</td><td>2008-06-13 00:00:00.000</td><td>2008-06-08 00:00:00.000</td><td>5</td><td>0</td><td>SO71776</td><td>PO19952192051</td><td>10-4020-000106</td><td>30072</td><td>640</td><td>640</td><td>CARGO TRANSPORT 5</td><td>NULL</td><td>78,81</td><td>6,3048</td><td>1,9703</td><td>87,0851</td><td>NULL</td><td>8a3448c5-e677-4158-a29b-dd33069be0b0</td><td>2008-06-08 00:00:00.000</td><td>71776</td><td>110567</td><td>1</td><td>907</td><td>63,90</td><td>0,00</td><td>63.900000</td><td>6dbfe398-d15d-425e-aa58-88178fe360e5</td><td>2008-06-01 00:00:00.000</td></tr><tr><td>30113</td><td>0</td><td>Mr.</td><td>Raja</td><td>D.</td><td>Venugopal</td><td>NULL</td><td>Nearby Cycle Shop</td><td>adventure-works\\jae0</td><td>raja0@adventure-works.com</td><td>1 (11) 500 555-0195</td><td>lx5a4+AFGzH6mzjz6hpiR9scxbYGX8OcqFpv/cI6yFs=</td><td>hSwmBWk=</td><td>84975c44-dc82-49d3-bfc4-8f31b4c8e994</td><td>2006-09-01 00:00:00.000</td><td>71780</td><td>2</td><td>2008-06-01 00:00:00.000</td><td>2008-06-13 00:00:00.000</td><td>2008-06-08 00:00:00.000</td><td>5</td><td>0</td><td>SO71780</td><td>PO19604173239</td><td>10-4020-000340</td><td>30113</td><td>653</td><td>653</td><td>CARGO TRANSPORT 5</td><td>NULL</td><td>38418,6895</td><td>3073,4952</td><td>960,4672</td><td>42452,6519</td><td>NULL</td><td>a47665d2-7ac9-4cf3-8a8b-2a3883554284</td><td>2008-06-08 00:00:00.000</td><td>71780</td><td>110616</td><td>4</td><td>905</td><td>218,454</td><td>0,00</td><td>873.816000</td><td>377246c9-4483-48ed-a5b9-e56f005364e0</td><td>2008-06-01 00:00:00.000</td></tr><tr><td>30113</td><td>0</td><td>Mr.</td><td>Raja</td><td>D.</td><td>Venugopal</td><td>NULL</td><td>Nearby Cycle Shop</td><td>adventure-works\\jae0</td><td>raja0@adventure-works.com</td><td>1 (11) 500 555-0195</td><td>lx5a4+AFGzH6mzjz6hpiR9scxbYGX8OcqFpv/cI6yFs=</td><td>hSwmBWk=</td><td>84975c44-dc82-49d3-bfc4-8f31b4c8e994</td><td>2006-09-01 00:00:00.000</td><td>71780</td><td>2</td><td>2008-06-01 00:00:00.000</td><td>2008-06-13 00:00:00.000</td><td>2008-06-08 00:00:00.000</td><td>5</td><td>0</td><td>SO71780</td><td>PO19604173239</td><td>10-4020-000340</td><td>30113</td><td>653</td><td>653</td><td>CARGO TRANSPORT 5</td><td>NULL</td><td>38418,6895</td><td>3073,4952</td><td>960,4672</td><td>42452,6519</td><td>NULL</td><td>a47665d2-7ac9-4cf3-8a8b-2a3883554284</td><td>2008-06-08 00:00:00.000</td><td>71780</td><td>110617</td><td>2</td><td>983</td><td>461,694</td><td>0,00</td><td>923.388000</td><td>43a54bcd-536d-4a1b-8e69-24d083507a14</td><td>2008-06-01 00:00:00.000</td></tr><tr><td>30113</td><td>0</td><td>Mr.</td><td>Raja</td><td>D.</td><td>Venugopal</td><td>NULL</td><td>Nearby Cycle Shop</td><td>adventure-works\\jae0</td><td>raja0@adventure-works.com</td><td>1 (11) 500 555-0195</td><td>lx5a4+AFGzH6mzjz6hpiR9scxbYGX8OcqFpv/cI6yFs=</td><td>hSwmBWk=</td><td>84975c44-dc82-49d3-bfc4-8f31b4c8e994</td><td>2006-09-01 00:00:00.000</td><td>71780</td><td>2</td><td>2008-06-01 00:00:00.000</td><td>2008-06-13 00:00:00.000</td><td>2008-06-08 00:00:00.000</td><td>5</td><td>0</td><td>SO71780</td><td>PO19604173239</td><td>10-4020-000340</td><td>30113</td><td>653</td><td>653</td><td>CARGO TRANSPORT 5</td><td>NULL</td><td>38418,6895</td><td>3073,4952</td><td>960,4672</td><td>42452,6519</td><td>NULL</td><td>a47665d2-7ac9-4cf3-8a8b-2a3883554284</td><td>2008-06-08 00:00:00.000</td><td>71780</td><td>110618</td><td>6</td><td>988</td><td>112,998</td><td>0,40</td><td>406.792800</td><td>12706fab-f3a2-48c6-b7c7-1ccde4081f18</td><td>2008-06-01 00:00:00.000</td></tr><tr><td>30113</td><td>0</td><td>Mr.</td><td>Raja</td><td>D.</td><td>Venugopal</td><td>NULL</td><td>Nearby Cycle Shop</td><td>adventure-works\\jae0</td><td>raja0@adventure-works.com</td><td>1 (11) 500 555-0195</td><td>lx5a4+AFGzH6mzjz6hpiR9scxbYGX8OcqFpv/cI6yFs=</td><td>hSwmBWk=</td><td>84975c44-dc82-49d3-bfc4-8f31b4c8e994</td><td>2006-09-01 00:00:00.000</td><td>71780</td><td>2</td><td>2008-06-01 00:00:00.000</td><td>2008-06-13 00:00:00.000</td><td>2008-06-08 00:00:00.000</td><td>5</td><td>0</td><td>SO71780</td><td>PO19604173239</td><td>10-4020-000340</td><td>30113</td><td>653</td><td>653</td><td>CARGO TRANSPORT 5</td><td>NULL</td><td>38418,6895</td><td>3073,4952</td><td>960,4672</td><td>42452,6519</td><td>NULL</td><td>a47665d2-7ac9-4cf3-8a8b-2a3883554284</td><td>2008-06-08 00:00:00.000</td><td>71780</td><td>110619</td><td>2</td><td>748</td><td>818,70</td><td>0,00</td><td>1637.400000</td><td>b12f0d3b-5b4e-4f1f-b2f0-f7cde99dd826</td><td>2008-06-01 00:00:00.000</td></tr><tr><td>30113</td><td>0</td><td>Mr.</td><td>Raja</td><td>D.</td><td>Venugopal</td><td>NULL</td><td>Nearby Cycle Shop</td><td>adventure-works\\jae0</td><td>raja0@adventure-works.com</td><td>1 (11) 500 555-0195</td><td>lx5a4+AFGzH6mzjz6hpiR9scxbYGX8OcqFpv/cI6yFs=</td><td>hSwmBWk=</td><td>84975c44-dc82-49d3-bfc4-8f31b4c8e994</td><td>2006-09-01 00:00:00.000</td><td>71780</td><td>2</td><td>2008-06-01 00:00:00.000</td><td>2008-06-13 00:00:00.000</td><td>2008-06-08 00:00:00.000</td><td>5</td><td>0</td><td>SO71780</td><td>PO19604173239</td><td>10-4020-000340</td><td>30113</td><td>653</td><td>653</td><td>CARGO TRANSPORT 5</td><td>NULL</td><td>38418,6895</td><td>3073,4952</td><td>960,4672</td><td>42452,6519</td><td>NULL</td><td>a47665d2-7ac9-4cf3-8a8b-2a3883554284</td><td>2008-06-08 00:00:00.000</td><td>71780</td><td>110620</td><td>1</td><td>990</td><td>323,994</td><td>0,00</td><td>323.994000</td><td>f117a449-039d-44b8-a4b2-b12001dacc01</td><td>2008-06-01 00:00:00.000</td></tr><tr><td>30113</td><td>0</td><td>Mr.</td><td>Raja</td><td>D.</td><td>Venugopal</td><td>NULL</td><td>Nearby Cycle Shop</td><td>adventure-works\\jae0</td><td>raja0@adventure-works.com</td><td>1 (11) 500 555-0195</td><td>lx5a4+AFGzH6mzjz6hpiR9scxbYGX8OcqFpv/cI6yFs=</td><td>hSwmBWk=</td><td>84975c44-dc82-49d3-bfc4-8f31b4c8e994</td><td>2006-09-01 00:00:00.000</td><td>71780</td><td>2</td><td>2008-06-01 00:00:00.000</td><td>2008-06-13 00:00:00.000</td><td>2008-06-08 00:00:00.000</td><td>5</td><td>0</td><td>SO71780</td><td>PO19604173239</td><td>10-4020-000340</td><td>30113</td><td>653</td><td>653</td><td>CARGO TRANSPORT 5</td><td>NULL</td><td>38418,6895</td><td>3073,4952</td><td>960,4672</td><td>42452,6519</td><td>NULL</td><td>a47665d2-7ac9-4cf3-8a8b-2a3883554284</td><td>2008-06-08 00:00:00.000</td><td>71780</td><td>110621</td><td>1</td><td>926</td><td>149,874</td><td>0,00</td><td>149.874000</td><td>92e5052b-72d0-4c91-9a8c-42591803667e</td><td>2008-06-01 00:00:00.000</td></tr><tr><td>30113</td><td>0</td><td>Mr.</td><td>Raja</td><td>D.</td><td>Venugopal</td><td>NULL</td><td>Nearby Cycle Shop</td><td>adventure-works\\jae0</td><td>raja0@adventure-works.com</td><td>1 (11) 500 555-0195</td><td>lx5a4+AFGzH6mzjz6hpiR9scxbYGX8OcqFpv/cI6yFs=</td><td>hSwmBWk=</td><td>84975c44-dc82-49d3-bfc4-8f31b4c8e994</td><td>2006-09-01 00:00:00.000</td><td>71780</td><td>2</td><td>2008-06-01 00:00:00.000</td><td>2008-06-13 00:00:00.000</td><td>2008-06-08 00:00:00.000</td><td>5</td><td>0</td><td>SO71780</td><td>PO19604173239</td><td>10-4020-000340</td><td>30113</td><td>653</td><td>653</td><td>CARGO TRANSPORT 5</td><td>NULL</td><td>38418,6895</td><td>3073,4952</td><td>960,4672</td><td>42452,6519</td><td>NULL</td><td>a47665d2-7ac9-4cf3-8a8b-2a3883554284</td><td>2008-06-08 00:00:00.000</td><td>71780</td><td>110622</td><td>1</td><td>743</td><td>809,76</td><td>0,00</td><td>809.760000</td><td>8bd33bed-c4f6-4d44-84fb-a7d04afcd794</td><td>2008-06-01 00:00:00.000</td></tr></table>"
                    },
                    "metadata": {}
                }
            ],
            "execution_count": 13
        },
        {
            "cell_type": "code",
            "source": [
                "SELECT SalesLT.Customer.LastName,\r\n",
                "       SalesLT.Customer.FirstName,\r\n",
                "       SUM(SalesLT.SalesOrderDetail.OrderQty*SalesLT.SalesOrderDetail.UnitPriceDiscount) as \"DiscountSum\"\r\n",
                "FROM SalesLT.Customer\r\n",
                "JOIN SalesLT.SalesOrderHeader ON SalesLT.SalesOrderHeader.CustomerID = SalesLT.Customer.CustomerID\r\n",
                "JOIN SalesLT.SalesOrderDetail ON SalesLT.SalesOrderDetail.SalesOrderID = SalesLT.SalesOrderHeader.SalesOrderID\r\n",
                "GROUP BY SalesLT.Customer.CustomerID, SalesLT.Customer.LastName, SalesLT.Customer.FirstName"
            ],
            "metadata": {
                "azdata_cell_guid": "83fce060-673c-45fd-947a-e4879a2ea140"
            },
            "outputs": [
                {
                    "output_type": "display_data",
                    "data": {
                        "text/html": "(32 rows affected)"
                    },
                    "metadata": {}
                },
                {
                    "output_type": "display_data",
                    "data": {
                        "text/html": "Total execution time: 00:00:00.076"
                    },
                    "metadata": {}
                },
                {
                    "output_type": "execute_result",
                    "metadata": {},
                    "execution_count": 13,
                    "data": {
                        "application/vnd.dataresource+json": {
                            "schema": {
                                "fields": [
                                    {
                                        "name": "LastName"
                                    },
                                    {
                                        "name": "FirstName"
                                    },
                                    {
                                        "name": "DiscountSum"
                                    }
                                ]
                            },
                            "data": [
                                {
                                    "0": "Abel",
                                    "1": "Catherine",
                                    "2": "0,00"
                                },
                                {
                                    "0": "Booth",
                                    "1": "Cory",
                                    "2": "0,26"
                                },
                                {
                                    "0": "Beck",
                                    "1": "Christopher",
                                    "2": "0,00"
                                },
                                {
                                    "0": "Blanton",
                                    "1": "Donald",
                                    "2": "0,40"
                                },
                                {
                                    "0": "Brian",
                                    "1": "Walter",
                                    "2": "0,00"
                                },
                                {
                                    "0": "Byham",
                                    "1": "Richard",
                                    "2": "0,00"
                                },
                                {
                                    "0": "Carroll",
                                    "1": "Rosmarie",
                                    "2": "0,00"
                                },
                                {
                                    "0": "Cavendish",
                                    "1": "Brigid",
                                    "2": "0,00"
                                },
                                {
                                    "0": "Chow",
                                    "1": "Pei",
                                    "2": "0,00"
                                },
                                {
                                    "0": "Chor",
                                    "1": "Anthony",
                                    "2": "0,00"
                                },
                                {
                                    "0": "Eminhizer",
                                    "1": "Terry",
                                    "2": "2,07"
                                },
                                {
                                    "0": "Esteves",
                                    "1": "Janeth",
                                    "2": "0,00"
                                },
                                {
                                    "0": "Gilbert",
                                    "1": "Guy",
                                    "2": "0,28"
                                },
                                {
                                    "0": "Grande",
                                    "1": "Jon",
                                    "2": "4,01"
                                },
                                {
                                    "0": "Hodgson",
                                    "1": "David",
                                    "2": "0,00"
                                },
                                {
                                    "0": "Jarvis",
                                    "1": "Joyce",
                                    "2": "0,00"
                                },
                                {
                                    "0": "Kotc",
                                    "1": "Pamala",
                                    "2": "2,26"
                                },
                                {
                                    "0": "Kurtz",
                                    "1": "Jeffrey",
                                    "2": "5,60"
                                },
                                {
                                    "0": "Laszlo",
                                    "1": "Rebecca",
                                    "2": "0,00"
                                },
                                {
                                    "0": "Campbell",
                                    "1": "Frank",
                                    "2": "0,80"
                                },
                                {
                                    "0": "Liu",
                                    "1": "Kevin",
                                    "2": "5,77"
                                },
                                {
                                    "0": "Mays",
                                    "1": "Walter",
                                    "2": "0,22"
                                },
                                {
                                    "0": "Marple",
                                    "1": "Melissa",
                                    "2": "0,00"
                                },
                                {
                                    "0": "Miller",
                                    "1": "Matthew",
                                    "2": "0,00"
                                },
                                {
                                    "0": "Mitchell",
                                    "1": "Linda",
                                    "2": "0,00"
                                },
                                {
                                    "0": "Mitzner",
                                    "1": "Joseph",
                                    "2": "0,00"
                                },
                                {
                                    "0": "Stern",
                                    "1": "Vassar",
                                    "2": "0,00"
                                },
                                {
                                    "0": "Sunkammurali",
                                    "1": "Krishna",
                                    "2": "5,08"
                                },
                                {
                                    "0": "Thomsen",
                                    "1": "Andrea",
                                    "2": "0,00"
                                },
                                {
                                    "0": "Troyer",
                                    "1": "Michael John",
                                    "2": "0,00"
                                },
                                {
                                    "0": "Van Houten",
                                    "1": "Roger",
                                    "2": "0,40"
                                },
                                {
                                    "0": "Venugopal",
                                    "1": "Raja",
                                    "2": "6,00"
                                }
                            ]
                        },
                        "text/html": [
                            "<table>",
                            "<tr><th>LastName</th><th>FirstName</th><th>DiscountSum</th></tr>",
                            "<tr><td>Abel</td><td>Catherine</td><td>0,00</td></tr>",
                            "<tr><td>Booth</td><td>Cory</td><td>0,26</td></tr>",
                            "<tr><td>Beck</td><td>Christopher</td><td>0,00</td></tr>",
                            "<tr><td>Blanton</td><td>Donald</td><td>0,40</td></tr>",
                            "<tr><td>Brian</td><td>Walter</td><td>0,00</td></tr>",
                            "<tr><td>Byham</td><td>Richard</td><td>0,00</td></tr>",
                            "<tr><td>Carroll</td><td>Rosmarie</td><td>0,00</td></tr>",
                            "<tr><td>Cavendish</td><td>Brigid</td><td>0,00</td></tr>",
                            "<tr><td>Chow</td><td>Pei</td><td>0,00</td></tr>",
                            "<tr><td>Chor</td><td>Anthony</td><td>0,00</td></tr>",
                            "<tr><td>Eminhizer</td><td>Terry</td><td>2,07</td></tr>",
                            "<tr><td>Esteves</td><td>Janeth</td><td>0,00</td></tr>",
                            "<tr><td>Gilbert</td><td>Guy</td><td>0,28</td></tr>",
                            "<tr><td>Grande</td><td>Jon</td><td>4,01</td></tr>",
                            "<tr><td>Hodgson</td><td>David</td><td>0,00</td></tr>",
                            "<tr><td>Jarvis</td><td>Joyce</td><td>0,00</td></tr>",
                            "<tr><td>Kotc</td><td>Pamala</td><td>2,26</td></tr>",
                            "<tr><td>Kurtz</td><td>Jeffrey</td><td>5,60</td></tr>",
                            "<tr><td>Laszlo</td><td>Rebecca</td><td>0,00</td></tr>",
                            "<tr><td>Campbell</td><td>Frank</td><td>0,80</td></tr>",
                            "<tr><td>Liu</td><td>Kevin</td><td>5,77</td></tr>",
                            "<tr><td>Mays</td><td>Walter</td><td>0,22</td></tr>",
                            "<tr><td>Marple</td><td>Melissa</td><td>0,00</td></tr>",
                            "<tr><td>Miller</td><td>Matthew</td><td>0,00</td></tr>",
                            "<tr><td>Mitchell</td><td>Linda</td><td>0,00</td></tr>",
                            "<tr><td>Mitzner</td><td>Joseph</td><td>0,00</td></tr>",
                            "<tr><td>Stern</td><td>Vassar</td><td>0,00</td></tr>",
                            "<tr><td>Sunkammurali</td><td>Krishna</td><td>5,08</td></tr>",
                            "<tr><td>Thomsen</td><td>Andrea</td><td>0,00</td></tr>",
                            "<tr><td>Troyer</td><td>Michael John</td><td>0,00</td></tr>",
                            "<tr><td>Van Houten</td><td>Roger</td><td>0,40</td></tr>",
                            "<tr><td>Venugopal</td><td>Raja</td><td>6,00</td></tr>",
                            "</table>"
                        ]
                    }
                }
            ],
            "execution_count": 13
        }
    ]
}