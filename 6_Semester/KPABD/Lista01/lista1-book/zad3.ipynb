{
    "metadata": {
        "kernelspec": {
            "name": "SQL",
            "display_name": "SQL",
            "language": "sql"
        },
        "language_info": {
            "name": "sql",
            "version": ""
        }
    },
    "nbformat_minor": 2,
    "nbformat": 4,
    "cells": [
        {
            "cell_type": "markdown",
            "source": [
                "**Zad 3**\n",
                "\n",
                "Utworzyć zapytanie, które w wyniku zwróci trzy kolumny: nazwę miasta (z tabeli Address), liczbą klientów z tego miasta, liczbą SalesPerson obsługujących klientów z tego miasta."
            ],
            "metadata": {
                "azdata_cell_guid": "441a2165-50a2-46f2-a2f6-1d2b10685d65"
            },
            "attachments": {}
        },
        {
            "cell_type": "code",
            "source": [
                "SELECT TOP 5 *\r\n",
                "FROM SalesLT.Address"
            ],
            "metadata": {
                "azdata_cell_guid": "42431e02-ac6d-4f25-8e43-f48b968c9a85"
            },
            "outputs": [
                {
                    "output_type": "display_data",
                    "data": {
                        "text/html": "(5 rows affected)"
                    },
                    "metadata": {}
                },
                {
                    "output_type": "display_data",
                    "data": {
                        "text/html": "Total execution time: 00:00:00.057"
                    },
                    "metadata": {}
                },
                {
                    "output_type": "execute_result",
                    "execution_count": 1,
                    "data": {
                        "application/vnd.dataresource+json": {
                            "schema": {
                                "fields": [
                                    {
                                        "name": "AddressID"
                                    },
                                    {
                                        "name": "AddressLine1"
                                    },
                                    {
                                        "name": "AddressLine2"
                                    },
                                    {
                                        "name": "City"
                                    },
                                    {
                                        "name": "StateProvince"
                                    },
                                    {
                                        "name": "CountryRegion"
                                    },
                                    {
                                        "name": "PostalCode"
                                    },
                                    {
                                        "name": "rowguid"
                                    },
                                    {
                                        "name": "ModifiedDate"
                                    }
                                ]
                            },
                            "data": [
                                {
                                    "0": "9",
                                    "1": "8713 Yosemite Ct.",
                                    "2": "NULL",
                                    "3": "Bothell",
                                    "4": "Washington",
                                    "5": "United States",
                                    "6": "98011",
                                    "7": "268af621-76d7-4c78-9441-144fd139821a",
                                    "8": "2006-07-01 00:00:00.000"
                                },
                                {
                                    "0": "11",
                                    "1": "1318 Lasalle Street",
                                    "2": "NULL",
                                    "3": "Bothell",
                                    "4": "Washington",
                                    "5": "United States",
                                    "6": "98011",
                                    "7": "981b3303-aca2-49c7-9a96-fb670785b269",
                                    "8": "2007-04-01 00:00:00.000"
                                },
                                {
                                    "0": "25",
                                    "1": "9178 Jumping St.",
                                    "2": "NULL",
                                    "3": "Dallas",
                                    "4": "Texas",
                                    "5": "United States",
                                    "6": "75201",
                                    "7": "c8df3bd9-48f0-4654-a8dd-14a67a84d3c6",
                                    "8": "2006-09-01 00:00:00.000"
                                },
                                {
                                    "0": "28",
                                    "1": "9228 Via Del Sol",
                                    "2": "NULL",
                                    "3": "Phoenix",
                                    "4": "Arizona",
                                    "5": "United States",
                                    "6": "85004",
                                    "7": "12ae5ee1-fc3e-468b-9b92-3b970b169774",
                                    "8": "2005-09-01 00:00:00.000"
                                },
                                {
                                    "0": "32",
                                    "1": "26910 Indela Road",
                                    "2": "NULL",
                                    "3": "Montreal",
                                    "4": "Quebec",
                                    "5": "Canada",
                                    "6": "H1Y 2H5",
                                    "7": "84a95f62-3ae8-4e7e-bbd5-5a6f00cd982d",
                                    "8": "2006-08-01 00:00:00.000"
                                }
                            ]
                        },
                        "text/html": "<table><tr><th>AddressID</th><th>AddressLine1</th><th>AddressLine2</th><th>City</th><th>StateProvince</th><th>CountryRegion</th><th>PostalCode</th><th>rowguid</th><th>ModifiedDate</th></tr><tr><td>9</td><td>8713 Yosemite Ct.</td><td>NULL</td><td>Bothell</td><td>Washington</td><td>United States</td><td>98011</td><td>268af621-76d7-4c78-9441-144fd139821a</td><td>2006-07-01 00:00:00.000</td></tr><tr><td>11</td><td>1318 Lasalle Street</td><td>NULL</td><td>Bothell</td><td>Washington</td><td>United States</td><td>98011</td><td>981b3303-aca2-49c7-9a96-fb670785b269</td><td>2007-04-01 00:00:00.000</td></tr><tr><td>25</td><td>9178 Jumping St.</td><td>NULL</td><td>Dallas</td><td>Texas</td><td>United States</td><td>75201</td><td>c8df3bd9-48f0-4654-a8dd-14a67a84d3c6</td><td>2006-09-01 00:00:00.000</td></tr><tr><td>28</td><td>9228 Via Del Sol</td><td>NULL</td><td>Phoenix</td><td>Arizona</td><td>United States</td><td>85004</td><td>12ae5ee1-fc3e-468b-9b92-3b970b169774</td><td>2005-09-01 00:00:00.000</td></tr><tr><td>32</td><td>26910 Indela Road</td><td>NULL</td><td>Montreal</td><td>Quebec</td><td>Canada</td><td>H1Y 2H5</td><td>84a95f62-3ae8-4e7e-bbd5-5a6f00cd982d</td><td>2006-08-01 00:00:00.000</td></tr></table>"
                    },
                    "metadata": {}
                }
            ],
            "execution_count": 1
        },
        {
            "cell_type": "code",
            "source": [
                "SELECT TOP 5 *\r\n",
                "FROM SalesLT.Customer"
            ],
            "metadata": {
                "azdata_cell_guid": "947717f9-866d-49e6-9231-9aa55ace3392"
            },
            "outputs": [
                {
                    "output_type": "display_data",
                    "data": {
                        "text/html": "(5 rows affected)"
                    },
                    "metadata": {}
                },
                {
                    "output_type": "display_data",
                    "data": {
                        "text/html": "Total execution time: 00:00:00.065"
                    },
                    "metadata": {}
                },
                {
                    "output_type": "execute_result",
                    "execution_count": 2,
                    "data": {
                        "application/vnd.dataresource+json": {
                            "schema": {
                                "fields": [
                                    {
                                        "name": "CustomerID"
                                    },
                                    {
                                        "name": "NameStyle"
                                    },
                                    {
                                        "name": "Title"
                                    },
                                    {
                                        "name": "FirstName"
                                    },
                                    {
                                        "name": "MiddleName"
                                    },
                                    {
                                        "name": "LastName"
                                    },
                                    {
                                        "name": "Suffix"
                                    },
                                    {
                                        "name": "CompanyName"
                                    },
                                    {
                                        "name": "SalesPerson"
                                    },
                                    {
                                        "name": "EmailAddress"
                                    },
                                    {
                                        "name": "Phone"
                                    },
                                    {
                                        "name": "PasswordHash"
                                    },
                                    {
                                        "name": "PasswordSalt"
                                    },
                                    {
                                        "name": "rowguid"
                                    },
                                    {
                                        "name": "ModifiedDate"
                                    }
                                ]
                            },
                            "data": [
                                {
                                    "0": "1",
                                    "1": "0",
                                    "2": "Mr.",
                                    "3": "Orlando",
                                    "4": "N.",
                                    "5": "Gee",
                                    "6": "NULL",
                                    "7": "A Bike Store",
                                    "8": "adventure-works\\pamela0",
                                    "9": "orlando0@adventure-works.com",
                                    "10": "245-555-0173",
                                    "11": "L/Rlwxzp4w7RWmEgXX+/A7cXaePEPcp+KwQhl2fJL7w=",
                                    "12": "1KjXYs4=",
                                    "13": "3f5ae95e-b87d-4aed-95b4-c3797afcb74f",
                                    "14": "2005-08-01 00:00:00.000"
                                },
                                {
                                    "0": "2",
                                    "1": "0",
                                    "2": "Mr.",
                                    "3": "Keith",
                                    "4": "NULL",
                                    "5": "Harris",
                                    "6": "NULL",
                                    "7": "Progressive Sports",
                                    "8": "adventure-works\\david8",
                                    "9": "keith0@adventure-works.com",
                                    "10": "170-555-0127",
                                    "11": "YPdtRdvqeAhj6wyxEsFdshBDNXxkCXn+CRgbvJItknw=",
                                    "12": "fs1ZGhY=",
                                    "13": "e552f657-a9af-4a7d-a645-c429d6e02491",
                                    "14": "2006-08-01 00:00:00.000"
                                },
                                {
                                    "0": "3",
                                    "1": "0",
                                    "2": "Ms.",
                                    "3": "Donna",
                                    "4": "F.",
                                    "5": "Carreras",
                                    "6": "NULL",
                                    "7": "Advanced Bike Components",
                                    "8": "adventure-works\\jillian0",
                                    "9": "donna0@adventure-works.com",
                                    "10": "279-555-0130",
                                    "11": "LNoK27abGQo48gGue3EBV/UrlYSToV0/s87dCRV7uJk=",
                                    "12": "YTNH5Rw=",
                                    "13": "130774b1-db21-4ef3-98c8-c104bcd6ed6d",
                                    "14": "2005-09-01 00:00:00.000"
                                },
                                {
                                    "0": "4",
                                    "1": "0",
                                    "2": "Ms.",
                                    "3": "Janet",
                                    "4": "M.",
                                    "5": "Gates",
                                    "6": "NULL",
                                    "7": "Modular Cycle Systems",
                                    "8": "adventure-works\\jillian0",
                                    "9": "janet1@adventure-works.com",
                                    "10": "710-555-0173",
                                    "11": "ElzTpSNbUW1Ut+L5cWlfR7MF6nBZia8WpmGaQPjLOJA=",
                                    "12": "nm7D5e4=",
                                    "13": "ff862851-1daa-4044-be7c-3e85583c054d",
                                    "14": "2006-07-01 00:00:00.000"
                                },
                                {
                                    "0": "5",
                                    "1": "0",
                                    "2": "Mr.",
                                    "3": "Lucy",
                                    "4": "NULL",
                                    "5": "Harrington",
                                    "6": "NULL",
                                    "7": "Metropolitan Sports Supply",
                                    "8": "adventure-works\\shu0",
                                    "9": "lucy0@adventure-works.com",
                                    "10": "828-555-0186",
                                    "11": "KJqV15wsX3PG8TS5GSddp6LFFVdd3CoRftZM/tP0+R4=",
                                    "12": "cNFKU4w=",
                                    "13": "83905bdc-6f5e-4f71-b162-c98da069f38a",
                                    "14": "2006-09-01 00:00:00.000"
                                }
                            ]
                        },
                        "text/html": "<table><tr><th>CustomerID</th><th>NameStyle</th><th>Title</th><th>FirstName</th><th>MiddleName</th><th>LastName</th><th>Suffix</th><th>CompanyName</th><th>SalesPerson</th><th>EmailAddress</th><th>Phone</th><th>PasswordHash</th><th>PasswordSalt</th><th>rowguid</th><th>ModifiedDate</th></tr><tr><td>1</td><td>0</td><td>Mr.</td><td>Orlando</td><td>N.</td><td>Gee</td><td>NULL</td><td>A Bike Store</td><td>adventure-works\\pamela0</td><td>orlando0@adventure-works.com</td><td>245-555-0173</td><td>L/Rlwxzp4w7RWmEgXX+/A7cXaePEPcp+KwQhl2fJL7w=</td><td>1KjXYs4=</td><td>3f5ae95e-b87d-4aed-95b4-c3797afcb74f</td><td>2005-08-01 00:00:00.000</td></tr><tr><td>2</td><td>0</td><td>Mr.</td><td>Keith</td><td>NULL</td><td>Harris</td><td>NULL</td><td>Progressive Sports</td><td>adventure-works\\david8</td><td>keith0@adventure-works.com</td><td>170-555-0127</td><td>YPdtRdvqeAhj6wyxEsFdshBDNXxkCXn+CRgbvJItknw=</td><td>fs1ZGhY=</td><td>e552f657-a9af-4a7d-a645-c429d6e02491</td><td>2006-08-01 00:00:00.000</td></tr><tr><td>3</td><td>0</td><td>Ms.</td><td>Donna</td><td>F.</td><td>Carreras</td><td>NULL</td><td>Advanced Bike Components</td><td>adventure-works\\jillian0</td><td>donna0@adventure-works.com</td><td>279-555-0130</td><td>LNoK27abGQo48gGue3EBV/UrlYSToV0/s87dCRV7uJk=</td><td>YTNH5Rw=</td><td>130774b1-db21-4ef3-98c8-c104bcd6ed6d</td><td>2005-09-01 00:00:00.000</td></tr><tr><td>4</td><td>0</td><td>Ms.</td><td>Janet</td><td>M.</td><td>Gates</td><td>NULL</td><td>Modular Cycle Systems</td><td>adventure-works\\jillian0</td><td>janet1@adventure-works.com</td><td>710-555-0173</td><td>ElzTpSNbUW1Ut+L5cWlfR7MF6nBZia8WpmGaQPjLOJA=</td><td>nm7D5e4=</td><td>ff862851-1daa-4044-be7c-3e85583c054d</td><td>2006-07-01 00:00:00.000</td></tr><tr><td>5</td><td>0</td><td>Mr.</td><td>Lucy</td><td>NULL</td><td>Harrington</td><td>NULL</td><td>Metropolitan Sports Supply</td><td>adventure-works\\shu0</td><td>lucy0@adventure-works.com</td><td>828-555-0186</td><td>KJqV15wsX3PG8TS5GSddp6LFFVdd3CoRftZM/tP0+R4=</td><td>cNFKU4w=</td><td>83905bdc-6f5e-4f71-b162-c98da069f38a</td><td>2006-09-01 00:00:00.000</td></tr></table>"
                    },
                    "metadata": {}
                }
            ],
            "execution_count": 2
        },
        {
            "cell_type": "code",
            "source": [
                "SELECT TOP 5 *\r\n",
                "FROM SalesLT.CustomerAddress"
            ],
            "metadata": {
                "azdata_cell_guid": "e568be63-bcb5-4778-93ec-4c9f1d041cce"
            },
            "outputs": [
                {
                    "output_type": "display_data",
                    "data": {
                        "text/html": "(5 rows affected)"
                    },
                    "metadata": {}
                },
                {
                    "output_type": "display_data",
                    "data": {
                        "text/html": "Total execution time: 00:00:00.051"
                    },
                    "metadata": {}
                },
                {
                    "output_type": "execute_result",
                    "execution_count": 4,
                    "data": {
                        "application/vnd.dataresource+json": {
                            "schema": {
                                "fields": [
                                    {
                                        "name": "CustomerID"
                                    },
                                    {
                                        "name": "AddressID"
                                    },
                                    {
                                        "name": "AddressType"
                                    },
                                    {
                                        "name": "rowguid"
                                    },
                                    {
                                        "name": "ModifiedDate"
                                    }
                                ]
                            },
                            "data": [
                                {
                                    "0": "29485",
                                    "1": "1086",
                                    "2": "Main Office",
                                    "3": "16765338-dbe4-4421-b5e9-3836b9278e63",
                                    "4": "2007-09-01 00:00:00.000"
                                },
                                {
                                    "0": "29486",
                                    "1": "621",
                                    "2": "Main Office",
                                    "3": "22b3e910-14af-4ed5-8b4d-23bbe757414d",
                                    "4": "2005-09-01 00:00:00.000"
                                },
                                {
                                    "0": "29489",
                                    "1": "1069",
                                    "2": "Main Office",
                                    "3": "a095c88b-d7e6-4178-a078-2eca44214801",
                                    "4": "2005-07-01 00:00:00.000"
                                },
                                {
                                    "0": "29490",
                                    "1": "887",
                                    "2": "Main Office",
                                    "3": "f12e1702-d897-4035-b614-0fe2c72168a9",
                                    "4": "2006-09-01 00:00:00.000"
                                },
                                {
                                    "0": "29492",
                                    "1": "618",
                                    "2": "Main Office",
                                    "3": "5b3b3eb2-3f43-47ed-a20c-23697dabf23b",
                                    "4": "2006-12-01 00:00:00.000"
                                }
                            ]
                        },
                        "text/html": "<table><tr><th>CustomerID</th><th>AddressID</th><th>AddressType</th><th>rowguid</th><th>ModifiedDate</th></tr><tr><td>29485</td><td>1086</td><td>Main Office</td><td>16765338-dbe4-4421-b5e9-3836b9278e63</td><td>2007-09-01 00:00:00.000</td></tr><tr><td>29486</td><td>621</td><td>Main Office</td><td>22b3e910-14af-4ed5-8b4d-23bbe757414d</td><td>2005-09-01 00:00:00.000</td></tr><tr><td>29489</td><td>1069</td><td>Main Office</td><td>a095c88b-d7e6-4178-a078-2eca44214801</td><td>2005-07-01 00:00:00.000</td></tr><tr><td>29490</td><td>887</td><td>Main Office</td><td>f12e1702-d897-4035-b614-0fe2c72168a9</td><td>2006-09-01 00:00:00.000</td></tr><tr><td>29492</td><td>618</td><td>Main Office</td><td>5b3b3eb2-3f43-47ed-a20c-23697dabf23b</td><td>2006-12-01 00:00:00.000</td></tr></table>"
                    },
                    "metadata": {}
                }
            ],
            "execution_count": 4
        },
        {
            "cell_type": "markdown",
            "source": [
                "double join"
            ],
            "metadata": {
                "azdata_cell_guid": "dc2d4205-2db5-4582-96c9-84307793738f"
            },
            "attachments": {}
        },
        {
            "cell_type": "code",
            "source": [
                "SELECT TOP 5 *\r\n",
                "FROM SalesLT.CustomerAddress\r\n",
                "JOIN SalesLT.Address ON SalesLT.Address.AddressID = SalesLT.CustomerAddress.AddressID\r\n",
                "JOIN SalesLT.Customer ON SalesLT.Customer.CustomerID = SalesLT.CustomerAddress.CustomerID"
            ],
            "metadata": {
                "azdata_cell_guid": "f725c343-7652-435e-8361-41a1e916afd1"
            },
            "outputs": [
                {
                    "output_type": "display_data",
                    "data": {
                        "text/html": "(5 rows affected)"
                    },
                    "metadata": {}
                },
                {
                    "output_type": "display_data",
                    "data": {
                        "text/html": "Total execution time: 00:00:00.067"
                    },
                    "metadata": {}
                },
                {
                    "output_type": "execute_result",
                    "execution_count": 6,
                    "data": {
                        "application/vnd.dataresource+json": {
                            "schema": {
                                "fields": [
                                    {
                                        "name": "CustomerID"
                                    },
                                    {
                                        "name": "AddressID"
                                    },
                                    {
                                        "name": "AddressType"
                                    },
                                    {
                                        "name": "rowguid"
                                    },
                                    {
                                        "name": "ModifiedDate"
                                    },
                                    {
                                        "name": "AddressID"
                                    },
                                    {
                                        "name": "AddressLine1"
                                    },
                                    {
                                        "name": "AddressLine2"
                                    },
                                    {
                                        "name": "City"
                                    },
                                    {
                                        "name": "StateProvince"
                                    },
                                    {
                                        "name": "CountryRegion"
                                    },
                                    {
                                        "name": "PostalCode"
                                    },
                                    {
                                        "name": "rowguid"
                                    },
                                    {
                                        "name": "ModifiedDate"
                                    },
                                    {
                                        "name": "CustomerID"
                                    },
                                    {
                                        "name": "NameStyle"
                                    },
                                    {
                                        "name": "Title"
                                    },
                                    {
                                        "name": "FirstName"
                                    },
                                    {
                                        "name": "MiddleName"
                                    },
                                    {
                                        "name": "LastName"
                                    },
                                    {
                                        "name": "Suffix"
                                    },
                                    {
                                        "name": "CompanyName"
                                    },
                                    {
                                        "name": "SalesPerson"
                                    },
                                    {
                                        "name": "EmailAddress"
                                    },
                                    {
                                        "name": "Phone"
                                    },
                                    {
                                        "name": "PasswordHash"
                                    },
                                    {
                                        "name": "PasswordSalt"
                                    },
                                    {
                                        "name": "rowguid"
                                    },
                                    {
                                        "name": "ModifiedDate"
                                    }
                                ]
                            },
                            "data": [
                                {
                                    "0": "29485",
                                    "1": "1086",
                                    "2": "Main Office",
                                    "3": "16765338-dbe4-4421-b5e9-3836b9278e63",
                                    "4": "2007-09-01 00:00:00.000",
                                    "5": "1086",
                                    "6": "57251 Serene Blvd",
                                    "7": "NULL",
                                    "8": "Van Nuys",
                                    "9": "California",
                                    "10": "United States",
                                    "11": "91411",
                                    "12": "7df3a412-f2b3-4abb-88e1-21d4677f1311",
                                    "13": "2007-09-01 00:00:00.000",
                                    "14": "29485",
                                    "15": "0",
                                    "16": "Ms.",
                                    "17": "Catherine",
                                    "18": "R.",
                                    "19": "Abel",
                                    "20": "NULL",
                                    "21": "Professional Sales and Service",
                                    "22": "adventure-works\\linda3",
                                    "23": "catherine0@adventure-works.com",
                                    "24": "747-555-0171",
                                    "25": "zh3goJUbYsPv92k4bVZuJtlLHwuvpQtu6uNcjkKSdF8=",
                                    "26": "rpyd5Tw=",
                                    "27": "392ae773-d7ec-48ac-b8d0-6e65b770285c",
                                    "28": "2009-05-16 16:33:33.077"
                                },
                                {
                                    "0": "29486",
                                    "1": "621",
                                    "2": "Main Office",
                                    "3": "22b3e910-14af-4ed5-8b4d-23bbe757414d",
                                    "4": "2005-09-01 00:00:00.000",
                                    "5": "621",
                                    "6": "Tanger Factory",
                                    "7": "NULL",
                                    "8": "Branch",
                                    "9": "Minnesota",
                                    "10": "United States",
                                    "11": "55056",
                                    "12": "75d18db1-c9ef-4dad-bbd2-697ff73faf6c",
                                    "13": "2005-09-01 00:00:00.000",
                                    "14": "29486",
                                    "15": "0",
                                    "16": "Ms.",
                                    "17": "Kim",
                                    "18": "NULL",
                                    "19": "Abercrombie",
                                    "20": "NULL",
                                    "21": "Riders Company",
                                    "22": "adventure-works\\jillian0",
                                    "23": "kim2@adventure-works.com",
                                    "24": "334-555-0137",
                                    "25": "4I8349R6c33cK+j1ef3dZt0JHOQ9MV7OvEXpCbwhQrQ=",
                                    "26": "rrgbG/U=",
                                    "27": "2a5aba2e-8db0-4856-a773-21d185f1679e",
                                    "28": "2009-05-16 16:33:33.077"
                                },
                                {
                                    "0": "29489",
                                    "1": "1069",
                                    "2": "Main Office",
                                    "3": "a095c88b-d7e6-4178-a078-2eca44214801",
                                    "4": "2005-07-01 00:00:00.000",
                                    "5": "1069",
                                    "6": "6900 Sisk Road",
                                    "7": "NULL",
                                    "8": "Modesto",
                                    "9": "California",
                                    "10": "United States",
                                    "11": "95354",
                                    "12": "60110399-edf3-4c06-ac87-1d9856e9d2e3",
                                    "13": "2005-07-01 00:00:00.000",
                                    "14": "29489",
                                    "15": "0",
                                    "16": "Ms.",
                                    "17": "Frances",
                                    "18": "B.",
                                    "19": "Adams",
                                    "20": "NULL",
                                    "21": "Area Bike Accessories",
                                    "22": "adventure-works\\shu0",
                                    "23": "frances0@adventure-works.com",
                                    "24": "991-555-0183",
                                    "25": "bmEI+phqLCE2jKmotM8SBAICQD2IvZEmy8X0LmUpMaw=",
                                    "26": "jA7oD80=",
                                    "27": "c353fe38-6147-40a3-944d-3736f6297b8c",
                                    "28": "2009-05-16 16:33:33.090"
                                },
                                {
                                    "0": "29490",
                                    "1": "887",
                                    "2": "Main Office",
                                    "3": "f12e1702-d897-4035-b614-0fe2c72168a9",
                                    "4": "2006-09-01 00:00:00.000",
                                    "5": "887",
                                    "6": "Lewiston Mall",
                                    "7": "NULL",
                                    "8": "Lewiston",
                                    "9": "Idaho",
                                    "10": "United States",
                                    "11": "83501",
                                    "12": "4ddbacc9-7898-403e-856a-128e34245424",
                                    "13": "2006-09-01 00:00:00.000",
                                    "14": "29490",
                                    "15": "0",
                                    "16": "Ms.",
                                    "17": "Margaret",
                                    "18": "J.",
                                    "19": "Smith",
                                    "20": "NULL",
                                    "21": "Bicycle Accessories and Kits",
                                    "22": "adventure-works\\david8",
                                    "23": "margaret0@adventure-works.com",
                                    "24": "959-555-0151",
                                    "25": "3cd7qJyW8ZTgRdwOO9nLYDZg2EM6lehJe/nqKlKKcPY=",
                                    "26": "i2U3DxA=",
                                    "27": "7f2d6183-6aee-4ad1-973d-f45a19b70bf7",
                                    "28": "2009-05-16 16:33:33.107"
                                },
                                {
                                    "0": "29492",
                                    "1": "618",
                                    "2": "Main Office",
                                    "3": "5b3b3eb2-3f43-47ed-a20c-23697dabf23b",
                                    "4": "2006-12-01 00:00:00.000",
                                    "5": "618",
                                    "6": "Blue Ridge Mall",
                                    "7": "NULL",
                                    "8": "Kansas City",
                                    "9": "Missouri",
                                    "10": "United States",
                                    "11": "64106",
                                    "12": "8612fbad-3ce1-435b-be0b-5a48ddbd2b62",
                                    "13": "2006-12-01 00:00:00.000",
                                    "14": "29492",
                                    "15": "0",
                                    "16": "Mr.",
                                    "17": "Jay",
                                    "18": "NULL",
                                    "19": "Adams",
                                    "20": "NULL",
                                    "21": "Valley Bicycle Specialists",
                                    "22": "adventure-works\\jillian0",
                                    "23": "jay1@adventure-works.com",
                                    "24": "158-555-0142",
                                    "25": "jCFDuqUMHmknfadTRSkMvN0IDObtE/GslvN9q2Wa5xU=",
                                    "26": "117fxZM=",
                                    "27": "7a2eb695-b6b9-48d4-bad2-bd33e8ce8ca1",
                                    "28": "2009-05-16 16:33:33.123"
                                }
                            ]
                        },
                        "text/html": "<table><tr><th>CustomerID</th><th>AddressID</th><th>AddressType</th><th>rowguid</th><th>ModifiedDate</th><th>AddressID</th><th>AddressLine1</th><th>AddressLine2</th><th>City</th><th>StateProvince</th><th>CountryRegion</th><th>PostalCode</th><th>rowguid</th><th>ModifiedDate</th><th>CustomerID</th><th>NameStyle</th><th>Title</th><th>FirstName</th><th>MiddleName</th><th>LastName</th><th>Suffix</th><th>CompanyName</th><th>SalesPerson</th><th>EmailAddress</th><th>Phone</th><th>PasswordHash</th><th>PasswordSalt</th><th>rowguid</th><th>ModifiedDate</th></tr><tr><td>29485</td><td>1086</td><td>Main Office</td><td>16765338-dbe4-4421-b5e9-3836b9278e63</td><td>2007-09-01 00:00:00.000</td><td>1086</td><td>57251 Serene Blvd</td><td>NULL</td><td>Van Nuys</td><td>California</td><td>United States</td><td>91411</td><td>7df3a412-f2b3-4abb-88e1-21d4677f1311</td><td>2007-09-01 00:00:00.000</td><td>29485</td><td>0</td><td>Ms.</td><td>Catherine</td><td>R.</td><td>Abel</td><td>NULL</td><td>Professional Sales and Service</td><td>adventure-works\\linda3</td><td>catherine0@adventure-works.com</td><td>747-555-0171</td><td>zh3goJUbYsPv92k4bVZuJtlLHwuvpQtu6uNcjkKSdF8=</td><td>rpyd5Tw=</td><td>392ae773-d7ec-48ac-b8d0-6e65b770285c</td><td>2009-05-16 16:33:33.077</td></tr><tr><td>29486</td><td>621</td><td>Main Office</td><td>22b3e910-14af-4ed5-8b4d-23bbe757414d</td><td>2005-09-01 00:00:00.000</td><td>621</td><td>Tanger Factory</td><td>NULL</td><td>Branch</td><td>Minnesota</td><td>United States</td><td>55056</td><td>75d18db1-c9ef-4dad-bbd2-697ff73faf6c</td><td>2005-09-01 00:00:00.000</td><td>29486</td><td>0</td><td>Ms.</td><td>Kim</td><td>NULL</td><td>Abercrombie</td><td>NULL</td><td>Riders Company</td><td>adventure-works\\jillian0</td><td>kim2@adventure-works.com</td><td>334-555-0137</td><td>4I8349R6c33cK+j1ef3dZt0JHOQ9MV7OvEXpCbwhQrQ=</td><td>rrgbG/U=</td><td>2a5aba2e-8db0-4856-a773-21d185f1679e</td><td>2009-05-16 16:33:33.077</td></tr><tr><td>29489</td><td>1069</td><td>Main Office</td><td>a095c88b-d7e6-4178-a078-2eca44214801</td><td>2005-07-01 00:00:00.000</td><td>1069</td><td>6900 Sisk Road</td><td>NULL</td><td>Modesto</td><td>California</td><td>United States</td><td>95354</td><td>60110399-edf3-4c06-ac87-1d9856e9d2e3</td><td>2005-07-01 00:00:00.000</td><td>29489</td><td>0</td><td>Ms.</td><td>Frances</td><td>B.</td><td>Adams</td><td>NULL</td><td>Area Bike Accessories</td><td>adventure-works\\shu0</td><td>frances0@adventure-works.com</td><td>991-555-0183</td><td>bmEI+phqLCE2jKmotM8SBAICQD2IvZEmy8X0LmUpMaw=</td><td>jA7oD80=</td><td>c353fe38-6147-40a3-944d-3736f6297b8c</td><td>2009-05-16 16:33:33.090</td></tr><tr><td>29490</td><td>887</td><td>Main Office</td><td>f12e1702-d897-4035-b614-0fe2c72168a9</td><td>2006-09-01 00:00:00.000</td><td>887</td><td>Lewiston Mall</td><td>NULL</td><td>Lewiston</td><td>Idaho</td><td>United States</td><td>83501</td><td>4ddbacc9-7898-403e-856a-128e34245424</td><td>2006-09-01 00:00:00.000</td><td>29490</td><td>0</td><td>Ms.</td><td>Margaret</td><td>J.</td><td>Smith</td><td>NULL</td><td>Bicycle Accessories and Kits</td><td>adventure-works\\david8</td><td>margaret0@adventure-works.com</td><td>959-555-0151</td><td>3cd7qJyW8ZTgRdwOO9nLYDZg2EM6lehJe/nqKlKKcPY=</td><td>i2U3DxA=</td><td>7f2d6183-6aee-4ad1-973d-f45a19b70bf7</td><td>2009-05-16 16:33:33.107</td></tr><tr><td>29492</td><td>618</td><td>Main Office</td><td>5b3b3eb2-3f43-47ed-a20c-23697dabf23b</td><td>2006-12-01 00:00:00.000</td><td>618</td><td>Blue Ridge Mall</td><td>NULL</td><td>Kansas City</td><td>Missouri</td><td>United States</td><td>64106</td><td>8612fbad-3ce1-435b-be0b-5a48ddbd2b62</td><td>2006-12-01 00:00:00.000</td><td>29492</td><td>0</td><td>Mr.</td><td>Jay</td><td>NULL</td><td>Adams</td><td>NULL</td><td>Valley Bicycle Specialists</td><td>adventure-works\\jillian0</td><td>jay1@adventure-works.com</td><td>158-555-0142</td><td>jCFDuqUMHmknfadTRSkMvN0IDObtE/GslvN9q2Wa5xU=</td><td>117fxZM=</td><td>7a2eb695-b6b9-48d4-bad2-bd33e8ce8ca1</td><td>2009-05-16 16:33:33.123</td></tr></table>"
                    },
                    "metadata": {}
                }
            ],
            "execution_count": 6
        },
        {
            "cell_type": "code",
            "source": [
                "SELECT\r\n",
                "       SalesLT.Address.City, \r\n",
                "       COUNT(DISTINCT SalesLT.Customer.CustomerID) as \"CustomerCount\",\r\n",
                "       COUNT(DISTINCT SalesLT.Customer.SalesPerson) as \"SalesPersonCount\"\r\n",
                "FROM SalesLT.CustomerAddress\r\n",
                "LEFT JOIN SalesLT.Address ON SalesLT.Address.AddressID = SalesLT.CustomerAddress.AddressID\r\n",
                "LEFT JOIN SalesLT.Customer ON SalesLT.Customer.CustomerID = SalesLT.CustomerAddress.CustomerID\r\n",
                "GROUP BY SalesLt.Address.City\r\n",
                ""
            ],
            "metadata": {
                "azdata_cell_guid": "37e80f53-e68c-43b2-9ac5-28ef1b90a573"
            },
            "outputs": [
                {
                    "output_type": "display_data",
                    "data": {
                        "text/html": "(30 rows affected)"
                    },
                    "metadata": {}
                },
                {
                    "output_type": "display_data",
                    "data": {
                        "text/html": "Total execution time: 00:00:00.063"
                    },
                    "metadata": {}
                },
                {
                    "output_type": "execute_result",
                    "execution_count": 1,
                    "data": {
                        "application/vnd.dataresource+json": {
                            "schema": {
                                "fields": [
                                    {
                                        "name": "City"
                                    },
                                    {
                                        "name": "CustomerCount"
                                    },
                                    {
                                        "name": "SalesPersonCount"
                                    }
                                ]
                            },
                            "data": [
                                {
                                    "0": "Abingdon",
                                    "1": "1",
                                    "2": "1"
                                },
                                {
                                    "0": "Albany",
                                    "1": "1",
                                    "2": "1"
                                },
                                {
                                    "0": "Alhambra",
                                    "1": "1",
                                    "2": "1"
                                },
                                {
                                    "0": "Arlington",
                                    "1": "1",
                                    "2": "1"
                                },
                                {
                                    "0": "Auburn",
                                    "1": "1",
                                    "2": "1"
                                },
                                {
                                    "0": "Aurora",
                                    "1": "1",
                                    "2": "1"
                                },
                                {
                                    "0": "Austin",
                                    "1": "1",
                                    "2": "1"
                                },
                                {
                                    "0": "Baldwin Park",
                                    "1": "1",
                                    "2": "1"
                                },
                                {
                                    "0": "Barrie",
                                    "1": "1",
                                    "2": "1"
                                },
                                {
                                    "0": "Barstow",
                                    "1": "1",
                                    "2": "1"
                                },
                                {
                                    "0": "Basingstoke Hants",
                                    "1": "1",
                                    "2": "1"
                                },
                                {
                                    "0": "Baytown",
                                    "1": "1",
                                    "2": "1"
                                },
                                {
                                    "0": "Beaverton",
                                    "1": "2",
                                    "2": "2"
                                },
                                {
                                    "0": "Bell Gardens",
                                    "1": "1",
                                    "2": "1"
                                },
                                {
                                    "0": "Bellevue",
                                    "1": "1",
                                    "2": "1"
                                },
                                {
                                    "0": "Bellingham",
                                    "1": "2",
                                    "2": "1"
                                },
                                {
                                    "0": "Berks",
                                    "1": "1",
                                    "2": "1"
                                },
                                {
                                    "0": "Berkshire",
                                    "1": "1",
                                    "2": "1"
                                },
                                {
                                    "0": "Billings",
                                    "1": "1",
                                    "2": "1"
                                },
                                {
                                    "0": "Birmingham",
                                    "1": "1",
                                    "2": "1"
                                },
                                {
                                    "0": "Bothell",
                                    "1": "2",
                                    "2": "1"
                                },
                                {
                                    "0": "Bountiful",
                                    "1": "1",
                                    "2": "1"
                                },
                                {
                                    "0": "Bracknell",
                                    "1": "1",
                                    "2": "1"
                                },
                                {
                                    "0": "Brampton",
                                    "1": "1",
                                    "2": "1"
                                },
                                {
                                    "0": "Branch",
                                    "1": "1",
                                    "2": "1"
                                },
                                {
                                    "0": "Branson",
                                    "1": "1",
                                    "2": "1"
                                },
                                {
                                    "0": "Brossard",
                                    "1": "2",
                                    "2": "1"
                                },
                                {
                                    "0": "Burnaby",
                                    "1": "5",
                                    "2": "2"
                                },
                                {
                                    "0": "Calgary",
                                    "1": "11",
                                    "2": "2"
                                },
                                {
                                    "0": "Camarillo",
                                    "1": "2",
                                    "2": "2"
                                }
                            ]
                        },
                        "text/html": "<table><tr><th>City</th><th>CustomerCount</th><th>SalesPersonCount</th></tr><tr><td>Abingdon</td><td>1</td><td>1</td></tr><tr><td>Albany</td><td>1</td><td>1</td></tr><tr><td>Alhambra</td><td>1</td><td>1</td></tr><tr><td>Arlington</td><td>1</td><td>1</td></tr><tr><td>Auburn</td><td>1</td><td>1</td></tr><tr><td>Aurora</td><td>1</td><td>1</td></tr><tr><td>Austin</td><td>1</td><td>1</td></tr><tr><td>Baldwin Park</td><td>1</td><td>1</td></tr><tr><td>Barrie</td><td>1</td><td>1</td></tr><tr><td>Barstow</td><td>1</td><td>1</td></tr><tr><td>Basingstoke Hants</td><td>1</td><td>1</td></tr><tr><td>Baytown</td><td>1</td><td>1</td></tr><tr><td>Beaverton</td><td>2</td><td>2</td></tr><tr><td>Bell Gardens</td><td>1</td><td>1</td></tr><tr><td>Bellevue</td><td>1</td><td>1</td></tr><tr><td>Bellingham</td><td>2</td><td>1</td></tr><tr><td>Berks</td><td>1</td><td>1</td></tr><tr><td>Berkshire</td><td>1</td><td>1</td></tr><tr><td>Billings</td><td>1</td><td>1</td></tr><tr><td>Birmingham</td><td>1</td><td>1</td></tr><tr><td>Bothell</td><td>2</td><td>1</td></tr><tr><td>Bountiful</td><td>1</td><td>1</td></tr><tr><td>Bracknell</td><td>1</td><td>1</td></tr><tr><td>Brampton</td><td>1</td><td>1</td></tr><tr><td>Branch</td><td>1</td><td>1</td></tr><tr><td>Branson</td><td>1</td><td>1</td></tr><tr><td>Brossard</td><td>2</td><td>1</td></tr><tr><td>Burnaby</td><td>5</td><td>2</td></tr><tr><td>Calgary</td><td>11</td><td>2</td></tr><tr><td>Camarillo</td><td>2</td><td>2</td></tr></table>"
                    },
                    "metadata": {}
                }
            ],
            "execution_count": 1
        }
    ]
}