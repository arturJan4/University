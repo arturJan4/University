{
    "metadata": {
        "kernelspec": {
            "name": "SQL",
            "display_name": "SQL",
            "language": "sql"
        },
        "language_info": {
            "name": "sql",
            "version": ""
        }
    },
    "nbformat_minor": 2,
    "nbformat": 4,
    "cells": [
        {
            "cell_type": "markdown",
            "source": [
                "**Zad 9**\n",
                "\n",
                "Do tabeli Customer dodaj kolumnę CreditCardNumber, a w tabeli SalesOrderHeader dla 3 wybranych pozycji ustaw dowolną wartość dla kolumny CreditCardApprovalCode. Następnie, klientom (Customer), którzy mają zamówienia (SalesOrderHeader) z ustawionym CreditCardApprovalCode, zmień pole CreditCardNumber na wartość ’X’."
            ],
            "metadata": {
                "azdata_cell_guid": "c0b6d92a-9d6c-45a8-ba0d-92009b8888db"
            },
            "attachments": {}
        },
        {
            "cell_type": "code",
            "source": [
                "SELECT TOP 5 *\r\n",
                "FROM SalesLT.Customer"
            ],
            "metadata": {
                "azdata_cell_guid": "2e599c56-0126-4695-89da-4c4916645609"
            },
            "outputs": [
                {
                    "output_type": "display_data",
                    "data": {
                        "text/html": "(5 rows affected)"
                    },
                    "metadata": {}
                },
                {
                    "output_type": "display_data",
                    "data": {
                        "text/html": "Total execution time: 00:00:00.071"
                    },
                    "metadata": {}
                },
                {
                    "output_type": "execute_result",
                    "execution_count": 7,
                    "data": {
                        "application/vnd.dataresource+json": {
                            "schema": {
                                "fields": [
                                    {
                                        "name": "CustomerID"
                                    },
                                    {
                                        "name": "NameStyle"
                                    },
                                    {
                                        "name": "Title"
                                    },
                                    {
                                        "name": "FirstName"
                                    },
                                    {
                                        "name": "MiddleName"
                                    },
                                    {
                                        "name": "LastName"
                                    },
                                    {
                                        "name": "Suffix"
                                    },
                                    {
                                        "name": "CompanyName"
                                    },
                                    {
                                        "name": "SalesPerson"
                                    },
                                    {
                                        "name": "EmailAddress"
                                    },
                                    {
                                        "name": "Phone"
                                    },
                                    {
                                        "name": "PasswordHash"
                                    },
                                    {
                                        "name": "PasswordSalt"
                                    },
                                    {
                                        "name": "rowguid"
                                    },
                                    {
                                        "name": "ModifiedDate"
                                    },
                                    {
                                        "name": "CreditCardNumber"
                                    }
                                ]
                            },
                            "data": [
                                {
                                    "0": "1",
                                    "1": "0",
                                    "2": "Mr.",
                                    "3": "Orlando",
                                    "4": "N.",
                                    "5": "Gee",
                                    "6": "NULL",
                                    "7": "A Bike Store",
                                    "8": "adventure-works\\pamela0",
                                    "9": "orlando0@adventure-works.com",
                                    "10": "245-555-0173",
                                    "11": "L/Rlwxzp4w7RWmEgXX+/A7cXaePEPcp+KwQhl2fJL7w=",
                                    "12": "1KjXYs4=",
                                    "13": "3f5ae95e-b87d-4aed-95b4-c3797afcb74f",
                                    "14": "2005-08-01 00:00:00.000",
                                    "15": "NULL"
                                },
                                {
                                    "0": "2",
                                    "1": "0",
                                    "2": "Mr.",
                                    "3": "Keith",
                                    "4": "NULL",
                                    "5": "Harris",
                                    "6": "NULL",
                                    "7": "Progressive Sports",
                                    "8": "adventure-works\\david8",
                                    "9": "keith0@adventure-works.com",
                                    "10": "170-555-0127",
                                    "11": "YPdtRdvqeAhj6wyxEsFdshBDNXxkCXn+CRgbvJItknw=",
                                    "12": "fs1ZGhY=",
                                    "13": "e552f657-a9af-4a7d-a645-c429d6e02491",
                                    "14": "2006-08-01 00:00:00.000",
                                    "15": "NULL"
                                },
                                {
                                    "0": "3",
                                    "1": "0",
                                    "2": "Ms.",
                                    "3": "Donna",
                                    "4": "F.",
                                    "5": "Carreras",
                                    "6": "NULL",
                                    "7": "Advanced Bike Components",
                                    "8": "adventure-works\\jillian0",
                                    "9": "donna0@adventure-works.com",
                                    "10": "279-555-0130",
                                    "11": "LNoK27abGQo48gGue3EBV/UrlYSToV0/s87dCRV7uJk=",
                                    "12": "YTNH5Rw=",
                                    "13": "130774b1-db21-4ef3-98c8-c104bcd6ed6d",
                                    "14": "2005-09-01 00:00:00.000",
                                    "15": "NULL"
                                },
                                {
                                    "0": "4",
                                    "1": "0",
                                    "2": "Ms.",
                                    "3": "Janet",
                                    "4": "M.",
                                    "5": "Gates",
                                    "6": "NULL",
                                    "7": "Modular Cycle Systems",
                                    "8": "adventure-works\\jillian0",
                                    "9": "janet1@adventure-works.com",
                                    "10": "710-555-0173",
                                    "11": "ElzTpSNbUW1Ut+L5cWlfR7MF6nBZia8WpmGaQPjLOJA=",
                                    "12": "nm7D5e4=",
                                    "13": "ff862851-1daa-4044-be7c-3e85583c054d",
                                    "14": "2006-07-01 00:00:00.000",
                                    "15": "NULL"
                                },
                                {
                                    "0": "5",
                                    "1": "0",
                                    "2": "Mr.",
                                    "3": "Lucy",
                                    "4": "NULL",
                                    "5": "Harrington",
                                    "6": "NULL",
                                    "7": "Metropolitan Sports Supply",
                                    "8": "adventure-works\\shu0",
                                    "9": "lucy0@adventure-works.com",
                                    "10": "828-555-0186",
                                    "11": "KJqV15wsX3PG8TS5GSddp6LFFVdd3CoRftZM/tP0+R4=",
                                    "12": "cNFKU4w=",
                                    "13": "83905bdc-6f5e-4f71-b162-c98da069f38a",
                                    "14": "2006-09-01 00:00:00.000",
                                    "15": "NULL"
                                }
                            ]
                        },
                        "text/html": "<table><tr><th>CustomerID</th><th>NameStyle</th><th>Title</th><th>FirstName</th><th>MiddleName</th><th>LastName</th><th>Suffix</th><th>CompanyName</th><th>SalesPerson</th><th>EmailAddress</th><th>Phone</th><th>PasswordHash</th><th>PasswordSalt</th><th>rowguid</th><th>ModifiedDate</th><th>CreditCardNumber</th></tr><tr><td>1</td><td>0</td><td>Mr.</td><td>Orlando</td><td>N.</td><td>Gee</td><td>NULL</td><td>A Bike Store</td><td>adventure-works\\pamela0</td><td>orlando0@adventure-works.com</td><td>245-555-0173</td><td>L/Rlwxzp4w7RWmEgXX+/A7cXaePEPcp+KwQhl2fJL7w=</td><td>1KjXYs4=</td><td>3f5ae95e-b87d-4aed-95b4-c3797afcb74f</td><td>2005-08-01 00:00:00.000</td><td>NULL</td></tr><tr><td>2</td><td>0</td><td>Mr.</td><td>Keith</td><td>NULL</td><td>Harris</td><td>NULL</td><td>Progressive Sports</td><td>adventure-works\\david8</td><td>keith0@adventure-works.com</td><td>170-555-0127</td><td>YPdtRdvqeAhj6wyxEsFdshBDNXxkCXn+CRgbvJItknw=</td><td>fs1ZGhY=</td><td>e552f657-a9af-4a7d-a645-c429d6e02491</td><td>2006-08-01 00:00:00.000</td><td>NULL</td></tr><tr><td>3</td><td>0</td><td>Ms.</td><td>Donna</td><td>F.</td><td>Carreras</td><td>NULL</td><td>Advanced Bike Components</td><td>adventure-works\\jillian0</td><td>donna0@adventure-works.com</td><td>279-555-0130</td><td>LNoK27abGQo48gGue3EBV/UrlYSToV0/s87dCRV7uJk=</td><td>YTNH5Rw=</td><td>130774b1-db21-4ef3-98c8-c104bcd6ed6d</td><td>2005-09-01 00:00:00.000</td><td>NULL</td></tr><tr><td>4</td><td>0</td><td>Ms.</td><td>Janet</td><td>M.</td><td>Gates</td><td>NULL</td><td>Modular Cycle Systems</td><td>adventure-works\\jillian0</td><td>janet1@adventure-works.com</td><td>710-555-0173</td><td>ElzTpSNbUW1Ut+L5cWlfR7MF6nBZia8WpmGaQPjLOJA=</td><td>nm7D5e4=</td><td>ff862851-1daa-4044-be7c-3e85583c054d</td><td>2006-07-01 00:00:00.000</td><td>NULL</td></tr><tr><td>5</td><td>0</td><td>Mr.</td><td>Lucy</td><td>NULL</td><td>Harrington</td><td>NULL</td><td>Metropolitan Sports Supply</td><td>adventure-works\\shu0</td><td>lucy0@adventure-works.com</td><td>828-555-0186</td><td>KJqV15wsX3PG8TS5GSddp6LFFVdd3CoRftZM/tP0+R4=</td><td>cNFKU4w=</td><td>83905bdc-6f5e-4f71-b162-c98da069f38a</td><td>2006-09-01 00:00:00.000</td><td>NULL</td></tr></table>"
                    },
                    "metadata": {}
                }
            ],
            "execution_count": 7
        },
        {
            "cell_type": "code",
            "source": [
                "SELECT TOP 5 *\r\n",
                "FROM SalesLT.SalesOrderHeader\r\n",
                "WHERE CreditCardApprovalCode IS NOT NULL"
            ],
            "metadata": {
                "azdata_cell_guid": "5d0daa68-f876-49ec-9339-2dd5ae899ee4"
            },
            "outputs": [
                {
                    "output_type": "display_data",
                    "data": {
                        "text/html": "(3 rows affected)"
                    },
                    "metadata": {}
                },
                {
                    "output_type": "display_data",
                    "data": {
                        "text/html": "Total execution time: 00:00:00.088"
                    },
                    "metadata": {}
                },
                {
                    "output_type": "execute_result",
                    "execution_count": 23,
                    "data": {
                        "application/vnd.dataresource+json": {
                            "schema": {
                                "fields": [
                                    {
                                        "name": "SalesOrderID"
                                    },
                                    {
                                        "name": "RevisionNumber"
                                    },
                                    {
                                        "name": "OrderDate"
                                    },
                                    {
                                        "name": "DueDate"
                                    },
                                    {
                                        "name": "ShipDate"
                                    },
                                    {
                                        "name": "Status"
                                    },
                                    {
                                        "name": "OnlineOrderFlag"
                                    },
                                    {
                                        "name": "SalesOrderNumber"
                                    },
                                    {
                                        "name": "PurchaseOrderNumber"
                                    },
                                    {
                                        "name": "AccountNumber"
                                    },
                                    {
                                        "name": "CustomerID"
                                    },
                                    {
                                        "name": "ShipToAddressID"
                                    },
                                    {
                                        "name": "BillToAddressID"
                                    },
                                    {
                                        "name": "ShipMethod"
                                    },
                                    {
                                        "name": "CreditCardApprovalCode"
                                    },
                                    {
                                        "name": "SubTotal"
                                    },
                                    {
                                        "name": "TaxAmt"
                                    },
                                    {
                                        "name": "Freight"
                                    },
                                    {
                                        "name": "TotalDue"
                                    },
                                    {
                                        "name": "Comment"
                                    },
                                    {
                                        "name": "rowguid"
                                    },
                                    {
                                        "name": "ModifiedDate"
                                    }
                                ]
                            },
                            "data": [
                                {
                                    "0": "71815",
                                    "1": "2",
                                    "2": "2008-06-01 00:00:00.000",
                                    "3": "2008-06-13 00:00:00.000",
                                    "4": "2008-06-08 00:00:00.000",
                                    "5": "5",
                                    "6": "0",
                                    "7": "SO71815",
                                    "8": "PO13021155785",
                                    "9": "10-4020-000276",
                                    "10": "30089",
                                    "11": "1034",
                                    "12": "1034",
                                    "13": "CARGO TRANSPORT 5",
                                    "14": "12221",
                                    "15": "1141,5782",
                                    "16": "91,3263",
                                    "17": "28,5395",
                                    "18": "1261,444",
                                    "19": "NULL",
                                    "20": "2aa5f39b-1096-4a4b-b17b-f10504a397ce",
                                    "21": "2008-06-08 00:00:00.000"
                                },
                                {
                                    "0": "71935",
                                    "1": "2",
                                    "2": "2008-06-01 00:00:00.000",
                                    "3": "2008-06-13 00:00:00.000",
                                    "4": "2008-06-08 00:00:00.000",
                                    "5": "5",
                                    "6": "0",
                                    "7": "SO71935",
                                    "8": "PO7946145876",
                                    "9": "10-4020-000438",
                                    "10": "29531",
                                    "11": "1061",
                                    "12": "1061",
                                    "13": "CARGO TRANSPORT 5",
                                    "14": "12533",
                                    "15": "6634,2961",
                                    "16": "530,7437",
                                    "17": "165,8574",
                                    "18": "7330,8972",
                                    "19": "NULL",
                                    "20": "7033c6ec-b12c-45bc-bd96-56efde4c7dd0",
                                    "21": "2008-06-08 00:00:00.000"
                                },
                                {
                                    "0": "71946",
                                    "1": "2",
                                    "2": "2008-06-01 00:00:00.000",
                                    "3": "2008-06-13 00:00:00.000",
                                    "4": "2008-06-08 00:00:00.000",
                                    "5": "5",
                                    "6": "0",
                                    "7": "SO71946",
                                    "8": "PO8961158629",
                                    "9": "10-4020-000466",
                                    "10": "29741",
                                    "11": "660",
                                    "12": "660",
                                    "13": "CARGO TRANSPORT 5",
                                    "14": "1482",
                                    "15": "38,9536",
                                    "16": "3,1163",
                                    "17": "0,9738",
                                    "18": "43,0437",
                                    "19": "NULL",
                                    "20": "10e3129d-657f-46f9-86f5-cedd79b1901c",
                                    "21": "2008-06-08 00:00:00.000"
                                }
                            ]
                        },
                        "text/html": "<table><tr><th>SalesOrderID</th><th>RevisionNumber</th><th>OrderDate</th><th>DueDate</th><th>ShipDate</th><th>Status</th><th>OnlineOrderFlag</th><th>SalesOrderNumber</th><th>PurchaseOrderNumber</th><th>AccountNumber</th><th>CustomerID</th><th>ShipToAddressID</th><th>BillToAddressID</th><th>ShipMethod</th><th>CreditCardApprovalCode</th><th>SubTotal</th><th>TaxAmt</th><th>Freight</th><th>TotalDue</th><th>Comment</th><th>rowguid</th><th>ModifiedDate</th></tr><tr><td>71815</td><td>2</td><td>2008-06-01 00:00:00.000</td><td>2008-06-13 00:00:00.000</td><td>2008-06-08 00:00:00.000</td><td>5</td><td>0</td><td>SO71815</td><td>PO13021155785</td><td>10-4020-000276</td><td>30089</td><td>1034</td><td>1034</td><td>CARGO TRANSPORT 5</td><td>12221</td><td>1141,5782</td><td>91,3263</td><td>28,5395</td><td>1261,444</td><td>NULL</td><td>2aa5f39b-1096-4a4b-b17b-f10504a397ce</td><td>2008-06-08 00:00:00.000</td></tr><tr><td>71935</td><td>2</td><td>2008-06-01 00:00:00.000</td><td>2008-06-13 00:00:00.000</td><td>2008-06-08 00:00:00.000</td><td>5</td><td>0</td><td>SO71935</td><td>PO7946145876</td><td>10-4020-000438</td><td>29531</td><td>1061</td><td>1061</td><td>CARGO TRANSPORT 5</td><td>12533</td><td>6634,2961</td><td>530,7437</td><td>165,8574</td><td>7330,8972</td><td>NULL</td><td>7033c6ec-b12c-45bc-bd96-56efde4c7dd0</td><td>2008-06-08 00:00:00.000</td></tr><tr><td>71946</td><td>2</td><td>2008-06-01 00:00:00.000</td><td>2008-06-13 00:00:00.000</td><td>2008-06-08 00:00:00.000</td><td>5</td><td>0</td><td>SO71946</td><td>PO8961158629</td><td>10-4020-000466</td><td>29741</td><td>660</td><td>660</td><td>CARGO TRANSPORT 5</td><td>1482</td><td>38,9536</td><td>3,1163</td><td>0,9738</td><td>43,0437</td><td>NULL</td><td>10e3129d-657f-46f9-86f5-cedd79b1901c</td><td>2008-06-08 00:00:00.000</td></tr></table>"
                    },
                    "metadata": {}
                }
            ],
            "execution_count": 23
        },
        {
            "cell_type": "markdown",
            "source": [
                "Add new column to Customer"
            ],
            "metadata": {
                "azdata_cell_guid": "b3b9ee71-5f37-42f4-8bfd-c51e8e5cc0fd"
            },
            "attachments": {}
        },
        {
            "cell_type": "code",
            "source": [
                "ALTER TABLE SalesLT.Customer\r\n",
                "ADD CreditCardNumber VARCHAR(16)\r\n",
                "GO"
            ],
            "metadata": {
                "azdata_cell_guid": "ef0a0e05-41bc-4a87-be9b-ecb20df46911",
                "tags": []
            },
            "outputs": [
                {
                    "output_type": "display_data",
                    "data": {
                        "text/html": "Commands completed successfully."
                    },
                    "metadata": {}
                },
                {
                    "output_type": "display_data",
                    "data": {
                        "text/html": "Total execution time: 00:00:00.060"
                    },
                    "metadata": {}
                }
            ],
            "execution_count": 6
        },
        {
            "cell_type": "markdown",
            "source": [
                "Set <span style=\"color: rgb(33, 33, 33); font-family: Consolas, &quot;Courier New&quot;, monospace; font-size: 12px; white-space: pre;\">CreditCardApprovalCode for 3 random sales</span>"
            ],
            "metadata": {
                "azdata_cell_guid": "6d88fd64-c0a5-4d95-96fb-596aa763ecf9"
            },
            "attachments": {}
        },
        {
            "cell_type": "code",
            "source": [
                "UPDATE SalesLT.SalesOrderHeader\r\n",
                "SET CreditCardApprovalCode = 12221\r\n",
                "WHERE SalesLT.SalesOrderHeader.SalesOrderID = 71815\r\n",
                "\r\n",
                "UPDATE SalesLT.SalesOrderHeader\r\n",
                "SET CreditCardApprovalCode = 12533\r\n",
                "WHERE SalesLT.SalesOrderHeader.SalesOrderID = 71935\r\n",
                "\r\n",
                "UPDATE SalesLT.SalesOrderHeader\r\n",
                "SET CreditCardApprovalCode = 1482\r\n",
                "WHERE SalesLT.SalesOrderHeader.SalesOrderID = 71946\r\n",
                "GO"
            ],
            "metadata": {
                "azdata_cell_guid": "f6d9b5f5-c15b-4662-8d4e-43945d80deea"
            },
            "outputs": [
                {
                    "output_type": "display_data",
                    "data": {
                        "text/html": "(1 row affected)"
                    },
                    "metadata": {}
                },
                {
                    "output_type": "display_data",
                    "data": {
                        "text/html": "(1 row affected)"
                    },
                    "metadata": {}
                },
                {
                    "output_type": "display_data",
                    "data": {
                        "text/html": "(1 row affected)"
                    },
                    "metadata": {}
                },
                {
                    "output_type": "display_data",
                    "data": {
                        "text/html": "Total execution time: 00:00:00.079"
                    },
                    "metadata": {}
                }
            ],
            "execution_count": 8
        },
        {
            "cell_type": "markdown",
            "source": [
                "update where there is NOT NULL <span style=\"color: rgb(33, 33, 33); font-family: Consolas, &quot;Courier New&quot;, monospace; font-size: 12px; white-space: pre;\">CreditCardApprovalCode for given order</span>"
            ],
            "metadata": {
                "azdata_cell_guid": "fb69983e-f0da-4e2f-97a5-e5d8ce4c04e8"
            },
            "attachments": {}
        },
        {
            "cell_type": "code",
            "source": [
                "UPDATE SalesLT.Customer\r\n",
                "SET CreditCardNumber = 'X'\r\n",
                "WHERE exists (\r\n",
                "    SELECT 1 FROM SalesLT.SalesOrderHeader\r\n",
                "    WHERE SalesLT.Customer.CustomerID = SalesLT.SalesOrderHeader.CustomerId\r\n",
                "    AND SalesLT.SalesOrderHeader.CreditCardApprovalCode IS NOT NULL\r\n",
                "    )\r\n",
                "    "
            ],
            "metadata": {
                "azdata_cell_guid": "57a76238-2d90-4a98-bc18-f44645eab9a2"
            },
            "outputs": [
                {
                    "output_type": "display_data",
                    "data": {
                        "text/html": "(3 rows affected)"
                    },
                    "metadata": {}
                },
                {
                    "output_type": "display_data",
                    "data": {
                        "text/html": "Total execution time: 00:00:00.063"
                    },
                    "metadata": {}
                }
            ],
            "execution_count": 1
        },
        {
            "cell_type": "markdown",
            "source": [
                "<span style=\"color: rgb(33, 33, 33); font-family: Consolas, &quot;Courier New&quot;, monospace; font-size: 12px; white-space: pre;\">another option -&gt; INNER JOIN</span>"
            ],
            "metadata": {
                "azdata_cell_guid": "f07980a1-0f40-47d1-8fe6-e3363fd5c3d5"
            },
            "attachments": {}
        },
        {
            "cell_type": "code",
            "source": [
                "UPDATE a\r\n",
                "SET CreditCardNumber = 'X'\r\n",
                "FROM SalesLT.Customer a\r\n",
                "    INNER JOIN\r\n",
                "    SalesLT.SalesOrderHeader b\r\n",
                "    ON a.CustomerID = b.CustomerID\r\n",
                "WHERE b.CreditCardApprovalCode IS NOT NULL"
            ],
            "metadata": {
                "azdata_cell_guid": "54c8fa46-519c-486a-a40d-9c5b629a6b7a"
            },
            "outputs": [
                {
                    "output_type": "display_data",
                    "data": {
                        "text/html": "(3 rows affected)"
                    },
                    "metadata": {}
                },
                {
                    "output_type": "display_data",
                    "data": {
                        "text/html": "Total execution time: 00:00:00.078"
                    },
                    "metadata": {}
                }
            ],
            "execution_count": 25
        },
        {
            "cell_type": "markdown",
            "source": [
                "check"
            ],
            "metadata": {
                "azdata_cell_guid": "a5e2254a-98ad-4759-8e9e-d51fef371201"
            },
            "attachments": {}
        },
        {
            "cell_type": "code",
            "source": [
                "SELECT TOP 5 *\r\n",
                "FROM SalesLT.Customer\r\n",
                "WHERE CreditCardNumber = 'X'"
            ],
            "metadata": {
                "azdata_cell_guid": "05817d83-80bd-4fd5-86c9-87486601ee9b"
            },
            "outputs": [
                {
                    "output_type": "display_data",
                    "data": {
                        "text/html": "(3 rows affected)"
                    },
                    "metadata": {}
                },
                {
                    "output_type": "display_data",
                    "data": {
                        "text/html": "Total execution time: 00:00:00.087"
                    },
                    "metadata": {}
                },
                {
                    "output_type": "execute_result",
                    "metadata": {},
                    "execution_count": 2,
                    "data": {
                        "application/vnd.dataresource+json": {
                            "schema": {
                                "fields": [
                                    {
                                        "name": "CustomerID"
                                    },
                                    {
                                        "name": "NameStyle"
                                    },
                                    {
                                        "name": "Title"
                                    },
                                    {
                                        "name": "FirstName"
                                    },
                                    {
                                        "name": "MiddleName"
                                    },
                                    {
                                        "name": "LastName"
                                    },
                                    {
                                        "name": "Suffix"
                                    },
                                    {
                                        "name": "CompanyName"
                                    },
                                    {
                                        "name": "SalesPerson"
                                    },
                                    {
                                        "name": "EmailAddress"
                                    },
                                    {
                                        "name": "Phone"
                                    },
                                    {
                                        "name": "PasswordHash"
                                    },
                                    {
                                        "name": "PasswordSalt"
                                    },
                                    {
                                        "name": "rowguid"
                                    },
                                    {
                                        "name": "ModifiedDate"
                                    },
                                    {
                                        "name": "CreditCardNumber"
                                    }
                                ]
                            },
                            "data": [
                                {
                                    "0": "29531",
                                    "1": "0",
                                    "2": "Mr.",
                                    "3": "Cory",
                                    "4": "K.",
                                    "5": "Booth",
                                    "6": "NULL",
                                    "7": "Remarkable Bike Store",
                                    "8": "adventure-works\\linda3",
                                    "9": "cory0@adventure-works.com",
                                    "10": "121-555-0157",
                                    "11": "OfvFj11NFlpVFhEacTp7Nw+8EqwxHKIv9aJ+2ZgcUMI=",
                                    "12": "XaJdIYM=",
                                    "13": "75d00aa7-752f-41c9-9c5d-899e8e3061bd",
                                    "14": "2005-12-01 00:00:00.000",
                                    "15": "X"
                                },
                                {
                                    "0": "29741",
                                    "1": "0",
                                    "2": "Sra.",
                                    "3": "Janeth",
                                    "4": "NULL",
                                    "5": "Esteves",
                                    "6": "NULL",
                                    "7": "Central Bicycle Specialists",
                                    "8": "adventure-works\\jae0",
                                    "9": "janeth1@adventure-works.com",
                                    "10": "1 (11) 500 555-0136",
                                    "11": "X1Y5qQtF/cCa0JcWV87/0KfmpSje5R9/RdWM+fyB7Go=",
                                    "12": "+iF/Sqs=",
                                    "13": "7d8c6b41-4d65-4f2c-ab91-5fce276b5bf5",
                                    "14": "2007-09-01 00:00:00.000",
                                    "15": "X"
                                },
                                {
                                    "0": "30089",
                                    "1": "0",
                                    "2": "Mr.",
                                    "3": "Michael John",
                                    "4": "R.",
                                    "5": "Troyer",
                                    "6": "NULL",
                                    "7": "Thrifty Parts and Sales",
                                    "8": "adventure-works\\linda3",
                                    "9": "michaeljohn0@adventure-works.com",
                                    "10": "308-555-0175",
                                    "11": "Gdklarx2tW1EtZEyrAUEIhhguzrFKVS4Bh3BdAsGngk=",
                                    "12": "HUE+JKI=",
                                    "13": "8d6af1e8-5082-4e5c-9f15-dfd04e64fd95",
                                    "14": "2007-09-01 00:00:00.000",
                                    "15": "X"
                                }
                            ]
                        },
                        "text/html": [
                            "<table>",
                            "<tr><th>CustomerID</th><th>NameStyle</th><th>Title</th><th>FirstName</th><th>MiddleName</th><th>LastName</th><th>Suffix</th><th>CompanyName</th><th>SalesPerson</th><th>EmailAddress</th><th>Phone</th><th>PasswordHash</th><th>PasswordSalt</th><th>rowguid</th><th>ModifiedDate</th><th>CreditCardNumber</th></tr>",
                            "<tr><td>29531</td><td>0</td><td>Mr.</td><td>Cory</td><td>K.</td><td>Booth</td><td>NULL</td><td>Remarkable Bike Store</td><td>adventure-works\\linda3</td><td>cory0@adventure-works.com</td><td>121-555-0157</td><td>OfvFj11NFlpVFhEacTp7Nw+8EqwxHKIv9aJ+2ZgcUMI=</td><td>XaJdIYM=</td><td>75d00aa7-752f-41c9-9c5d-899e8e3061bd</td><td>2005-12-01 00:00:00.000</td><td>X</td></tr>",
                            "<tr><td>29741</td><td>0</td><td>Sra.</td><td>Janeth</td><td>NULL</td><td>Esteves</td><td>NULL</td><td>Central Bicycle Specialists</td><td>adventure-works\\jae0</td><td>janeth1@adventure-works.com</td><td>1 (11) 500 555-0136</td><td>X1Y5qQtF/cCa0JcWV87/0KfmpSje5R9/RdWM+fyB7Go=</td><td>+iF/Sqs=</td><td>7d8c6b41-4d65-4f2c-ab91-5fce276b5bf5</td><td>2007-09-01 00:00:00.000</td><td>X</td></tr>",
                            "<tr><td>30089</td><td>0</td><td>Mr.</td><td>Michael John</td><td>R.</td><td>Troyer</td><td>NULL</td><td>Thrifty Parts and Sales</td><td>adventure-works\\linda3</td><td>michaeljohn0@adventure-works.com</td><td>308-555-0175</td><td>Gdklarx2tW1EtZEyrAUEIhhguzrFKVS4Bh3BdAsGngk=</td><td>HUE+JKI=</td><td>8d6af1e8-5082-4e5c-9f15-dfd04e64fd95</td><td>2007-09-01 00:00:00.000</td><td>X</td></tr>",
                            "</table>"
                        ]
                    }
                }
            ],
            "execution_count": 2
        },
        {
            "cell_type": "markdown",
            "source": [
                "## Cleanup\r\n",
                ""
            ],
            "metadata": {
                "azdata_cell_guid": "05192dad-cd58-44d0-9072-103b57bbc5b6"
            },
            "attachments": {}
        },
        {
            "cell_type": "code",
            "source": [
                "ALTER TABLE SalesLT.Customer\r\n",
                "DROP COLUMN CreditCardNumber;"
            ],
            "metadata": {
                "azdata_cell_guid": "d52df464-9b5a-47e3-b954-f2dc704b3129"
            },
            "outputs": [
                {
                    "output_type": "error",
                    "ename": "",
                    "evalue": "Msg 4924, Level 16, State 1, Line 1\r\nALTER TABLE DROP COLUMN failed because column 'CreditCardNumber' does not exist in table 'Customer'.",
                    "traceback": []
                },
                {
                    "output_type": "display_data",
                    "data": {
                        "text/html": "Total execution time: 00:00:00.091"
                    },
                    "metadata": {}
                }
            ],
            "execution_count": 2
        }
    ]
}