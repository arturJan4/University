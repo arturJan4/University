{
    "metadata": {
        "kernelspec": {
            "name": "SQL",
            "display_name": "SQL",
            "language": "sql"
        },
        "language_info": {
            "name": "sql",
            "version": ""
        }
    },
    "nbformat_minor": 2,
    "nbformat": 4,
    "cells": [
        {
            "cell_type": "markdown",
            "source": [
                "# Zad 3"
            ],
            "metadata": {
                "azdata_cell_guid": "cc939c9d-eaa3-4687-97c4-9dbe9af4547a"
            },
            "attachments": {}
        },
        {
            "cell_type": "markdown",
            "source": [
                "Dane są tabele Bufor(ID, AdresUrl, OstatnieWejscie), Historia(ID, AdresUrl, OstatnieWejscie) oraz Parametry(nazwa, wartosc). Znaczenie pól w tabelach Bufor i Historia jest następujące: \n",
                "\n",
                "> • ID — identyfikator wiersza w tabeli,\n",
                "\n",
                "> • AdresUrl — adres strony WWW, \n",
                "\n",
                "> • OstatnieWejscie — moment ostatnich odwiedzin określony z dokładnością do sekundy. \n",
                "\n",
                "W tabeli Parametry przechowujemy tylko jedną parę (max cache, maksymalny rozmiar bufora). W momencie wstawienia nowego wiersza do tabeli Bufor powinny być spełnione następujące postulaty: \n",
                "\n",
                "> • Jeśli w buforze istnieje strona o adresie, który wstawiamy, należy tylko zmodyfikować czas jej ostatniego wejścia,\n",
                "\n",
                "> • Jeśli w buforze nie ma wstawianej strony, sprawdzamy, czy liczba wierszy przed wstawieniem jest mniejsza niż ta określona przez parametr max cache z tabeli Parametry. Mamy dwa przypadki: \n",
                ">> – Jeśli jest mniejsza, wstawiamy wiersz i kończymy.    \n",
                ">> – Jeśli nie jest mniejsza, szukamy strony WWW, która ma najstarsze ostatnie wejście. Znaleziony wiersz przenosimy do tabeli Historia (gdyby się zdarzyło, że wierszy jest więcej niż jeden, wybieramy jeden z nich), ale tylko w przypadku, gdy danej strony w Historii jeszcze nie ma (jak jest, aktualizujemy tylko ostatnie wejście). \n",
                "\n",
                "Powyższą funkcjonalność należy zrealizować za pomocą wyzwalaczy "
            ],
            "metadata": {
                "azdata_cell_guid": "d5e774da-57f8-4e54-894b-c303617f2315"
            },
            "attachments": {}
        },
        {
            "cell_type": "code",
            "source": [
                "-- create tables\r\n",
                "DROP TABLE IF EXISTS Bufor, Historia, Parametry\r\n",
                "GO\r\n",
                "\r\n",
                "CREATE TABLE Bufor(\r\n",
                "    ID INT IDENTITY PRIMARY KEY, \r\n",
                "    AdresUrl VARCHAR(255), \r\n",
                "    OstatnieWejscie DATETIME\r\n",
                ")\r\n",
                "\r\n",
                "CREATE TABLE Historia(\r\n",
                "    ID INT IDENTITY PRIMARY KEY, \r\n",
                "    AdresUrl VARCHAR(255), \r\n",
                "    OstatnieWejscie DATETIME\r\n",
                ")\r\n",
                "\r\n",
                "CREATE TABLE Parametry(\r\n",
                "    nazwa VARCHAR(255), \r\n",
                "    wartosc INT\r\n",
                ")\r\n",
                "\r\n",
                "INSERT INTO Parametry\r\n",
                "VALUES ('max_cache', 4)"
            ],
            "metadata": {
                "azdata_cell_guid": "af9da52d-6fa9-4c8f-b5d2-44bdde42b986",
                "tags": []
            },
            "outputs": [
                {
                    "output_type": "display_data",
                    "data": {
                        "text/html": "Commands completed successfully."
                    },
                    "metadata": {}
                },
                {
                    "output_type": "display_data",
                    "data": {
                        "text/html": "(1 row affected)"
                    },
                    "metadata": {}
                },
                {
                    "output_type": "display_data",
                    "data": {
                        "text/html": "Total execution time: 00:00:00.121"
                    },
                    "metadata": {}
                }
            ],
            "execution_count": 1
        },
        {
            "cell_type": "code",
            "source": [
                "DROP TRIGGER IF EXISTS TR_doHistorii\r\n",
                "GO\r\n",
                "\r\n",
                "-- wyzwalacz \"zamiast\" na INSERT do Bufora\r\n",
                "CREATE TRIGGER TR_doHistorii ON Bufor INSTEAD OF INSERT\r\n",
                "AS\r\n",
                "BEGIN\r\n",
                "    -- pobierz wstawiony wiersz \r\n",
                "    DECLARE @in_AdresUrl VARCHAR(255), @in_OstatnieWejscie DATETIME\r\n",
                "    SELECT \r\n",
                "        @in_AdresUrl = AdresUrl, \r\n",
                "        @in_OstatnieWejscie = OstatnieWejscie\r\n",
                "    FROM \r\n",
                "        INSERTED\r\n",
                "    \r\n",
                "    -- Jeśli w buforze istnieje strona o adresie, który wstawiamy, należy tylko zmodyfikować czas jej ostatniego wejścia\r\n",
                "    IF (EXISTS (SELECT 1 FROM Bufor WHERE AdresUrl = @in_AdresUrl))\r\n",
                "        UPDATE Bufor \r\n",
                "        SET OstatnieWejscie = @in_OstatnieWejscie\r\n",
                "        WHERE AdresUrl = @in_AdresUrl\r\n",
                "    ELSE\r\n",
                "    BEGIN\r\n",
                "        -- Jeśli w buforze nie ma wstawianej strony, sprawdzamy, czy liczba wierszy przed wstawieniem jest mniejsza niż ta określona przez parametr max cache z tabeli Parametry\r\n",
                "        DECLARE @bufor_wierszy INT = (SELECT COUNT(*) FROM Bufor)\r\n",
                "        DECLARE @bufor_limit INT = (SELECT TOP 1 wartosc FROM Parametry)\r\n",
                "\r\n",
                "        -- Jeśli jest mniejsza, wstawiamy wiersz i kończymy. \r\n",
                "        IF (@bufor_wierszy < @bufor_limit)\r\n",
                "            INSERT INTO Bufor \r\n",
                "                VALUES(@in_AdresUrl, @in_OstatnieWejscie)\r\n",
                "        ELSE\r\n",
                "        BEGIN\r\n",
                "            -- przenosimy najstarszy wpis do historii\r\n",
                "            DECLARE @temp_ID INT, @temp_AdresUrl VARCHAR(255), @temp_OstatnieWejscie DATETIME\r\n",
                "            -- wybieramy pierwszy z możliwych\r\n",
                "            SELECT TOP 1\r\n",
                "                @temp_ID = ID,\r\n",
                "                @temp_AdresUrl = AdresUrl, \r\n",
                "                @temp_OstatnieWejscie = OstatnieWejscie\r\n",
                "            FROM \r\n",
                "                Bufor\r\n",
                "            ORDER BY OstatnieWejscie\r\n",
                "\r\n",
                "            -- wpis jest już w historii\r\n",
                "            IF (EXISTS (SELECT 1 FROM Historia WHERE AdresUrl = @temp_AdresUrl))\r\n",
                "                UPDATE Historia\r\n",
                "                SET OstatnieWejscie = @in_OstatnieWejscie\r\n",
                "                WHERE AdresUrl = @temp_AdresUrl\r\n",
                "            ELSE\r\n",
                "                INSERT INTO Historia\r\n",
                "                VALUES(@temp_AdresUrl, @temp_OstatnieWejscie)\r\n",
                "\r\n",
                "            -- usuwamy najstarszy wpis i dodajemy nowy do bufora\r\n",
                "            DELETE FROM Bufor WHERE ID = @temp_ID\r\n",
                "            INSERT INTO Bufor \r\n",
                "                VALUES(@in_AdresUrl, @in_OstatnieWejscie)\r\n",
                "        END\r\n",
                "    END\r\n",
                "END\r\n",
                ""
            ],
            "metadata": {
                "azdata_cell_guid": "3e9307ee-5161-4bb3-bd80-9119b591a8e4",
                "tags": []
            },
            "outputs": [
                {
                    "output_type": "display_data",
                    "data": {
                        "text/html": "Commands completed successfully."
                    },
                    "metadata": {}
                },
                {
                    "output_type": "display_data",
                    "data": {
                        "text/html": "Commands completed successfully."
                    },
                    "metadata": {}
                },
                {
                    "output_type": "display_data",
                    "data": {
                        "text/html": "Total execution time: 00:00:00.106"
                    },
                    "metadata": {}
                }
            ],
            "execution_count": 45
        },
        {
            "cell_type": "markdown",
            "source": [
                "Testy"
            ],
            "metadata": {
                "azdata_cell_guid": "030eec64-07bc-489d-b884-d547dfff0cf7",
                "tags": []
            },
            "attachments": {}
        },
        {
            "cell_type": "code",
            "source": [
                "INSERT INTO Bufor VALUES('test.com', '2022-03-21 15:13:00')"
            ],
            "metadata": {
                "azdata_cell_guid": "210567b5-d6c2-46ff-af4b-67bad96a8999"
            },
            "outputs": [
                {
                    "output_type": "display_data",
                    "data": {
                        "text/html": "(1 row affected)"
                    },
                    "metadata": {}
                },
                {
                    "output_type": "display_data",
                    "data": {
                        "text/html": "(1 row affected)"
                    },
                    "metadata": {}
                },
                {
                    "output_type": "display_data",
                    "data": {
                        "text/html": "Total execution time: 00:00:00.060"
                    },
                    "metadata": {}
                }
            ],
            "execution_count": 67
        },
        {
            "cell_type": "code",
            "source": [
                "INSERT INTO Bufor VALUES('google.com', '2022-03-25 15:23:00')"
            ],
            "metadata": {
                "azdata_cell_guid": "595ac00a-3dfe-4e5a-bc22-0cc4f6ed68f1"
            },
            "outputs": [
                {
                    "output_type": "display_data",
                    "data": {
                        "text/html": "(1 row affected)"
                    },
                    "metadata": {}
                },
                {
                    "output_type": "display_data",
                    "data": {
                        "text/html": "(1 row affected)"
                    },
                    "metadata": {}
                },
                {
                    "output_type": "display_data",
                    "data": {
                        "text/html": "Total execution time: 00:00:00.073"
                    },
                    "metadata": {}
                }
            ],
            "execution_count": 47
        },
        {
            "cell_type": "code",
            "source": [
                "INSERT INTO Bufor VALUES('youtube.com', '2022-03-24 07:26:00')"
            ],
            "metadata": {
                "azdata_cell_guid": "f9cb0d9f-4bf2-486c-9db9-aef1fc6bd1c9"
            },
            "outputs": [
                {
                    "output_type": "display_data",
                    "data": {
                        "text/html": "(1 row affected)"
                    },
                    "metadata": {}
                },
                {
                    "output_type": "display_data",
                    "data": {
                        "text/html": "(1 row affected)"
                    },
                    "metadata": {}
                },
                {
                    "output_type": "display_data",
                    "data": {
                        "text/html": "(1 row affected)"
                    },
                    "metadata": {}
                },
                {
                    "output_type": "display_data",
                    "data": {
                        "text/html": "(1 row affected)"
                    },
                    "metadata": {}
                },
                {
                    "output_type": "display_data",
                    "data": {
                        "text/html": "Total execution time: 00:00:00.065"
                    },
                    "metadata": {}
                }
            ],
            "execution_count": 65
        },
        {
            "cell_type": "code",
            "source": [
                "INSERT INTO Bufor VALUES('example.com', '2022-03-22 05:37:00')"
            ],
            "metadata": {
                "azdata_cell_guid": "469eaa02-51a7-47de-b3f8-956381c9e3cd"
            },
            "outputs": [
                {
                    "output_type": "display_data",
                    "data": {
                        "text/html": "(1 row affected)"
                    },
                    "metadata": {}
                },
                {
                    "output_type": "display_data",
                    "data": {
                        "text/html": "(1 row affected)"
                    },
                    "metadata": {}
                },
                {
                    "output_type": "display_data",
                    "data": {
                        "text/html": "(1 row affected)"
                    },
                    "metadata": {}
                },
                {
                    "output_type": "display_data",
                    "data": {
                        "text/html": "(1 row affected)"
                    },
                    "metadata": {}
                },
                {
                    "output_type": "display_data",
                    "data": {
                        "text/html": "Total execution time: 00:00:00.058"
                    },
                    "metadata": {}
                }
            ],
            "execution_count": 69
        },
        {
            "cell_type": "code",
            "source": [
                "INSERT INTO Bufor VALUES('skos.ii.uni.wroc.pl', '2022-03-24 23:47:00')"
            ],
            "metadata": {
                "azdata_cell_guid": "e2aceb4d-94f7-4309-ba43-ed31c1b36fb6"
            },
            "outputs": [
                {
                    "output_type": "display_data",
                    "data": {
                        "text/html": "(1 row affected)"
                    },
                    "metadata": {}
                },
                {
                    "output_type": "display_data",
                    "data": {
                        "text/html": "(1 row affected)"
                    },
                    "metadata": {}
                },
                {
                    "output_type": "display_data",
                    "data": {
                        "text/html": "Total execution time: 00:00:00.058"
                    },
                    "metadata": {}
                }
            ],
            "execution_count": 60
        },
        {
            "cell_type": "code",
            "source": [
                "SELECT * FROM Bufor\r\n",
                "SELECT * FROM Historia"
            ],
            "metadata": {
                "azdata_cell_guid": "ef5bf3d1-2a23-4ce9-a56c-d863f5604a75",
                "tags": [
                    "hide_input"
                ]
            },
            "outputs": [
                {
                    "output_type": "display_data",
                    "data": {
                        "text/html": "(4 rows affected)"
                    },
                    "metadata": {}
                },
                {
                    "output_type": "display_data",
                    "data": {
                        "text/html": "(2 rows affected)"
                    },
                    "metadata": {}
                },
                {
                    "output_type": "display_data",
                    "data": {
                        "text/html": "Total execution time: 00:00:00.054"
                    },
                    "metadata": {}
                },
                {
                    "output_type": "execute_result",
                    "execution_count": 70,
                    "data": {
                        "application/vnd.dataresource+json": {
                            "schema": {
                                "fields": [
                                    {
                                        "name": "ID"
                                    },
                                    {
                                        "name": "AdresUrl"
                                    },
                                    {
                                        "name": "OstatnieWejscie"
                                    }
                                ]
                            },
                            "data": [
                                {
                                    "0": "1",
                                    "1": "test.com",
                                    "2": "2022-03-21 15:13:00.000"
                                },
                                {
                                    "0": "2",
                                    "1": "google.com",
                                    "2": "2021-03-25 15:23:00.000"
                                },
                                {
                                    "0": "5",
                                    "1": "skos.ii.uni.wroc.pl",
                                    "2": "2021-03-24 23:47:00.000"
                                },
                                {
                                    "0": "8",
                                    "1": "example.com",
                                    "2": "2021-03-22 05:37:00.000"
                                }
                            ]
                        },
                        "text/html": "<table><tr><th>ID</th><th>AdresUrl</th><th>OstatnieWejscie</th></tr><tr><td>1</td><td>test.com</td><td>2022-03-21 15:13:00.000</td></tr><tr><td>2</td><td>google.com</td><td>2021-03-25 15:23:00.000</td></tr><tr><td>5</td><td>skos.ii.uni.wroc.pl</td><td>2021-03-24 23:47:00.000</td></tr><tr><td>8</td><td>example.com</td><td>2021-03-22 05:37:00.000</td></tr></table>"
                    },
                    "metadata": {}
                },
                {
                    "output_type": "execute_result",
                    "execution_count": 70,
                    "data": {
                        "application/vnd.dataresource+json": {
                            "schema": {
                                "fields": [
                                    {
                                        "name": "ID"
                                    },
                                    {
                                        "name": "AdresUrl"
                                    },
                                    {
                                        "name": "OstatnieWejscie"
                                    }
                                ]
                            },
                            "data": [
                                {
                                    "0": "1",
                                    "1": "example.com",
                                    "2": "2021-03-24 07:26:00.000"
                                },
                                {
                                    "0": "2",
                                    "1": "youtube.com",
                                    "2": "2021-03-22 05:37:00.000"
                                }
                            ]
                        },
                        "text/html": "<table><tr><th>ID</th><th>AdresUrl</th><th>OstatnieWejscie</th></tr><tr><td>1</td><td>example.com</td><td>2021-03-24 07:26:00.000</td></tr><tr><td>2</td><td>youtube.com</td><td>2021-03-22 05:37:00.000</td></tr></table>"
                    },
                    "metadata": {}
                }
            ],
            "execution_count": 70
        },
        {
            "cell_type": "code",
            "source": [
                "DROP TABLE IF EXISTS Bufor, Historia, Parametry\r\n",
                "GO\r\n",
                "\r\n",
                "DROP TRIGGER IF EXISTS TR_doHistorii\r\n",
                "GO"
            ],
            "metadata": {
                "azdata_cell_guid": "6c979a86-46fa-4f83-a1b3-bfc57996881e"
            },
            "outputs": [
                {
                    "output_type": "display_data",
                    "data": {
                        "text/html": "Commands completed successfully."
                    },
                    "metadata": {}
                },
                {
                    "output_type": "display_data",
                    "data": {
                        "text/html": "Commands completed successfully."
                    },
                    "metadata": {}
                },
                {
                    "output_type": "display_data",
                    "data": {
                        "text/html": "Total execution time: 00:00:00.161"
                    },
                    "metadata": {}
                }
            ],
            "execution_count": 71
        }
    ]
}