{
    "metadata": {
        "kernelspec": {
            "name": "SQL",
            "display_name": "SQL",
            "language": "sql"
        },
        "language_info": {
            "name": "sql",
            "version": ""
        }
    },
    "nbformat_minor": 2,
    "nbformat": 4,
    "cells": [
        {
            "cell_type": "markdown",
            "source": [
                "# Zad 1"
            ],
            "metadata": {
                "azdata_cell_guid": "a42ddcb9-b336-4b13-9215-8abf94da21c2"
            },
            "attachments": {}
        },
        {
            "cell_type": "markdown",
            "source": [
                "Dane są tabele: \n",
                "\n",
                "> • Towary(ID, NazwaTowaru), \n",
                "\n",
                "> • Ceny(TowarID REF Towary(ID), Waluta REF Kursy(Waluta), Cena), \n",
                "\n",
                "> • Kursy(Waluta, CenaPLN). \n",
                "\n",
                "Należy zwrócić uwagę, że towar może nie mieć podanej ceny we wszystkich walutach, ale zawsze ma podaną cenę w PLN (jest to punkt odniesienia). Zadaniem jest przygotowanie wsadu, który zaktualizuje ceny w tabeli Ceny na podstawie tabeli Kursy, przy czym może się zdarzyć, że w tabeli Ceny będzie odniesienie do waluty, której kursu w tabeli Kursy już nie ma, i o taką sytuację również należy zadbać. \n",
                "\n",
                "Przy realizacji tego zadania należy wykorzystać mechanizm kursorów."
            ],
            "metadata": {
                "azdata_cell_guid": "d053ed88-0e88-4d29-a522-971b1d4358bc"
            },
            "attachments": {}
        },
        {
            "cell_type": "code",
            "source": [
                "-- create tables\r\n",
                "DROP TABLE IF EXISTS Ceny, Kursy, Towary\r\n",
                "GO\r\n",
                "\r\n",
                "CREATE TABLE Towary(\r\n",
                "    ID INT PRIMARY KEY, \r\n",
                "    NazwaTowaru VARCHAR(40)\r\n",
                ")\r\n",
                "GO\r\n",
                "\r\n",
                "CREATE TABLE Kursy(\r\n",
                "    Waluta VARCHAR(3) PRIMARY KEY, \r\n",
                "    CenaPLN MONEY\r\n",
                ")\r\n",
                "GO\r\n",
                "\r\n",
                "-- zamiana kolejności bo ceny zależą od kursów\r\n",
                "CREATE TABLE Ceny(\r\n",
                "    TowarID INT REFERENCES Towary(ID),\r\n",
                "    Waluta VARCHAR(3) REFERENCES Kursy(Waluta), \r\n",
                "    Cena MONEY\r\n",
                ")\r\n",
                "GO\r\n",
                "\r\n",
                "-- insert dummy data\r\n",
                "INSERT INTO Towary\r\n",
                "VALUES\r\n",
                "    (1, 'chleb 1000g'),\r\n",
                "    (2, 'bułka kajzerka'),\r\n",
                "    (3, 'mleko 1L'),\r\n",
                "    (4, 'ser żółty gouda 1 kg'),\r\n",
                "    (5, 'jogurt 150g')\r\n",
                "\r\n",
                "INSERT INTO Kursy\r\n",
                "VALUES\r\n",
                "    ('PLN', 1.0),\r\n",
                "    ('USD', 4.3125),\r\n",
                "    ('GBP', 5.6769),\r\n",
                "    ('EUR', 4.7459),\r\n",
                "    ('RUB', 0.0432)\r\n",
                "\r\n",
                "INSERT INTO Ceny\r\n",
                "VALUES\r\n",
                "    (1, 'PLN', 4.20),\r\n",
                "    (2, 'PLN', 0.33),\r\n",
                "    (3, 'PLN', 3.16),\r\n",
                "    (4, 'PLN', 21.36),\r\n",
                "    (5, 'PLN', 1.36),\r\n",
                "    (1, 'GBP', 0.7398),\r\n",
                "    (3, 'USD', 0.55664),\r\n",
                "    (4, 'RUB', 494.44),\r\n",
                "    (5, 'GBP', 20.2395)\r\n",
                "GO\r\n",
                "\r\n",
                "SELECT * FROM Towary;\r\n",
                "SELECT * FROM Ceny;\r\n",
                "SELECT * FROM Kursy;"
            ],
            "metadata": {
                "azdata_cell_guid": "c26db8ec-33fd-4483-8817-c494be7834a7",
                "tags": []
            },
            "outputs": [
                {
                    "output_type": "display_data",
                    "data": {
                        "text/html": "Commands completed successfully."
                    },
                    "metadata": {}
                },
                {
                    "output_type": "display_data",
                    "data": {
                        "text/html": "Commands completed successfully."
                    },
                    "metadata": {}
                },
                {
                    "output_type": "display_data",
                    "data": {
                        "text/html": "Commands completed successfully."
                    },
                    "metadata": {}
                },
                {
                    "output_type": "display_data",
                    "data": {
                        "text/html": "Commands completed successfully."
                    },
                    "metadata": {}
                },
                {
                    "output_type": "display_data",
                    "data": {
                        "text/html": "(5 rows affected)"
                    },
                    "metadata": {}
                },
                {
                    "output_type": "display_data",
                    "data": {
                        "text/html": "(5 rows affected)"
                    },
                    "metadata": {}
                },
                {
                    "output_type": "display_data",
                    "data": {
                        "text/html": "(9 rows affected)"
                    },
                    "metadata": {}
                },
                {
                    "output_type": "display_data",
                    "data": {
                        "text/html": "(5 rows affected)"
                    },
                    "metadata": {}
                },
                {
                    "output_type": "display_data",
                    "data": {
                        "text/html": "(9 rows affected)"
                    },
                    "metadata": {}
                },
                {
                    "output_type": "display_data",
                    "data": {
                        "text/html": "(5 rows affected)"
                    },
                    "metadata": {}
                },
                {
                    "output_type": "display_data",
                    "data": {
                        "text/html": "Total execution time: 00:00:00.460"
                    },
                    "metadata": {}
                },
                {
                    "output_type": "execute_result",
                    "metadata": {},
                    "execution_count": 1,
                    "data": {
                        "application/vnd.dataresource+json": {
                            "schema": {
                                "fields": [
                                    {
                                        "name": "ID"
                                    },
                                    {
                                        "name": "NazwaTowaru"
                                    }
                                ]
                            },
                            "data": [
                                {
                                    "0": "1",
                                    "1": "chleb 1000g"
                                },
                                {
                                    "0": "2",
                                    "1": "bulka kajzerka"
                                },
                                {
                                    "0": "3",
                                    "1": "mleko 1L"
                                },
                                {
                                    "0": "4",
                                    "1": "ser zólty gouda 1 kg"
                                },
                                {
                                    "0": "5",
                                    "1": "jogurt 150g"
                                }
                            ]
                        },
                        "text/html": [
                            "<table>",
                            "<tr><th>ID</th><th>NazwaTowaru</th></tr>",
                            "<tr><td>1</td><td>chleb 1000g</td></tr>",
                            "<tr><td>2</td><td>bulka kajzerka</td></tr>",
                            "<tr><td>3</td><td>mleko 1L</td></tr>",
                            "<tr><td>4</td><td>ser zólty gouda 1 kg</td></tr>",
                            "<tr><td>5</td><td>jogurt 150g</td></tr>",
                            "</table>"
                        ]
                    }
                },
                {
                    "output_type": "execute_result",
                    "metadata": {},
                    "execution_count": 1,
                    "data": {
                        "application/vnd.dataresource+json": {
                            "schema": {
                                "fields": [
                                    {
                                        "name": "TowarID"
                                    },
                                    {
                                        "name": "Waluta"
                                    },
                                    {
                                        "name": "Cena"
                                    }
                                ]
                            },
                            "data": [
                                {
                                    "0": "1",
                                    "1": "PLN",
                                    "2": "4,20"
                                },
                                {
                                    "0": "2",
                                    "1": "PLN",
                                    "2": "0,33"
                                },
                                {
                                    "0": "3",
                                    "1": "PLN",
                                    "2": "3,16"
                                },
                                {
                                    "0": "4",
                                    "1": "PLN",
                                    "2": "21,36"
                                },
                                {
                                    "0": "5",
                                    "1": "PLN",
                                    "2": "1,36"
                                },
                                {
                                    "0": "1",
                                    "1": "GBP",
                                    "2": "0,7398"
                                },
                                {
                                    "0": "3",
                                    "1": "USD",
                                    "2": "0,5566"
                                },
                                {
                                    "0": "4",
                                    "1": "RUB",
                                    "2": "494,44"
                                },
                                {
                                    "0": "5",
                                    "1": "GBP",
                                    "2": "20,2395"
                                }
                            ]
                        },
                        "text/html": [
                            "<table>",
                            "<tr><th>TowarID</th><th>Waluta</th><th>Cena</th></tr>",
                            "<tr><td>1</td><td>PLN</td><td>4,20</td></tr>",
                            "<tr><td>2</td><td>PLN</td><td>0,33</td></tr>",
                            "<tr><td>3</td><td>PLN</td><td>3,16</td></tr>",
                            "<tr><td>4</td><td>PLN</td><td>21,36</td></tr>",
                            "<tr><td>5</td><td>PLN</td><td>1,36</td></tr>",
                            "<tr><td>1</td><td>GBP</td><td>0,7398</td></tr>",
                            "<tr><td>3</td><td>USD</td><td>0,5566</td></tr>",
                            "<tr><td>4</td><td>RUB</td><td>494,44</td></tr>",
                            "<tr><td>5</td><td>GBP</td><td>20,2395</td></tr>",
                            "</table>"
                        ]
                    }
                },
                {
                    "output_type": "execute_result",
                    "metadata": {},
                    "execution_count": 1,
                    "data": {
                        "application/vnd.dataresource+json": {
                            "schema": {
                                "fields": [
                                    {
                                        "name": "Waluta"
                                    },
                                    {
                                        "name": "CenaPLN"
                                    }
                                ]
                            },
                            "data": [
                                {
                                    "0": "EUR",
                                    "1": "4,7459"
                                },
                                {
                                    "0": "GBP",
                                    "1": "5,6769"
                                },
                                {
                                    "0": "PLN",
                                    "1": "1,00"
                                },
                                {
                                    "0": "RUB",
                                    "1": "0,0432"
                                },
                                {
                                    "0": "USD",
                                    "1": "4,3125"
                                }
                            ]
                        },
                        "text/html": [
                            "<table>",
                            "<tr><th>Waluta</th><th>CenaPLN</th></tr>",
                            "<tr><td>EUR</td><td>4,7459</td></tr>",
                            "<tr><td>GBP</td><td>5,6769</td></tr>",
                            "<tr><td>PLN</td><td>1,00</td></tr>",
                            "<tr><td>RUB</td><td>0,0432</td></tr>",
                            "<tr><td>USD</td><td>4,3125</td></tr>",
                            "</table>"
                        ]
                    }
                }
            ],
            "execution_count": 1
        },
        {
            "cell_type": "code",
            "source": [
                "ALTER TABLE Ceny NOCHECK CONSTRAINT ALL\r\n",
                "\r\n",
                "DELETE FROM Kursy\r\n",
                "WHERE\r\n",
                "    Waluta = 'RUB'\r\n",
                "\r\n",
                "ALTER TABLE Ceny CHECK CONSTRAINT ALL\r\n",
                "\r\n",
                "SELECT * FROM Kursy"
            ],
            "metadata": {
                "azdata_cell_guid": "a5f8f68b-d1e6-49d4-a22c-8a00a8eefff9"
            },
            "outputs": [
                {
                    "output_type": "display_data",
                    "data": {
                        "text/html": "(1 row affected)"
                    },
                    "metadata": {}
                },
                {
                    "output_type": "display_data",
                    "data": {
                        "text/html": "(4 rows affected)"
                    },
                    "metadata": {}
                },
                {
                    "output_type": "display_data",
                    "data": {
                        "text/html": "Total execution time: 00:00:00.080"
                    },
                    "metadata": {}
                },
                {
                    "output_type": "execute_result",
                    "execution_count": 80,
                    "data": {
                        "application/vnd.dataresource+json": {
                            "schema": {
                                "fields": [
                                    {
                                        "name": "Waluta"
                                    },
                                    {
                                        "name": "CenaPLN"
                                    }
                                ]
                            },
                            "data": [
                                {
                                    "0": "EUR",
                                    "1": "4,7459"
                                },
                                {
                                    "0": "GBP",
                                    "1": "5,6769"
                                },
                                {
                                    "0": "PLN",
                                    "1": "1,00"
                                },
                                {
                                    "0": "USD",
                                    "1": "4,3125"
                                }
                            ]
                        },
                        "text/html": "<table><tr><th>Waluta</th><th>CenaPLN</th></tr><tr><td>EUR</td><td>4,7459</td></tr><tr><td>GBP</td><td>5,6769</td></tr><tr><td>PLN</td><td>1,00</td></tr><tr><td>USD</td><td>4,3125</td></tr></table>"
                    },
                    "metadata": {}
                }
            ],
            "execution_count": 80
        },
        {
            "cell_type": "code",
            "source": [
                "-- kursory\r\n",
                "DECLARE Ceny_kursor CURSOR FOR SELECT * FROM dbo.Ceny\r\n",
                "DECLARE Kursy_kursor CURSOR FOR SELECT Waluta, CenaPLN FROM dbo.Kursy\r\n",
                "GO\r\n",
                "\r\n",
                "-- zmienne dla kursorów\r\n",
                "DECLARE @Kursy_Waluta VARCHAR(3), @Kursy_CenaPLN MONEY\r\n",
                "DECLARE @Ceny_TowarID INT, @Ceny_Waluta VARCHAR(3), @Ceny_Cena MONEY\r\n",
                "\r\n",
                "DECLARE @cena MONEY; -- cena dla obecnego produktru\r\n",
                "DECLARE @to_delete BIT; -- usuwamy gdy brakuje przelicznika kursu dla obecnego produktu i kursu\r\n",
                "\r\n",
                "-- przechodzimy po towarach na liście towar-waluta-cena\r\n",
                "OPEN Ceny_kursor\r\n",
                "FETCH NEXT FROM Ceny_kursor INTO @Ceny_TowarID, @Ceny_Waluta, @Ceny_Cena\r\n",
                "WHILE (@@FETCH_STATUS = 0) -- są jeszcze towary na liście (towar - cena)\r\n",
                "BEGIN\r\n",
                "    -- złoty jest bazową walutą\r\n",
                "    IF (@Ceny_Waluta = 'PLN')\r\n",
                "    BEGIN\r\n",
                "        FETCH NEXT FROM Ceny_kursor INTO @Ceny_TowarID, @Ceny_Waluta, @Ceny_Cena\r\n",
                "        CONTINUE\r\n",
                "    END\r\n",
                "    \r\n",
                "    -- bazowa cena (w PLN)\r\n",
                "    SET @cena = (SELECT TOP 1 Cena \r\n",
                "                 FROM dbo.Ceny \r\n",
                "                 WHERE TowarID = @Ceny_TowarID AND Waluta = 'PLN'\r\n",
                "    )\r\n",
                "    \r\n",
                "    -- forced cursor usage\r\n",
                "    -- przejrzyj czy istnieje taki kurs jak tak to update, jak nie to delete\r\n",
                "    SET @to_delete = 1\r\n",
                "\r\n",
                "    OPEN Kursy_kursor    \r\n",
                "    FETCH NEXT FROM Kursy_kursor INTO @Kursy_Waluta, @Kursy_CenaPLN\r\n",
                "    WHILE (@@FETCH_STATUS = 0) \r\n",
                "    BEGIN\r\n",
                "        IF (@Kursy_Waluta != @Ceny_Waluta)\r\n",
                "        BEGIN\r\n",
                "            FETCH NEXT FROM  Kursy_kursor INTO @Kursy_Waluta, @Kursy_CenaPLN\r\n",
                "            CONTINUE\r\n",
                "        END\r\n",
                "        \r\n",
                "        SET @Ceny_Cena = @cena / @Kursy_CenaPLN\r\n",
                "        SET @to_delete = 0\r\n",
                "\r\n",
                "        UPDATE Ceny \r\n",
                "        SET Cena = @Ceny_Cena\r\n",
                "        WHERE TowarID = @Ceny_TowarID AND Waluta = @Ceny_Waluta\r\n",
                "\r\n",
                "        FETCH NEXT FROM  Kursy_kursor INTO @Kursy_Waluta, @Kursy_CenaPLN\r\n",
                "    END\r\n",
                "\r\n",
                "    IF (@to_delete = 1)\r\n",
                "        DELETE FROM Ceny WHERE TowarID = @Ceny_TowarID AND Waluta = @Ceny_Waluta\r\n",
                "    \r\n",
                "    CLOSE Kursy_kursor\r\n",
                "    FETCH NEXT FROM Ceny_kursor INTO @Ceny_TowarID, @Ceny_Waluta, @Ceny_Cena\r\n",
                "END\r\n",
                "-- pamiętaj o zamykaniu i dealokacji kursorów\r\n",
                "CLOSE Ceny_kursor\r\n",
                "GO\r\n",
                "\r\n",
                "DEALLOCATE Ceny_kursor\r\n",
                "DEALLOCATE Kursy_kursor"
            ],
            "metadata": {
                "azdata_cell_guid": "9319bd97-2b4d-499e-a4d4-685f37308754"
            },
            "outputs": [
                {
                    "output_type": "display_data",
                    "data": {
                        "text/html": "Commands completed successfully."
                    },
                    "metadata": {}
                },
                {
                    "output_type": "display_data",
                    "data": {
                        "text/html": "(1 row affected)"
                    },
                    "metadata": {}
                },
                {
                    "output_type": "display_data",
                    "data": {
                        "text/html": "(1 row affected)"
                    },
                    "metadata": {}
                },
                {
                    "output_type": "display_data",
                    "data": {
                        "text/html": "(1 row affected)"
                    },
                    "metadata": {}
                },
                {
                    "output_type": "display_data",
                    "data": {
                        "text/html": "(1 row affected)"
                    },
                    "metadata": {}
                },
                {
                    "output_type": "display_data",
                    "data": {
                        "text/html": "Commands completed successfully."
                    },
                    "metadata": {}
                },
                {
                    "output_type": "display_data",
                    "data": {
                        "text/html": "Total execution time: 00:00:00.213"
                    },
                    "metadata": {}
                }
            ],
            "execution_count": 81
        },
        {
            "cell_type": "code",
            "source": [
                "-- przykład\r\n",
                "-- rubel zostaje usunięty bo nie ma dla niego kursu (ktoś nie nadąża zmniejszać :) )\r\n",
                "-- reszta cen w innych walutach niż PLN zostaje zaktualizowana na podstawie kursu\r\n",
                "SELECT * FROM Towary;\r\n",
                "SELECT * FROM Ceny;\r\n",
                "SELECT * FROM Kursy;"
            ],
            "metadata": {
                "azdata_cell_guid": "25287883-0998-46cb-a18c-b2a87b7309d6"
            },
            "outputs": [
                {
                    "output_type": "display_data",
                    "data": {
                        "text/html": "(5 rows affected)"
                    },
                    "metadata": {}
                },
                {
                    "output_type": "display_data",
                    "data": {
                        "text/html": "(8 rows affected)"
                    },
                    "metadata": {}
                },
                {
                    "output_type": "display_data",
                    "data": {
                        "text/html": "(4 rows affected)"
                    },
                    "metadata": {}
                },
                {
                    "output_type": "display_data",
                    "data": {
                        "text/html": "Total execution time: 00:00:00.053"
                    },
                    "metadata": {}
                },
                {
                    "output_type": "execute_result",
                    "execution_count": 84,
                    "data": {
                        "application/vnd.dataresource+json": {
                            "schema": {
                                "fields": [
                                    {
                                        "name": "ID"
                                    },
                                    {
                                        "name": "NazwaTowaru"
                                    }
                                ]
                            },
                            "data": [
                                {
                                    "0": "1",
                                    "1": "chleb 1000g"
                                },
                                {
                                    "0": "2",
                                    "1": "bulka kajzerka"
                                },
                                {
                                    "0": "3",
                                    "1": "mleko 1L"
                                },
                                {
                                    "0": "4",
                                    "1": "ser zólty gouda 1 kg"
                                },
                                {
                                    "0": "5",
                                    "1": "jogurt 150g"
                                }
                            ]
                        },
                        "text/html": "<table><tr><th>ID</th><th>NazwaTowaru</th></tr><tr><td>1</td><td>chleb 1000g</td></tr><tr><td>2</td><td>bulka kajzerka</td></tr><tr><td>3</td><td>mleko 1L</td></tr><tr><td>4</td><td>ser zólty gouda 1 kg</td></tr><tr><td>5</td><td>jogurt 150g</td></tr></table>"
                    },
                    "metadata": {}
                },
                {
                    "output_type": "execute_result",
                    "execution_count": 84,
                    "data": {
                        "application/vnd.dataresource+json": {
                            "schema": {
                                "fields": [
                                    {
                                        "name": "TowarID"
                                    },
                                    {
                                        "name": "Waluta"
                                    },
                                    {
                                        "name": "Cena"
                                    }
                                ]
                            },
                            "data": [
                                {
                                    "0": "1",
                                    "1": "PLN",
                                    "2": "4,20"
                                },
                                {
                                    "0": "2",
                                    "1": "PLN",
                                    "2": "0,33"
                                },
                                {
                                    "0": "3",
                                    "1": "PLN",
                                    "2": "3,16"
                                },
                                {
                                    "0": "4",
                                    "1": "PLN",
                                    "2": "21,36"
                                },
                                {
                                    "0": "5",
                                    "1": "PLN",
                                    "2": "1,36"
                                },
                                {
                                    "0": "1",
                                    "1": "GBP",
                                    "2": "0,7398"
                                },
                                {
                                    "0": "3",
                                    "1": "USD",
                                    "2": "0,7327"
                                },
                                {
                                    "0": "5",
                                    "1": "GBP",
                                    "2": "0,2395"
                                }
                            ]
                        },
                        "text/html": "<table><tr><th>TowarID</th><th>Waluta</th><th>Cena</th></tr><tr><td>1</td><td>PLN</td><td>4,20</td></tr><tr><td>2</td><td>PLN</td><td>0,33</td></tr><tr><td>3</td><td>PLN</td><td>3,16</td></tr><tr><td>4</td><td>PLN</td><td>21,36</td></tr><tr><td>5</td><td>PLN</td><td>1,36</td></tr><tr><td>1</td><td>GBP</td><td>0,7398</td></tr><tr><td>3</td><td>USD</td><td>0,7327</td></tr><tr><td>5</td><td>GBP</td><td>0,2395</td></tr></table>"
                    },
                    "metadata": {}
                },
                {
                    "output_type": "execute_result",
                    "execution_count": 84,
                    "data": {
                        "application/vnd.dataresource+json": {
                            "schema": {
                                "fields": [
                                    {
                                        "name": "Waluta"
                                    },
                                    {
                                        "name": "CenaPLN"
                                    }
                                ]
                            },
                            "data": [
                                {
                                    "0": "EUR",
                                    "1": "4,7459"
                                },
                                {
                                    "0": "GBP",
                                    "1": "5,6769"
                                },
                                {
                                    "0": "PLN",
                                    "1": "1,00"
                                },
                                {
                                    "0": "USD",
                                    "1": "4,3125"
                                }
                            ]
                        },
                        "text/html": "<table><tr><th>Waluta</th><th>CenaPLN</th></tr><tr><td>EUR</td><td>4,7459</td></tr><tr><td>GBP</td><td>5,6769</td></tr><tr><td>PLN</td><td>1,00</td></tr><tr><td>USD</td><td>4,3125</td></tr></table>"
                    },
                    "metadata": {}
                }
            ],
            "execution_count": 84
        },
        {
            "cell_type": "code",
            "source": [
                "DROP TABLE IF EXISTS Ceny, Kursy, Towary"
            ],
            "metadata": {
                "azdata_cell_guid": "edf1190b-f713-442e-b5b3-7d46db57b1e1",
                "tags": []
            },
            "outputs": [
                {
                    "output_type": "display_data",
                    "data": {
                        "text/html": "Commands completed successfully."
                    },
                    "metadata": {}
                },
                {
                    "output_type": "display_data",
                    "data": {
                        "text/html": "Total execution time: 00:00:00.079"
                    },
                    "metadata": {}
                }
            ],
            "execution_count": 26
        }
    ]
}