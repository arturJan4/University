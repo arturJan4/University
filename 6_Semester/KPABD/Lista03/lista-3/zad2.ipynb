{
    "metadata": {
        "kernelspec": {
            "name": "SQL",
            "display_name": "SQL",
            "language": "sql"
        },
        "language_info": {
            "name": "sql",
            "version": ""
        }
    },
    "nbformat_minor": 2,
    "nbformat": 4,
    "cells": [
        {
            "cell_type": "markdown",
            "source": [
                "# Zad 2 (TODO)"
            ],
            "metadata": {
                "azdata_cell_guid": "5169ed17-6e49-4008-8198-539170189678"
            },
            "attachments": {}
        },
        {
            "cell_type": "markdown",
            "source": [
                "Utworzyć tabele Employees(ID, SalaryGros) oraz SalaryHistory(ID, EmployeeID, Year, Month, SalaryNet, SalaryGros). Napisać procedurę, która jako parametr dostaje nr miesiąca, a następnie dla podanego miesiąca roku wylicza pensje do wypłaty. Wyliczenie pensji do wypłaty powinno uwzględnić następujące elementy: \n",
                "\n",
                "> • bieżącą pensję (Employees.SalaryGros), \n",
                "\n",
                "> • wszystkie poprzednie pensje w danym roku, aby wyliczyć zaliczkę na podatek, którą trzeba odprowadzić, \n",
                "\n",
                "> • podatek uzględniający odpowiedni próg podatkowy: 17% dla dochodów do 120000 zł rocznie, 15300 + 32% od nadwyżki ponad 120000 zł dla dochodów wyższych. \n",
                "\n",
                "Dodatkowo powinna być utworzona tabela z logiem, w której będzie informacja o przypadkach, dla których pensji nie udało się policzyć (np. z powodu braku pensji w jednym z miesięcy w roku). \n",
                "\n",
                "Przy realizacji tego zadania należy wykorzystać mechanizm kursorów. \n",
                "\n",
                "Uwaga: należy się zastanowić, czy nie warto w tabeli SalaryHistory zmienić nieco schematu."
            ],
            "metadata": {
                "azdata_cell_guid": "ab49daeb-7860-40dc-a507-53fb0656db18"
            },
            "attachments": {}
        },
        {
            "cell_type": "code",
            "source": [
                ""
            ],
            "metadata": {
                "azdata_cell_guid": "bdf01c85-7ffc-497f-8bf9-9fe0f6a623e3"
            },
            "outputs": [],
            "execution_count": null
        }
    ]
}