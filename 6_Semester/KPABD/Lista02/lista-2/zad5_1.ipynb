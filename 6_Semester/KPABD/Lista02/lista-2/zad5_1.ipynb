{
    "metadata": {
        "kernelspec": {
            "name": "SQL",
            "display_name": "SQL",
            "language": "sql"
        },
        "language_info": {
            "name": "sql",
            "version": ""
        }
    },
    "nbformat_minor": 2,
    "nbformat": 4,
    "cells": [
        {
            "cell_type": "markdown",
            "source": [
                "## Tabela tymczasowa lokalna\r\n",
                ""
            ],
            "metadata": {
                "azdata_cell_guid": "3d2e5f9a-8e41-49c3-a46b-5e87df7650ec"
            },
            "attachments": {}
        },
        {
            "cell_type": "code",
            "source": [
                "-- invalid\r\n",
                "select * from #Tablica"
            ],
            "metadata": {
                "azdata_cell_guid": "d75f8c96-b3cd-4ea1-b80e-fe37799046ef"
            },
            "outputs": [
                {
                    "output_type": "error",
                    "evalue": "Msg 208, Level 16, State 0, Line 2\r\nInvalid object name '#Tablica'.",
                    "ename": "",
                    "traceback": []
                },
                {
                    "output_type": "display_data",
                    "data": {
                        "text/html": "Total execution time: 00:00:00.057"
                    },
                    "metadata": {}
                }
            ],
            "execution_count": 5
        },
        {
            "cell_type": "markdown",
            "source": [
                "## Tabela tymczasowa globalna"
            ],
            "metadata": {
                "azdata_cell_guid": "ff64e0f2-b9bc-4a90-ab5e-ef968ed15a07"
            },
            "attachments": {}
        },
        {
            "cell_type": "code",
            "source": [
                "select * from ##Tablica"
            ],
            "metadata": {
                "azdata_cell_guid": "54743bda-8adb-4c08-b865-171faf248532"
            },
            "outputs": [
                {
                    "output_type": "display_data",
                    "data": {
                        "text/html": "(2 rows affected)"
                    },
                    "metadata": {}
                },
                {
                    "output_type": "display_data",
                    "data": {
                        "text/html": "Total execution time: 00:00:00.052"
                    },
                    "metadata": {}
                },
                {
                    "output_type": "execute_result",
                    "metadata": {},
                    "execution_count": 6,
                    "data": {
                        "application/vnd.dataresource+json": {
                            "schema": {
                                "fields": [
                                    {
                                        "name": "klucz"
                                    },
                                    {
                                        "name": "wartosc"
                                    }
                                ]
                            },
                            "data": [
                                {
                                    "0": "0",
                                    "1": "NULL"
                                },
                                {
                                    "0": "1",
                                    "1": "test"
                                }
                            ]
                        },
                        "text/html": [
                            "<table>",
                            "<tr><th>klucz</th><th>wartosc</th></tr>",
                            "<tr><td>0</td><td>NULL</td></tr>",
                            "<tr><td>1</td><td>test</td></tr>",
                            "</table>"
                        ]
                    }
                }
            ],
            "execution_count": 6
        },
        {
            "cell_type": "code",
            "source": [
                "SELECT * FROM tempdb.INFORMATION_SCHEMA.COLUMNS\r\n",
                "WHERE COLUMN_NAME = 'klucz' OR COLUMN_NAME = 'wartosc'\r\n",
                "\r\n",
                "SELECT * FROM tempdb.INFORMATION_SCHEMA.tables\r\n",
                ""
            ],
            "metadata": {
                "azdata_cell_guid": "9b68a9ec-fc1b-424a-97c0-d636b43672f3",
                "tags": []
            },
            "outputs": [
                {
                    "output_type": "display_data",
                    "data": {
                        "text/html": "(4 rows affected)"
                    },
                    "metadata": {}
                },
                {
                    "output_type": "display_data",
                    "data": {
                        "text/html": "(29 rows affected)"
                    },
                    "metadata": {}
                },
                {
                    "output_type": "display_data",
                    "data": {
                        "text/html": "Total execution time: 00:00:00.096"
                    },
                    "metadata": {}
                },
                {
                    "output_type": "execute_result",
                    "metadata": {},
                    "execution_count": 8,
                    "data": {
                        "application/vnd.dataresource+json": {
                            "schema": {
                                "fields": [
                                    {
                                        "name": "TABLE_CATALOG"
                                    },
                                    {
                                        "name": "TABLE_SCHEMA"
                                    },
                                    {
                                        "name": "TABLE_NAME"
                                    },
                                    {
                                        "name": "COLUMN_NAME"
                                    },
                                    {
                                        "name": "ORDINAL_POSITION"
                                    },
                                    {
                                        "name": "COLUMN_DEFAULT"
                                    },
                                    {
                                        "name": "IS_NULLABLE"
                                    },
                                    {
                                        "name": "DATA_TYPE"
                                    },
                                    {
                                        "name": "CHARACTER_MAXIMUM_LENGTH"
                                    },
                                    {
                                        "name": "CHARACTER_OCTET_LENGTH"
                                    },
                                    {
                                        "name": "NUMERIC_PRECISION"
                                    },
                                    {
                                        "name": "NUMERIC_PRECISION_RADIX"
                                    },
                                    {
                                        "name": "NUMERIC_SCALE"
                                    },
                                    {
                                        "name": "DATETIME_PRECISION"
                                    },
                                    {
                                        "name": "CHARACTER_SET_CATALOG"
                                    },
                                    {
                                        "name": "CHARACTER_SET_SCHEMA"
                                    },
                                    {
                                        "name": "CHARACTER_SET_NAME"
                                    },
                                    {
                                        "name": "COLLATION_CATALOG"
                                    },
                                    {
                                        "name": "COLLATION_SCHEMA"
                                    },
                                    {
                                        "name": "COLLATION_NAME"
                                    },
                                    {
                                        "name": "DOMAIN_CATALOG"
                                    },
                                    {
                                        "name": "DOMAIN_SCHEMA"
                                    },
                                    {
                                        "name": "DOMAIN_NAME"
                                    }
                                ]
                            },
                            "data": [
                                {
                                    "0": "tempdb",
                                    "1": "dbo",
                                    "2": "#Tablica____________________________________________________________________________________________________________00000000AAF8",
                                    "3": "klucz",
                                    "4": "1",
                                    "5": "NULL",
                                    "6": "NO",
                                    "7": "int",
                                    "8": "NULL",
                                    "9": "NULL",
                                    "10": "10",
                                    "11": "10",
                                    "12": "0",
                                    "13": "NULL",
                                    "14": "NULL",
                                    "15": "NULL",
                                    "16": "NULL",
                                    "17": "NULL",
                                    "18": "NULL",
                                    "19": "NULL",
                                    "20": "NULL",
                                    "21": "NULL",
                                    "22": "NULL"
                                },
                                {
                                    "0": "tempdb",
                                    "1": "dbo",
                                    "2": "#Tablica____________________________________________________________________________________________________________00000000AAF8",
                                    "3": "wartosc",
                                    "4": "2",
                                    "5": "NULL",
                                    "6": "YES",
                                    "7": "varchar",
                                    "8": "20",
                                    "9": "20",
                                    "10": "NULL",
                                    "11": "NULL",
                                    "12": "NULL",
                                    "13": "NULL",
                                    "14": "NULL",
                                    "15": "NULL",
                                    "16": "iso_1",
                                    "17": "NULL",
                                    "18": "NULL",
                                    "19": "SQL_Latin1_General_CP1_CI_AS",
                                    "20": "NULL",
                                    "21": "NULL",
                                    "22": "NULL"
                                },
                                {
                                    "0": "tempdb",
                                    "1": "dbo",
                                    "2": "##Tablica",
                                    "3": "klucz",
                                    "4": "1",
                                    "5": "NULL",
                                    "6": "NO",
                                    "7": "int",
                                    "8": "NULL",
                                    "9": "NULL",
                                    "10": "10",
                                    "11": "10",
                                    "12": "0",
                                    "13": "NULL",
                                    "14": "NULL",
                                    "15": "NULL",
                                    "16": "NULL",
                                    "17": "NULL",
                                    "18": "NULL",
                                    "19": "NULL",
                                    "20": "NULL",
                                    "21": "NULL",
                                    "22": "NULL"
                                },
                                {
                                    "0": "tempdb",
                                    "1": "dbo",
                                    "2": "##Tablica",
                                    "3": "wartosc",
                                    "4": "2",
                                    "5": "NULL",
                                    "6": "YES",
                                    "7": "varchar",
                                    "8": "20",
                                    "9": "20",
                                    "10": "NULL",
                                    "11": "NULL",
                                    "12": "NULL",
                                    "13": "NULL",
                                    "14": "NULL",
                                    "15": "NULL",
                                    "16": "iso_1",
                                    "17": "NULL",
                                    "18": "NULL",
                                    "19": "SQL_Latin1_General_CP1_CI_AS",
                                    "20": "NULL",
                                    "21": "NULL",
                                    "22": "NULL"
                                }
                            ]
                        },
                        "text/html": [
                            "<table>",
                            "<tr><th>TABLE_CATALOG</th><th>TABLE_SCHEMA</th><th>TABLE_NAME</th><th>COLUMN_NAME</th><th>ORDINAL_POSITION</th><th>COLUMN_DEFAULT</th><th>IS_NULLABLE</th><th>DATA_TYPE</th><th>CHARACTER_MAXIMUM_LENGTH</th><th>CHARACTER_OCTET_LENGTH</th><th>NUMERIC_PRECISION</th><th>NUMERIC_PRECISION_RADIX</th><th>NUMERIC_SCALE</th><th>DATETIME_PRECISION</th><th>CHARACTER_SET_CATALOG</th><th>CHARACTER_SET_SCHEMA</th><th>CHARACTER_SET_NAME</th><th>COLLATION_CATALOG</th><th>COLLATION_SCHEMA</th><th>COLLATION_NAME</th><th>DOMAIN_CATALOG</th><th>DOMAIN_SCHEMA</th><th>DOMAIN_NAME</th></tr>",
                            "<tr><td>tempdb</td><td>dbo</td><td>#Tablica____________________________________________________________________________________________________________00000000AAF8</td><td>klucz</td><td>1</td><td>NULL</td><td>NO</td><td>int</td><td>NULL</td><td>NULL</td><td>10</td><td>10</td><td>0</td><td>NULL</td><td>NULL</td><td>NULL</td><td>NULL</td><td>NULL</td><td>NULL</td><td>NULL</td><td>NULL</td><td>NULL</td><td>NULL</td></tr>",
                            "<tr><td>tempdb</td><td>dbo</td><td>#Tablica____________________________________________________________________________________________________________00000000AAF8</td><td>wartosc</td><td>2</td><td>NULL</td><td>YES</td><td>varchar</td><td>20</td><td>20</td><td>NULL</td><td>NULL</td><td>NULL</td><td>NULL</td><td>NULL</td><td>NULL</td><td>iso_1</td><td>NULL</td><td>NULL</td><td>SQL_Latin1_General_CP1_CI_AS</td><td>NULL</td><td>NULL</td><td>NULL</td></tr>",
                            "<tr><td>tempdb</td><td>dbo</td><td>##Tablica</td><td>klucz</td><td>1</td><td>NULL</td><td>NO</td><td>int</td><td>NULL</td><td>NULL</td><td>10</td><td>10</td><td>0</td><td>NULL</td><td>NULL</td><td>NULL</td><td>NULL</td><td>NULL</td><td>NULL</td><td>NULL</td><td>NULL</td><td>NULL</td><td>NULL</td></tr>",
                            "<tr><td>tempdb</td><td>dbo</td><td>##Tablica</td><td>wartosc</td><td>2</td><td>NULL</td><td>YES</td><td>varchar</td><td>20</td><td>20</td><td>NULL</td><td>NULL</td><td>NULL</td><td>NULL</td><td>NULL</td><td>NULL</td><td>iso_1</td><td>NULL</td><td>NULL</td><td>SQL_Latin1_General_CP1_CI_AS</td><td>NULL</td><td>NULL</td><td>NULL</td></tr>",
                            "</table>"
                        ]
                    }
                },
                {
                    "output_type": "execute_result",
                    "metadata": {},
                    "execution_count": 8,
                    "data": {
                        "application/vnd.dataresource+json": {
                            "schema": {
                                "fields": [
                                    {
                                        "name": "TABLE_CATALOG"
                                    },
                                    {
                                        "name": "TABLE_SCHEMA"
                                    },
                                    {
                                        "name": "TABLE_NAME"
                                    },
                                    {
                                        "name": "TABLE_TYPE"
                                    }
                                ]
                            },
                            "data": [
                                {
                                    "0": "tempdb",
                                    "1": "dbo",
                                    "2": "#AB87B91E",
                                    "3": "BASE TABLE"
                                },
                                {
                                    "0": "tempdb",
                                    "1": "dbo",
                                    "2": "#AC7BDD57",
                                    "3": "BASE TABLE"
                                },
                                {
                                    "0": "tempdb",
                                    "1": "dbo",
                                    "2": "#Tablica____________________________________________________________________________________________________________00000000AAF8",
                                    "3": "BASE TABLE"
                                },
                                {
                                    "0": "tempdb",
                                    "1": "dbo",
                                    "2": "#B4070C4A",
                                    "3": "BASE TABLE"
                                },
                                {
                                    "0": "tempdb",
                                    "1": "dbo",
                                    "2": "#B4FB3083",
                                    "3": "BASE TABLE"
                                },
                                {
                                    "0": "tempdb",
                                    "1": "dbo",
                                    "2": "#B5EF54BC",
                                    "3": "BASE TABLE"
                                },
                                {
                                    "0": "tempdb",
                                    "1": "dbo",
                                    "2": "#dm_continuous_copy_status__________________________________________________________________________________________00000000AB00",
                                    "3": "BASE TABLE"
                                },
                                {
                                    "0": "tempdb",
                                    "1": "dbo",
                                    "2": "#B9BFE5A0",
                                    "3": "BASE TABLE"
                                },
                                {
                                    "0": "tempdb",
                                    "1": "dbo",
                                    "2": "diff_MonWiIndexFingerprints",
                                    "3": "BASE TABLE"
                                },
                                {
                                    "0": "tempdb",
                                    "1": "dbo",
                                    "2": "diff_MonActiveXeSessions",
                                    "3": "BASE TABLE"
                                },
                                {
                                    "0": "tempdb",
                                    "1": "dbo",
                                    "2": "diff_MonWiSysIndexColumns",
                                    "3": "BASE TABLE"
                                },
                                {
                                    "0": "tempdb",
                                    "1": "dbo",
                                    "2": "diff_MonDmDbResourceGovernance",
                                    "3": "BASE TABLE"
                                },
                                {
                                    "0": "tempdb",
                                    "1": "dbo",
                                    "2": "diff_MonWiSysIndexes",
                                    "3": "BASE TABLE"
                                },
                                {
                                    "0": "tempdb",
                                    "1": "dbo",
                                    "2": "diff_MonSystemCertificates",
                                    "3": "BASE TABLE"
                                },
                                {
                                    "0": "tempdb",
                                    "1": "dbo",
                                    "2": "diff_MonWiDmDbPartitionStats",
                                    "3": "BASE TABLE"
                                },
                                {
                                    "0": "tempdb",
                                    "1": "dbo",
                                    "2": "diff_MonWiSysSchemas",
                                    "3": "BASE TABLE"
                                },
                                {
                                    "0": "tempdb",
                                    "1": "dbo",
                                    "2": "diff_MonWiDmDbIndexUsageStats",
                                    "3": "BASE TABLE"
                                },
                                {
                                    "0": "tempdb",
                                    "1": "dbo",
                                    "2": "dmv_view_run_history",
                                    "3": "BASE TABLE"
                                },
                                {
                                    "0": "tempdb",
                                    "1": "dbo",
                                    "2": "diff_MonWiDmMissingIndexesQuery",
                                    "3": "BASE TABLE"
                                },
                                {
                                    "0": "tempdb",
                                    "1": "dbo",
                                    "2": "diff_MonWiDmMissingIndexes",
                                    "3": "BASE TABLE"
                                },
                                {
                                    "0": "tempdb",
                                    "1": "dbo",
                                    "2": "diff_MonPhysicalInstAuditHealth",
                                    "3": "BASE TABLE"
                                },
                                {
                                    "0": "tempdb",
                                    "1": "dbo",
                                    "2": "diff_MonDmCloudDatabaseWaitStats",
                                    "3": "BASE TABLE"
                                },
                                {
                                    "0": "tempdb",
                                    "1": "dbo",
                                    "2": "diff_MonDmOsExceptionStats",
                                    "3": "BASE TABLE"
                                },
                                {
                                    "0": "tempdb",
                                    "1": "dbo",
                                    "2": "diff_MonDmLogSpaceInfo",
                                    "3": "BASE TABLE"
                                },
                                {
                                    "0": "tempdb",
                                    "1": "dbo",
                                    "2": "##Tablica",
                                    "3": "BASE TABLE"
                                },
                                {
                                    "0": "tempdb",
                                    "1": "dbo",
                                    "2": "diff_MonDmDbHadrReplicaStates",
                                    "3": "BASE TABLE"
                                },
                                {
                                    "0": "tempdb",
                                    "1": "dbo",
                                    "2": "diff_MonDmIoVirtualFileStats",
                                    "3": "BASE TABLE"
                                },
                                {
                                    "0": "tempdb",
                                    "1": "dbo",
                                    "2": "diff_MonAutomaticTuningState",
                                    "3": "BASE TABLE"
                                },
                                {
                                    "0": "tempdb",
                                    "1": "dbo",
                                    "2": "diff_MonDmContinuousCopyStatus",
                                    "3": "BASE TABLE"
                                }
                            ]
                        },
                        "text/html": [
                            "<table>",
                            "<tr><th>TABLE_CATALOG</th><th>TABLE_SCHEMA</th><th>TABLE_NAME</th><th>TABLE_TYPE</th></tr>",
                            "<tr><td>tempdb</td><td>dbo</td><td>#AB87B91E</td><td>BASE TABLE</td></tr>",
                            "<tr><td>tempdb</td><td>dbo</td><td>#AC7BDD57</td><td>BASE TABLE</td></tr>",
                            "<tr><td>tempdb</td><td>dbo</td><td>#Tablica____________________________________________________________________________________________________________00000000AAF8</td><td>BASE TABLE</td></tr>",
                            "<tr><td>tempdb</td><td>dbo</td><td>#B4070C4A</td><td>BASE TABLE</td></tr>",
                            "<tr><td>tempdb</td><td>dbo</td><td>#B4FB3083</td><td>BASE TABLE</td></tr>",
                            "<tr><td>tempdb</td><td>dbo</td><td>#B5EF54BC</td><td>BASE TABLE</td></tr>",
                            "<tr><td>tempdb</td><td>dbo</td><td>#dm_continuous_copy_status__________________________________________________________________________________________00000000AB00</td><td>BASE TABLE</td></tr>",
                            "<tr><td>tempdb</td><td>dbo</td><td>#B9BFE5A0</td><td>BASE TABLE</td></tr>",
                            "<tr><td>tempdb</td><td>dbo</td><td>diff_MonWiIndexFingerprints</td><td>BASE TABLE</td></tr>",
                            "<tr><td>tempdb</td><td>dbo</td><td>diff_MonActiveXeSessions</td><td>BASE TABLE</td></tr>",
                            "<tr><td>tempdb</td><td>dbo</td><td>diff_MonWiSysIndexColumns</td><td>BASE TABLE</td></tr>",
                            "<tr><td>tempdb</td><td>dbo</td><td>diff_MonDmDbResourceGovernance</td><td>BASE TABLE</td></tr>",
                            "<tr><td>tempdb</td><td>dbo</td><td>diff_MonWiSysIndexes</td><td>BASE TABLE</td></tr>",
                            "<tr><td>tempdb</td><td>dbo</td><td>diff_MonSystemCertificates</td><td>BASE TABLE</td></tr>",
                            "<tr><td>tempdb</td><td>dbo</td><td>diff_MonWiDmDbPartitionStats</td><td>BASE TABLE</td></tr>",
                            "<tr><td>tempdb</td><td>dbo</td><td>diff_MonWiSysSchemas</td><td>BASE TABLE</td></tr>",
                            "<tr><td>tempdb</td><td>dbo</td><td>diff_MonWiDmDbIndexUsageStats</td><td>BASE TABLE</td></tr>",
                            "<tr><td>tempdb</td><td>dbo</td><td>dmv_view_run_history</td><td>BASE TABLE</td></tr>",
                            "<tr><td>tempdb</td><td>dbo</td><td>diff_MonWiDmMissingIndexesQuery</td><td>BASE TABLE</td></tr>",
                            "<tr><td>tempdb</td><td>dbo</td><td>diff_MonWiDmMissingIndexes</td><td>BASE TABLE</td></tr>",
                            "<tr><td>tempdb</td><td>dbo</td><td>diff_MonPhysicalInstAuditHealth</td><td>BASE TABLE</td></tr>",
                            "<tr><td>tempdb</td><td>dbo</td><td>diff_MonDmCloudDatabaseWaitStats</td><td>BASE TABLE</td></tr>",
                            "<tr><td>tempdb</td><td>dbo</td><td>diff_MonDmOsExceptionStats</td><td>BASE TABLE</td></tr>",
                            "<tr><td>tempdb</td><td>dbo</td><td>diff_MonDmLogSpaceInfo</td><td>BASE TABLE</td></tr>",
                            "<tr><td>tempdb</td><td>dbo</td><td>##Tablica</td><td>BASE TABLE</td></tr>",
                            "<tr><td>tempdb</td><td>dbo</td><td>diff_MonDmDbHadrReplicaStates</td><td>BASE TABLE</td></tr>",
                            "<tr><td>tempdb</td><td>dbo</td><td>diff_MonDmIoVirtualFileStats</td><td>BASE TABLE</td></tr>",
                            "<tr><td>tempdb</td><td>dbo</td><td>diff_MonAutomaticTuningState</td><td>BASE TABLE</td></tr>",
                            "<tr><td>tempdb</td><td>dbo</td><td>diff_MonDmContinuousCopyStatus</td><td>BASE TABLE</td></tr>",
                            "</table>"
                        ]
                    }
                }
            ],
            "execution_count": 8
        }
    ]
}