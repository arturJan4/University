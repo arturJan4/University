{
    "metadata": {
        "kernelspec": {
            "name": "SQL",
            "display_name": "SQL",
            "language": "sql"
        },
        "language_info": {
            "name": "sql",
            "version": ""
        }
    },
    "nbformat_minor": 2,
    "nbformat": 4,
    "cells": [
        {
            "cell_type": "markdown",
            "source": [
                "# Zad 2\n",
                "\n",
                "Utworzyć tabele imiona(id, imie), nazwiska(id, nazwisko) oraz dane(imie, nazwisko). Wstawić testowe dane do tabel imiona i nazwiska, a następnie utworzyć procedurę, która dla zadanego parametru n do tabeli dane wstawi n losowo dobranych par (imię, nazwisko) uprzednio usuwając jej zawartość. Jeśli n będzie większe od połowy wszystkich możliwych kombinacji, należy to zakomunikować poprzez odpowiednie wywołanie instrukcji THROW. Klucz główny tabeli dane tworzą kolumny (imię,nazwisko), dlatego trzeba zadbać o to, żeby podczas generowania danych każdą parę (imię,nazwisko) wygenerować co najwyżej raz"
            ],
            "metadata": {
                "azdata_cell_guid": "b40e6a88-877a-4114-91b4-abe0b31306a7"
            },
            "attachments": {}
        },
        {
            "cell_type": "code",
            "source": [
                "DROP TABLE IF EXISTS firstnames\r\n",
                "GO\r\n",
                "\r\n",
                "CREATE TABLE firstnames (\r\n",
                "\tid INT PRIMARY KEY,\r\n",
                "\tfirstname VARCHAR(25)\r\n",
                ")\r\n",
                "\r\n",
                "INSERT INTO firstnames\r\n",
                "VALUES \r\n",
                "    (1, 'Artur'),\r\n",
                "    (2, 'Tomasz'),\r\n",
                "    (3, 'Łukasz'),\r\n",
                "    (4, 'Roman'),\r\n",
                "    (5, 'Geralt'),\r\n",
                "    (6, 'Dariusz')\r\n",
                "\r\n",
                "DROP TABLE IF EXISTS surnames\r\n",
                "GO\r\n",
                "\r\n",
                "CREATE TABLE surnames (\r\n",
                "\tid INT PRIMARY KEY,\r\n",
                "\tsurname VARCHAR(40)\r\n",
                ")\r\n",
                "\r\n",
                "INSERT INTO surnames\r\n",
                "VALUES \r\n",
                "    (1, 'Nowak'),\r\n",
                "    (2, 'Kowalski'),\r\n",
                "    (3, 'Lewandowski'),\r\n",
                "    (4, 'Kowalczyk'),\r\n",
                "    (5, 'Kamiński'),\r\n",
                "    (6, 'Zieliński')\r\n",
                "    \r\n",
                "DROP TABLE IF EXISTS perdata\r\n",
                "GO\r\n",
                "\r\n",
                "CREATE TABLE perdata (\r\n",
                "    firstname VARCHAR(25),\r\n",
                "    surname VARCHAR(40),\r\n",
                "    CONSTRAINT PK_personData PRIMARY KEY (firstname, surname)\r\n",
                ")"
            ],
            "metadata": {
                "azdata_cell_guid": "db9489b6-3faa-4b42-a6b2-d9c3506ac879"
            },
            "outputs": [
                {
                    "output_type": "display_data",
                    "data": {
                        "text/html": "Commands completed successfully."
                    },
                    "metadata": {}
                },
                {
                    "output_type": "display_data",
                    "data": {
                        "text/html": "(6 rows affected)"
                    },
                    "metadata": {}
                },
                {
                    "output_type": "display_data",
                    "data": {
                        "text/html": "(6 rows affected)"
                    },
                    "metadata": {}
                },
                {
                    "output_type": "display_data",
                    "data": {
                        "text/html": "Commands completed successfully."
                    },
                    "metadata": {}
                },
                {
                    "output_type": "display_data",
                    "data": {
                        "text/html": "Total execution time: 00:00:00.232"
                    },
                    "metadata": {}
                }
            ],
            "execution_count": 60
        },
        {
            "cell_type": "markdown",
            "source": [
                "Właściwe zadanie -\\> procedura"
            ],
            "metadata": {
                "azdata_cell_guid": "70040bcf-e0fc-42fe-bf6b-505ab5fdc2f0"
            },
            "attachments": {}
        },
        {
            "cell_type": "code",
            "source": [
                "DROP PROCEDURE IF EXISTS insertRandomData\r\n",
                "GO\r\n",
                "\r\n",
                "CREATE PROCEDURE insertRandomData @n INT AS\r\n",
                "BEGIN\r\n",
                "    DELETE FROM perdata -- first clear the table\r\n",
                "\r\n",
                "    DECLARE @nameCount INT = (SELECT COUNT(DISTINCT firstnames.firstname) FROM firstnames)\r\n",
                "    DECLARE @surnameCount INT = (SELECT COUNT(DISTINCT surnames.surname) FROM surnames)\r\n",
                "\r\n",
                "    DECLARE @possibilities INT = @nameCount * @surnameCount\r\n",
                "    -- print @possibilities\r\n",
                "\r\n",
                "    IF (@n > (@possibilities / 2))\r\n",
                "        THROW 50110, 'The n paramater is too large.', 1;  \r\n",
                "\r\n",
                "    DECLARE @i INT = 0\r\n",
                "    WHILE (@i < @n)\r\n",
                "    BEGIN\r\n",
                "        DECLARE @firstname VARCHAR(25), @surname VARCHAR(40)\r\n",
                "\r\n",
                "        -- NEWID() is looping through rows\r\n",
                "        SET @firstname = (SELECT TOP 1  firstnames.firstname FROM firstnames ORDER BY NEWID())\r\n",
                "        SET @surname = (SELECT TOP 1 surnames.surname FROM surnames ORDER BY NEWID())\r\n",
                "\r\n",
                "        IF EXISTS (SELECT 1 FROM perdata WHERE @firstname = perdata.firstname AND @surname = perdata.surname)\r\n",
                "            CONTINUE\r\n",
                "        \r\n",
                "        INSERT INTO perdata VALUES (@firstname, @surname)\r\n",
                "\r\n",
                "        SET @i = @i + 1\r\n",
                "    END\r\n",
                "END"
            ],
            "metadata": {
                "azdata_cell_guid": "49ea2a34-96cf-4dfc-8bb9-63553eee5fa9"
            },
            "outputs": [
                {
                    "output_type": "display_data",
                    "data": {
                        "text/html": "Commands completed successfully."
                    },
                    "metadata": {}
                },
                {
                    "output_type": "display_data",
                    "data": {
                        "text/html": "Commands completed successfully."
                    },
                    "metadata": {}
                },
                {
                    "output_type": "display_data",
                    "data": {
                        "text/html": "Total execution time: 00:00:00.113"
                    },
                    "metadata": {}
                }
            ],
            "execution_count": 61
        },
        {
            "cell_type": "code",
            "source": [
                "EXEC insertRandomData @n = 30\r\n",
                "\r\n",
                "SELECT * from perdata"
            ],
            "metadata": {
                "azdata_cell_guid": "5645e251-323e-4513-809b-251713253a85"
            },
            "outputs": [
                {
                    "output_type": "display_data",
                    "data": {
                        "text/html": "(0 rows affected)"
                    },
                    "metadata": {}
                },
                {
                    "output_type": "error",
                    "evalue": "Msg 50110, Level 16, State 1, Procedure insertRandomData, Line 13\r\nThe n paramater is too large.",
                    "ename": "",
                    "traceback": []
                },
                {
                    "output_type": "display_data",
                    "data": {
                        "text/html": "Total execution time: 00:00:00.104"
                    },
                    "metadata": {}
                }
            ],
            "execution_count": 62
        },
        {
            "cell_type": "code",
            "source": [
                "EXEC insertRandomData @n = 15\r\n",
                "\r\n",
                "SELECT * from perdata"
            ],
            "metadata": {
                "azdata_cell_guid": "495bede0-4cf6-4889-85ee-ba052e16b9ed"
            },
            "outputs": [
                {
                    "output_type": "display_data",
                    "data": {
                        "text/html": "(0 rows affected)"
                    },
                    "metadata": {}
                },
                {
                    "output_type": "display_data",
                    "data": {
                        "text/html": "(1 row affected)"
                    },
                    "metadata": {}
                },
                {
                    "output_type": "display_data",
                    "data": {
                        "text/html": "(1 row affected)"
                    },
                    "metadata": {}
                },
                {
                    "output_type": "display_data",
                    "data": {
                        "text/html": "(1 row affected)"
                    },
                    "metadata": {}
                },
                {
                    "output_type": "display_data",
                    "data": {
                        "text/html": "(1 row affected)"
                    },
                    "metadata": {}
                },
                {
                    "output_type": "display_data",
                    "data": {
                        "text/html": "(1 row affected)"
                    },
                    "metadata": {}
                },
                {
                    "output_type": "display_data",
                    "data": {
                        "text/html": "(1 row affected)"
                    },
                    "metadata": {}
                },
                {
                    "output_type": "display_data",
                    "data": {
                        "text/html": "(1 row affected)"
                    },
                    "metadata": {}
                },
                {
                    "output_type": "display_data",
                    "data": {
                        "text/html": "(1 row affected)"
                    },
                    "metadata": {}
                },
                {
                    "output_type": "display_data",
                    "data": {
                        "text/html": "(1 row affected)"
                    },
                    "metadata": {}
                },
                {
                    "output_type": "display_data",
                    "data": {
                        "text/html": "(1 row affected)"
                    },
                    "metadata": {}
                },
                {
                    "output_type": "display_data",
                    "data": {
                        "text/html": "(1 row affected)"
                    },
                    "metadata": {}
                },
                {
                    "output_type": "display_data",
                    "data": {
                        "text/html": "(1 row affected)"
                    },
                    "metadata": {}
                },
                {
                    "output_type": "display_data",
                    "data": {
                        "text/html": "(1 row affected)"
                    },
                    "metadata": {}
                },
                {
                    "output_type": "display_data",
                    "data": {
                        "text/html": "(1 row affected)"
                    },
                    "metadata": {}
                },
                {
                    "output_type": "display_data",
                    "data": {
                        "text/html": "(1 row affected)"
                    },
                    "metadata": {}
                },
                {
                    "output_type": "display_data",
                    "data": {
                        "text/html": "(15 rows affected)"
                    },
                    "metadata": {}
                },
                {
                    "output_type": "display_data",
                    "data": {
                        "text/html": "Total execution time: 00:00:00.127"
                    },
                    "metadata": {}
                },
                {
                    "output_type": "execute_result",
                    "metadata": {},
                    "execution_count": 63,
                    "data": {
                        "application/vnd.dataresource+json": {
                            "schema": {
                                "fields": [
                                    {
                                        "name": "firstname"
                                    },
                                    {
                                        "name": "surname"
                                    }
                                ]
                            },
                            "data": [
                                {
                                    "0": "Artur",
                                    "1": "Kaminski"
                                },
                                {
                                    "0": "Artur",
                                    "1": "Lewandowski"
                                },
                                {
                                    "0": "Artur",
                                    "1": "Zielinski"
                                },
                                {
                                    "0": "Dariusz",
                                    "1": "Kaminski"
                                },
                                {
                                    "0": "Dariusz",
                                    "1": "Kowalski"
                                },
                                {
                                    "0": "Geralt",
                                    "1": "Kaminski"
                                },
                                {
                                    "0": "Geralt",
                                    "1": "Nowak"
                                },
                                {
                                    "0": "Lukasz",
                                    "1": "Lewandowski"
                                },
                                {
                                    "0": "Lukasz",
                                    "1": "Nowak"
                                },
                                {
                                    "0": "Roman",
                                    "1": "Kowalczyk"
                                },
                                {
                                    "0": "Roman",
                                    "1": "Nowak"
                                },
                                {
                                    "0": "Roman",
                                    "1": "Zielinski"
                                },
                                {
                                    "0": "Tomasz",
                                    "1": "Kowalczyk"
                                },
                                {
                                    "0": "Tomasz",
                                    "1": "Kowalski"
                                },
                                {
                                    "0": "Tomasz",
                                    "1": "Zielinski"
                                }
                            ]
                        },
                        "text/html": [
                            "<table>",
                            "<tr><th>firstname</th><th>surname</th></tr>",
                            "<tr><td>Artur</td><td>Kaminski</td></tr>",
                            "<tr><td>Artur</td><td>Lewandowski</td></tr>",
                            "<tr><td>Artur</td><td>Zielinski</td></tr>",
                            "<tr><td>Dariusz</td><td>Kaminski</td></tr>",
                            "<tr><td>Dariusz</td><td>Kowalski</td></tr>",
                            "<tr><td>Geralt</td><td>Kaminski</td></tr>",
                            "<tr><td>Geralt</td><td>Nowak</td></tr>",
                            "<tr><td>Lukasz</td><td>Lewandowski</td></tr>",
                            "<tr><td>Lukasz</td><td>Nowak</td></tr>",
                            "<tr><td>Roman</td><td>Kowalczyk</td></tr>",
                            "<tr><td>Roman</td><td>Nowak</td></tr>",
                            "<tr><td>Roman</td><td>Zielinski</td></tr>",
                            "<tr><td>Tomasz</td><td>Kowalczyk</td></tr>",
                            "<tr><td>Tomasz</td><td>Kowalski</td></tr>",
                            "<tr><td>Tomasz</td><td>Zielinski</td></tr>",
                            "</table>"
                        ]
                    }
                }
            ],
            "execution_count": 63
        },
        {
            "cell_type": "code",
            "source": [
                "DROP TABLE IF EXISTS firstnames\r\n",
                "GO\r\n",
                "DROP TABLE IF EXISTS surnames\r\n",
                "GO\r\n",
                "DROP TABLE IF EXISTS perdata\r\n",
                "GO"
            ],
            "metadata": {
                "azdata_cell_guid": "5a74f50b-a6eb-4f25-a997-7b5ef6615b1c"
            },
            "outputs": [
                {
                    "output_type": "display_data",
                    "data": {
                        "text/html": "Commands completed successfully."
                    },
                    "metadata": {}
                },
                {
                    "output_type": "display_data",
                    "data": {
                        "text/html": "Commands completed successfully."
                    },
                    "metadata": {}
                },
                {
                    "output_type": "display_data",
                    "data": {
                        "text/html": "Commands completed successfully."
                    },
                    "metadata": {}
                },
                {
                    "output_type": "display_data",
                    "data": {
                        "text/html": "Total execution time: 00:00:00.199"
                    },
                    "metadata": {}
                }
            ],
            "execution_count": 64
        }
    ]
}