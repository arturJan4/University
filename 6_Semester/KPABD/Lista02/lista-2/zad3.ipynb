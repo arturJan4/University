{
    "metadata": {
        "kernelspec": {
            "name": "SQL",
            "display_name": "SQL",
            "language": "sql"
        },
        "language_info": {
            "name": "sql",
            "version": ""
        }
    },
    "nbformat_minor": 2,
    "nbformat": 4,
    "cells": [
        {
            "cell_type": "markdown",
            "source": [
                "# Zad 3\n",
                "\n",
                "Zaimplementować procedurę do tworzenia nowego czytelnika przyjmującą odpowiednie parametry. W ramach procedury należy zaimplementować następujące walidacje: poprawność formatu PESEL, nazwisko z wielkiej litery i co najmniej dwuliterowe, poprawną datę urodzenia, zgodną z PESELem. Wszystkie niezgodności należy zakomunikować poprzez odpowiednie wywołanie instrukcji THROW."
            ],
            "metadata": {
                "azdata_cell_guid": "cddb6212-1ef6-4f2e-9b01-def004a44a35"
            },
            "attachments": {}
        },
        {
            "cell_type": "code",
            "source": [
                "DROP PROCEDURE IF EXISTS createReader \r\n",
                "GO\r\n",
                "\r\n",
                "CREATE PROCEDURE createReader \r\n",
                "    @pesel CHAR(11), \r\n",
                "    @nazwisko VARCHAR(30), \r\n",
                "    @miasto VARCHAR(30), \r\n",
                "    @data_Urodzenia DATE \r\n",
                "    -- @ostatnie_Wypozyczenie DATE = NULL\r\n",
                "AS\r\n",
                "BEGIN\r\n",
                "    DECLARE @nazwisko_len INT = LEN (@nazwisko)\r\n",
                "    DECLARE @pesel_len INT = LEN(@pesel)\r\n",
                "\r\n",
                "    -- weryfikacja pesel\r\n",
                "    IF (@pesel_len != 11)\r\n",
                "         THROW 50110, 'PESEL powinien zawierać 11 znaków.', 1; \r\n",
                "\r\n",
                "    DECLARE @pesel_data DATE -- data wyciągnieta z PESEL'u\r\n",
                "    DECLARE @wagi VARCHAR(11) = '13791379131'\r\n",
                "    \r\n",
                "    DECLARE @i INT = 1 -- tablice indeksowane od 1!\r\n",
                "    DECLARE @char INT  -- obecnie przetwarzany znak\r\n",
                "    DECLARE @pesel_suma INT = 0 -- suma kontrolna\r\n",
                "\r\n",
                "    WHILE (@i <= 11)\r\n",
                "    BEGIN\r\n",
                "        DECLARE @c CHAR = SUBSTRING(@pesel, @i, 1)\r\n",
                "        -- check if char is a number (using ASCII cast)\r\n",
                "        IF (@c < '0') OR (@c > '9')\r\n",
                "            THROW 50111, 'PESEL powinien składać się jedynie z cyfr.', 1; \r\n",
                "\r\n",
                "        SET @char = @c\r\n",
                "\r\n",
                "        SET @pesel_suma += CAST(SUBSTRING(@wagi, @i, 1) as INT) * @char\r\n",
                "        SET @i = @i + 1\r\n",
                "    END\r\n",
                "    \r\n",
                "    -- PRINT @pesel_suma\r\n",
                "    -- PRINT 'suma kontrolna: ' + CAST(@pesel_suma as VARCHAR)\r\n",
                "\r\n",
                "    IF ((@pesel_suma % 10) != 0)\r\n",
                "        THROW 50112, 'PESEL nie spełnia sumy kontrolnej', 1;\r\n",
                "\r\n",
                "    DECLARE @pesel_rok INT     = SUBSTRING(@pesel, 1, 2)\r\n",
                "    DECLARE @pesel_miesiac INT = SUBSTRING(@pesel, 3, 2)\r\n",
                "    DECLARE @rok INT = 1900 + @pesel_rok\r\n",
                "\r\n",
                "    -- z pierwszej cyfry miesiąca wynikają dodatkowe informacje o latach\r\n",
                "    -- 8/9 -> 1800-1899\r\n",
                "    -- 0/1 -> 1900-1999\r\n",
                "    -- 2/3 -> 2000-2099\r\n",
                "    -- 4/5 -> 2100-2199\r\n",
                "    -- 6/7 -> 2200-2299\r\n",
                "    DECLARE @pesel_add INT = SUBSTRING(@pesel, 3, 1)\r\n",
                "\r\n",
                "    IF (@pesel_add >= 8)\r\n",
                "        SET @rok -= 100\r\n",
                "    ELSE IF (@pesel_add >= 2)\r\n",
                "        SET @rok += (@pesel_add / 2) * 100\r\n",
                "    \r\n",
                "    -- miesiące po październiku wymagają operacji modulo (11, 31, 51 vs 01, 21, 41)\r\n",
                "    DECLARE @miesiac INT = (@pesel_add % 2) * 10 + SUBSTRING(@pesel, 4, 1)\r\n",
                "\r\n",
                "    -- konwersja intów oznaczajacych dzień, miesiąc, rok na datetime\r\n",
                "    SET @pesel_data = CAST(\r\n",
                "            CAST(@rok AS VARCHAR(4)) +\r\n",
                "            RIGHT('0' + CAST(@miesiac AS VARCHAR(2)), 2) +\r\n",
                "            SUBSTRING(@pesel, 5, 2)\r\n",
                "        AS DATETIME)\r\n",
                "    \r\n",
                "    -- PRINT @pesel_data\r\n",
                "\r\n",
                "    -- weryfikacja nazwiska\r\n",
                "    IF (@nazwisko_len < 2)\r\n",
                "       THROW 50113, 'Nazwisko jest za krótkie', 1;\r\n",
                "\r\n",
                "    IF LEFT(@nazwisko, 1) != UPPER(LEFT(@nazwisko, 1)) COLLATE Latin1_General_CS_AS\r\n",
                "        THROW 50114, 'Nazwisko powinno rozpoczynać się wielką literą.', 1;\r\n",
                "\r\n",
                "    IF RIGHT(@nazwisko, @nazwisko_len - 1) != LOWER(RIGHT(@nazwisko, @nazwisko_len - 1)) COLLATE Latin1_General_CS_AS\r\n",
                "        THROW 50115, 'Tylko pierwsza litera nazwiska powinna być kapitalikiem.', 1;\r\n",
                "\r\n",
                "    -- weryfikacja daty urodzenia\r\n",
                "    IF @pesel_data != @data_Urodzenia\r\n",
                "        THROW 50116, 'Data urodzenia nie zgadza się z numerem PESEL.', 1;\r\n",
                "\r\n",
                "    -- wszystkie testy przeszły pomyślnie -> dodajemy czytelnika\r\n",
                "    INSERT INTO Czytelnik (PESEL,NAZWISKO,MIASTO,DATA_URODZENIA) VALUES\r\n",
                "        (@pesel, @nazwisko, @miasto, @data_Urodzenia)\r\n",
                "\r\n",
                "END"
            ],
            "metadata": {
                "azdata_cell_guid": "7104f485-c952-4ff2-a26d-08904219f966"
            },
            "outputs": [
                {
                    "output_type": "display_data",
                    "data": {
                        "text/html": "Commands completed successfully."
                    },
                    "metadata": {}
                },
                {
                    "output_type": "display_data",
                    "data": {
                        "text/html": "Commands completed successfully."
                    },
                    "metadata": {}
                },
                {
                    "output_type": "display_data",
                    "data": {
                        "text/html": "Total execution time: 00:00:00.141"
                    },
                    "metadata": {}
                }
            ],
            "execution_count": 11
        },
        {
            "cell_type": "markdown",
            "source": [
                "Tests"
            ],
            "metadata": {
                "azdata_cell_guid": "a935a021-f48e-43ae-acbf-28dd28c3b304"
            },
            "attachments": {}
        },
        {
            "cell_type": "code",
            "source": [
                "exec createReader '55101011111', 'Kowalski', 'Wrocław', '1955-10-10'"
            ],
            "metadata": {
                "azdata_cell_guid": "2c1943ec-b024-4c1f-92e5-037d876388a0"
            },
            "outputs": [
                {
                    "output_type": "error",
                    "evalue": "Msg 50112, Level 16, State 1, Procedure createReader, Line 41\r\nPESEL nie spełnia sumy kontrolnej",
                    "ename": "",
                    "traceback": []
                },
                {
                    "output_type": "display_data",
                    "data": {
                        "text/html": "Total execution time: 00:00:00.061"
                    },
                    "metadata": {}
                }
            ],
            "execution_count": 12
        },
        {
            "cell_type": "code",
            "source": [
                "exec createReader '10', 'Kowalski', 'Wrocław', '1955-10-10'"
            ],
            "metadata": {
                "azdata_cell_guid": "25099fec-2278-4d83-9465-d7103ed8659b"
            },
            "outputs": [
                {
                    "output_type": "error",
                    "evalue": "Msg 50110, Level 16, State 1, Procedure createReader, Line 15\r\nPESEL powinien zawierać 11 znaków.",
                    "ename": "",
                    "traceback": []
                },
                {
                    "output_type": "display_data",
                    "data": {
                        "text/html": "Total execution time: 00:00:00.046"
                    },
                    "metadata": {}
                }
            ],
            "execution_count": 13
        },
        {
            "cell_type": "code",
            "source": [
                "exec createReader '0027283979a', 'Kowalski', 'Wrocław', '1955-10-10'"
            ],
            "metadata": {
                "azdata_cell_guid": "d5e0ece8-7fb4-4025-8172-8a4a1b26065b"
            },
            "outputs": [
                {
                    "output_type": "error",
                    "evalue": "Msg 50111, Level 16, State 1, Procedure createReader, Line 29\r\nPESEL powinien składać się jedynie z cyfr.",
                    "ename": "",
                    "traceback": []
                },
                {
                    "output_type": "display_data",
                    "data": {
                        "text/html": "Total execution time: 00:00:00.048"
                    },
                    "metadata": {}
                }
            ],
            "execution_count": 14
        },
        {
            "cell_type": "code",
            "source": [
                "exec createReader '00272839791', 'kowalski', 'Wrocław', '1955-10-10'"
            ],
            "metadata": {
                "azdata_cell_guid": "25543eb2-4c36-4d58-b4a2-286bee8c4053"
            },
            "outputs": [
                {
                    "output_type": "error",
                    "evalue": "Msg 50114, Level 16, State 1, Procedure createReader, Line 77\r\nNazwisko powinno rozpoczynać się wielką literą.",
                    "ename": "",
                    "traceback": []
                },
                {
                    "output_type": "display_data",
                    "data": {
                        "text/html": "Total execution time: 00:00:00.051"
                    },
                    "metadata": {}
                }
            ],
            "execution_count": 15
        },
        {
            "cell_type": "code",
            "source": [
                "exec createReader '00272839791', 'KOWalski', 'Wrocław', '1955-10-10'"
            ],
            "metadata": {
                "azdata_cell_guid": "cbb5a8fd-c003-4629-af93-f2cac5aa28f6"
            },
            "outputs": [
                {
                    "output_type": "error",
                    "evalue": "Msg 50115, Level 16, State 1, Procedure createReader, Line 80\r\nTylko pierwsza litera nazwiska powinna być kapitalikiem.",
                    "ename": "",
                    "traceback": []
                },
                {
                    "output_type": "display_data",
                    "data": {
                        "text/html": "Total execution time: 00:00:00.059"
                    },
                    "metadata": {}
                }
            ],
            "execution_count": 16
        },
        {
            "cell_type": "code",
            "source": [
                "exec createReader '00272839791', 'K', 'Wrocław', '1955-10-10'"
            ],
            "metadata": {
                "azdata_cell_guid": "1fc1914b-0345-480c-8886-699e04371234"
            },
            "outputs": [
                {
                    "output_type": "error",
                    "evalue": "Msg 50113, Level 16, State 1, Procedure createReader, Line 74\r\nNazwisko jest za krótkie",
                    "ename": "",
                    "traceback": []
                },
                {
                    "output_type": "display_data",
                    "data": {
                        "text/html": "Total execution time: 00:00:00.054"
                    },
                    "metadata": {}
                }
            ],
            "execution_count": 17
        },
        {
            "cell_type": "code",
            "source": [
                "exec createReader '00272839791', 'Kowalski', 'Wrocław', '1955-10-10'"
            ],
            "metadata": {
                "azdata_cell_guid": "f52ad296-c29f-49cb-946d-0a4891bdea3e"
            },
            "outputs": [
                {
                    "output_type": "error",
                    "evalue": "Msg 50116, Level 16, State 1, Procedure createReader, Line 84\r\nData urodzenia nie zgadza się z numerem PESEL.",
                    "ename": "",
                    "traceback": []
                },
                {
                    "output_type": "display_data",
                    "data": {
                        "text/html": "Total execution time: 00:00:00.059"
                    },
                    "metadata": {}
                }
            ],
            "execution_count": 18
        },
        {
            "cell_type": "code",
            "source": [
                "exec createReader '00272839791', 'Pol', 'Wrocław', '2000-07-28'\r\n",
                "\r\n",
                "SELECT * FROM Czytelnik"
            ],
            "metadata": {
                "azdata_cell_guid": "4d8b4554-0c22-4faf-975e-2dddcbcd635e",
                "tags": [
                    "hide_input"
                ]
            },
            "outputs": [
                {
                    "output_type": "display_data",
                    "data": {
                        "text/html": "(1 row affected)"
                    },
                    "metadata": {}
                },
                {
                    "output_type": "display_data",
                    "data": {
                        "text/html": "(4 rows affected)"
                    },
                    "metadata": {}
                },
                {
                    "output_type": "display_data",
                    "data": {
                        "text/html": "Total execution time: 00:00:00.057"
                    },
                    "metadata": {}
                },
                {
                    "output_type": "execute_result",
                    "metadata": {},
                    "execution_count": 28,
                    "data": {
                        "application/vnd.dataresource+json": {
                            "schema": {
                                "fields": [
                                    {
                                        "name": "Czytelnik_ID"
                                    },
                                    {
                                        "name": "PESEL"
                                    },
                                    {
                                        "name": "Nazwisko"
                                    },
                                    {
                                        "name": "Miasto"
                                    },
                                    {
                                        "name": "Data_Urodzenia"
                                    },
                                    {
                                        "name": "Ostatnie_Wypozyczenie"
                                    }
                                ]
                            },
                            "data": [
                                {
                                    "0": "1",
                                    "1": "55101011111",
                                    "2": "Kowalski",
                                    "3": "Wroclaw",
                                    "4": "1955-10-10",
                                    "5": "NULL"
                                },
                                {
                                    "0": "2",
                                    "1": "60101033333",
                                    "2": "Maliniak",
                                    "3": "Wroclaw",
                                    "4": "1960-10-10",
                                    "5": "NULL"
                                },
                                {
                                    "0": "3",
                                    "1": "65120122222",
                                    "2": "Nowak",
                                    "3": "Warszawa",
                                    "4": "1965-12-01",
                                    "5": "NULL"
                                },
                                {
                                    "0": "19",
                                    "1": "00272839791",
                                    "2": "Pol",
                                    "3": "Wroclaw",
                                    "4": "2000-07-28",
                                    "5": "NULL"
                                }
                            ]
                        },
                        "text/html": [
                            "<table>",
                            "<tr><th>Czytelnik_ID</th><th>PESEL</th><th>Nazwisko</th><th>Miasto</th><th>Data_Urodzenia</th><th>Ostatnie_Wypozyczenie</th></tr>",
                            "<tr><td>1</td><td>55101011111</td><td>Kowalski</td><td>Wroclaw</td><td>1955-10-10</td><td>NULL</td></tr>",
                            "<tr><td>2</td><td>60101033333</td><td>Maliniak</td><td>Wroclaw</td><td>1960-10-10</td><td>NULL</td></tr>",
                            "<tr><td>3</td><td>65120122222</td><td>Nowak</td><td>Warszawa</td><td>1965-12-01</td><td>NULL</td></tr>",
                            "<tr><td>19</td><td>00272839791</td><td>Pol</td><td>Wroclaw</td><td>2000-07-28</td><td>NULL</td></tr>",
                            "</table>"
                        ]
                    }
                }
            ],
            "execution_count": 28
        },
        {
            "cell_type": "code",
            "source": [
                "DELETE\r\n",
                "FROM Czytelnik\r\n",
                "WHERE PESEL = '00272839791'"
            ],
            "metadata": {
                "azdata_cell_guid": "38e69974-3b75-42c6-b5c7-f87a3a6a786f"
            },
            "outputs": [
                {
                    "output_type": "display_data",
                    "data": {
                        "text/html": "(1 row affected)"
                    },
                    "metadata": {}
                },
                {
                    "output_type": "display_data",
                    "data": {
                        "text/html": "Total execution time: 00:00:00.056"
                    },
                    "metadata": {}
                }
            ],
            "execution_count": 27
        }
    ]
}