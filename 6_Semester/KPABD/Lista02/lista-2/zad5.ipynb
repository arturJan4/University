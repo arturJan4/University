{
    "metadata": {
        "kernelspec": {
            "name": "SQL",
            "display_name": "SQL",
            "language": "sql"
        },
        "language_info": {
            "name": "sql",
            "version": ""
        }
    },
    "nbformat_minor": 2,
    "nbformat": 4,
    "cells": [
        {
            "cell_type": "markdown",
            "source": [
                "# Zad 5\r\n",
                "\r\n",
                "Przygotować przykład pokazujący dostępność i czas życia zmiennych tabelowych oraz tabel tymczasowych lokalnych i globalnych. Sprawdzając zawartość tabeli tempdb.INFORMATION SCHEMA.tables można potwierdzić\r\n",
                "utworzenie tego typu tabel. Dostępność należy sprawdzić z punktu widzenia dwóch równoległych połączeń, natomiast czas życia należy zweryfikować z punktu widzenia wykonania wsadu oraz połączenia sesji."
            ],
            "metadata": {
                "azdata_cell_guid": "0b9eda91-45d8-4f8d-9533-ae426ac569d6"
            },
            "attachments": {}
        },
        {
            "cell_type": "markdown",
            "source": [
                "## Zmienna tabelowa\r\n",
                "tylko dla jednego wsadu"
            ],
            "metadata": {
                "azdata_cell_guid": "b0557da2-ee62-4011-9fd3-ee39de3e8fb9"
            },
            "attachments": {}
        },
        {
            "cell_type": "code",
            "source": [
                "DECLARE @zmienna_tabelowa \r\n",
                "TABLE(klucz INT PRIMARY KEY, wartosc varchar(20))\r\n",
                "\r\n",
                "INSERT INTO @zmienna_tabelowa(klucz, wartosc) \r\n",
                "VALUES \r\n",
                "    (0, NULL),\r\n",
                "    (1, 'test')\r\n",
                "\r\n",
                "-- wypisanie tablicy\r\n",
                "select * from @zmienna_tabelowa\r\n",
                "\r\n",
                "\r\n",
                "SELECT * FROM tempdb.INFORMATION_SCHEMA.COLUMNS\r\n",
                "WHERE COLUMN_NAME = 'klucz' OR COLUMN_NAME = 'wartosc'\r\n",
                ""
            ],
            "metadata": {
                "azdata_cell_guid": "6298d175-bc60-4f0e-8ea1-dc299bdeccfc",
                "tags": []
            },
            "outputs": [
                {
                    "output_type": "display_data",
                    "data": {
                        "text/html": "(2 rows affected)"
                    },
                    "metadata": {}
                },
                {
                    "output_type": "display_data",
                    "data": {
                        "text/html": "(2 rows affected)"
                    },
                    "metadata": {}
                },
                {
                    "output_type": "display_data",
                    "data": {
                        "text/html": "(2 rows affected)"
                    },
                    "metadata": {}
                },
                {
                    "output_type": "display_data",
                    "data": {
                        "text/html": "Total execution time: 00:00:00.213"
                    },
                    "metadata": {}
                },
                {
                    "output_type": "execute_result",
                    "execution_count": 15,
                    "data": {
                        "application/vnd.dataresource+json": {
                            "schema": {
                                "fields": [
                                    {
                                        "name": "klucz"
                                    },
                                    {
                                        "name": "wartosc"
                                    }
                                ]
                            },
                            "data": [
                                {
                                    "0": "0",
                                    "1": "NULL"
                                },
                                {
                                    "0": "1",
                                    "1": "test"
                                }
                            ]
                        },
                        "text/html": "<table><tr><th>klucz</th><th>wartosc</th></tr><tr><td>0</td><td>NULL</td></tr><tr><td>1</td><td>test</td></tr></table>"
                    },
                    "metadata": {}
                },
                {
                    "output_type": "execute_result",
                    "execution_count": 15,
                    "data": {
                        "application/vnd.dataresource+json": {
                            "schema": {
                                "fields": [
                                    {
                                        "name": "TABLE_CATALOG"
                                    },
                                    {
                                        "name": "TABLE_SCHEMA"
                                    },
                                    {
                                        "name": "TABLE_NAME"
                                    },
                                    {
                                        "name": "COLUMN_NAME"
                                    },
                                    {
                                        "name": "ORDINAL_POSITION"
                                    },
                                    {
                                        "name": "COLUMN_DEFAULT"
                                    },
                                    {
                                        "name": "IS_NULLABLE"
                                    },
                                    {
                                        "name": "DATA_TYPE"
                                    },
                                    {
                                        "name": "CHARACTER_MAXIMUM_LENGTH"
                                    },
                                    {
                                        "name": "CHARACTER_OCTET_LENGTH"
                                    },
                                    {
                                        "name": "NUMERIC_PRECISION"
                                    },
                                    {
                                        "name": "NUMERIC_PRECISION_RADIX"
                                    },
                                    {
                                        "name": "NUMERIC_SCALE"
                                    },
                                    {
                                        "name": "DATETIME_PRECISION"
                                    },
                                    {
                                        "name": "CHARACTER_SET_CATALOG"
                                    },
                                    {
                                        "name": "CHARACTER_SET_SCHEMA"
                                    },
                                    {
                                        "name": "CHARACTER_SET_NAME"
                                    },
                                    {
                                        "name": "COLLATION_CATALOG"
                                    },
                                    {
                                        "name": "COLLATION_SCHEMA"
                                    },
                                    {
                                        "name": "COLLATION_NAME"
                                    },
                                    {
                                        "name": "DOMAIN_CATALOG"
                                    },
                                    {
                                        "name": "DOMAIN_SCHEMA"
                                    },
                                    {
                                        "name": "DOMAIN_NAME"
                                    }
                                ]
                            },
                            "data": [
                                {
                                    "0": "tempdb",
                                    "1": "dbo",
                                    "2": "#A46959BD",
                                    "3": "klucz",
                                    "4": "1",
                                    "5": "NULL",
                                    "6": "NO",
                                    "7": "int",
                                    "8": "NULL",
                                    "9": "NULL",
                                    "10": "10",
                                    "11": "10",
                                    "12": "0",
                                    "13": "NULL",
                                    "14": "NULL",
                                    "15": "NULL",
                                    "16": "NULL",
                                    "17": "NULL",
                                    "18": "NULL",
                                    "19": "NULL",
                                    "20": "NULL",
                                    "21": "NULL",
                                    "22": "NULL"
                                },
                                {
                                    "0": "tempdb",
                                    "1": "dbo",
                                    "2": "#A46959BD",
                                    "3": "wartosc",
                                    "4": "2",
                                    "5": "NULL",
                                    "6": "YES",
                                    "7": "varchar",
                                    "8": "20",
                                    "9": "20",
                                    "10": "NULL",
                                    "11": "NULL",
                                    "12": "NULL",
                                    "13": "NULL",
                                    "14": "NULL",
                                    "15": "NULL",
                                    "16": "iso_1",
                                    "17": "NULL",
                                    "18": "NULL",
                                    "19": "SQL_Latin1_General_CP1_CI_AS",
                                    "20": "NULL",
                                    "21": "NULL",
                                    "22": "NULL"
                                }
                            ]
                        },
                        "text/html": "<table><tr><th>TABLE_CATALOG</th><th>TABLE_SCHEMA</th><th>TABLE_NAME</th><th>COLUMN_NAME</th><th>ORDINAL_POSITION</th><th>COLUMN_DEFAULT</th><th>IS_NULLABLE</th><th>DATA_TYPE</th><th>CHARACTER_MAXIMUM_LENGTH</th><th>CHARACTER_OCTET_LENGTH</th><th>NUMERIC_PRECISION</th><th>NUMERIC_PRECISION_RADIX</th><th>NUMERIC_SCALE</th><th>DATETIME_PRECISION</th><th>CHARACTER_SET_CATALOG</th><th>CHARACTER_SET_SCHEMA</th><th>CHARACTER_SET_NAME</th><th>COLLATION_CATALOG</th><th>COLLATION_SCHEMA</th><th>COLLATION_NAME</th><th>DOMAIN_CATALOG</th><th>DOMAIN_SCHEMA</th><th>DOMAIN_NAME</th></tr><tr><td>tempdb</td><td>dbo</td><td>#A46959BD</td><td>klucz</td><td>1</td><td>NULL</td><td>NO</td><td>int</td><td>NULL</td><td>NULL</td><td>10</td><td>10</td><td>0</td><td>NULL</td><td>NULL</td><td>NULL</td><td>NULL</td><td>NULL</td><td>NULL</td><td>NULL</td><td>NULL</td><td>NULL</td><td>NULL</td></tr><tr><td>tempdb</td><td>dbo</td><td>#A46959BD</td><td>wartosc</td><td>2</td><td>NULL</td><td>YES</td><td>varchar</td><td>20</td><td>20</td><td>NULL</td><td>NULL</td><td>NULL</td><td>NULL</td><td>NULL</td><td>NULL</td><td>iso_1</td><td>NULL</td><td>NULL</td><td>SQL_Latin1_General_CP1_CI_AS</td><td>NULL</td><td>NULL</td><td>NULL</td></tr></table>"
                    },
                    "metadata": {}
                }
            ],
            "execution_count": 15
        },
        {
            "cell_type": "code",
            "source": [
                "-- wypisanie zmiennej (nie zadziała -> inny wsad)\r\n",
                "select * from @zmienna_tabelowa"
            ],
            "metadata": {
                "azdata_cell_guid": "55f54145-1abb-44bd-a6e2-c851fc3f5f8d"
            },
            "outputs": [
                {
                    "output_type": "error",
                    "ename": "",
                    "evalue": "Msg 1087, Level 15, State 2, Line 2\r\nMust declare the table variable \"@zmienna_tabelowa\".",
                    "traceback": []
                },
                {
                    "output_type": "display_data",
                    "data": {
                        "text/html": "Total execution time: 00:00:00.048"
                    },
                    "metadata": {}
                }
            ],
            "execution_count": 16
        },
        {
            "cell_type": "code",
            "source": [
                "SELECT * FROM tempdb.INFORMATION_SCHEMA.COLUMNS\r\n",
                "WHERE COLUMN_NAME = 'klucz' OR COLUMN_NAME = 'wartosc'"
            ],
            "metadata": {
                "azdata_cell_guid": "f0be4036-f657-4545-8742-dafa40b5aaa8"
            },
            "outputs": [
                {
                    "output_type": "display_data",
                    "data": {
                        "text/html": "(0 rows affected)"
                    },
                    "metadata": {}
                },
                {
                    "output_type": "display_data",
                    "data": {
                        "text/html": "Total execution time: 00:00:00.141"
                    },
                    "metadata": {}
                },
                {
                    "output_type": "execute_result",
                    "execution_count": 17,
                    "data": {
                        "application/vnd.dataresource+json": {
                            "schema": {
                                "fields": [
                                    {
                                        "name": "TABLE_CATALOG"
                                    },
                                    {
                                        "name": "TABLE_SCHEMA"
                                    },
                                    {
                                        "name": "TABLE_NAME"
                                    },
                                    {
                                        "name": "COLUMN_NAME"
                                    },
                                    {
                                        "name": "ORDINAL_POSITION"
                                    },
                                    {
                                        "name": "COLUMN_DEFAULT"
                                    },
                                    {
                                        "name": "IS_NULLABLE"
                                    },
                                    {
                                        "name": "DATA_TYPE"
                                    },
                                    {
                                        "name": "CHARACTER_MAXIMUM_LENGTH"
                                    },
                                    {
                                        "name": "CHARACTER_OCTET_LENGTH"
                                    },
                                    {
                                        "name": "NUMERIC_PRECISION"
                                    },
                                    {
                                        "name": "NUMERIC_PRECISION_RADIX"
                                    },
                                    {
                                        "name": "NUMERIC_SCALE"
                                    },
                                    {
                                        "name": "DATETIME_PRECISION"
                                    },
                                    {
                                        "name": "CHARACTER_SET_CATALOG"
                                    },
                                    {
                                        "name": "CHARACTER_SET_SCHEMA"
                                    },
                                    {
                                        "name": "CHARACTER_SET_NAME"
                                    },
                                    {
                                        "name": "COLLATION_CATALOG"
                                    },
                                    {
                                        "name": "COLLATION_SCHEMA"
                                    },
                                    {
                                        "name": "COLLATION_NAME"
                                    },
                                    {
                                        "name": "DOMAIN_CATALOG"
                                    },
                                    {
                                        "name": "DOMAIN_SCHEMA"
                                    },
                                    {
                                        "name": "DOMAIN_NAME"
                                    }
                                ]
                            },
                            "data": []
                        },
                        "text/html": "<table><tr><th>TABLE_CATALOG</th><th>TABLE_SCHEMA</th><th>TABLE_NAME</th><th>COLUMN_NAME</th><th>ORDINAL_POSITION</th><th>COLUMN_DEFAULT</th><th>IS_NULLABLE</th><th>DATA_TYPE</th><th>CHARACTER_MAXIMUM_LENGTH</th><th>CHARACTER_OCTET_LENGTH</th><th>NUMERIC_PRECISION</th><th>NUMERIC_PRECISION_RADIX</th><th>NUMERIC_SCALE</th><th>DATETIME_PRECISION</th><th>CHARACTER_SET_CATALOG</th><th>CHARACTER_SET_SCHEMA</th><th>CHARACTER_SET_NAME</th><th>COLLATION_CATALOG</th><th>COLLATION_SCHEMA</th><th>COLLATION_NAME</th><th>DOMAIN_CATALOG</th><th>DOMAIN_SCHEMA</th><th>DOMAIN_NAME</th></tr></table>"
                    },
                    "metadata": {}
                }
            ],
            "execution_count": 17
        },
        {
            "cell_type": "markdown",
            "source": [
                "## Tabela tymczasowa lokalna\r\n",
                "tylko dla obecnej sesji (więc można pomiędzy wsadami)\r\n",
                "\r\n",
                "jeśli jest stworzona w procedurze to gdy procedura się kończy -> DROP\r\n",
                ""
            ],
            "metadata": {
                "azdata_cell_guid": "1b0d2d34-ed14-4e98-a9ac-a94e94bf4134"
            },
            "attachments": {}
        },
        {
            "cell_type": "code",
            "source": [
                "DROP TABLE IF EXISTS #Tablica;\r\n",
                "\r\n",
                "CREATE TABLE #Tablica(klucz INT PRIMARY KEY, wartosc varchar(20));\r\n",
                "\r\n",
                "INSERT INTO #Tablica(klucz, wartosc) \r\n",
                "VALUES \r\n",
                "    (0, NULL),\r\n",
                "    (1, 'test')\r\n",
                "\r\n",
                "select * from #Tablica\r\n",
                "GO\r\n",
                "select * from #Tablica\r\n",
                "\r\n",
                ""
            ],
            "metadata": {
                "azdata_cell_guid": "53569534-dbf0-4690-ac6e-beeb9ef4e91b"
            },
            "outputs": [
                {
                    "output_type": "display_data",
                    "data": {
                        "text/html": "(2 rows affected)"
                    },
                    "metadata": {}
                },
                {
                    "output_type": "display_data",
                    "data": {
                        "text/html": "(2 rows affected)"
                    },
                    "metadata": {}
                },
                {
                    "output_type": "display_data",
                    "data": {
                        "text/html": "(2 rows affected)"
                    },
                    "metadata": {}
                },
                {
                    "output_type": "display_data",
                    "data": {
                        "text/html": "Total execution time: 00:00:00.111"
                    },
                    "metadata": {}
                },
                {
                    "output_type": "execute_result",
                    "metadata": {},
                    "execution_count": 5,
                    "data": {
                        "application/vnd.dataresource+json": {
                            "schema": {
                                "fields": [
                                    {
                                        "name": "klucz"
                                    },
                                    {
                                        "name": "wartosc"
                                    }
                                ]
                            },
                            "data": [
                                {
                                    "0": "0",
                                    "1": "NULL"
                                },
                                {
                                    "0": "1",
                                    "1": "test"
                                }
                            ]
                        },
                        "text/html": [
                            "<table>",
                            "<tr><th>klucz</th><th>wartosc</th></tr>",
                            "<tr><td>0</td><td>NULL</td></tr>",
                            "<tr><td>1</td><td>test</td></tr>",
                            "</table>"
                        ]
                    }
                },
                {
                    "output_type": "execute_result",
                    "metadata": {},
                    "execution_count": 5,
                    "data": {
                        "application/vnd.dataresource+json": {
                            "schema": {
                                "fields": [
                                    {
                                        "name": "klucz"
                                    },
                                    {
                                        "name": "wartosc"
                                    }
                                ]
                            },
                            "data": [
                                {
                                    "0": "0",
                                    "1": "NULL"
                                },
                                {
                                    "0": "1",
                                    "1": "test"
                                }
                            ]
                        },
                        "text/html": [
                            "<table>",
                            "<tr><th>klucz</th><th>wartosc</th></tr>",
                            "<tr><td>0</td><td>NULL</td></tr>",
                            "<tr><td>1</td><td>test</td></tr>",
                            "</table>"
                        ]
                    }
                }
            ],
            "execution_count": 5
        },
        {
            "cell_type": "code",
            "source": [
                "select * from #Tablica"
            ],
            "metadata": {
                "azdata_cell_guid": "ae7a9260-d890-4ed2-a1cd-1ff1b0d6fd8a"
            },
            "outputs": [
                {
                    "output_type": "display_data",
                    "data": {
                        "text/html": "(2 rows affected)"
                    },
                    "metadata": {}
                },
                {
                    "output_type": "display_data",
                    "data": {
                        "text/html": "Total execution time: 00:00:00.051"
                    },
                    "metadata": {}
                },
                {
                    "output_type": "execute_result",
                    "metadata": {},
                    "execution_count": 6,
                    "data": {
                        "application/vnd.dataresource+json": {
                            "schema": {
                                "fields": [
                                    {
                                        "name": "klucz"
                                    },
                                    {
                                        "name": "wartosc"
                                    }
                                ]
                            },
                            "data": [
                                {
                                    "0": "0",
                                    "1": "NULL"
                                },
                                {
                                    "0": "1",
                                    "1": "test"
                                }
                            ]
                        },
                        "text/html": [
                            "<table>",
                            "<tr><th>klucz</th><th>wartosc</th></tr>",
                            "<tr><td>0</td><td>NULL</td></tr>",
                            "<tr><td>1</td><td>test</td></tr>",
                            "</table>"
                        ]
                    }
                }
            ],
            "execution_count": 6
        },
        {
            "cell_type": "markdown",
            "source": [
                "## Tabela tymczasowa globalna\n",
                "\n",
                "widoczna dla wszystkich połączeń (dostęp do niej mają wszyscy użytkownicy posiadający posiadający rolę public)\n",
                "\n",
                "Tabele tymczasowa globalna zostanie automatycznie usunięta po zakończeniu ostatniej sesji, która z niej korzysta."
            ],
            "metadata": {
                "azdata_cell_guid": "cecc4cc6-547b-4258-8a5f-587bc4b66726"
            },
            "attachments": {}
        },
        {
            "cell_type": "code",
            "source": [
                "DROP TABLE IF EXISTS ##Tablica;\r\n",
                "\r\n",
                "CREATE TABLE ##Tablica(klucz INT PRIMARY KEY, wartosc varchar(20));\r\n",
                "\r\n",
                "INSERT INTO ##Tablica(klucz, wartosc) \r\n",
                "VALUES \r\n",
                "    (0, NULL),\r\n",
                "    (1, 'test')\r\n",
                "\r\n",
                "select * from ##Tablica\r\n",
                "GO\r\n",
                "select * from ##Tablica"
            ],
            "metadata": {
                "azdata_cell_guid": "71f49081-bebc-4f99-858c-63c4eb3a9942"
            },
            "outputs": [
                {
                    "output_type": "display_data",
                    "data": {
                        "text/html": "(2 rows affected)"
                    },
                    "metadata": {}
                },
                {
                    "output_type": "display_data",
                    "data": {
                        "text/html": "(2 rows affected)"
                    },
                    "metadata": {}
                },
                {
                    "output_type": "display_data",
                    "data": {
                        "text/html": "(2 rows affected)"
                    },
                    "metadata": {}
                },
                {
                    "output_type": "display_data",
                    "data": {
                        "text/html": "Total execution time: 00:00:00.105"
                    },
                    "metadata": {}
                },
                {
                    "output_type": "execute_result",
                    "metadata": {},
                    "execution_count": 7,
                    "data": {
                        "application/vnd.dataresource+json": {
                            "schema": {
                                "fields": [
                                    {
                                        "name": "klucz"
                                    },
                                    {
                                        "name": "wartosc"
                                    }
                                ]
                            },
                            "data": [
                                {
                                    "0": "0",
                                    "1": "NULL"
                                },
                                {
                                    "0": "1",
                                    "1": "test"
                                }
                            ]
                        },
                        "text/html": [
                            "<table>",
                            "<tr><th>klucz</th><th>wartosc</th></tr>",
                            "<tr><td>0</td><td>NULL</td></tr>",
                            "<tr><td>1</td><td>test</td></tr>",
                            "</table>"
                        ]
                    }
                },
                {
                    "output_type": "execute_result",
                    "metadata": {},
                    "execution_count": 7,
                    "data": {
                        "application/vnd.dataresource+json": {
                            "schema": {
                                "fields": [
                                    {
                                        "name": "klucz"
                                    },
                                    {
                                        "name": "wartosc"
                                    }
                                ]
                            },
                            "data": [
                                {
                                    "0": "0",
                                    "1": "NULL"
                                },
                                {
                                    "0": "1",
                                    "1": "test"
                                }
                            ]
                        },
                        "text/html": [
                            "<table>",
                            "<tr><th>klucz</th><th>wartosc</th></tr>",
                            "<tr><td>0</td><td>NULL</td></tr>",
                            "<tr><td>1</td><td>test</td></tr>",
                            "</table>"
                        ]
                    }
                }
            ],
            "execution_count": 7
        }
    ]
}