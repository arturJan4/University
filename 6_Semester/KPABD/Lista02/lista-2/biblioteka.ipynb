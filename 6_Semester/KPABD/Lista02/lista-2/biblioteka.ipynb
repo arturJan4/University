{
    "metadata": {
        "kernelspec": {
            "name": "SQL",
            "display_name": "SQL",
            "language": "sql"
        },
        "language_info": {
            "name": "sql",
            "version": ""
        }
    },
    "nbformat_minor": 2,
    "nbformat": 4,
    "cells": [
        {
            "cell_type": "markdown",
            "source": [
                "Inicjalizacja bazy Biblioteka"
            ],
            "metadata": {
                "azdata_cell_guid": "a4839733-0b06-4001-aafd-31d6cf83c18d"
            },
            "attachments": {}
        },
        {
            "cell_type": "code",
            "source": [
                "USE Test;\r\n",
                "GO\r\n",
                "\r\n",
                "DROP TABLE IF EXISTS Wypozyczenie;\r\n",
                "GO\r\n",
                "\r\n",
                "DROP TABLE IF EXISTS Egzemplarz;\r\n",
                "GO\r\n",
                "\r\n",
                "DROP TABLE IF EXISTS Czytelnik;\r\n",
                "GO\r\n",
                "\r\n",
                "DROP TABLE IF EXISTS Ksiazka;\r\n",
                "GO\r\n",
                "\r\n",
                "CREATE TABLE Ksiazka\r\n",
                "( Ksiazka_ID INT IDENTITY\r\n",
                ", ISBN VARCHAR(20)\r\n",
                ", Tytul VARCHAR(300)\r\n",
                ", Autor VARCHAR(200)\r\n",
                ", Rok_Wydania INT\r\n",
                ", Cena DECIMAL(10,2)\r\n",
                ", Wypozyczona_Ostatni_Miesiac BIT\r\n",
                ", CONSTRAINT Ksiazka_PK PRIMARY KEY (Ksiazka_ID)\r\n",
                ", CONSTRAINT Ksiazka_UK_ISBN UNIQUE (ISBN)\r\n",
                ");\r\n",
                "GO\r\n",
                "\r\n",
                "CREATE TABLE Egzemplarz\r\n",
                "( Egzemplarz_ID INT IDENTITY\r\n",
                ", Sygnatura CHAR(8)\r\n",
                ", Ksiazka_ID INT\r\n",
                ", CONSTRAINT Egzemplarz_PK PRIMARY KEY (Egzemplarz_ID)\r\n",
                ", CONSTRAINT Egzemplarz_UK_Sygnatura UNIQUE (Sygnatura)\r\n",
                ", CONSTRAINT Egzemplarz_FK FOREIGN KEY (Ksiazka_ID) REFERENCES Ksiazka (Ksiazka_ID) ON DELETE CASCADE\r\n",
                ");\r\n",
                "GO\r\n",
                "\r\n",
                "CREATE TABLE Czytelnik\r\n",
                "( Czytelnik_ID INT IDENTITY\r\n",
                ", PESEL CHAR(11)\r\n",
                ", Nazwisko VARCHAR(30)\r\n",
                ", Miasto VARCHAR(30)\r\n",
                ", Data_Urodzenia DATE\r\n",
                ", Ostatnie_Wypozyczenie DATE\r\n",
                ", CONSTRAINT Czytelnik_PK PRIMARY KEY (Czytelnik_ID)\r\n",
                ", CONSTRAINT Czytelnik_UK_PESEL UNIQUE (PESEL)\r\n",
                ");\r\n",
                "GO\r\n",
                "\r\n",
                "CREATE TABLE Wypozyczenie\r\n",
                "( Wypozyczenie_ID INT IDENTITY\r\n",
                ", Czytelnik_ID INT\r\n",
                ", Egzemplarz_ID INT\r\n",
                ", Data DATE\r\n",
                ", Liczba_Dni INT\r\n",
                ", CONSTRAINT Wypozyczenie_PK PRIMARY KEY (Wypozyczenie_ID)\r\n",
                ", CONSTRAINT Wypozyczenie_FK_Czytelnik FOREIGN KEY (Czytelnik_ID) REFERENCES Czytelnik (Czytelnik_ID) ON DELETE CASCADE\r\n",
                ", CONSTRAINT Wypozyczenie_FK_Egzemplarz FOREIGN KEY (Egzemplarz_ID) REFERENCES Egzemplarz (Egzemplarz_ID) ON DELETE CASCADE\r\n",
                ");\r\n",
                "GO\r\n",
                "\r\n",
                "SET IDENTITY_INSERT Ksiazka ON\r\n",
                "INSERT INTO Ksiazka (Ksiazka_ID,ISBN,Tytul,Autor,Rok_Wydania,Cena) VALUES\r\n",
                "(1,'83-246-0279-8','Microsoft Access. Podręcznik administratora','Helen Feddema',2006,69),\r\n",
                "(2,'83-246-0653-X','SQL Server 2005. Programowanie. Od podstaw','Robert Vieira',2007,97),\r\n",
                "(3,'978-83-246-0549-1','SQL Server 2005. Wyciśnij wszystko','Eric L. Brown',2007,57),\r\n",
                "(4,'978-83-246-1258-1','PHP, MySQL i MVC. Tworzenie witryn WWW opartych na bazie danych','Włodzimierz Gajda',2010,79),\r\n",
                "(5,'978-83-246-2060-9','Access 2007 PL. Seria praktyk','Andrew Unsworth',2009,39),\r\n",
                "(6,'978-83-246-2188-0','Czysty kod. Podręcznik dobrego programisty','Robert C. Martin',2010,67);\r\n",
                "SET IDENTITY_INSERT Ksiazka OFF\r\n",
                "GO\r\n",
                "\r\n",
                "SET IDENTITY_INSERT Egzemplarz ON\r\n",
                "INSERT INTO Egzemplarz (Egzemplarz_ID,Ksiazka_ID,Sygnatura) VALUES\r\n",
                "(1,5,'S0001'),\r\n",
                "(2,5,'S0002'),\r\n",
                "(3,1,'S0003'),\r\n",
                "(4,1,'S0004'),\r\n",
                "(5,1,'S0005'),\r\n",
                "-- (6,2,'S0006'),\r\n",
                "(7,3,'S0007'),\r\n",
                "(8,3,'S0008'),\r\n",
                "(9,3,'S0009'),\r\n",
                "(10,3,'S0010'),\r\n",
                "(11,6,'S0011'),\r\n",
                "(12,6,'S0012'),\r\n",
                "(13,4,'S0013'),\r\n",
                "(14,4,'S0014'),\r\n",
                "(15,4,'S0015');\r\n",
                "SET IDENTITY_INSERT Egzemplarz OFF\r\n",
                "GO\r\n",
                "\r\n",
                "SET IDENTITY_INSERT Czytelnik ON\r\n",
                "INSERT INTO Czytelnik (CZYTELNIK_ID,PESEL,NAZWISKO,MIASTO,DATA_URODZENIA) VALUES\r\n",
                "(1,'55101011111','Kowalski','Wrocław','1955-10-10'),\r\n",
                "(2,'60101033333','Maliniak','Wrocław','1960-10-10'),\r\n",
                "(3,'65120122222','Nowak','Warszawa','1965-12-01');\r\n",
                "SET IDENTITY_INSERT Czytelnik OFF\r\n",
                "GO\r\n",
                "\r\n",
                "SET IDENTITY_INSERT Wypozyczenie ON\r\n",
                "INSERT INTO Wypozyczenie (Wypozyczenie_ID,Czytelnik_ID,Egzemplarz_ID,Data,Liczba_Dni) VALUES\r\n",
                "(1,1,3,'2020-02-01',12),\r\n",
                "(2,1,4,'2020-01-05',20),\r\n",
                "(3,1,15,'2020-01-21',45),\r\n",
                "(4,2,8,'2020-01-13',7),\r\n",
                "(5,3,4,'2020-02-01',14),\r\n",
                "(6,3,12,'2020-02-02',10),\r\n",
                "(7,3,12,'2020-02-12',3),\r\n",
                "(8,3,12,'2020-02-16',4),\r\n",
                "(9,1,12,'2020-02-20',2),\r\n",
                "(10,2,12,'2020-02-22',5),\r\n",
                "(11,2,12,'2020-02-28',12),\r\n",
                "(12,1,12,'2020-03-10',8),\r\n",
                "(13,3,12,'2020-03-15',4);\r\n",
                "SET IDENTITY_INSERT Wypozyczenie OFF\r\n",
                "GO"
            ],
            "metadata": {
                "azdata_cell_guid": "8a679dc7-677e-42eb-b4a6-1c4157241608"
            },
            "outputs": [
                {
                    "output_type": "error",
                    "evalue": "Msg 40508, Level 16, State 1, Line 1\r\nUSE statement is not supported to switch between databases. Use a new connection to connect to a different database.",
                    "ename": "",
                    "traceback": []
                },
                {
                    "output_type": "display_data",
                    "data": {
                        "text/html": "Commands completed successfully."
                    },
                    "metadata": {}
                },
                {
                    "output_type": "display_data",
                    "data": {
                        "text/html": "Commands completed successfully."
                    },
                    "metadata": {}
                },
                {
                    "output_type": "display_data",
                    "data": {
                        "text/html": "Commands completed successfully."
                    },
                    "metadata": {}
                },
                {
                    "output_type": "display_data",
                    "data": {
                        "text/html": "Commands completed successfully."
                    },
                    "metadata": {}
                },
                {
                    "output_type": "display_data",
                    "data": {
                        "text/html": "Commands completed successfully."
                    },
                    "metadata": {}
                },
                {
                    "output_type": "display_data",
                    "data": {
                        "text/html": "Commands completed successfully."
                    },
                    "metadata": {}
                },
                {
                    "output_type": "display_data",
                    "data": {
                        "text/html": "Commands completed successfully."
                    },
                    "metadata": {}
                },
                {
                    "output_type": "display_data",
                    "data": {
                        "text/html": "Commands completed successfully."
                    },
                    "metadata": {}
                },
                {
                    "output_type": "display_data",
                    "data": {
                        "text/html": "(6 rows affected)"
                    },
                    "metadata": {}
                },
                {
                    "output_type": "display_data",
                    "data": {
                        "text/html": "(14 rows affected)"
                    },
                    "metadata": {}
                },
                {
                    "output_type": "display_data",
                    "data": {
                        "text/html": "(3 rows affected)"
                    },
                    "metadata": {}
                },
                {
                    "output_type": "display_data",
                    "data": {
                        "text/html": "(13 rows affected)"
                    },
                    "metadata": {}
                },
                {
                    "output_type": "display_data",
                    "data": {
                        "text/html": "Total execution time: 00:00:00.778"
                    },
                    "metadata": {}
                }
            ],
            "execution_count": 2
        },
        {
            "cell_type": "code",
            "source": [
                "DROP TABLE IF EXISTS Wypozyczenie;\r\n",
                "GO\r\n",
                "\r\n",
                "DROP TABLE IF EXISTS Egzemplarz;\r\n",
                "GO\r\n",
                "\r\n",
                "DROP TABLE IF EXISTS Czytelnik;\r\n",
                "GO\r\n",
                "\r\n",
                "DROP TABLE IF EXISTS Ksiazka;\r\n",
                "GO"
            ],
            "metadata": {
                "azdata_cell_guid": "5a2a8b27-a4f3-4141-a1e9-1ae4fe4926c8"
            },
            "outputs": [],
            "execution_count": null
        }
    ]
}