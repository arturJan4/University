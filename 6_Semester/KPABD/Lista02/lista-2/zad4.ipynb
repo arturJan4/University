{
    "metadata": {
        "kernelspec": {
            "name": "SQL",
            "display_name": "SQL",
            "language": "sql"
        },
        "language_info": {
            "name": "sql",
            "version": ""
        }
    },
    "nbformat_minor": 2,
    "nbformat": 4,
    "cells": [
        {
            "cell_type": "markdown",
            "source": [
                "# Zad 4\n",
                "\n",
                "Utworzyć procedurę, która jako parametr bierze tabelę (czytelnik id) identyfikatorów czytelników, a jako wynik zwraca tabelę o dwóch kolumnach (czytelnik id,suma dni), gdzie dla każdego przekazanego czytelnika dołączona jest sumaryczna liczba dni, na którą dany czytelnik wypożyczył książki."
            ],
            "metadata": {
                "azdata_cell_guid": "585043d8-b345-4315-9668-257095059438"
            },
            "attachments": {}
        },
        {
            "cell_type": "code",
            "source": [
                "DROP PROCEDURE IF EXISTS sumaWypozyczen\r\n",
                "DROP TYPE IF EXISTS Czytelnicy"
            ],
            "metadata": {
                "azdata_cell_guid": "2718adfd-ccdf-4ea2-bad3-b76dd562c83b"
            },
            "outputs": [
                {
                    "output_type": "display_data",
                    "data": {
                        "text/html": "Commands completed successfully."
                    },
                    "metadata": {}
                },
                {
                    "output_type": "display_data",
                    "data": {
                        "text/html": "Total execution time: 00:00:00.062"
                    },
                    "metadata": {}
                }
            ],
            "execution_count": 33
        },
        {
            "cell_type": "code",
            "source": [
                "CREATE TYPE Czytelnicy AS TABLE(czytelnik_id INT)\r\n",
                "GO\r\n",
                "\r\n",
                "CREATE PROCEDURE sumaWypozyczen @Czytelnicy Czytelnicy READONLY AS  \r\n",
                "BEGIN\r\n",
                "    SELECT r.czytelnik_id, SUM(DATEDIFF(day, Wypozyczenie.Data, GETDATE())) as \"suma_dni\"\r\n",
                "    FROM \r\n",
                "        @Czytelnicy r,\r\n",
                "        Wypozyczenie\r\n",
                "    WHERE\r\n",
                "        r.Czytelnik_ID = Wypozyczenie.Czytelnik_ID\r\n",
                "    GROUP BY r.czytelnik_id\r\n",
                "END"
            ],
            "metadata": {
                "azdata_cell_guid": "56c470e0-17aa-4fce-bb86-e4d9bf6f19b5",
                "tags": []
            },
            "outputs": [
                {
                    "output_type": "display_data",
                    "data": {
                        "text/html": "Commands completed successfully."
                    },
                    "metadata": {}
                },
                {
                    "output_type": "display_data",
                    "data": {
                        "text/html": "Commands completed successfully."
                    },
                    "metadata": {}
                },
                {
                    "output_type": "display_data",
                    "data": {
                        "text/html": "Total execution time: 00:00:00.116"
                    },
                    "metadata": {}
                }
            ],
            "execution_count": 34
        },
        {
            "cell_type": "code",
            "source": [
                "DECLARE @temp Czytelnicy\r\n",
                "\r\n",
                "INSERT INTO @temp(czytelnik_id) \r\n",
                "VALUES (1), (2), (3)\r\n",
                "\r\n",
                "EXEC sumaWypozyczen @temp"
            ],
            "metadata": {
                "azdata_cell_guid": "13f7cd4c-9a5b-46ce-88c8-f8bace12d027"
            },
            "outputs": [
                {
                    "output_type": "display_data",
                    "data": {
                        "text/html": "(3 rows affected)"
                    },
                    "metadata": {}
                },
                {
                    "output_type": "display_data",
                    "data": {
                        "text/html": "(3 rows affected)"
                    },
                    "metadata": {}
                },
                {
                    "output_type": "display_data",
                    "data": {
                        "text/html": "Total execution time: 00:00:00.052"
                    },
                    "metadata": {}
                },
                {
                    "output_type": "execute_result",
                    "metadata": {},
                    "execution_count": 35,
                    "data": {
                        "application/vnd.dataresource+json": {
                            "schema": {
                                "fields": [
                                    {
                                        "name": "czytelnik_id"
                                    },
                                    {
                                        "name": "suma_dni"
                                    }
                                ]
                            },
                            "data": [
                                {
                                    "0": "1",
                                    "1": "3866"
                                },
                                {
                                    "0": "2",
                                    "1": "2302"
                                },
                                {
                                    "0": "3",
                                    "1": "3815"
                                }
                            ]
                        },
                        "text/html": [
                            "<table>",
                            "<tr><th>czytelnik_id</th><th>suma_dni</th></tr>",
                            "<tr><td>1</td><td>3866</td></tr>",
                            "<tr><td>2</td><td>2302</td></tr>",
                            "<tr><td>3</td><td>3815</td></tr>",
                            "</table>"
                        ]
                    }
                }
            ],
            "execution_count": 35
        }
    ]
}