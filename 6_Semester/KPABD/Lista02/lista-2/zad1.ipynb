{
    "metadata": {
        "kernelspec": {
            "name": "SQL",
            "display_name": "SQL",
            "language": "sql"
        },
        "language_info": {
            "name": "sql",
            "version": ""
        }
    },
    "nbformat_minor": 2,
    "nbformat": 4,
    "cells": [
        {
            "cell_type": "markdown",
            "source": [
                "# Zad 1\n",
                "\n",
                "Utworzyć funkcję w T-SQL, która jako parametr bierze liczbę dni, a w wyniku zwraca tabelę (PESEL, LiczbaEgzemplarzy), która zawiera listę czytelników przechowujących co najmniej jeden egzemplarz jakiekolwiek książki niekrócej niż liczba dni określona w parametrze. W drugiej kolumnie należy dołączyć liczbę przetrzymywanych egzemplarzy."
            ],
            "metadata": {
                "azdata_cell_guid": "0d4b43f1-9231-4d01-9e5d-3f80307575a4"
            },
            "attachments": {}
        },
        {
            "cell_type": "code",
            "source": [
                "DROP FUNCTION IF EXISTS pozyczone"
            ],
            "metadata": {
                "azdata_cell_guid": "58b53d09-4d1e-4ebc-a3fc-5909ee0a5681"
            },
            "outputs": [
                {
                    "output_type": "display_data",
                    "data": {
                        "text/html": "Commands completed successfully."
                    },
                    "metadata": {}
                },
                {
                    "output_type": "display_data",
                    "data": {
                        "text/html": "Total execution time: 00:00:00.054"
                    },
                    "metadata": {}
                }
            ],
            "execution_count": 34
        },
        {
            "cell_type": "markdown",
            "source": [
                "zwraca ile jest przetrzymywanych powyżej danego dnia"
            ],
            "metadata": {
                "azdata_cell_guid": "451a7ef9-2626-48f8-bb99-39e7ad9ab3a2"
            },
            "attachments": {}
        },
        {
            "cell_type": "code",
            "source": [
                "CREATE FUNCTION pozyczone (@dni INT = 0) RETURNS TABLE\r\n",
                "AS\r\n",
                "RETURN\r\n",
                "    SELECT Czytelnik.PESEL, COUNT(Wypozyczenie.Wypozyczenie_ID) AS LiczbaEgzemplarzy\r\n",
                "    FROM Czytelnik\r\n",
                "    INNER JOIN Wypozyczenie ON Czytelnik.Czytelnik_ID = Wypozyczenie.Czytelnik_ID\r\n",
                "    WHERE DATEDIFF(day, Wypozyczenie.Data, GETDATE()) >= @dni\r\n",
                "    GROUP BY Czytelnik.PESEL"
            ],
            "metadata": {
                "azdata_cell_guid": "e3f4e599-35b6-400d-8bbf-d8b20d5d7f6e"
            },
            "outputs": [
                {
                    "output_type": "display_data",
                    "data": {
                        "text/html": "Commands completed successfully."
                    },
                    "metadata": {}
                },
                {
                    "output_type": "display_data",
                    "data": {
                        "text/html": "Total execution time: 00:00:00.057"
                    },
                    "metadata": {}
                }
            ],
            "execution_count": 29
        },
        {
            "cell_type": "code",
            "source": [
                "SELECT *\r\n",
                "FROM pozyczone(750)\r\n",
                "\r\n",
                "SELECT *\r\n",
                "FROM pozyczone(800)"
            ],
            "metadata": {
                "azdata_cell_guid": "3b4dcf33-0292-44af-870d-cfd3a78256d0",
                "tags": []
            },
            "outputs": [
                {
                    "output_type": "display_data",
                    "data": {
                        "text/html": "(3 rows affected)"
                    },
                    "metadata": {}
                },
                {
                    "output_type": "display_data",
                    "data": {
                        "text/html": "(1 row affected)"
                    },
                    "metadata": {}
                },
                {
                    "output_type": "display_data",
                    "data": {
                        "text/html": "Total execution time: 00:00:00.079"
                    },
                    "metadata": {}
                },
                {
                    "output_type": "execute_result",
                    "metadata": {},
                    "execution_count": 30,
                    "data": {
                        "application/vnd.dataresource+json": {
                            "schema": {
                                "fields": [
                                    {
                                        "name": "PESEL"
                                    },
                                    {
                                        "name": "LiczbaEgzemplarzy"
                                    }
                                ]
                            },
                            "data": [
                                {
                                    "0": "55101011111",
                                    "1": "4"
                                },
                                {
                                    "0": "60101033333",
                                    "1": "3"
                                },
                                {
                                    "0": "65120122222",
                                    "1": "4"
                                }
                            ]
                        },
                        "text/html": [
                            "<table>",
                            "<tr><th>PESEL</th><th>LiczbaEgzemplarzy</th></tr>",
                            "<tr><td>55101011111</td><td>4</td></tr>",
                            "<tr><td>60101033333</td><td>3</td></tr>",
                            "<tr><td>65120122222</td><td>4</td></tr>",
                            "</table>"
                        ]
                    }
                },
                {
                    "output_type": "execute_result",
                    "metadata": {},
                    "execution_count": 30,
                    "data": {
                        "application/vnd.dataresource+json": {
                            "schema": {
                                "fields": [
                                    {
                                        "name": "PESEL"
                                    },
                                    {
                                        "name": "LiczbaEgzemplarzy"
                                    }
                                ]
                            },
                            "data": [
                                {
                                    "0": "55101011111",
                                    "1": "1"
                                }
                            ]
                        },
                        "text/html": [
                            "<table>",
                            "<tr><th>PESEL</th><th>LiczbaEgzemplarzy</th></tr>",
                            "<tr><td>55101011111</td><td>1</td></tr>",
                            "</table>"
                        ]
                    }
                }
            ],
            "execution_count": 30
        },
        {
            "cell_type": "markdown",
            "source": [
                "zwraca ile jest przetrzymywanych RAZEM"
            ],
            "metadata": {
                "azdata_cell_guid": "ee8f7936-0145-46a2-a90f-2fbcc7e47f58"
            },
            "attachments": {}
        },
        {
            "cell_type": "code",
            "source": [
                "DROP FUNCTION IF EXISTS pozyczone"
            ],
            "metadata": {
                "azdata_cell_guid": "f72f0c86-4995-4d5c-928e-88930dfbb71c"
            },
            "outputs": [
                {
                    "output_type": "display_data",
                    "data": {
                        "text/html": "Commands completed successfully."
                    },
                    "metadata": {}
                },
                {
                    "output_type": "display_data",
                    "data": {
                        "text/html": "Total execution time: 00:00:00.269"
                    },
                    "metadata": {}
                }
            ],
            "execution_count": 31
        },
        {
            "cell_type": "code",
            "source": [
                "CREATE FUNCTION pozyczone (@dni INT = 0) RETURNS TABLE\r\n",
                "AS\r\n",
                "RETURN\r\n",
                "    SELECT Czytelnik.PESEL, COUNT(Wypozyczenie.Wypozyczenie_ID) AS LiczbaEgzemplarzy\r\n",
                "    FROM Czytelnik\r\n",
                "    INNER JOIN Wypozyczenie ON Czytelnik.Czytelnik_ID = Wypozyczenie.Czytelnik_ID\r\n",
                "    GROUP BY Czytelnik.PESEL\r\n",
                "    HAVING MAX(DATEDIFF(day, Wypozyczenie.Data, GETDATE())) >= @dni"
            ],
            "metadata": {
                "azdata_cell_guid": "643956f4-669e-49fa-95df-20053a828518"
            },
            "outputs": [
                {
                    "output_type": "display_data",
                    "data": {
                        "text/html": "Commands completed successfully."
                    },
                    "metadata": {}
                },
                {
                    "output_type": "display_data",
                    "data": {
                        "text/html": "Total execution time: 00:00:00.078"
                    },
                    "metadata": {}
                }
            ],
            "execution_count": 32
        },
        {
            "cell_type": "code",
            "source": [
                "SELECT *\r\n",
                "FROM pozyczone(750)\r\n",
                "\r\n",
                "SELECT *\r\n",
                "FROM pozyczone(800)"
            ],
            "metadata": {
                "azdata_cell_guid": "2843d803-5d47-4118-972a-b3db39dbbbff"
            },
            "outputs": [
                {
                    "output_type": "display_data",
                    "data": {
                        "text/html": "(3 rows affected)"
                    },
                    "metadata": {}
                },
                {
                    "output_type": "display_data",
                    "data": {
                        "text/html": "(1 row affected)"
                    },
                    "metadata": {}
                },
                {
                    "output_type": "display_data",
                    "data": {
                        "text/html": "Total execution time: 00:00:00.113"
                    },
                    "metadata": {}
                },
                {
                    "output_type": "execute_result",
                    "metadata": {},
                    "execution_count": 33,
                    "data": {
                        "application/vnd.dataresource+json": {
                            "schema": {
                                "fields": [
                                    {
                                        "name": "PESEL"
                                    },
                                    {
                                        "name": "LiczbaEgzemplarzy"
                                    }
                                ]
                            },
                            "data": [
                                {
                                    "0": "55101011111",
                                    "1": "5"
                                },
                                {
                                    "0": "60101033333",
                                    "1": "3"
                                },
                                {
                                    "0": "65120122222",
                                    "1": "5"
                                }
                            ]
                        },
                        "text/html": [
                            "<table>",
                            "<tr><th>PESEL</th><th>LiczbaEgzemplarzy</th></tr>",
                            "<tr><td>55101011111</td><td>5</td></tr>",
                            "<tr><td>60101033333</td><td>3</td></tr>",
                            "<tr><td>65120122222</td><td>5</td></tr>",
                            "</table>"
                        ]
                    }
                },
                {
                    "output_type": "execute_result",
                    "metadata": {},
                    "execution_count": 33,
                    "data": {
                        "application/vnd.dataresource+json": {
                            "schema": {
                                "fields": [
                                    {
                                        "name": "PESEL"
                                    },
                                    {
                                        "name": "LiczbaEgzemplarzy"
                                    }
                                ]
                            },
                            "data": [
                                {
                                    "0": "55101011111",
                                    "1": "5"
                                }
                            ]
                        },
                        "text/html": [
                            "<table>",
                            "<tr><th>PESEL</th><th>LiczbaEgzemplarzy</th></tr>",
                            "<tr><td>55101011111</td><td>5</td></tr>",
                            "</table>"
                        ]
                    }
                }
            ],
            "execution_count": 33
        }
    ]
}