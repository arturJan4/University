{
    "metadata": {
        "kernelspec": {
            "name": "SQL",
            "display_name": "SQL",
            "language": "sql"
        },
        "language_info": {
            "name": "sql",
            "version": ""
        }
    },
    "nbformat_minor": 2,
    "nbformat": 4,
    "cells": [
        {
            "cell_type": "markdown",
            "source": [
                "# 1\n",
                "\n",
                "Przygotować trzy przykłady pokazujące następujące anomalie: odczyty „brudnych danych”, niepowtarzalność odczytów, odczyty fantomów. Sprawdzić eksperymentalnie, w ramach których poziomów izolacji transakcji wymienione anomalie występują."
            ],
            "metadata": {
                "azdata_cell_guid": "2b8a235a-a765-4478-9f31-79bbb47544c5"
            },
            "attachments": {}
        },
        {
            "cell_type": "code",
            "source": [
                "SET TRANSACTION ISOLATION LEVEL READ UNCOMMITTED\r\n",
                "-- SET TRANSACTION ISOLATION LEVEL READ COMMITTED;\r\n",
                "-- SET TRANSACTION ISOLATION LEVEL REPEATABLE READ;\r\n",
                "-- SET TRANSACTION ISOLATION LEVEL SNAPSHOT;\r\n",
                "-- SET TRANSACTION ISOLATION LEVEL SERIALIZABLE;"
            ],
            "metadata": {
                "azdata_cell_guid": "dbaa0ceb-9352-4c1d-b8b9-61ffb8dd578c"
            },
            "outputs": [
                {
                    "output_type": "display_data",
                    "data": {
                        "text/html": "Commands completed successfully."
                    },
                    "metadata": {}
                },
                {
                    "output_type": "display_data",
                    "data": {
                        "text/html": "Total execution time: 00:00:00.058"
                    },
                    "metadata": {}
                }
            ],
            "execution_count": 111
        },
        {
            "cell_type": "code",
            "source": [
                "DROP TABLE IF EXISTS Test_zad1\r\n",
                "GO\r\n",
                "    \r\n",
                "CREATE TABLE Test_zad1\r\n",
                "(\r\n",
                "    ID INT PRIMARY KEY,\r\n",
                "    Book VARCHAR(100), \r\n",
                "    Quantity INT\r\n",
                ");\r\n",
                "GO\r\n",
                "\r\n",
                "INSERT INTO Test_zad1(ID, Book, Quantity)\r\n",
                "VALUES (1, 'Harry Potter and the Philosopher Stone', '3'),\r\n",
                "       (2, 'Da Vinci Code', '5'),\r\n",
                "       (3, 'Harry Potter and the Chamber of Secrets', 2),\r\n",
                "       (4, 'One Day', 3),\r\n",
                "       (5, 'Labyrinth', 9),\r\n",
                "       (6, 'Lord of the Rings', 1),\r\n",
                "       (7, 'Short History of Tractors in Ukrainian', 5)"
            ],
            "metadata": {
                "azdata_cell_guid": "b57d01c3-f99c-4f26-9bb6-0157fa0126b3",
                "tags": []
            },
            "outputs": [
                {
                    "output_type": "display_data",
                    "data": {
                        "text/html": "Commands completed successfully."
                    },
                    "metadata": {}
                },
                {
                    "output_type": "display_data",
                    "data": {
                        "text/html": "Commands completed successfully."
                    },
                    "metadata": {}
                },
                {
                    "output_type": "display_data",
                    "data": {
                        "text/html": "(7 rows affected)"
                    },
                    "metadata": {}
                },
                {
                    "output_type": "display_data",
                    "data": {
                        "text/html": "Total execution time: 00:00:00.181"
                    },
                    "metadata": {}
                }
            ],
            "execution_count": 5
        },
        {
            "cell_type": "code",
            "source": [
                "SELECT * FROM Test_zad1"
            ],
            "metadata": {
                "azdata_cell_guid": "33ce9376-4346-4411-87f6-3fd129dd6930"
            },
            "outputs": [
                {
                    "output_type": "display_data",
                    "data": {
                        "text/html": "Query was canceled by user"
                    },
                    "metadata": {}
                },
                {
                    "output_type": "error",
                    "ename": "",
                    "evalue": "Query failed: The operation was canceled.",
                    "traceback": []
                },
                {
                    "output_type": "display_data",
                    "data": {
                        "text/html": "Query was canceled by user"
                    },
                    "metadata": {}
                },
                {
                    "output_type": "display_data",
                    "data": {
                        "text/html": "Total execution time: 00:00:02.607"
                    },
                    "metadata": {}
                }
            ],
            "execution_count": 105
        },
        {
            "cell_type": "code",
            "source": [
                "SELECT * FROM sys.dm_tran_locks"
            ],
            "metadata": {
                "azdata_cell_guid": "f2d58309-8284-4287-ac78-4a0775ff4cc4"
            },
            "outputs": [
                {
                    "output_type": "display_data",
                    "data": {
                        "text/html": "(11 rows affected)"
                    },
                    "metadata": {}
                },
                {
                    "output_type": "display_data",
                    "data": {
                        "text/html": "Total execution time: 00:00:00.072"
                    },
                    "metadata": {}
                },
                {
                    "output_type": "execute_result",
                    "execution_count": 114,
                    "data": {
                        "application/vnd.dataresource+json": {
                            "schema": {
                                "fields": [
                                    {
                                        "name": "resource_type"
                                    },
                                    {
                                        "name": "resource_subtype"
                                    },
                                    {
                                        "name": "resource_database_id"
                                    },
                                    {
                                        "name": "resource_description"
                                    },
                                    {
                                        "name": "resource_associated_entity_id"
                                    },
                                    {
                                        "name": "resource_lock_partition"
                                    },
                                    {
                                        "name": "request_mode"
                                    },
                                    {
                                        "name": "request_type"
                                    },
                                    {
                                        "name": "request_status"
                                    },
                                    {
                                        "name": "request_reference_count"
                                    },
                                    {
                                        "name": "request_lifetime"
                                    },
                                    {
                                        "name": "request_session_id"
                                    },
                                    {
                                        "name": "request_exec_context_id"
                                    },
                                    {
                                        "name": "request_request_id"
                                    },
                                    {
                                        "name": "request_owner_type"
                                    },
                                    {
                                        "name": "request_owner_id"
                                    },
                                    {
                                        "name": "request_owner_guid"
                                    },
                                    {
                                        "name": "request_owner_lockspace_id"
                                    },
                                    {
                                        "name": "lock_owner_address"
                                    }
                                ]
                            },
                            "data": [
                                {
                                    "0": "DATABASE",
                                    "1": "",
                                    "2": "6",
                                    "3": "                                                                                                                                                                                                                                                                ",
                                    "4": "0",
                                    "5": "0",
                                    "6": "S",
                                    "7": "LOCK",
                                    "8": "GRANT",
                                    "9": "1",
                                    "10": "0",
                                    "11": "78",
                                    "12": "0",
                                    "13": "0",
                                    "14": "SHARED_TRANSACTION_WORKSPACE",
                                    "15": "0",
                                    "16": "00000000-0000-0000-0000-000000000000",
                                    "17": "0x000001D62DC72A50:0:0",
                                    "18": "0xA0EBDB8A37BCCB00"
                                },
                                {
                                    "0": "DATABASE",
                                    "1": "",
                                    "2": "6",
                                    "3": "                                                                                                                                                                                                                                                                ",
                                    "4": "0",
                                    "5": "0",
                                    "6": "S",
                                    "7": "LOCK",
                                    "8": "GRANT",
                                    "9": "1",
                                    "10": "0",
                                    "11": "74",
                                    "12": "0",
                                    "13": "0",
                                    "14": "SHARED_TRANSACTION_WORKSPACE",
                                    "15": "0",
                                    "16": "00000000-0000-0000-0000-000000000000",
                                    "17": "0x000001D62DC73E50:0:0",
                                    "18": "0x04EDE4B5F96F9883"
                                },
                                {
                                    "0": "DATABASE",
                                    "1": "",
                                    "2": "6",
                                    "3": "                                                                                                                                                                                                                                                                ",
                                    "4": "0",
                                    "5": "0",
                                    "6": "S",
                                    "7": "LOCK",
                                    "8": "GRANT",
                                    "9": "1",
                                    "10": "0",
                                    "11": "81",
                                    "12": "0",
                                    "13": "0",
                                    "14": "SHARED_TRANSACTION_WORKSPACE",
                                    "15": "0",
                                    "16": "00000000-0000-0000-0000-000000000000",
                                    "17": "0x000001D63A3129C0:0:0",
                                    "18": "0x27AAEA13F010A2CD"
                                },
                                {
                                    "0": "DATABASE",
                                    "1": "",
                                    "2": "6",
                                    "3": "                                                                                                                                                                                                                                                                ",
                                    "4": "0",
                                    "5": "0",
                                    "6": "S",
                                    "7": "LOCK",
                                    "8": "GRANT",
                                    "9": "1",
                                    "10": "0",
                                    "11": "80",
                                    "12": "0",
                                    "13": "0",
                                    "14": "SHARED_TRANSACTION_WORKSPACE",
                                    "15": "0",
                                    "16": "00000000-0000-0000-0000-000000000000",
                                    "17": "0x000001D62DC72370:0:0",
                                    "18": "0x64BA9015E8D4B8C2"
                                },
                                {
                                    "0": "DATABASE",
                                    "1": "",
                                    "2": "6",
                                    "3": "                                                                                                                                                                                                                                                                ",
                                    "4": "0",
                                    "5": "0",
                                    "6": "S",
                                    "7": "LOCK",
                                    "8": "GRANT",
                                    "9": "1",
                                    "10": "0",
                                    "11": "77",
                                    "12": "0",
                                    "13": "0",
                                    "14": "SHARED_TRANSACTION_WORKSPACE",
                                    "15": "0",
                                    "16": "00000000-0000-0000-0000-000000000000",
                                    "17": "0x000001D62DC729C0:0:0",
                                    "18": "0x2FA9F748167990B1"
                                },
                                {
                                    "0": "DATABASE",
                                    "1": "",
                                    "2": "6",
                                    "3": "                                                                                                                                                                                                                                                                ",
                                    "4": "0",
                                    "5": "0",
                                    "6": "S",
                                    "7": "LOCK",
                                    "8": "GRANT",
                                    "9": "1",
                                    "10": "0",
                                    "11": "76",
                                    "12": "0",
                                    "13": "0",
                                    "14": "SHARED_TRANSACTION_WORKSPACE",
                                    "15": "0",
                                    "16": "00000000-0000-0000-0000-000000000000",
                                    "17": "0x000001D62DC73130:0:0",
                                    "18": "0x6EEFC37F7A17981C"
                                },
                                {
                                    "0": "DATABASE",
                                    "1": "",
                                    "2": "6",
                                    "3": "                                                                                                                                                                                                                                                                ",
                                    "4": "0",
                                    "5": "0",
                                    "6": "S",
                                    "7": "LOCK",
                                    "8": "GRANT",
                                    "9": "1",
                                    "10": "0",
                                    "11": "75",
                                    "12": "0",
                                    "13": "0",
                                    "14": "SHARED_TRANSACTION_WORKSPACE",
                                    "15": "0",
                                    "16": "00000000-0000-0000-0000-000000000000",
                                    "17": "0x000001D62DC72AE0:0:0",
                                    "18": "0x6355323BEB29905B"
                                },
                                {
                                    "0": "DATABASE",
                                    "1": "",
                                    "2": "6",
                                    "3": "                                                                                                                                                                                                                                                                ",
                                    "4": "0",
                                    "5": "0",
                                    "6": "S",
                                    "7": "LOCK",
                                    "8": "GRANT",
                                    "9": "1",
                                    "10": "0",
                                    "11": "57",
                                    "12": "0",
                                    "13": "0",
                                    "14": "SHARED_TRANSACTION_WORKSPACE",
                                    "15": "0",
                                    "16": "00000000-0000-0000-0000-000000000000",
                                    "17": "0x000001D62DC73AE0:0:0",
                                    "18": "0xEF67347147A26200"
                                },
                                {
                                    "0": "DATABASE",
                                    "1": "",
                                    "2": "6",
                                    "3": "                                                                                                                                                                                                                                                                ",
                                    "4": "0",
                                    "5": "0",
                                    "6": "S",
                                    "7": "LOCK",
                                    "8": "GRANT",
                                    "9": "1",
                                    "10": "0",
                                    "11": "70",
                                    "12": "0",
                                    "13": "0",
                                    "14": "SHARED_TRANSACTION_WORKSPACE",
                                    "15": "0",
                                    "16": "00000000-0000-0000-0000-000000000000",
                                    "17": "0x000001D63A313930:0:0",
                                    "18": "0x2045483DF3ED8A54"
                                },
                                {
                                    "0": "DATABASE",
                                    "1": "",
                                    "2": "6",
                                    "3": "                                                                                                                                                                                                                                                                ",
                                    "4": "0",
                                    "5": "0",
                                    "6": "S",
                                    "7": "LOCK",
                                    "8": "GRANT",
                                    "9": "1",
                                    "10": "0",
                                    "11": "64",
                                    "12": "0",
                                    "13": "0",
                                    "14": "SHARED_TRANSACTION_WORKSPACE",
                                    "15": "0",
                                    "16": "00000000-0000-0000-0000-000000000000",
                                    "17": "0x000001D62DC732E0:0:0",
                                    "18": "0xA31DE3777BD77739"
                                },
                                {
                                    "0": "DATABASE",
                                    "1": "",
                                    "2": "6",
                                    "3": "                                                                                                                                                                                                                                                                ",
                                    "4": "0",
                                    "5": "0",
                                    "6": "S",
                                    "7": "LOCK",
                                    "8": "GRANT",
                                    "9": "1",
                                    "10": "0",
                                    "11": "62",
                                    "12": "0",
                                    "13": "0",
                                    "14": "SHARED_TRANSACTION_WORKSPACE",
                                    "15": "0",
                                    "16": "00000000-0000-0000-0000-000000000000",
                                    "17": "0x000001D62DC73010:0:0",
                                    "18": "0xBBC6842BDB37737D"
                                }
                            ]
                        },
                        "text/html": "<table><tr><th>resource_type</th><th>resource_subtype</th><th>resource_database_id</th><th>resource_description</th><th>resource_associated_entity_id</th><th>resource_lock_partition</th><th>request_mode</th><th>request_type</th><th>request_status</th><th>request_reference_count</th><th>request_lifetime</th><th>request_session_id</th><th>request_exec_context_id</th><th>request_request_id</th><th>request_owner_type</th><th>request_owner_id</th><th>request_owner_guid</th><th>request_owner_lockspace_id</th><th>lock_owner_address</th></tr><tr><td>DATABASE</td><td></td><td>6</td><td>                                                                                                                                                                                                                                                                </td><td>0</td><td>0</td><td>S</td><td>LOCK</td><td>GRANT</td><td>1</td><td>0</td><td>78</td><td>0</td><td>0</td><td>SHARED_TRANSACTION_WORKSPACE</td><td>0</td><td>00000000-0000-0000-0000-000000000000</td><td>0x000001D62DC72A50:0:0</td><td>0xA0EBDB8A37BCCB00</td></tr><tr><td>DATABASE</td><td></td><td>6</td><td>                                                                                                                                                                                                                                                                </td><td>0</td><td>0</td><td>S</td><td>LOCK</td><td>GRANT</td><td>1</td><td>0</td><td>74</td><td>0</td><td>0</td><td>SHARED_TRANSACTION_WORKSPACE</td><td>0</td><td>00000000-0000-0000-0000-000000000000</td><td>0x000001D62DC73E50:0:0</td><td>0x04EDE4B5F96F9883</td></tr><tr><td>DATABASE</td><td></td><td>6</td><td>                                                                                                                                                                                                                                                                </td><td>0</td><td>0</td><td>S</td><td>LOCK</td><td>GRANT</td><td>1</td><td>0</td><td>81</td><td>0</td><td>0</td><td>SHARED_TRANSACTION_WORKSPACE</td><td>0</td><td>00000000-0000-0000-0000-000000000000</td><td>0x000001D63A3129C0:0:0</td><td>0x27AAEA13F010A2CD</td></tr><tr><td>DATABASE</td><td></td><td>6</td><td>                                                                                                                                                                                                                                                                </td><td>0</td><td>0</td><td>S</td><td>LOCK</td><td>GRANT</td><td>1</td><td>0</td><td>80</td><td>0</td><td>0</td><td>SHARED_TRANSACTION_WORKSPACE</td><td>0</td><td>00000000-0000-0000-0000-000000000000</td><td>0x000001D62DC72370:0:0</td><td>0x64BA9015E8D4B8C2</td></tr><tr><td>DATABASE</td><td></td><td>6</td><td>                                                                                                                                                                                                                                                                </td><td>0</td><td>0</td><td>S</td><td>LOCK</td><td>GRANT</td><td>1</td><td>0</td><td>77</td><td>0</td><td>0</td><td>SHARED_TRANSACTION_WORKSPACE</td><td>0</td><td>00000000-0000-0000-0000-000000000000</td><td>0x000001D62DC729C0:0:0</td><td>0x2FA9F748167990B1</td></tr><tr><td>DATABASE</td><td></td><td>6</td><td>                                                                                                                                                                                                                                                                </td><td>0</td><td>0</td><td>S</td><td>LOCK</td><td>GRANT</td><td>1</td><td>0</td><td>76</td><td>0</td><td>0</td><td>SHARED_TRANSACTION_WORKSPACE</td><td>0</td><td>00000000-0000-0000-0000-000000000000</td><td>0x000001D62DC73130:0:0</td><td>0x6EEFC37F7A17981C</td></tr><tr><td>DATABASE</td><td></td><td>6</td><td>                                                                                                                                                                                                                                                                </td><td>0</td><td>0</td><td>S</td><td>LOCK</td><td>GRANT</td><td>1</td><td>0</td><td>75</td><td>0</td><td>0</td><td>SHARED_TRANSACTION_WORKSPACE</td><td>0</td><td>00000000-0000-0000-0000-000000000000</td><td>0x000001D62DC72AE0:0:0</td><td>0x6355323BEB29905B</td></tr><tr><td>DATABASE</td><td></td><td>6</td><td>                                                                                                                                                                                                                                                                </td><td>0</td><td>0</td><td>S</td><td>LOCK</td><td>GRANT</td><td>1</td><td>0</td><td>57</td><td>0</td><td>0</td><td>SHARED_TRANSACTION_WORKSPACE</td><td>0</td><td>00000000-0000-0000-0000-000000000000</td><td>0x000001D62DC73AE0:0:0</td><td>0xEF67347147A26200</td></tr><tr><td>DATABASE</td><td></td><td>6</td><td>                                                                                                                                                                                                                                                                </td><td>0</td><td>0</td><td>S</td><td>LOCK</td><td>GRANT</td><td>1</td><td>0</td><td>70</td><td>0</td><td>0</td><td>SHARED_TRANSACTION_WORKSPACE</td><td>0</td><td>00000000-0000-0000-0000-000000000000</td><td>0x000001D63A313930:0:0</td><td>0x2045483DF3ED8A54</td></tr><tr><td>DATABASE</td><td></td><td>6</td><td>                                                                                                                                                                                                                                                                </td><td>0</td><td>0</td><td>S</td><td>LOCK</td><td>GRANT</td><td>1</td><td>0</td><td>64</td><td>0</td><td>0</td><td>SHARED_TRANSACTION_WORKSPACE</td><td>0</td><td>00000000-0000-0000-0000-000000000000</td><td>0x000001D62DC732E0:0:0</td><td>0xA31DE3777BD77739</td></tr><tr><td>DATABASE</td><td></td><td>6</td><td>                                                                                                                                                                                                                                                                </td><td>0</td><td>0</td><td>S</td><td>LOCK</td><td>GRANT</td><td>1</td><td>0</td><td>62</td><td>0</td><td>0</td><td>SHARED_TRANSACTION_WORKSPACE</td><td>0</td><td>00000000-0000-0000-0000-000000000000</td><td>0x000001D62DC73010:0:0</td><td>0xBBC6842BDB37737D</td></tr></table>"
                    },
                    "metadata": {}
                }
            ],
            "execution_count": 114
        },
        {
            "cell_type": "code",
            "source": [
                "COMMIT"
            ],
            "metadata": {
                "azdata_cell_guid": "556c469e-4141-4f30-97f0-2e8e5552f823"
            },
            "outputs": [
                {
                    "output_type": "error",
                    "evalue": "Msg 3902, Level 16, State 1, Line 1\r\nThe COMMIT TRANSACTION request has no corresponding BEGIN TRANSACTION.",
                    "ename": "",
                    "traceback": []
                },
                {
                    "output_type": "display_data",
                    "data": {
                        "text/html": "Total execution time: 00:00:00.052"
                    },
                    "metadata": {}
                }
            ],
            "execution_count": 4
        },
        {
            "cell_type": "markdown",
            "source": [
                "## Odczyty \"brudnych danych\""
            ],
            "metadata": {
                "azdata_cell_guid": "9fb689b1-69d5-4c67-b4db-37eb05c6dc05"
            },
            "attachments": {}
        },
        {
            "cell_type": "markdown",
            "source": [
                "uncommitted dependency, (pobranie częściowo zmienionych ale nie zakomitowanych zmian)"
            ],
            "metadata": {
                "azdata_cell_guid": "58c62ceb-cf9b-4d6e-9661-f17ba399a1f4"
            },
            "attachments": {}
        },
        {
            "cell_type": "code",
            "source": [
                "BEGIN TRANSACTION\r\n",
                "UPDATE Test_zad1\r\n",
                "SET Quantity = 100 WHERE ID = 3\r\n",
                "WAITFOR DELAY '00:00:25'\r\n",
                "ROLLBACK TRANSACTION"
            ],
            "metadata": {
                "azdata_cell_guid": "db14f01b-ea3b-4c58-89cf-a24a3518188f"
            },
            "outputs": [
                {
                    "output_type": "error",
                    "ename": "",
                    "evalue": "Msg 1222, Level 16, State 51, Line 2\r\nLock request time out period exceeded.",
                    "traceback": []
                },
                {
                    "output_type": "display_data",
                    "data": {
                        "text/html": "The statement has been terminated."
                    },
                    "metadata": {}
                },
                {
                    "output_type": "display_data",
                    "data": {
                        "text/html": "Query was canceled by user"
                    },
                    "metadata": {}
                },
                {
                    "output_type": "display_data",
                    "data": {
                        "text/html": "Total execution time: 00:00:13.707"
                    },
                    "metadata": {}
                }
            ],
            "execution_count": 89
        },
        {
            "cell_type": "markdown",
            "source": [
                "Dzieje się na poziomie izolacji READ UNCOMITTED, READ COMMITED naprawia"
            ],
            "metadata": {
                "azdata_cell_guid": "c8ce944b-9b57-4e3d-92c1-cfe7e8cdad4a"
            },
            "attachments": {}
        },
        {
            "cell_type": "markdown",
            "source": [
                "## Niepowtarzalność odczytów\r\n",
                ""
            ],
            "metadata": {
                "azdata_cell_guid": "1f31897f-aae5-476b-8bcf-10c69f948096"
            },
            "attachments": {}
        },
        {
            "cell_type": "markdown",
            "source": [
                "Odczytujemy ten sam zbiór a dostajemy różne wyniki w różnych momentach"
            ],
            "metadata": {
                "azdata_cell_guid": "cfb0a6fc-76a8-46ab-9de1-631f1f2cd3a3"
            },
            "attachments": {}
        },
        {
            "cell_type": "code",
            "source": [
                "BEGIN TRANSACTION\r\n",
                "UPDATE \r\n",
                "    Test_zad1\r\n",
                "SET \r\n",
                "    Quantity = 100\r\n",
                "WHERE \r\n",
                "    ID = 1\r\n",
                "COMMIT"
            ],
            "metadata": {
                "azdata_cell_guid": "886df7a0-75d4-45ee-9ef0-429bf02e6e48",
                "tags": []
            },
            "outputs": [
                {
                    "output_type": "display_data",
                    "data": {
                        "text/html": "(1 row affected)"
                    },
                    "metadata": {}
                },
                {
                    "output_type": "display_data",
                    "data": {
                        "text/html": "Total execution time: 00:00:00.068"
                    },
                    "metadata": {}
                }
            ],
            "execution_count": 119
        },
        {
            "cell_type": "markdown",
            "source": [
                "Dzieje się na poziomie izolacji READ UNCOMITTED i READ COMMITED"
            ],
            "metadata": {
                "azdata_cell_guid": "bdcbf1ea-fdd5-4d9e-a2fb-36d7d6c2ff74"
            },
            "attachments": {}
        },
        {
            "cell_type": "markdown",
            "source": [
                "## Odczyty fantomów\r\n",
                ""
            ],
            "metadata": {
                "azdata_cell_guid": "21c2dca0-b7b7-46c2-94f5-53c67dfa3754"
            },
            "attachments": {}
        },
        {
            "cell_type": "code",
            "source": [
                "BEGIN TRANSACTION\r\n",
                "INSERT INTO Test_zad1(ID, Book, Quantity)\r\n",
                "VALUES (9, 'The Hobbit', 123)\r\n",
                "COMMIT"
            ],
            "metadata": {
                "azdata_cell_guid": "f7ef3c0f-c5ad-47f0-9a6f-32ec1a613f4f"
            },
            "outputs": [
                {
                    "output_type": "display_data",
                    "data": {
                        "text/html": "(1 row affected)"
                    },
                    "metadata": {}
                },
                {
                    "output_type": "display_data",
                    "data": {
                        "text/html": "Total execution time: 00:00:00.067"
                    },
                    "metadata": {}
                }
            ],
            "execution_count": 6
        }
    ]
}