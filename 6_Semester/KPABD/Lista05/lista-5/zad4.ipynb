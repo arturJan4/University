{
    "metadata": {
        "kernelspec": {
            "name": "SQL",
            "display_name": "SQL",
            "language": "sql"
        },
        "language_info": {
            "name": "sql",
            "version": ""
        }
    },
    "nbformat_minor": 2,
    "nbformat": 4,
    "cells": [
        {
            "cell_type": "markdown",
            "source": [
                "# 4\r\n",
                "Dane jest zapytanie łączące tabelę Książka i Egzemplarze. Utwórz indeksy zgrupowane, niezgrupowane i co\r\n",
                "najmniej jeden kryjący wspierające zapytanie. Przyjrzyj się planom wykonania."
            ],
            "metadata": {
                "azdata_cell_guid": "d069f74a-2bc4-488e-ac20-33ba14ff8184"
            },
            "attachments": {}
        }
    ]
}