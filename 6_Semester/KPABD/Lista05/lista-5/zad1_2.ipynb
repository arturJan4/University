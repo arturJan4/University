{
    "metadata": {
        "kernelspec": {
            "name": "SQL",
            "display_name": "SQL",
            "language": "sql"
        },
        "language_info": {
            "name": "sql",
            "version": ""
        }
    },
    "nbformat_minor": 2,
    "nbformat": 4,
    "cells": [
        {
            "cell_type": "code",
            "source": [
                "-- opcje oparte o blokady\r\n",
                "-- SET TRANSACTION ISOLATION LEVEL READ UNCOMMITTED; \r\n",
                "-- SET TRANSACTION ISOLATION LEVEL READ COMMITTED;\r\n",
                "-- SET TRANSACTION ISOLATION LEVEL REPEATABLE READ;\r\n",
                "-- SET TRANSACTION ISOLATION LEVEL SERIALIZABLE;"
            ],
            "metadata": {
                "azdata_cell_guid": "d47394cd-7c2c-4605-8520-adbb501d5061"
            },
            "outputs": [
                {
                    "output_type": "display_data",
                    "data": {
                        "text/html": "Commands completed successfully."
                    },
                    "metadata": {}
                },
                {
                    "output_type": "display_data",
                    "data": {
                        "text/html": "Total execution time: 00:00:00.051"
                    },
                    "metadata": {}
                }
            ],
            "execution_count": 10
        },
        {
            "cell_type": "markdown",
            "source": [
                "## Odczyty \"brudnych danych\" (2)"
            ],
            "metadata": {
                "azdata_cell_guid": "b57db6ae-5564-42bd-9f77-735ff3de9c49"
            },
            "attachments": {}
        },
        {
            "cell_type": "code",
            "source": [
                "SET TRANSACTION ISOLATION LEVEL READ UNCOMMITTED; \r\n",
                "-- SET TRANSACTION ISOLATION LEVEL READ COMMITTED;\r\n",
                "SELECT * FROM Test_zad1"
            ],
            "metadata": {
                "azdata_cell_guid": "feba874e-fdee-4f59-a70a-d199fa514447"
            },
            "outputs": [
                {
                    "output_type": "display_data",
                    "data": {
                        "text/html": "(7 rows affected)"
                    },
                    "metadata": {}
                },
                {
                    "output_type": "display_data",
                    "data": {
                        "text/html": "Total execution time: 00:00:00.056"
                    },
                    "metadata": {}
                },
                {
                    "output_type": "execute_result",
                    "execution_count": 39,
                    "data": {
                        "application/vnd.dataresource+json": {
                            "schema": {
                                "fields": [
                                    {
                                        "name": "ID"
                                    },
                                    {
                                        "name": "Book"
                                    },
                                    {
                                        "name": "Quantity"
                                    }
                                ]
                            },
                            "data": [
                                {
                                    "0": "1",
                                    "1": "Harry Potter and the Philosopher Stone",
                                    "2": "3"
                                },
                                {
                                    "0": "2",
                                    "1": "Da Vinci Code",
                                    "2": "5"
                                },
                                {
                                    "0": "3",
                                    "1": "Harry Potter and the Chamber of Secrets",
                                    "2": "2"
                                },
                                {
                                    "0": "4",
                                    "1": "One Day",
                                    "2": "3"
                                },
                                {
                                    "0": "5",
                                    "1": "Labyrinth",
                                    "2": "9"
                                },
                                {
                                    "0": "6",
                                    "1": "Lord of the Rings",
                                    "2": "1"
                                },
                                {
                                    "0": "7",
                                    "1": "Short History of Tractors in Ukrainian",
                                    "2": "5"
                                }
                            ]
                        },
                        "text/html": "<table><tr><th>ID</th><th>Book</th><th>Quantity</th></tr><tr><td>1</td><td>Harry Potter and the Philosopher Stone</td><td>3</td></tr><tr><td>2</td><td>Da Vinci Code</td><td>5</td></tr><tr><td>3</td><td>Harry Potter and the Chamber of Secrets</td><td>2</td></tr><tr><td>4</td><td>One Day</td><td>3</td></tr><tr><td>5</td><td>Labyrinth</td><td>9</td></tr><tr><td>6</td><td>Lord of the Rings</td><td>1</td></tr><tr><td>7</td><td>Short History of Tractors in Ukrainian</td><td>5</td></tr></table>"
                    },
                    "metadata": {}
                }
            ],
            "execution_count": 39
        },
        {
            "cell_type": "markdown",
            "source": [
                "## Niepowtarzalność odczytów\r\n",
                ""
            ],
            "metadata": {
                "azdata_cell_guid": "a3799702-f7ae-4145-aaa6-ecbf9237e546"
            },
            "attachments": {}
        },
        {
            "cell_type": "code",
            "source": [
                "SET TRANSACTION ISOLATION LEVEL READ UNCOMMITTED;\r\n",
                "--SET TRANSACTION ISOLATION LEVEL REPEATABLE READ;\r\n",
                "GO\r\n",
                "\r\n",
                "BEGIN TRANSACTION\r\n",
                "SELECT * FROM Test_zad1 WHERE ID = 1 \r\n",
                "WAITFOR DELAY '00:00:10'\r\n",
                "SELECT * FROM Test_zad1 WHERE ID = 1 \r\n",
                "COMMIT"
            ],
            "metadata": {
                "azdata_cell_guid": "2378ff65-84f5-4c77-8ac8-d2e3be9b7afc"
            },
            "outputs": [
                {
                    "output_type": "display_data",
                    "data": {
                        "text/html": "Commands completed successfully."
                    },
                    "metadata": {}
                },
                {
                    "output_type": "display_data",
                    "data": {
                        "text/html": "(1 row affected)"
                    },
                    "metadata": {}
                },
                {
                    "output_type": "display_data",
                    "data": {
                        "text/html": "(1 row affected)"
                    },
                    "metadata": {}
                },
                {
                    "output_type": "display_data",
                    "data": {
                        "text/html": "Total execution time: 00:00:10.135"
                    },
                    "metadata": {}
                },
                {
                    "output_type": "execute_result",
                    "execution_count": 2,
                    "data": {
                        "application/vnd.dataresource+json": {
                            "schema": {
                                "fields": [
                                    {
                                        "name": "ID"
                                    },
                                    {
                                        "name": "Book"
                                    },
                                    {
                                        "name": "Quantity"
                                    }
                                ]
                            },
                            "data": [
                                {
                                    "0": "1",
                                    "1": "Harry Potter and the Philosopher Stone",
                                    "2": "3"
                                }
                            ]
                        },
                        "text/html": "<table><tr><th>ID</th><th>Book</th><th>Quantity</th></tr><tr><td>1</td><td>Harry Potter and the Philosopher Stone</td><td>3</td></tr></table>"
                    },
                    "metadata": {}
                },
                {
                    "output_type": "execute_result",
                    "execution_count": 2,
                    "data": {
                        "application/vnd.dataresource+json": {
                            "schema": {
                                "fields": [
                                    {
                                        "name": "ID"
                                    },
                                    {
                                        "name": "Book"
                                    },
                                    {
                                        "name": "Quantity"
                                    }
                                ]
                            },
                            "data": [
                                {
                                    "0": "1",
                                    "1": "Harry Potter and the Philosopher Stone",
                                    "2": "100"
                                }
                            ]
                        },
                        "text/html": "<table><tr><th>ID</th><th>Book</th><th>Quantity</th></tr><tr><td>1</td><td>Harry Potter and the Philosopher Stone</td><td>100</td></tr></table>"
                    },
                    "metadata": {}
                }
            ],
            "execution_count": 2
        },
        {
            "cell_type": "markdown",
            "source": [
                "## Odczyty fantomów\r\n",
                ""
            ],
            "metadata": {
                "azdata_cell_guid": "2441361a-933f-4c98-85fd-2339a2241ade"
            },
            "attachments": {}
        },
        {
            "cell_type": "code",
            "source": [
                "SET TRANSACTION ISOLATION LEVEL REPEATABLE READ;\r\n",
                "-- SET TRANSACTION ISOLATION LEVEL SERIALIZABLE\r\n",
                "GO\r\n",
                "\r\n",
                "BEGIN TRANSACTION\r\n",
                "SELECT * FROM Test_zad1 WHERE Quantity > 3\r\n",
                "WAITFOR DELAY '00:00:10'\r\n",
                "SELECT * FROM Test_zad1 WHERE Quantity > 3\r\n",
                "COMMIT"
            ],
            "metadata": {
                "azdata_cell_guid": "e84d024e-5433-44d4-afb1-cd0932bd77cd"
            },
            "outputs": [
                {
                    "output_type": "display_data",
                    "data": {
                        "text/html": "Commands completed successfully."
                    },
                    "metadata": {}
                },
                {
                    "output_type": "display_data",
                    "data": {
                        "text/html": "(3 rows affected)"
                    },
                    "metadata": {}
                },
                {
                    "output_type": "display_data",
                    "data": {
                        "text/html": "(4 rows affected)"
                    },
                    "metadata": {}
                },
                {
                    "output_type": "display_data",
                    "data": {
                        "text/html": "Total execution time: 00:00:10.141"
                    },
                    "metadata": {}
                },
                {
                    "output_type": "execute_result",
                    "metadata": {},
                    "execution_count": 2,
                    "data": {
                        "application/vnd.dataresource+json": {
                            "schema": {
                                "fields": [
                                    {
                                        "name": "ID"
                                    },
                                    {
                                        "name": "Book"
                                    },
                                    {
                                        "name": "Quantity"
                                    }
                                ]
                            },
                            "data": [
                                {
                                    "0": "2",
                                    "1": "Da Vinci Code",
                                    "2": "5"
                                },
                                {
                                    "0": "5",
                                    "1": "Labyrinth",
                                    "2": "9"
                                },
                                {
                                    "0": "7",
                                    "1": "Short History of Tractors in Ukrainian",
                                    "2": "5"
                                }
                            ]
                        },
                        "text/html": [
                            "<table>",
                            "<tr><th>ID</th><th>Book</th><th>Quantity</th></tr>",
                            "<tr><td>2</td><td>Da Vinci Code</td><td>5</td></tr>",
                            "<tr><td>5</td><td>Labyrinth</td><td>9</td></tr>",
                            "<tr><td>7</td><td>Short History of Tractors in Ukrainian</td><td>5</td></tr>",
                            "</table>"
                        ]
                    }
                },
                {
                    "output_type": "execute_result",
                    "metadata": {},
                    "execution_count": 2,
                    "data": {
                        "application/vnd.dataresource+json": {
                            "schema": {
                                "fields": [
                                    {
                                        "name": "ID"
                                    },
                                    {
                                        "name": "Book"
                                    },
                                    {
                                        "name": "Quantity"
                                    }
                                ]
                            },
                            "data": [
                                {
                                    "0": "2",
                                    "1": "Da Vinci Code",
                                    "2": "5"
                                },
                                {
                                    "0": "5",
                                    "1": "Labyrinth",
                                    "2": "9"
                                },
                                {
                                    "0": "7",
                                    "1": "Short History of Tractors in Ukrainian",
                                    "2": "5"
                                },
                                {
                                    "0": "9",
                                    "1": "The Hobbit",
                                    "2": "123"
                                }
                            ]
                        },
                        "text/html": [
                            "<table>",
                            "<tr><th>ID</th><th>Book</th><th>Quantity</th></tr>",
                            "<tr><td>2</td><td>Da Vinci Code</td><td>5</td></tr>",
                            "<tr><td>5</td><td>Labyrinth</td><td>9</td></tr>",
                            "<tr><td>7</td><td>Short History of Tractors in Ukrainian</td><td>5</td></tr>",
                            "<tr><td>9</td><td>The Hobbit</td><td>123</td></tr>",
                            "</table>"
                        ]
                    }
                }
            ],
            "execution_count": 2
        }
    ]
}