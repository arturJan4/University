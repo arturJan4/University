{
    "metadata": {
        "kernelspec": {
            "name": "SQL",
            "display_name": "SQL",
            "language": "sql"
        },
        "language_info": {
            "name": "sql",
            "version": ""
        }
    },
    "nbformat_minor": 2,
    "nbformat": 4,
    "cells": [
        {
            "cell_type": "markdown",
            "source": [
                "# 2"
            ],
            "metadata": {
                "azdata_cell_guid": "fc787c5a-6e6d-47ac-bc93-de7a82405742"
            },
            "attachments": {}
        },
        {
            "cell_type": "markdown",
            "source": [
                "oryginalna tabelka:\n",
                "![](https://i.imgur.com/gO2fZvi.png)\n",
                "\n",
                "## 1NF\n",
                "![](https://i.imgur.com/FW2nFpu.png)\n",
                "\n",
                "rozbijamy kolumny tak by wartości były atomowe\n",
                "![](https://i.imgur.com/VztoX1D.png)\n",
                "\n",
                "## 2NF\n",
                "![](https://i.imgur.com/8Zaq9d6.png)\n",
                "\n",
                "czyli podzielimy na tabelę pacjentów i tabelę wizyt\n",
                "![](https://i.imgur.com/OSijLQh.png)\n",
                "\n",
                "## 3NF\n",
                "![](https://i.imgur.com/8vuVrO4.png)\n",
                "\n",
                "czyli usuwamy redundantne dane, które można np. wyliczyć\n",
                "zakładam (możliwie niesłusznie):\n",
                "- stały gabient przypisany do lekarza\n",
                "- stały koszt wizyty zależny od powodu wizyty\n",
                "\n",
                "![](https://i.imgur.com/AqMlVM7.png)"
            ],
            "metadata": {
                "azdata_cell_guid": "a9947732-e007-4258-aee8-af477d9bbeb0"
            },
            "attachments": {}
        }
    ]
}